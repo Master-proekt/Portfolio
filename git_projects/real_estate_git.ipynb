{
 "cells": [
  {
   "cell_type": "markdown",
   "id": "08683bfd",
   "metadata": {
    "toc": true
   },
   "source": [
    "<h1>Содержание<span class=\"tocSkip\"></span></h1>\n",
    "<div class=\"toc\"><ul class=\"toc-item\"><li><span><a href=\"#Откройте-файл-с-данными-и-изучите-общую-информацию.\" data-toc-modified-id=\"Откройте-файл-с-данными-и-изучите-общую-информацию.-1\"><span class=\"toc-item-num\">1&nbsp;&nbsp;</span>Откройте файл с данными и изучите общую информацию.</a></span></li><li><span><a href=\"#Предобработка-данных\" data-toc-modified-id=\"Предобработка-данных-2\"><span class=\"toc-item-num\">2&nbsp;&nbsp;</span>Предобработка данных</a></span><ul class=\"toc-item\"><li><span><a href=\"#Работа-с-пропусками\" data-toc-modified-id=\"Работа-с-пропусками-2.1\"><span class=\"toc-item-num\">2.1&nbsp;&nbsp;</span>Работа с пропусками</a></span><ul class=\"toc-item\"><li><span><a href=\"#Заполнение-пропусков-в-ceiling_height,-floors_total,-living_area,-balcony\" data-toc-modified-id=\"Заполнение-пропусков-в-ceiling_height,-floors_total,-living_area,-balcony-2.1.1\"><span class=\"toc-item-num\">2.1.1&nbsp;&nbsp;</span>Заполнение пропусков в ceiling_height, floors_total, living_area, balcony</a></span></li><li><span><a href=\"#Заполнение-пропусков-в-is_apartment\" data-toc-modified-id=\"Заполнение-пропусков-в-is_apartment-2.1.2\"><span class=\"toc-item-num\">2.1.2&nbsp;&nbsp;</span>Заполнение пропусков в is_apartment</a></span></li><li><span><a href=\"#Заполнение-пропусков-в-kitchen_area:\" data-toc-modified-id=\"Заполнение-пропусков-в-kitchen_area:-2.1.3\"><span class=\"toc-item-num\">2.1.3&nbsp;&nbsp;</span>Заполнение пропусков в kitchen_area:</a></span></li><li><span><a href=\"#Заполнение-пропусков-в-locality_name\" data-toc-modified-id=\"Заполнение-пропусков-в-locality_name-2.1.4\"><span class=\"toc-item-num\">2.1.4&nbsp;&nbsp;</span>Заполнение пропусков в locality_name</a></span></li><li><span><a href=\"#Пропуски-в-airports_nearest,-cityCenters_nearest,-parks_around3000,-ponds_nearest\" data-toc-modified-id=\"Пропуски-в-airports_nearest,-cityCenters_nearest,-parks_around3000,-ponds_nearest-2.1.5\"><span class=\"toc-item-num\">2.1.5&nbsp;&nbsp;</span>Пропуски в airports_nearest, cityCenters_nearest, parks_around3000, ponds_nearest</a></span></li><li><span><a href=\"#Пропуски-в-days_exposition\" data-toc-modified-id=\"Пропуски-в-days_exposition-2.1.6\"><span class=\"toc-item-num\">2.1.6&nbsp;&nbsp;</span>Пропуски в days_exposition</a></span></li></ul></li><li><span><a href=\"#Проверка-типов-данных\" data-toc-modified-id=\"Проверка-типов-данных-2.2\"><span class=\"toc-item-num\">2.2&nbsp;&nbsp;</span>Проверка типов данных</a></span></li><li><span><a href=\"#Проверка-дубликатов\" data-toc-modified-id=\"Проверка-дубликатов-2.3\"><span class=\"toc-item-num\">2.3&nbsp;&nbsp;</span>Проверка дубликатов</a></span></li><li><span><a href=\"#Проверка-аномальных-значений\" data-toc-modified-id=\"Проверка-аномальных-значений-2.4\"><span class=\"toc-item-num\">2.4&nbsp;&nbsp;</span>Проверка аномальных значений</a></span></li></ul></li><li><span><a href=\"#Посчитайте-и-добавьте-в-таблицу-новые-столбцы\" data-toc-modified-id=\"Посчитайте-и-добавьте-в-таблицу-новые-столбцы-3\"><span class=\"toc-item-num\">3&nbsp;&nbsp;</span>Посчитайте и добавьте в таблицу новые столбцы</a></span></li><li><span><a href=\"#Исследовательский-анализ-данных\" data-toc-modified-id=\"Исследовательский-анализ-данных-4\"><span class=\"toc-item-num\">4&nbsp;&nbsp;</span>Исследовательский анализ данных</a></span><ul class=\"toc-item\"><li><span><a href=\"#Гисторграммы-для-числовых-значений-и-предварительные-наблюдения-по-полученным-значениям:\" data-toc-modified-id=\"Гисторграммы-для-числовых-значений-и-предварительные-наблюдения-по-полученным-значениям:-4.1\"><span class=\"toc-item-num\">4.1&nbsp;&nbsp;</span>Гисторграммы для числовых значений и предварительные наблюдения по полученным значениям:</a></span></li><li><span><a href=\"#Как-быстро-продаются-квартиры\" data-toc-modified-id=\"Как-быстро-продаются-квартиры-4.2\"><span class=\"toc-item-num\">4.2&nbsp;&nbsp;</span>Как быстро продаются квартиры</a></span></li><li><span><a href=\"#Зависимость-стоимости-объекта-от-различных-факторов\" data-toc-modified-id=\"Зависимость-стоимости-объекта-от-различных-факторов-4.3\"><span class=\"toc-item-num\">4.3&nbsp;&nbsp;</span>Зависимость стоимости объекта от различных факторов</a></span></li><li><span><a href=\"#Средняя-цена-квадратного-метра-в-10-населенных-пунктах-с-наибольшим-числом-объявлений\" data-toc-modified-id=\"Средняя-цена-квадратного-метра-в-10-населенных-пунктах-с-наибольшим-числом-объявлений-4.4\"><span class=\"toc-item-num\">4.4&nbsp;&nbsp;</span>Средняя цена квадратного метра в 10 населенных пунктах с наибольшим числом объявлений</a></span></li><li><span><a href=\"#Средняя-цена-каждого-километра-в-Санкт-Петербурге\" data-toc-modified-id=\"Средняя-цена-каждого-километра-в-Санкт-Петербурге-4.5\"><span class=\"toc-item-num\">4.5&nbsp;&nbsp;</span>Средняя цена каждого километра в Санкт-Петербурге</a></span></li></ul></li><li><span><a href=\"#Общий-вывод\" data-toc-modified-id=\"Общий-вывод-5\"><span class=\"toc-item-num\">5&nbsp;&nbsp;</span>Общий вывод</a></span></li></ul></div>"
   ]
  },
  {
   "cell_type": "markdown",
   "id": "a5734642",
   "metadata": {},
   "source": [
    "# Исследование объявлений о продаже квартир\n",
    "\n",
    "В вашем распоряжении данные сервиса Яндекс.Недвижимость — архив объявлений о продаже квартир в Санкт-Петербурге и соседних населённых пунктов за несколько лет. Нужно научиться определять рыночную стоимость объектов недвижимости. Ваша задача — установить параметры. Это позволит построить автоматизированную систему: она отследит аномалии и мошенническую деятельность. \n",
    "\n",
    "По каждой квартире на продажу доступны два вида данных. Первые вписаны пользователем, вторые — получены автоматически на основе картографических данных. Например, расстояние до центра, аэропорта, ближайшего парка и водоёма. "
   ]
  },
  {
   "cell_type": "markdown",
   "id": "0107ca61",
   "metadata": {},
   "source": [
    "**Задача исследования:**\\\n",
    "Найти интересные особенности и зависимости, которые существуют на рынке недвижимости"
   ]
  },
  {
   "cell_type": "markdown",
   "id": "091e0a06",
   "metadata": {},
   "source": [
    "**Структура данных:**\\\n",
    "airports_nearest — расстояние до ближайшего аэропорта в метрах (м)\\\n",
    "balcony — число балконов\\\n",
    "ceiling_height — высота потолков (м)\\\n",
    "cityCenters_nearest — расстояние до центра города (м)\\\n",
    "days_exposition — сколько дней было размещено объявление (от публикации до снятия)\\\n",
    "first_day_exposition — дата публикации\\\n",
    "floor — этаж\\\n",
    "floors_total — всего этажей в доме\\\n",
    "is_apartment — апартаменты (булев тип)\\\n",
    "kitchen_area — площадь кухни в квадратных метрах (м²)\\\n",
    "last_price — цена на момент снятия с публикации\\\n",
    "living_area — жилая площадь в квадратных метрах (м²)\\\n",
    "locality_name — название населённого пункта\\\n",
    "open_plan — свободная планировка (булев тип)\\\n",
    "parks_around3000 — число парков в радиусе 3 км\\\n",
    "parks_nearest — расстояние до ближайшего парка (м)\\\n",
    "ponds_around3000 — число водоёмов в радиусе 3 км\\\n",
    "ponds_nearest — расстояние до ближайшего водоёма (м)\\\n",
    "rooms — число комнат\\\n",
    "studio — квартира-студия (булев тип)\\\n",
    "total_area — общая площадь квартиры в квадратных метрах (м²)\\\n",
    "total_images — число фотографий квартиры в объявлении"
   ]
  },
  {
   "cell_type": "markdown",
   "id": "aa984d51",
   "metadata": {},
   "source": [
    "**Ход исследования:**\\\n",
    "Данные хранятся в файле real_estate_data.csv.\\\n",
    "О качестве данных информации нет. Перед проведением исследования понадобится обзор данных.\n",
    "\n",
    "Исследование будет состоять из следующих этапов:\n",
    "1. Обзор данных, поиск ошибок, оценка их влияния на результаты исследования;\n",
    "2. Предобработка данных;\\\n",
    "   2.1 Заполнение пропусков там, где это целесообразно и возможно;\\\n",
    "   2.2 Проверка типов данных;\\\n",
    "   2.3 Проверка дубликатов;\\\n",
    "   2.4 Проверка аномальных значений;\\\n",
    "3. Проведение расчетов и добавление результатов в таблицу;\n",
    "4. Исследовательский анализ данных;\n",
    "5. Общий вывод."
   ]
  },
  {
   "cell_type": "markdown",
   "id": "c17d2ac8",
   "metadata": {},
   "source": [
    "### Откройте файл с данными и изучите общую информацию. "
   ]
  },
  {
   "cell_type": "code",
   "execution_count": 1,
   "id": "b4e914d6",
   "metadata": {},
   "outputs": [],
   "source": [
    "#импортируем pandas\n",
    "import pandas as pd"
   ]
  },
  {
   "cell_type": "code",
   "execution_count": 2,
   "id": "e57862f1",
   "metadata": {},
   "outputs": [],
   "source": [
    "#импортируем matplotlib.pyplot\n",
    "import matplotlib.pyplot as plt"
   ]
  },
  {
   "cell_type": "code",
   "execution_count": 3,
   "id": "649e2f85",
   "metadata": {},
   "outputs": [],
   "source": [
    "#открываем файл\n",
    "try:\n",
    "    df = pd.read_csv(r\"C:\\Users\\maste\\OneDrive\\Рабочий стол\\real_estate_data.csv\", sep='\\t')\n",
    "except:\n",
    "     df = pd.read_csv('/datasets/real_estate_data.csv', sep='\\t')"
   ]
  },
  {
   "cell_type": "code",
   "execution_count": 4,
   "id": "eb2f90bf",
   "metadata": {
    "scrolled": true
   },
   "outputs": [
    {
     "data": {
      "text/html": [
       "<div>\n",
       "<style scoped>\n",
       "    .dataframe tbody tr th:only-of-type {\n",
       "        vertical-align: middle;\n",
       "    }\n",
       "\n",
       "    .dataframe tbody tr th {\n",
       "        vertical-align: top;\n",
       "    }\n",
       "\n",
       "    .dataframe thead th {\n",
       "        text-align: right;\n",
       "    }\n",
       "</style>\n",
       "<table border=\"1\" class=\"dataframe\">\n",
       "  <thead>\n",
       "    <tr style=\"text-align: right;\">\n",
       "      <th></th>\n",
       "      <th>total_images</th>\n",
       "      <th>last_price</th>\n",
       "      <th>total_area</th>\n",
       "      <th>first_day_exposition</th>\n",
       "      <th>rooms</th>\n",
       "      <th>ceiling_height</th>\n",
       "      <th>floors_total</th>\n",
       "      <th>living_area</th>\n",
       "      <th>floor</th>\n",
       "      <th>is_apartment</th>\n",
       "      <th>...</th>\n",
       "      <th>kitchen_area</th>\n",
       "      <th>balcony</th>\n",
       "      <th>locality_name</th>\n",
       "      <th>airports_nearest</th>\n",
       "      <th>cityCenters_nearest</th>\n",
       "      <th>parks_around3000</th>\n",
       "      <th>parks_nearest</th>\n",
       "      <th>ponds_around3000</th>\n",
       "      <th>ponds_nearest</th>\n",
       "      <th>days_exposition</th>\n",
       "    </tr>\n",
       "  </thead>\n",
       "  <tbody>\n",
       "    <tr>\n",
       "      <th>0</th>\n",
       "      <td>20</td>\n",
       "      <td>13000000.0</td>\n",
       "      <td>108.00</td>\n",
       "      <td>2019-03-07T00:00:00</td>\n",
       "      <td>3</td>\n",
       "      <td>2.70</td>\n",
       "      <td>16.0</td>\n",
       "      <td>51.00</td>\n",
       "      <td>8</td>\n",
       "      <td>NaN</td>\n",
       "      <td>...</td>\n",
       "      <td>25.00</td>\n",
       "      <td>NaN</td>\n",
       "      <td>Санкт-Петербург</td>\n",
       "      <td>18863.0</td>\n",
       "      <td>16028.0</td>\n",
       "      <td>1.0</td>\n",
       "      <td>482.0</td>\n",
       "      <td>2.0</td>\n",
       "      <td>755.0</td>\n",
       "      <td>NaN</td>\n",
       "    </tr>\n",
       "    <tr>\n",
       "      <th>1</th>\n",
       "      <td>7</td>\n",
       "      <td>3350000.0</td>\n",
       "      <td>40.40</td>\n",
       "      <td>2018-12-04T00:00:00</td>\n",
       "      <td>1</td>\n",
       "      <td>NaN</td>\n",
       "      <td>11.0</td>\n",
       "      <td>18.60</td>\n",
       "      <td>1</td>\n",
       "      <td>NaN</td>\n",
       "      <td>...</td>\n",
       "      <td>11.00</td>\n",
       "      <td>2.0</td>\n",
       "      <td>посёлок Шушары</td>\n",
       "      <td>12817.0</td>\n",
       "      <td>18603.0</td>\n",
       "      <td>0.0</td>\n",
       "      <td>NaN</td>\n",
       "      <td>0.0</td>\n",
       "      <td>NaN</td>\n",
       "      <td>81.0</td>\n",
       "    </tr>\n",
       "    <tr>\n",
       "      <th>2</th>\n",
       "      <td>10</td>\n",
       "      <td>5196000.0</td>\n",
       "      <td>56.00</td>\n",
       "      <td>2015-08-20T00:00:00</td>\n",
       "      <td>2</td>\n",
       "      <td>NaN</td>\n",
       "      <td>5.0</td>\n",
       "      <td>34.30</td>\n",
       "      <td>4</td>\n",
       "      <td>NaN</td>\n",
       "      <td>...</td>\n",
       "      <td>8.30</td>\n",
       "      <td>0.0</td>\n",
       "      <td>Санкт-Петербург</td>\n",
       "      <td>21741.0</td>\n",
       "      <td>13933.0</td>\n",
       "      <td>1.0</td>\n",
       "      <td>90.0</td>\n",
       "      <td>2.0</td>\n",
       "      <td>574.0</td>\n",
       "      <td>558.0</td>\n",
       "    </tr>\n",
       "    <tr>\n",
       "      <th>3</th>\n",
       "      <td>0</td>\n",
       "      <td>64900000.0</td>\n",
       "      <td>159.00</td>\n",
       "      <td>2015-07-24T00:00:00</td>\n",
       "      <td>3</td>\n",
       "      <td>NaN</td>\n",
       "      <td>14.0</td>\n",
       "      <td>NaN</td>\n",
       "      <td>9</td>\n",
       "      <td>NaN</td>\n",
       "      <td>...</td>\n",
       "      <td>NaN</td>\n",
       "      <td>0.0</td>\n",
       "      <td>Санкт-Петербург</td>\n",
       "      <td>28098.0</td>\n",
       "      <td>6800.0</td>\n",
       "      <td>2.0</td>\n",
       "      <td>84.0</td>\n",
       "      <td>3.0</td>\n",
       "      <td>234.0</td>\n",
       "      <td>424.0</td>\n",
       "    </tr>\n",
       "    <tr>\n",
       "      <th>4</th>\n",
       "      <td>2</td>\n",
       "      <td>10000000.0</td>\n",
       "      <td>100.00</td>\n",
       "      <td>2018-06-19T00:00:00</td>\n",
       "      <td>2</td>\n",
       "      <td>3.03</td>\n",
       "      <td>14.0</td>\n",
       "      <td>32.00</td>\n",
       "      <td>13</td>\n",
       "      <td>NaN</td>\n",
       "      <td>...</td>\n",
       "      <td>41.00</td>\n",
       "      <td>NaN</td>\n",
       "      <td>Санкт-Петербург</td>\n",
       "      <td>31856.0</td>\n",
       "      <td>8098.0</td>\n",
       "      <td>2.0</td>\n",
       "      <td>112.0</td>\n",
       "      <td>1.0</td>\n",
       "      <td>48.0</td>\n",
       "      <td>121.0</td>\n",
       "    </tr>\n",
       "    <tr>\n",
       "      <th>5</th>\n",
       "      <td>10</td>\n",
       "      <td>2890000.0</td>\n",
       "      <td>30.40</td>\n",
       "      <td>2018-09-10T00:00:00</td>\n",
       "      <td>1</td>\n",
       "      <td>NaN</td>\n",
       "      <td>12.0</td>\n",
       "      <td>14.40</td>\n",
       "      <td>5</td>\n",
       "      <td>NaN</td>\n",
       "      <td>...</td>\n",
       "      <td>9.10</td>\n",
       "      <td>NaN</td>\n",
       "      <td>городской посёлок Янино-1</td>\n",
       "      <td>NaN</td>\n",
       "      <td>NaN</td>\n",
       "      <td>NaN</td>\n",
       "      <td>NaN</td>\n",
       "      <td>NaN</td>\n",
       "      <td>NaN</td>\n",
       "      <td>55.0</td>\n",
       "    </tr>\n",
       "    <tr>\n",
       "      <th>6</th>\n",
       "      <td>6</td>\n",
       "      <td>3700000.0</td>\n",
       "      <td>37.30</td>\n",
       "      <td>2017-11-02T00:00:00</td>\n",
       "      <td>1</td>\n",
       "      <td>NaN</td>\n",
       "      <td>26.0</td>\n",
       "      <td>10.60</td>\n",
       "      <td>6</td>\n",
       "      <td>NaN</td>\n",
       "      <td>...</td>\n",
       "      <td>14.40</td>\n",
       "      <td>1.0</td>\n",
       "      <td>посёлок Парголово</td>\n",
       "      <td>52996.0</td>\n",
       "      <td>19143.0</td>\n",
       "      <td>0.0</td>\n",
       "      <td>NaN</td>\n",
       "      <td>0.0</td>\n",
       "      <td>NaN</td>\n",
       "      <td>155.0</td>\n",
       "    </tr>\n",
       "    <tr>\n",
       "      <th>7</th>\n",
       "      <td>5</td>\n",
       "      <td>7915000.0</td>\n",
       "      <td>71.60</td>\n",
       "      <td>2019-04-18T00:00:00</td>\n",
       "      <td>2</td>\n",
       "      <td>NaN</td>\n",
       "      <td>24.0</td>\n",
       "      <td>NaN</td>\n",
       "      <td>22</td>\n",
       "      <td>NaN</td>\n",
       "      <td>...</td>\n",
       "      <td>18.90</td>\n",
       "      <td>2.0</td>\n",
       "      <td>Санкт-Петербург</td>\n",
       "      <td>23982.0</td>\n",
       "      <td>11634.0</td>\n",
       "      <td>0.0</td>\n",
       "      <td>NaN</td>\n",
       "      <td>0.0</td>\n",
       "      <td>NaN</td>\n",
       "      <td>NaN</td>\n",
       "    </tr>\n",
       "    <tr>\n",
       "      <th>8</th>\n",
       "      <td>20</td>\n",
       "      <td>2900000.0</td>\n",
       "      <td>33.16</td>\n",
       "      <td>2018-05-23T00:00:00</td>\n",
       "      <td>1</td>\n",
       "      <td>NaN</td>\n",
       "      <td>27.0</td>\n",
       "      <td>15.43</td>\n",
       "      <td>26</td>\n",
       "      <td>NaN</td>\n",
       "      <td>...</td>\n",
       "      <td>8.81</td>\n",
       "      <td>NaN</td>\n",
       "      <td>посёлок Мурино</td>\n",
       "      <td>NaN</td>\n",
       "      <td>NaN</td>\n",
       "      <td>NaN</td>\n",
       "      <td>NaN</td>\n",
       "      <td>NaN</td>\n",
       "      <td>NaN</td>\n",
       "      <td>189.0</td>\n",
       "    </tr>\n",
       "    <tr>\n",
       "      <th>9</th>\n",
       "      <td>18</td>\n",
       "      <td>5400000.0</td>\n",
       "      <td>61.00</td>\n",
       "      <td>2017-02-26T00:00:00</td>\n",
       "      <td>3</td>\n",
       "      <td>2.50</td>\n",
       "      <td>9.0</td>\n",
       "      <td>43.60</td>\n",
       "      <td>7</td>\n",
       "      <td>NaN</td>\n",
       "      <td>...</td>\n",
       "      <td>6.50</td>\n",
       "      <td>2.0</td>\n",
       "      <td>Санкт-Петербург</td>\n",
       "      <td>50898.0</td>\n",
       "      <td>15008.0</td>\n",
       "      <td>0.0</td>\n",
       "      <td>NaN</td>\n",
       "      <td>0.0</td>\n",
       "      <td>NaN</td>\n",
       "      <td>289.0</td>\n",
       "    </tr>\n",
       "    <tr>\n",
       "      <th>10</th>\n",
       "      <td>5</td>\n",
       "      <td>5050000.0</td>\n",
       "      <td>39.60</td>\n",
       "      <td>2017-11-16T00:00:00</td>\n",
       "      <td>1</td>\n",
       "      <td>2.67</td>\n",
       "      <td>12.0</td>\n",
       "      <td>20.30</td>\n",
       "      <td>3</td>\n",
       "      <td>NaN</td>\n",
       "      <td>...</td>\n",
       "      <td>8.50</td>\n",
       "      <td>NaN</td>\n",
       "      <td>Санкт-Петербург</td>\n",
       "      <td>38357.0</td>\n",
       "      <td>13878.0</td>\n",
       "      <td>1.0</td>\n",
       "      <td>310.0</td>\n",
       "      <td>2.0</td>\n",
       "      <td>553.0</td>\n",
       "      <td>137.0</td>\n",
       "    </tr>\n",
       "    <tr>\n",
       "      <th>11</th>\n",
       "      <td>9</td>\n",
       "      <td>3300000.0</td>\n",
       "      <td>44.00</td>\n",
       "      <td>2018-08-27T00:00:00</td>\n",
       "      <td>2</td>\n",
       "      <td>NaN</td>\n",
       "      <td>5.0</td>\n",
       "      <td>31.00</td>\n",
       "      <td>4</td>\n",
       "      <td>False</td>\n",
       "      <td>...</td>\n",
       "      <td>6.00</td>\n",
       "      <td>1.0</td>\n",
       "      <td>Ломоносов</td>\n",
       "      <td>48252.0</td>\n",
       "      <td>51677.0</td>\n",
       "      <td>0.0</td>\n",
       "      <td>NaN</td>\n",
       "      <td>0.0</td>\n",
       "      <td>NaN</td>\n",
       "      <td>7.0</td>\n",
       "    </tr>\n",
       "    <tr>\n",
       "      <th>12</th>\n",
       "      <td>10</td>\n",
       "      <td>3890000.0</td>\n",
       "      <td>54.00</td>\n",
       "      <td>2016-06-30T00:00:00</td>\n",
       "      <td>2</td>\n",
       "      <td>NaN</td>\n",
       "      <td>5.0</td>\n",
       "      <td>30.00</td>\n",
       "      <td>5</td>\n",
       "      <td>NaN</td>\n",
       "      <td>...</td>\n",
       "      <td>9.00</td>\n",
       "      <td>0.0</td>\n",
       "      <td>Сертолово</td>\n",
       "      <td>NaN</td>\n",
       "      <td>NaN</td>\n",
       "      <td>NaN</td>\n",
       "      <td>NaN</td>\n",
       "      <td>NaN</td>\n",
       "      <td>NaN</td>\n",
       "      <td>90.0</td>\n",
       "    </tr>\n",
       "    <tr>\n",
       "      <th>13</th>\n",
       "      <td>20</td>\n",
       "      <td>3550000.0</td>\n",
       "      <td>42.80</td>\n",
       "      <td>2017-07-01T00:00:00</td>\n",
       "      <td>2</td>\n",
       "      <td>2.56</td>\n",
       "      <td>5.0</td>\n",
       "      <td>27.00</td>\n",
       "      <td>5</td>\n",
       "      <td>NaN</td>\n",
       "      <td>...</td>\n",
       "      <td>5.20</td>\n",
       "      <td>1.0</td>\n",
       "      <td>Петергоф</td>\n",
       "      <td>37868.0</td>\n",
       "      <td>33058.0</td>\n",
       "      <td>1.0</td>\n",
       "      <td>294.0</td>\n",
       "      <td>3.0</td>\n",
       "      <td>298.0</td>\n",
       "      <td>366.0</td>\n",
       "    </tr>\n",
       "    <tr>\n",
       "      <th>14</th>\n",
       "      <td>1</td>\n",
       "      <td>4400000.0</td>\n",
       "      <td>36.00</td>\n",
       "      <td>2016-06-23T00:00:00</td>\n",
       "      <td>1</td>\n",
       "      <td>NaN</td>\n",
       "      <td>6.0</td>\n",
       "      <td>17.00</td>\n",
       "      <td>1</td>\n",
       "      <td>NaN</td>\n",
       "      <td>...</td>\n",
       "      <td>8.00</td>\n",
       "      <td>0.0</td>\n",
       "      <td>Пушкин</td>\n",
       "      <td>20782.0</td>\n",
       "      <td>30759.0</td>\n",
       "      <td>0.0</td>\n",
       "      <td>NaN</td>\n",
       "      <td>1.0</td>\n",
       "      <td>96.0</td>\n",
       "      <td>203.0</td>\n",
       "    </tr>\n",
       "    <tr>\n",
       "      <th>15</th>\n",
       "      <td>16</td>\n",
       "      <td>4650000.0</td>\n",
       "      <td>39.00</td>\n",
       "      <td>2017-11-18T00:00:00</td>\n",
       "      <td>1</td>\n",
       "      <td>NaN</td>\n",
       "      <td>14.0</td>\n",
       "      <td>20.50</td>\n",
       "      <td>5</td>\n",
       "      <td>NaN</td>\n",
       "      <td>...</td>\n",
       "      <td>7.60</td>\n",
       "      <td>1.0</td>\n",
       "      <td>Санкт-Петербург</td>\n",
       "      <td>12900.0</td>\n",
       "      <td>14259.0</td>\n",
       "      <td>1.0</td>\n",
       "      <td>590.0</td>\n",
       "      <td>1.0</td>\n",
       "      <td>296.0</td>\n",
       "      <td>19.0</td>\n",
       "    </tr>\n",
       "    <tr>\n",
       "      <th>16</th>\n",
       "      <td>11</td>\n",
       "      <td>6700000.0</td>\n",
       "      <td>82.00</td>\n",
       "      <td>2017-11-23T00:00:00</td>\n",
       "      <td>3</td>\n",
       "      <td>3.05</td>\n",
       "      <td>5.0</td>\n",
       "      <td>55.60</td>\n",
       "      <td>1</td>\n",
       "      <td>NaN</td>\n",
       "      <td>...</td>\n",
       "      <td>9.00</td>\n",
       "      <td>NaN</td>\n",
       "      <td>Санкт-Петербург</td>\n",
       "      <td>22108.0</td>\n",
       "      <td>10698.0</td>\n",
       "      <td>3.0</td>\n",
       "      <td>420.0</td>\n",
       "      <td>0.0</td>\n",
       "      <td>NaN</td>\n",
       "      <td>397.0</td>\n",
       "    </tr>\n",
       "    <tr>\n",
       "      <th>17</th>\n",
       "      <td>6</td>\n",
       "      <td>4180000.0</td>\n",
       "      <td>36.00</td>\n",
       "      <td>2016-09-09T00:00:00</td>\n",
       "      <td>1</td>\n",
       "      <td>NaN</td>\n",
       "      <td>17.0</td>\n",
       "      <td>16.50</td>\n",
       "      <td>7</td>\n",
       "      <td>NaN</td>\n",
       "      <td>...</td>\n",
       "      <td>11.00</td>\n",
       "      <td>1.0</td>\n",
       "      <td>Санкт-Петербург</td>\n",
       "      <td>33564.0</td>\n",
       "      <td>14616.0</td>\n",
       "      <td>0.0</td>\n",
       "      <td>NaN</td>\n",
       "      <td>1.0</td>\n",
       "      <td>859.0</td>\n",
       "      <td>571.0</td>\n",
       "    </tr>\n",
       "    <tr>\n",
       "      <th>18</th>\n",
       "      <td>8</td>\n",
       "      <td>3250000.0</td>\n",
       "      <td>31.00</td>\n",
       "      <td>2017-01-27T00:00:00</td>\n",
       "      <td>1</td>\n",
       "      <td>2.50</td>\n",
       "      <td>5.0</td>\n",
       "      <td>19.40</td>\n",
       "      <td>2</td>\n",
       "      <td>NaN</td>\n",
       "      <td>...</td>\n",
       "      <td>5.60</td>\n",
       "      <td>1.0</td>\n",
       "      <td>Санкт-Петербург</td>\n",
       "      <td>44060.0</td>\n",
       "      <td>10842.0</td>\n",
       "      <td>1.0</td>\n",
       "      <td>759.0</td>\n",
       "      <td>0.0</td>\n",
       "      <td>NaN</td>\n",
       "      <td>168.0</td>\n",
       "    </tr>\n",
       "    <tr>\n",
       "      <th>19</th>\n",
       "      <td>16</td>\n",
       "      <td>14200000.0</td>\n",
       "      <td>121.00</td>\n",
       "      <td>2019-01-09T00:00:00</td>\n",
       "      <td>3</td>\n",
       "      <td>2.75</td>\n",
       "      <td>16.0</td>\n",
       "      <td>76.00</td>\n",
       "      <td>8</td>\n",
       "      <td>NaN</td>\n",
       "      <td>...</td>\n",
       "      <td>12.00</td>\n",
       "      <td>NaN</td>\n",
       "      <td>Санкт-Петербург</td>\n",
       "      <td>38900.0</td>\n",
       "      <td>12843.0</td>\n",
       "      <td>0.0</td>\n",
       "      <td>NaN</td>\n",
       "      <td>0.0</td>\n",
       "      <td>NaN</td>\n",
       "      <td>97.0</td>\n",
       "    </tr>\n",
       "  </tbody>\n",
       "</table>\n",
       "<p>20 rows × 22 columns</p>\n",
       "</div>"
      ],
      "text/plain": [
       "    total_images  last_price  total_area first_day_exposition  rooms  \\\n",
       "0             20  13000000.0      108.00  2019-03-07T00:00:00      3   \n",
       "1              7   3350000.0       40.40  2018-12-04T00:00:00      1   \n",
       "2             10   5196000.0       56.00  2015-08-20T00:00:00      2   \n",
       "3              0  64900000.0      159.00  2015-07-24T00:00:00      3   \n",
       "4              2  10000000.0      100.00  2018-06-19T00:00:00      2   \n",
       "5             10   2890000.0       30.40  2018-09-10T00:00:00      1   \n",
       "6              6   3700000.0       37.30  2017-11-02T00:00:00      1   \n",
       "7              5   7915000.0       71.60  2019-04-18T00:00:00      2   \n",
       "8             20   2900000.0       33.16  2018-05-23T00:00:00      1   \n",
       "9             18   5400000.0       61.00  2017-02-26T00:00:00      3   \n",
       "10             5   5050000.0       39.60  2017-11-16T00:00:00      1   \n",
       "11             9   3300000.0       44.00  2018-08-27T00:00:00      2   \n",
       "12            10   3890000.0       54.00  2016-06-30T00:00:00      2   \n",
       "13            20   3550000.0       42.80  2017-07-01T00:00:00      2   \n",
       "14             1   4400000.0       36.00  2016-06-23T00:00:00      1   \n",
       "15            16   4650000.0       39.00  2017-11-18T00:00:00      1   \n",
       "16            11   6700000.0       82.00  2017-11-23T00:00:00      3   \n",
       "17             6   4180000.0       36.00  2016-09-09T00:00:00      1   \n",
       "18             8   3250000.0       31.00  2017-01-27T00:00:00      1   \n",
       "19            16  14200000.0      121.00  2019-01-09T00:00:00      3   \n",
       "\n",
       "    ceiling_height  floors_total  living_area  floor is_apartment  ...  \\\n",
       "0             2.70          16.0        51.00      8          NaN  ...   \n",
       "1              NaN          11.0        18.60      1          NaN  ...   \n",
       "2              NaN           5.0        34.30      4          NaN  ...   \n",
       "3              NaN          14.0          NaN      9          NaN  ...   \n",
       "4             3.03          14.0        32.00     13          NaN  ...   \n",
       "5              NaN          12.0        14.40      5          NaN  ...   \n",
       "6              NaN          26.0        10.60      6          NaN  ...   \n",
       "7              NaN          24.0          NaN     22          NaN  ...   \n",
       "8              NaN          27.0        15.43     26          NaN  ...   \n",
       "9             2.50           9.0        43.60      7          NaN  ...   \n",
       "10            2.67          12.0        20.30      3          NaN  ...   \n",
       "11             NaN           5.0        31.00      4        False  ...   \n",
       "12             NaN           5.0        30.00      5          NaN  ...   \n",
       "13            2.56           5.0        27.00      5          NaN  ...   \n",
       "14             NaN           6.0        17.00      1          NaN  ...   \n",
       "15             NaN          14.0        20.50      5          NaN  ...   \n",
       "16            3.05           5.0        55.60      1          NaN  ...   \n",
       "17             NaN          17.0        16.50      7          NaN  ...   \n",
       "18            2.50           5.0        19.40      2          NaN  ...   \n",
       "19            2.75          16.0        76.00      8          NaN  ...   \n",
       "\n",
       "    kitchen_area  balcony              locality_name  airports_nearest  \\\n",
       "0          25.00      NaN            Санкт-Петербург           18863.0   \n",
       "1          11.00      2.0             посёлок Шушары           12817.0   \n",
       "2           8.30      0.0            Санкт-Петербург           21741.0   \n",
       "3            NaN      0.0            Санкт-Петербург           28098.0   \n",
       "4          41.00      NaN            Санкт-Петербург           31856.0   \n",
       "5           9.10      NaN  городской посёлок Янино-1               NaN   \n",
       "6          14.40      1.0          посёлок Парголово           52996.0   \n",
       "7          18.90      2.0            Санкт-Петербург           23982.0   \n",
       "8           8.81      NaN             посёлок Мурино               NaN   \n",
       "9           6.50      2.0            Санкт-Петербург           50898.0   \n",
       "10          8.50      NaN            Санкт-Петербург           38357.0   \n",
       "11          6.00      1.0                  Ломоносов           48252.0   \n",
       "12          9.00      0.0                  Сертолово               NaN   \n",
       "13          5.20      1.0                   Петергоф           37868.0   \n",
       "14          8.00      0.0                     Пушкин           20782.0   \n",
       "15          7.60      1.0            Санкт-Петербург           12900.0   \n",
       "16          9.00      NaN            Санкт-Петербург           22108.0   \n",
       "17         11.00      1.0            Санкт-Петербург           33564.0   \n",
       "18          5.60      1.0            Санкт-Петербург           44060.0   \n",
       "19         12.00      NaN            Санкт-Петербург           38900.0   \n",
       "\n",
       "   cityCenters_nearest  parks_around3000  parks_nearest  ponds_around3000  \\\n",
       "0              16028.0               1.0          482.0               2.0   \n",
       "1              18603.0               0.0            NaN               0.0   \n",
       "2              13933.0               1.0           90.0               2.0   \n",
       "3               6800.0               2.0           84.0               3.0   \n",
       "4               8098.0               2.0          112.0               1.0   \n",
       "5                  NaN               NaN            NaN               NaN   \n",
       "6              19143.0               0.0            NaN               0.0   \n",
       "7              11634.0               0.0            NaN               0.0   \n",
       "8                  NaN               NaN            NaN               NaN   \n",
       "9              15008.0               0.0            NaN               0.0   \n",
       "10             13878.0               1.0          310.0               2.0   \n",
       "11             51677.0               0.0            NaN               0.0   \n",
       "12                 NaN               NaN            NaN               NaN   \n",
       "13             33058.0               1.0          294.0               3.0   \n",
       "14             30759.0               0.0            NaN               1.0   \n",
       "15             14259.0               1.0          590.0               1.0   \n",
       "16             10698.0               3.0          420.0               0.0   \n",
       "17             14616.0               0.0            NaN               1.0   \n",
       "18             10842.0               1.0          759.0               0.0   \n",
       "19             12843.0               0.0            NaN               0.0   \n",
       "\n",
       "    ponds_nearest  days_exposition  \n",
       "0           755.0              NaN  \n",
       "1             NaN             81.0  \n",
       "2           574.0            558.0  \n",
       "3           234.0            424.0  \n",
       "4            48.0            121.0  \n",
       "5             NaN             55.0  \n",
       "6             NaN            155.0  \n",
       "7             NaN              NaN  \n",
       "8             NaN            189.0  \n",
       "9             NaN            289.0  \n",
       "10          553.0            137.0  \n",
       "11            NaN              7.0  \n",
       "12            NaN             90.0  \n",
       "13          298.0            366.0  \n",
       "14           96.0            203.0  \n",
       "15          296.0             19.0  \n",
       "16            NaN            397.0  \n",
       "17          859.0            571.0  \n",
       "18            NaN            168.0  \n",
       "19            NaN             97.0  \n",
       "\n",
       "[20 rows x 22 columns]"
      ]
     },
     "execution_count": 4,
     "metadata": {},
     "output_type": "execute_result"
    }
   ],
   "source": [
    "#выводим на экран первые 20 строк таблицы\n",
    "df.head(20)"
   ]
  },
  {
   "cell_type": "code",
   "execution_count": 5,
   "id": "00f58b08",
   "metadata": {
    "scrolled": false
   },
   "outputs": [
    {
     "name": "stdout",
     "output_type": "stream",
     "text": [
      "<class 'pandas.core.frame.DataFrame'>\n",
      "RangeIndex: 23699 entries, 0 to 23698\n",
      "Data columns (total 22 columns):\n",
      " #   Column                Non-Null Count  Dtype  \n",
      "---  ------                --------------  -----  \n",
      " 0   total_images          23699 non-null  int64  \n",
      " 1   last_price            23699 non-null  float64\n",
      " 2   total_area            23699 non-null  float64\n",
      " 3   first_day_exposition  23699 non-null  object \n",
      " 4   rooms                 23699 non-null  int64  \n",
      " 5   ceiling_height        14504 non-null  float64\n",
      " 6   floors_total          23613 non-null  float64\n",
      " 7   living_area           21796 non-null  float64\n",
      " 8   floor                 23699 non-null  int64  \n",
      " 9   is_apartment          2775 non-null   object \n",
      " 10  studio                23699 non-null  bool   \n",
      " 11  open_plan             23699 non-null  bool   \n",
      " 12  kitchen_area          21421 non-null  float64\n",
      " 13  balcony               12180 non-null  float64\n",
      " 14  locality_name         23650 non-null  object \n",
      " 15  airports_nearest      18157 non-null  float64\n",
      " 16  cityCenters_nearest   18180 non-null  float64\n",
      " 17  parks_around3000      18181 non-null  float64\n",
      " 18  parks_nearest         8079 non-null   float64\n",
      " 19  ponds_around3000      18181 non-null  float64\n",
      " 20  ponds_nearest         9110 non-null   float64\n",
      " 21  days_exposition       20518 non-null  float64\n",
      "dtypes: bool(2), float64(14), int64(3), object(3)\n",
      "memory usage: 3.7+ MB\n"
     ]
    }
   ],
   "source": [
    "#выводим на экран общую информацию о датафрейме\n",
    "df.info()"
   ]
  },
  {
   "cell_type": "markdown",
   "id": "23fe97f7",
   "metadata": {},
   "source": [
    "Некоторые названия столбцов содержат нарушение стиля. Переименуем их. "
   ]
  },
  {
   "cell_type": "code",
   "execution_count": 6,
   "id": "11bab2d0",
   "metadata": {},
   "outputs": [],
   "source": [
    "df = df.rename(columns={'cityCenters_nearest': 'city_сenters_nearest', \n",
    "                        'parks_around3000': 'parks_around_3000', \n",
    "                        'ponds_around3000': 'ponds_around_3000'})"
   ]
  },
  {
   "cell_type": "code",
   "execution_count": 7,
   "id": "168506b7",
   "metadata": {
    "scrolled": true
   },
   "outputs": [
    {
     "data": {
      "image/png": "[encoded data removed]",
      "text/plain": [
       "<Figure size 1080x1440 with 20 Axes>"
      ]
     },
     "metadata": {
      "needs_background": "light"
     },
     "output_type": "display_data"
    }
   ],
   "source": [
    "#построим гистограмму для всех числовых значений:\n",
    "df.hist(figsize=(15,20))\n",
    "plt.show()"
   ]
  },
  {
   "cell_type": "markdown",
   "id": "5e77f152",
   "metadata": {},
   "source": [
    "Вывод:\\\n",
    "Изучена общая информация о данных, исправлены нарушения стиля в оформлении названий столбцов.\\\n",
    "Построены гистограммы."
   ]
  },
  {
   "cell_type": "markdown",
   "id": "46c3edb6",
   "metadata": {},
   "source": [
    "### Предобработка данных"
   ]
  },
  {
   "cell_type": "markdown",
   "id": "13b8a15a",
   "metadata": {},
   "source": [
    "#### Работа с пропусками"
   ]
  },
  {
   "cell_type": "markdown",
   "id": "599480a7",
   "metadata": {},
   "source": [
    "Проверим кол-во пропусков в каждом столбце:"
   ]
  },
  {
   "cell_type": "code",
   "execution_count": 8,
   "id": "cb843531",
   "metadata": {
    "scrolled": true
   },
   "outputs": [
    {
     "data": {
      "text/plain": [
       "total_images                0\n",
       "last_price                  0\n",
       "total_area                  0\n",
       "first_day_exposition        0\n",
       "rooms                       0\n",
       "ceiling_height           9195\n",
       "floors_total               86\n",
       "living_area              1903\n",
       "floor                       0\n",
       "is_apartment            20924\n",
       "studio                      0\n",
       "open_plan                   0\n",
       "kitchen_area             2278\n",
       "balcony                 11519\n",
       "locality_name              49\n",
       "airports_nearest         5542\n",
       "city_сenters_nearest     5519\n",
       "parks_around_3000        5518\n",
       "parks_nearest           15620\n",
       "ponds_around_3000        5518\n",
       "ponds_nearest           14589\n",
       "days_exposition          3181\n",
       "dtype: int64"
      ]
     },
     "execution_count": 8,
     "metadata": {},
     "output_type": "execute_result"
    }
   ],
   "source": [
    "df.isna().sum()"
   ]
  },
  {
   "cell_type": "markdown",
   "id": "9561ac16",
   "metadata": {},
   "source": [
    "Проверим кол-во пропусков в %:"
   ]
  },
  {
   "cell_type": "code",
   "execution_count": 9,
   "id": "67339bdf",
   "metadata": {},
   "outputs": [
    {
     "data": {
      "text/html": [
       "<style type=\"text/css\">\n",
       "#T_5be16_row0_col0, #T_5be16_row1_col0, #T_5be16_row2_col0, #T_5be16_row3_col0, #T_5be16_row4_col0, #T_5be16_row6_col0, #T_5be16_row8_col0, #T_5be16_row10_col0, #T_5be16_row11_col0, #T_5be16_row14_col0 {\n",
       "  background-color: #3b4cc0;\n",
       "  color: #f1f1f1;\n",
       "}\n",
       "#T_5be16_row5_col0 {\n",
       "  background-color: #cdd9ec;\n",
       "  color: #000000;\n",
       "}\n",
       "#T_5be16_row7_col0 {\n",
       "  background-color: #5673e0;\n",
       "  color: #f1f1f1;\n",
       "}\n",
       "#T_5be16_row9_col0 {\n",
       "  background-color: #b40426;\n",
       "  color: #f1f1f1;\n",
       "}\n",
       "#T_5be16_row12_col0 {\n",
       "  background-color: #5e7de7;\n",
       "  color: #f1f1f1;\n",
       "}\n",
       "#T_5be16_row13_col0 {\n",
       "  background-color: #ead4c8;\n",
       "  color: #000000;\n",
       "}\n",
       "#T_5be16_row15_col0, #T_5be16_row16_col0, #T_5be16_row17_col0, #T_5be16_row19_col0 {\n",
       "  background-color: #90b2fe;\n",
       "  color: #000000;\n",
       "}\n",
       "#T_5be16_row18_col0 {\n",
       "  background-color: #f4987a;\n",
       "  color: #000000;\n",
       "}\n",
       "#T_5be16_row20_col0 {\n",
       "  background-color: #f7aa8c;\n",
       "  color: #000000;\n",
       "}\n",
       "#T_5be16_row21_col0 {\n",
       "  background-color: #688aef;\n",
       "  color: #f1f1f1;\n",
       "}\n",
       "</style>\n",
       "<table id=\"T_5be16\">\n",
       "  <thead>\n",
       "    <tr>\n",
       "      <th class=\"blank level0\" >&nbsp;</th>\n",
       "      <th id=\"T_5be16_level0_col0\" class=\"col_heading level0 col0\" >0</th>\n",
       "    </tr>\n",
       "  </thead>\n",
       "  <tbody>\n",
       "    <tr>\n",
       "      <th id=\"T_5be16_level0_row0\" class=\"row_heading level0 row0\" >total_images</th>\n",
       "      <td id=\"T_5be16_row0_col0\" class=\"data row0 col0\" >0.000000</td>\n",
       "    </tr>\n",
       "    <tr>\n",
       "      <th id=\"T_5be16_level0_row1\" class=\"row_heading level0 row1\" >last_price</th>\n",
       "      <td id=\"T_5be16_row1_col0\" class=\"data row1 col0\" >0.000000</td>\n",
       "    </tr>\n",
       "    <tr>\n",
       "      <th id=\"T_5be16_level0_row2\" class=\"row_heading level0 row2\" >total_area</th>\n",
       "      <td id=\"T_5be16_row2_col0\" class=\"data row2 col0\" >0.000000</td>\n",
       "    </tr>\n",
       "    <tr>\n",
       "      <th id=\"T_5be16_level0_row3\" class=\"row_heading level0 row3\" >first_day_exposition</th>\n",
       "      <td id=\"T_5be16_row3_col0\" class=\"data row3 col0\" >0.000000</td>\n",
       "    </tr>\n",
       "    <tr>\n",
       "      <th id=\"T_5be16_level0_row4\" class=\"row_heading level0 row4\" >rooms</th>\n",
       "      <td id=\"T_5be16_row4_col0\" class=\"data row4 col0\" >0.000000</td>\n",
       "    </tr>\n",
       "    <tr>\n",
       "      <th id=\"T_5be16_level0_row5\" class=\"row_heading level0 row5\" >ceiling_height</th>\n",
       "      <td id=\"T_5be16_row5_col0\" class=\"data row5 col0\" >39.000000</td>\n",
       "    </tr>\n",
       "    <tr>\n",
       "      <th id=\"T_5be16_level0_row6\" class=\"row_heading level0 row6\" >floors_total</th>\n",
       "      <td id=\"T_5be16_row6_col0\" class=\"data row6 col0\" >0.000000</td>\n",
       "    </tr>\n",
       "    <tr>\n",
       "      <th id=\"T_5be16_level0_row7\" class=\"row_heading level0 row7\" >living_area</th>\n",
       "      <td id=\"T_5be16_row7_col0\" class=\"data row7 col0\" >8.000000</td>\n",
       "    </tr>\n",
       "    <tr>\n",
       "      <th id=\"T_5be16_level0_row8\" class=\"row_heading level0 row8\" >floor</th>\n",
       "      <td id=\"T_5be16_row8_col0\" class=\"data row8 col0\" >0.000000</td>\n",
       "    </tr>\n",
       "    <tr>\n",
       "      <th id=\"T_5be16_level0_row9\" class=\"row_heading level0 row9\" >is_apartment</th>\n",
       "      <td id=\"T_5be16_row9_col0\" class=\"data row9 col0\" >88.000000</td>\n",
       "    </tr>\n",
       "    <tr>\n",
       "      <th id=\"T_5be16_level0_row10\" class=\"row_heading level0 row10\" >studio</th>\n",
       "      <td id=\"T_5be16_row10_col0\" class=\"data row10 col0\" >0.000000</td>\n",
       "    </tr>\n",
       "    <tr>\n",
       "      <th id=\"T_5be16_level0_row11\" class=\"row_heading level0 row11\" >open_plan</th>\n",
       "      <td id=\"T_5be16_row11_col0\" class=\"data row11 col0\" >0.000000</td>\n",
       "    </tr>\n",
       "    <tr>\n",
       "      <th id=\"T_5be16_level0_row12\" class=\"row_heading level0 row12\" >kitchen_area</th>\n",
       "      <td id=\"T_5be16_row12_col0\" class=\"data row12 col0\" >10.000000</td>\n",
       "    </tr>\n",
       "    <tr>\n",
       "      <th id=\"T_5be16_level0_row13\" class=\"row_heading level0 row13\" >balcony</th>\n",
       "      <td id=\"T_5be16_row13_col0\" class=\"data row13 col0\" >49.000000</td>\n",
       "    </tr>\n",
       "    <tr>\n",
       "      <th id=\"T_5be16_level0_row14\" class=\"row_heading level0 row14\" >locality_name</th>\n",
       "      <td id=\"T_5be16_row14_col0\" class=\"data row14 col0\" >0.000000</td>\n",
       "    </tr>\n",
       "    <tr>\n",
       "      <th id=\"T_5be16_level0_row15\" class=\"row_heading level0 row15\" >airports_nearest</th>\n",
       "      <td id=\"T_5be16_row15_col0\" class=\"data row15 col0\" >23.000000</td>\n",
       "    </tr>\n",
       "    <tr>\n",
       "      <th id=\"T_5be16_level0_row16\" class=\"row_heading level0 row16\" >city_сenters_nearest</th>\n",
       "      <td id=\"T_5be16_row16_col0\" class=\"data row16 col0\" >23.000000</td>\n",
       "    </tr>\n",
       "    <tr>\n",
       "      <th id=\"T_5be16_level0_row17\" class=\"row_heading level0 row17\" >parks_around_3000</th>\n",
       "      <td id=\"T_5be16_row17_col0\" class=\"data row17 col0\" >23.000000</td>\n",
       "    </tr>\n",
       "    <tr>\n",
       "      <th id=\"T_5be16_level0_row18\" class=\"row_heading level0 row18\" >parks_nearest</th>\n",
       "      <td id=\"T_5be16_row18_col0\" class=\"data row18 col0\" >66.000000</td>\n",
       "    </tr>\n",
       "    <tr>\n",
       "      <th id=\"T_5be16_level0_row19\" class=\"row_heading level0 row19\" >ponds_around_3000</th>\n",
       "      <td id=\"T_5be16_row19_col0\" class=\"data row19 col0\" >23.000000</td>\n",
       "    </tr>\n",
       "    <tr>\n",
       "      <th id=\"T_5be16_level0_row20\" class=\"row_heading level0 row20\" >ponds_nearest</th>\n",
       "      <td id=\"T_5be16_row20_col0\" class=\"data row20 col0\" >62.000000</td>\n",
       "    </tr>\n",
       "    <tr>\n",
       "      <th id=\"T_5be16_level0_row21\" class=\"row_heading level0 row21\" >days_exposition</th>\n",
       "      <td id=\"T_5be16_row21_col0\" class=\"data row21 col0\" >13.000000</td>\n",
       "    </tr>\n",
       "  </tbody>\n",
       "</table>\n"
      ],
      "text/plain": [
       "<pandas.io.formats.style.Styler at 0x221c9c6dd30>"
      ]
     },
     "execution_count": 9,
     "metadata": {},
     "output_type": "execute_result"
    }
   ],
   "source": [
    "pd.DataFrame(round(df.isna().mean()*100,)).style.background_gradient('coolwarm')"
   ]
  },
  {
   "cell_type": "markdown",
   "id": "63b9b88f",
   "metadata": {},
   "source": [
    "Приступим к анализу пропусков и их заполнению."
   ]
  },
  {
   "cell_type": "markdown",
   "id": "dc576728",
   "metadata": {},
   "source": [
    "##### Заполнение пропусков в ceiling_height, floors_total, living_area, balcony"
   ]
  },
  {
   "cell_type": "markdown",
   "id": "de6b8e4f",
   "metadata": {},
   "source": [
    "Сначала заполним очевидные пропуски - значения параметров ceiling_height, floors_total, living_area, balcony.\\\n",
    "Возможные причины их появления:\\\n",
    "ceiling_height, floors_total, living_area - данные пропущены пользователями при заполнении, при этом можно предположить, что floors_total не указан намеренно в объектах, располагающихся на последних этажах;\\\n",
    "balcony - если баклон не указан, скорее всего его нет."
   ]
  },
  {
   "cell_type": "markdown",
   "id": "1e5d47a6",
   "metadata": {},
   "source": [
    "Посчитаем медианные значения параметров ceiling_height, floors_total, living_area и оценим их правдоподобность:"
   ]
  },
  {
   "cell_type": "code",
   "execution_count": 10,
   "id": "ad6de419",
   "metadata": {},
   "outputs": [
    {
     "data": {
      "text/plain": [
       "2.65"
      ]
     },
     "execution_count": 10,
     "metadata": {},
     "output_type": "execute_result"
    }
   ],
   "source": [
    "df['ceiling_height'].median()"
   ]
  },
  {
   "cell_type": "code",
   "execution_count": 11,
   "id": "41c0300d",
   "metadata": {},
   "outputs": [
    {
     "data": {
      "text/plain": [
       "30.0"
      ]
     },
     "execution_count": 11,
     "metadata": {},
     "output_type": "execute_result"
    }
   ],
   "source": [
    "df['living_area'].median()"
   ]
  },
  {
   "cell_type": "code",
   "execution_count": 12,
   "id": "7ab4fa09",
   "metadata": {},
   "outputs": [
    {
     "data": {
      "text/plain": [
       "9.0"
      ]
     },
     "execution_count": 12,
     "metadata": {},
     "output_type": "execute_result"
    }
   ],
   "source": [
    "df['floors_total'].median()"
   ]
  },
  {
   "cell_type": "markdown",
   "id": "f79003b8",
   "metadata": {},
   "source": [
    "Получили, что медианное значение высоты потолков 2.65м, жилая площадь 30 кв.м., общая этажность 9 этажей. Данные значения выглядят правдоподобно и считаю, что их можно использовать для заполнения пропусков."
   ]
  },
  {
   "cell_type": "markdown",
   "id": "8f2df2a4",
   "metadata": {},
   "source": [
    "Заполним пропуски:\\\n",
    "ceiling_height - высоту потолков заполним медианным значением;\\\n",
    "living_area - жилую площадь заполним медианным значением;\\\n",
    "balcony - заполним пропуски значением 0."
   ]
  },
  {
   "cell_type": "code",
   "execution_count": 13,
   "id": "6f779473",
   "metadata": {},
   "outputs": [],
   "source": [
    "df['ceiling_height'] = df.groupby(['locality_name', 'floors_total'])['ceiling_height'].apply(lambda x: x.fillna(x.median()))\n",
    "df['ceiling_height'].fillna(df['ceiling_height'].median(), inplace=True)"
   ]
  },
  {
   "cell_type": "code",
   "execution_count": 14,
   "id": "4e53a6b9",
   "metadata": {},
   "outputs": [],
   "source": [
    "df['ceiling_height'] = df['ceiling_height'].fillna(df['ceiling_height'].median())\n",
    "df['living_area'] = df['living_area'].fillna(df['living_area'].median())\n",
    "df['balcony'] = df['balcony'].fillna(0)"
   ]
  },
  {
   "cell_type": "markdown",
   "id": "153518d8",
   "metadata": {},
   "source": [
    "Проверим строки с пропущенными значениями floors_total, не являются ли все эти объекты одноэтажными:"
   ]
  },
  {
   "cell_type": "code",
   "execution_count": 15,
   "id": "e07cc74d",
   "metadata": {},
   "outputs": [
    {
     "data": {
      "text/html": [
       "<div>\n",
       "<style scoped>\n",
       "    .dataframe tbody tr th:only-of-type {\n",
       "        vertical-align: middle;\n",
       "    }\n",
       "\n",
       "    .dataframe tbody tr th {\n",
       "        vertical-align: top;\n",
       "    }\n",
       "\n",
       "    .dataframe thead th {\n",
       "        text-align: right;\n",
       "    }\n",
       "</style>\n",
       "<table border=\"1\" class=\"dataframe\">\n",
       "  <thead>\n",
       "    <tr style=\"text-align: right;\">\n",
       "      <th></th>\n",
       "      <th>total_images</th>\n",
       "      <th>last_price</th>\n",
       "      <th>total_area</th>\n",
       "      <th>first_day_exposition</th>\n",
       "      <th>rooms</th>\n",
       "      <th>ceiling_height</th>\n",
       "      <th>floors_total</th>\n",
       "      <th>living_area</th>\n",
       "      <th>floor</th>\n",
       "      <th>is_apartment</th>\n",
       "      <th>...</th>\n",
       "      <th>kitchen_area</th>\n",
       "      <th>balcony</th>\n",
       "      <th>locality_name</th>\n",
       "      <th>airports_nearest</th>\n",
       "      <th>city_сenters_nearest</th>\n",
       "      <th>parks_around_3000</th>\n",
       "      <th>parks_nearest</th>\n",
       "      <th>ponds_around_3000</th>\n",
       "      <th>ponds_nearest</th>\n",
       "      <th>days_exposition</th>\n",
       "    </tr>\n",
       "  </thead>\n",
       "  <tbody>\n",
       "    <tr>\n",
       "      <th>186</th>\n",
       "      <td>12</td>\n",
       "      <td>11640000.0</td>\n",
       "      <td>65.20</td>\n",
       "      <td>2018-10-02T00:00:00</td>\n",
       "      <td>2</td>\n",
       "      <td>2.65</td>\n",
       "      <td>NaN</td>\n",
       "      <td>30.80</td>\n",
       "      <td>4</td>\n",
       "      <td>NaN</td>\n",
       "      <td>...</td>\n",
       "      <td>12.00</td>\n",
       "      <td>0.0</td>\n",
       "      <td>Санкт-Петербург</td>\n",
       "      <td>39197.0</td>\n",
       "      <td>12373.0</td>\n",
       "      <td>1.0</td>\n",
       "      <td>123.0</td>\n",
       "      <td>0.0</td>\n",
       "      <td>NaN</td>\n",
       "      <td>49.0</td>\n",
       "    </tr>\n",
       "    <tr>\n",
       "      <th>237</th>\n",
       "      <td>4</td>\n",
       "      <td>2438033.0</td>\n",
       "      <td>28.10</td>\n",
       "      <td>2016-11-23T00:00:00</td>\n",
       "      <td>1</td>\n",
       "      <td>2.65</td>\n",
       "      <td>NaN</td>\n",
       "      <td>20.75</td>\n",
       "      <td>1</td>\n",
       "      <td>NaN</td>\n",
       "      <td>...</td>\n",
       "      <td>NaN</td>\n",
       "      <td>0.0</td>\n",
       "      <td>Санкт-Петербург</td>\n",
       "      <td>22041.0</td>\n",
       "      <td>17369.0</td>\n",
       "      <td>0.0</td>\n",
       "      <td>NaN</td>\n",
       "      <td>1.0</td>\n",
       "      <td>374.0</td>\n",
       "      <td>251.0</td>\n",
       "    </tr>\n",
       "    <tr>\n",
       "      <th>457</th>\n",
       "      <td>4</td>\n",
       "      <td>9788348.0</td>\n",
       "      <td>70.80</td>\n",
       "      <td>2015-08-01T00:00:00</td>\n",
       "      <td>2</td>\n",
       "      <td>2.65</td>\n",
       "      <td>NaN</td>\n",
       "      <td>38.40</td>\n",
       "      <td>12</td>\n",
       "      <td>NaN</td>\n",
       "      <td>...</td>\n",
       "      <td>10.63</td>\n",
       "      <td>0.0</td>\n",
       "      <td>Санкт-Петербург</td>\n",
       "      <td>37364.0</td>\n",
       "      <td>8322.0</td>\n",
       "      <td>2.0</td>\n",
       "      <td>309.0</td>\n",
       "      <td>2.0</td>\n",
       "      <td>706.0</td>\n",
       "      <td>727.0</td>\n",
       "    </tr>\n",
       "    <tr>\n",
       "      <th>671</th>\n",
       "      <td>4</td>\n",
       "      <td>6051191.0</td>\n",
       "      <td>93.60</td>\n",
       "      <td>2017-04-06T00:00:00</td>\n",
       "      <td>3</td>\n",
       "      <td>2.65</td>\n",
       "      <td>NaN</td>\n",
       "      <td>47.10</td>\n",
       "      <td>8</td>\n",
       "      <td>NaN</td>\n",
       "      <td>...</td>\n",
       "      <td>16.80</td>\n",
       "      <td>0.0</td>\n",
       "      <td>Санкт-Петербург</td>\n",
       "      <td>22041.0</td>\n",
       "      <td>17369.0</td>\n",
       "      <td>0.0</td>\n",
       "      <td>NaN</td>\n",
       "      <td>1.0</td>\n",
       "      <td>374.0</td>\n",
       "      <td>123.0</td>\n",
       "    </tr>\n",
       "    <tr>\n",
       "      <th>1757</th>\n",
       "      <td>5</td>\n",
       "      <td>3600000.0</td>\n",
       "      <td>39.00</td>\n",
       "      <td>2017-04-22T00:00:00</td>\n",
       "      <td>1</td>\n",
       "      <td>2.65</td>\n",
       "      <td>NaN</td>\n",
       "      <td>30.00</td>\n",
       "      <td>9</td>\n",
       "      <td>NaN</td>\n",
       "      <td>...</td>\n",
       "      <td>NaN</td>\n",
       "      <td>0.0</td>\n",
       "      <td>Санкт-Петербург</td>\n",
       "      <td>22735.0</td>\n",
       "      <td>11618.0</td>\n",
       "      <td>1.0</td>\n",
       "      <td>835.0</td>\n",
       "      <td>1.0</td>\n",
       "      <td>652.0</td>\n",
       "      <td>77.0</td>\n",
       "    </tr>\n",
       "    <tr>\n",
       "      <th>1930</th>\n",
       "      <td>1</td>\n",
       "      <td>9750000.0</td>\n",
       "      <td>66.77</td>\n",
       "      <td>2016-05-13T00:00:00</td>\n",
       "      <td>2</td>\n",
       "      <td>2.65</td>\n",
       "      <td>NaN</td>\n",
       "      <td>30.00</td>\n",
       "      <td>4</td>\n",
       "      <td>NaN</td>\n",
       "      <td>...</td>\n",
       "      <td>NaN</td>\n",
       "      <td>0.0</td>\n",
       "      <td>Санкт-Петербург</td>\n",
       "      <td>39886.0</td>\n",
       "      <td>10660.0</td>\n",
       "      <td>1.0</td>\n",
       "      <td>2276.0</td>\n",
       "      <td>3.0</td>\n",
       "      <td>244.0</td>\n",
       "      <td>90.0</td>\n",
       "    </tr>\n",
       "    <tr>\n",
       "      <th>2392</th>\n",
       "      <td>7</td>\n",
       "      <td>5395770.0</td>\n",
       "      <td>53.00</td>\n",
       "      <td>2017-06-29T00:00:00</td>\n",
       "      <td>2</td>\n",
       "      <td>2.65</td>\n",
       "      <td>NaN</td>\n",
       "      <td>29.00</td>\n",
       "      <td>22</td>\n",
       "      <td>NaN</td>\n",
       "      <td>...</td>\n",
       "      <td>9.00</td>\n",
       "      <td>0.0</td>\n",
       "      <td>Санкт-Петербург</td>\n",
       "      <td>43074.0</td>\n",
       "      <td>10820.0</td>\n",
       "      <td>0.0</td>\n",
       "      <td>NaN</td>\n",
       "      <td>0.0</td>\n",
       "      <td>NaN</td>\n",
       "      <td>48.0</td>\n",
       "    </tr>\n",
       "    <tr>\n",
       "      <th>2846</th>\n",
       "      <td>4</td>\n",
       "      <td>2325000.0</td>\n",
       "      <td>27.80</td>\n",
       "      <td>2016-09-21T00:00:00</td>\n",
       "      <td>1</td>\n",
       "      <td>2.65</td>\n",
       "      <td>NaN</td>\n",
       "      <td>19.40</td>\n",
       "      <td>15</td>\n",
       "      <td>NaN</td>\n",
       "      <td>...</td>\n",
       "      <td>NaN</td>\n",
       "      <td>0.0</td>\n",
       "      <td>Санкт-Петербург</td>\n",
       "      <td>22041.0</td>\n",
       "      <td>17369.0</td>\n",
       "      <td>0.0</td>\n",
       "      <td>NaN</td>\n",
       "      <td>1.0</td>\n",
       "      <td>374.0</td>\n",
       "      <td>307.0</td>\n",
       "    </tr>\n",
       "    <tr>\n",
       "      <th>2952</th>\n",
       "      <td>10</td>\n",
       "      <td>6500000.0</td>\n",
       "      <td>54.30</td>\n",
       "      <td>2019-04-23T00:00:00</td>\n",
       "      <td>1</td>\n",
       "      <td>2.65</td>\n",
       "      <td>NaN</td>\n",
       "      <td>22.20</td>\n",
       "      <td>6</td>\n",
       "      <td>NaN</td>\n",
       "      <td>...</td>\n",
       "      <td>12.30</td>\n",
       "      <td>0.0</td>\n",
       "      <td>Санкт-Петербург</td>\n",
       "      <td>23606.0</td>\n",
       "      <td>3148.0</td>\n",
       "      <td>0.0</td>\n",
       "      <td>NaN</td>\n",
       "      <td>0.0</td>\n",
       "      <td>NaN</td>\n",
       "      <td>NaN</td>\n",
       "    </tr>\n",
       "    <tr>\n",
       "      <th>3031</th>\n",
       "      <td>9</td>\n",
       "      <td>6400000.0</td>\n",
       "      <td>56.70</td>\n",
       "      <td>2018-03-27T00:00:00</td>\n",
       "      <td>2</td>\n",
       "      <td>2.65</td>\n",
       "      <td>NaN</td>\n",
       "      <td>32.00</td>\n",
       "      <td>12</td>\n",
       "      <td>NaN</td>\n",
       "      <td>...</td>\n",
       "      <td>12.00</td>\n",
       "      <td>0.0</td>\n",
       "      <td>Кудрово</td>\n",
       "      <td>NaN</td>\n",
       "      <td>NaN</td>\n",
       "      <td>NaN</td>\n",
       "      <td>NaN</td>\n",
       "      <td>NaN</td>\n",
       "      <td>NaN</td>\n",
       "      <td>231.0</td>\n",
       "    </tr>\n",
       "  </tbody>\n",
       "</table>\n",
       "<p>10 rows × 22 columns</p>\n",
       "</div>"
      ],
      "text/plain": [
       "      total_images  last_price  total_area first_day_exposition  rooms  \\\n",
       "186             12  11640000.0       65.20  2018-10-02T00:00:00      2   \n",
       "237              4   2438033.0       28.10  2016-11-23T00:00:00      1   \n",
       "457              4   9788348.0       70.80  2015-08-01T00:00:00      2   \n",
       "671              4   6051191.0       93.60  2017-04-06T00:00:00      3   \n",
       "1757             5   3600000.0       39.00  2017-04-22T00:00:00      1   \n",
       "1930             1   9750000.0       66.77  2016-05-13T00:00:00      2   \n",
       "2392             7   5395770.0       53.00  2017-06-29T00:00:00      2   \n",
       "2846             4   2325000.0       27.80  2016-09-21T00:00:00      1   \n",
       "2952            10   6500000.0       54.30  2019-04-23T00:00:00      1   \n",
       "3031             9   6400000.0       56.70  2018-03-27T00:00:00      2   \n",
       "\n",
       "      ceiling_height  floors_total  living_area  floor is_apartment  ...  \\\n",
       "186             2.65           NaN        30.80      4          NaN  ...   \n",
       "237             2.65           NaN        20.75      1          NaN  ...   \n",
       "457             2.65           NaN        38.40     12          NaN  ...   \n",
       "671             2.65           NaN        47.10      8          NaN  ...   \n",
       "1757            2.65           NaN        30.00      9          NaN  ...   \n",
       "1930            2.65           NaN        30.00      4          NaN  ...   \n",
       "2392            2.65           NaN        29.00     22          NaN  ...   \n",
       "2846            2.65           NaN        19.40     15          NaN  ...   \n",
       "2952            2.65           NaN        22.20      6          NaN  ...   \n",
       "3031            2.65           NaN        32.00     12          NaN  ...   \n",
       "\n",
       "      kitchen_area  balcony    locality_name  airports_nearest  \\\n",
       "186          12.00      0.0  Санкт-Петербург           39197.0   \n",
       "237            NaN      0.0  Санкт-Петербург           22041.0   \n",
       "457          10.63      0.0  Санкт-Петербург           37364.0   \n",
       "671          16.80      0.0  Санкт-Петербург           22041.0   \n",
       "1757           NaN      0.0  Санкт-Петербург           22735.0   \n",
       "1930           NaN      0.0  Санкт-Петербург           39886.0   \n",
       "2392          9.00      0.0  Санкт-Петербург           43074.0   \n",
       "2846           NaN      0.0  Санкт-Петербург           22041.0   \n",
       "2952         12.30      0.0  Санкт-Петербург           23606.0   \n",
       "3031         12.00      0.0          Кудрово               NaN   \n",
       "\n",
       "     city_сenters_nearest  parks_around_3000  parks_nearest  \\\n",
       "186               12373.0                1.0          123.0   \n",
       "237               17369.0                0.0            NaN   \n",
       "457                8322.0                2.0          309.0   \n",
       "671               17369.0                0.0            NaN   \n",
       "1757              11618.0                1.0          835.0   \n",
       "1930              10660.0                1.0         2276.0   \n",
       "2392              10820.0                0.0            NaN   \n",
       "2846              17369.0                0.0            NaN   \n",
       "2952               3148.0                0.0            NaN   \n",
       "3031                  NaN                NaN            NaN   \n",
       "\n",
       "      ponds_around_3000  ponds_nearest  days_exposition  \n",
       "186                 0.0            NaN             49.0  \n",
       "237                 1.0          374.0            251.0  \n",
       "457                 2.0          706.0            727.0  \n",
       "671                 1.0          374.0            123.0  \n",
       "1757                1.0          652.0             77.0  \n",
       "1930                3.0          244.0             90.0  \n",
       "2392                0.0            NaN             48.0  \n",
       "2846                1.0          374.0            307.0  \n",
       "2952                0.0            NaN              NaN  \n",
       "3031                NaN            NaN            231.0  \n",
       "\n",
       "[10 rows x 22 columns]"
      ]
     },
     "execution_count": 15,
     "metadata": {},
     "output_type": "execute_result"
    }
   ],
   "source": [
    "df[df['floors_total'].isna()].head(10)"
   ]
  },
  {
   "cell_type": "markdown",
   "id": "4b96f38c",
   "metadata": {},
   "source": [
    "Принимая во внимание значения столбца floor, можно сделать вывод, что объекты не являются одноэтажными, поэтому пропущенные значения в столбце floors_total также заменим медианным значением данного столбца, однако, если значение floor больше медианного значения, то примем за общее кол-во этажей значение floor. Возможно пропуск возник как раз из-за того, что пользователи не хотели указывать этажность, т.к. продаваемаяя квартира расположена на последнем этаже. "
   ]
  },
  {
   "cell_type": "code",
   "execution_count": 16,
   "id": "4741339f",
   "metadata": {},
   "outputs": [],
   "source": [
    "df.loc[df['floor'] > df['floors_total'].median(), 'floors_total'] = df['floor']"
   ]
  },
  {
   "cell_type": "code",
   "execution_count": 17,
   "id": "52c503f4",
   "metadata": {},
   "outputs": [],
   "source": [
    "df.loc[df['floor'] <= df['floors_total'].median(), 'floors_total'] = df['floors_total'].median()"
   ]
  },
  {
   "cell_type": "markdown",
   "id": "31d0a6eb",
   "metadata": {},
   "source": [
    "Проверим заполнились ли пропуски:"
   ]
  },
  {
   "cell_type": "code",
   "execution_count": 18,
   "id": "e5216241",
   "metadata": {},
   "outputs": [
    {
     "data": {
      "text/plain": [
       "total_images                0\n",
       "last_price                  0\n",
       "total_area                  0\n",
       "first_day_exposition        0\n",
       "rooms                       0\n",
       "ceiling_height              0\n",
       "floors_total                0\n",
       "living_area                 0\n",
       "floor                       0\n",
       "is_apartment            20924\n",
       "studio                      0\n",
       "open_plan                   0\n",
       "kitchen_area             2278\n",
       "balcony                     0\n",
       "locality_name              49\n",
       "airports_nearest         5542\n",
       "city_сenters_nearest     5519\n",
       "parks_around_3000        5518\n",
       "parks_nearest           15620\n",
       "ponds_around_3000        5518\n",
       "ponds_nearest           14589\n",
       "days_exposition          3181\n",
       "dtype: int64"
      ]
     },
     "execution_count": 18,
     "metadata": {},
     "output_type": "execute_result"
    }
   ],
   "source": [
    "df.isna().sum()"
   ]
  },
  {
   "cell_type": "markdown",
   "id": "cf383f1e",
   "metadata": {},
   "source": [
    "##### Заполнение пропусков в is_apartment"
   ]
  },
  {
   "cell_type": "markdown",
   "id": "6cc0175e",
   "metadata": {},
   "source": [
    "Выведем уникальные значения столбца is_apartment и проанализируем причины пропусков:"
   ]
  },
  {
   "cell_type": "code",
   "execution_count": 19,
   "id": "fad03273",
   "metadata": {
    "scrolled": true
   },
   "outputs": [
    {
     "data": {
      "text/plain": [
       "array([nan, False, True], dtype=object)"
      ]
     },
     "execution_count": 19,
     "metadata": {},
     "output_type": "execute_result"
    }
   ],
   "source": [
    "df['is_apartment'].unique()"
   ]
  },
  {
   "cell_type": "markdown",
   "id": "055f2c00",
   "metadata": {},
   "source": [
    "Выведем на экран несколько строк с пропущенными значениями: "
   ]
  },
  {
   "cell_type": "code",
   "execution_count": 20,
   "id": "4834e5b0",
   "metadata": {
    "scrolled": true
   },
   "outputs": [
    {
     "data": {
      "text/html": [
       "<div>\n",
       "<style scoped>\n",
       "    .dataframe tbody tr th:only-of-type {\n",
       "        vertical-align: middle;\n",
       "    }\n",
       "\n",
       "    .dataframe tbody tr th {\n",
       "        vertical-align: top;\n",
       "    }\n",
       "\n",
       "    .dataframe thead th {\n",
       "        text-align: right;\n",
       "    }\n",
       "</style>\n",
       "<table border=\"1\" class=\"dataframe\">\n",
       "  <thead>\n",
       "    <tr style=\"text-align: right;\">\n",
       "      <th></th>\n",
       "      <th>total_images</th>\n",
       "      <th>last_price</th>\n",
       "      <th>total_area</th>\n",
       "      <th>first_day_exposition</th>\n",
       "      <th>rooms</th>\n",
       "      <th>ceiling_height</th>\n",
       "      <th>floors_total</th>\n",
       "      <th>living_area</th>\n",
       "      <th>floor</th>\n",
       "      <th>is_apartment</th>\n",
       "      <th>...</th>\n",
       "      <th>kitchen_area</th>\n",
       "      <th>balcony</th>\n",
       "      <th>locality_name</th>\n",
       "      <th>airports_nearest</th>\n",
       "      <th>city_сenters_nearest</th>\n",
       "      <th>parks_around_3000</th>\n",
       "      <th>parks_nearest</th>\n",
       "      <th>ponds_around_3000</th>\n",
       "      <th>ponds_nearest</th>\n",
       "      <th>days_exposition</th>\n",
       "    </tr>\n",
       "  </thead>\n",
       "  <tbody>\n",
       "    <tr>\n",
       "      <th>0</th>\n",
       "      <td>20</td>\n",
       "      <td>13000000.0</td>\n",
       "      <td>108.00</td>\n",
       "      <td>2019-03-07T00:00:00</td>\n",
       "      <td>3</td>\n",
       "      <td>2.700</td>\n",
       "      <td>9.0</td>\n",
       "      <td>51.00</td>\n",
       "      <td>8</td>\n",
       "      <td>NaN</td>\n",
       "      <td>...</td>\n",
       "      <td>25.00</td>\n",
       "      <td>0.0</td>\n",
       "      <td>Санкт-Петербург</td>\n",
       "      <td>18863.0</td>\n",
       "      <td>16028.0</td>\n",
       "      <td>1.0</td>\n",
       "      <td>482.0</td>\n",
       "      <td>2.0</td>\n",
       "      <td>755.0</td>\n",
       "      <td>NaN</td>\n",
       "    </tr>\n",
       "    <tr>\n",
       "      <th>1</th>\n",
       "      <td>7</td>\n",
       "      <td>3350000.0</td>\n",
       "      <td>40.40</td>\n",
       "      <td>2018-12-04T00:00:00</td>\n",
       "      <td>1</td>\n",
       "      <td>2.650</td>\n",
       "      <td>9.0</td>\n",
       "      <td>18.60</td>\n",
       "      <td>1</td>\n",
       "      <td>NaN</td>\n",
       "      <td>...</td>\n",
       "      <td>11.00</td>\n",
       "      <td>2.0</td>\n",
       "      <td>посёлок Шушары</td>\n",
       "      <td>12817.0</td>\n",
       "      <td>18603.0</td>\n",
       "      <td>0.0</td>\n",
       "      <td>NaN</td>\n",
       "      <td>0.0</td>\n",
       "      <td>NaN</td>\n",
       "      <td>81.0</td>\n",
       "    </tr>\n",
       "    <tr>\n",
       "      <th>2</th>\n",
       "      <td>10</td>\n",
       "      <td>5196000.0</td>\n",
       "      <td>56.00</td>\n",
       "      <td>2015-08-20T00:00:00</td>\n",
       "      <td>2</td>\n",
       "      <td>2.600</td>\n",
       "      <td>9.0</td>\n",
       "      <td>34.30</td>\n",
       "      <td>4</td>\n",
       "      <td>NaN</td>\n",
       "      <td>...</td>\n",
       "      <td>8.30</td>\n",
       "      <td>0.0</td>\n",
       "      <td>Санкт-Петербург</td>\n",
       "      <td>21741.0</td>\n",
       "      <td>13933.0</td>\n",
       "      <td>1.0</td>\n",
       "      <td>90.0</td>\n",
       "      <td>2.0</td>\n",
       "      <td>574.0</td>\n",
       "      <td>558.0</td>\n",
       "    </tr>\n",
       "    <tr>\n",
       "      <th>3</th>\n",
       "      <td>0</td>\n",
       "      <td>64900000.0</td>\n",
       "      <td>159.00</td>\n",
       "      <td>2015-07-24T00:00:00</td>\n",
       "      <td>3</td>\n",
       "      <td>2.600</td>\n",
       "      <td>9.0</td>\n",
       "      <td>30.00</td>\n",
       "      <td>9</td>\n",
       "      <td>NaN</td>\n",
       "      <td>...</td>\n",
       "      <td>NaN</td>\n",
       "      <td>0.0</td>\n",
       "      <td>Санкт-Петербург</td>\n",
       "      <td>28098.0</td>\n",
       "      <td>6800.0</td>\n",
       "      <td>2.0</td>\n",
       "      <td>84.0</td>\n",
       "      <td>3.0</td>\n",
       "      <td>234.0</td>\n",
       "      <td>424.0</td>\n",
       "    </tr>\n",
       "    <tr>\n",
       "      <th>4</th>\n",
       "      <td>2</td>\n",
       "      <td>10000000.0</td>\n",
       "      <td>100.00</td>\n",
       "      <td>2018-06-19T00:00:00</td>\n",
       "      <td>2</td>\n",
       "      <td>3.030</td>\n",
       "      <td>13.0</td>\n",
       "      <td>32.00</td>\n",
       "      <td>13</td>\n",
       "      <td>NaN</td>\n",
       "      <td>...</td>\n",
       "      <td>41.00</td>\n",
       "      <td>0.0</td>\n",
       "      <td>Санкт-Петербург</td>\n",
       "      <td>31856.0</td>\n",
       "      <td>8098.0</td>\n",
       "      <td>2.0</td>\n",
       "      <td>112.0</td>\n",
       "      <td>1.0</td>\n",
       "      <td>48.0</td>\n",
       "      <td>121.0</td>\n",
       "    </tr>\n",
       "    <tr>\n",
       "      <th>5</th>\n",
       "      <td>10</td>\n",
       "      <td>2890000.0</td>\n",
       "      <td>30.40</td>\n",
       "      <td>2018-09-10T00:00:00</td>\n",
       "      <td>1</td>\n",
       "      <td>2.625</td>\n",
       "      <td>9.0</td>\n",
       "      <td>14.40</td>\n",
       "      <td>5</td>\n",
       "      <td>NaN</td>\n",
       "      <td>...</td>\n",
       "      <td>9.10</td>\n",
       "      <td>0.0</td>\n",
       "      <td>городской посёлок Янино-1</td>\n",
       "      <td>NaN</td>\n",
       "      <td>NaN</td>\n",
       "      <td>NaN</td>\n",
       "      <td>NaN</td>\n",
       "      <td>NaN</td>\n",
       "      <td>NaN</td>\n",
       "      <td>55.0</td>\n",
       "    </tr>\n",
       "    <tr>\n",
       "      <th>6</th>\n",
       "      <td>6</td>\n",
       "      <td>3700000.0</td>\n",
       "      <td>37.30</td>\n",
       "      <td>2017-11-02T00:00:00</td>\n",
       "      <td>1</td>\n",
       "      <td>2.600</td>\n",
       "      <td>9.0</td>\n",
       "      <td>10.60</td>\n",
       "      <td>6</td>\n",
       "      <td>NaN</td>\n",
       "      <td>...</td>\n",
       "      <td>14.40</td>\n",
       "      <td>1.0</td>\n",
       "      <td>посёлок Парголово</td>\n",
       "      <td>52996.0</td>\n",
       "      <td>19143.0</td>\n",
       "      <td>0.0</td>\n",
       "      <td>NaN</td>\n",
       "      <td>0.0</td>\n",
       "      <td>NaN</td>\n",
       "      <td>155.0</td>\n",
       "    </tr>\n",
       "    <tr>\n",
       "      <th>7</th>\n",
       "      <td>5</td>\n",
       "      <td>7915000.0</td>\n",
       "      <td>71.60</td>\n",
       "      <td>2019-04-18T00:00:00</td>\n",
       "      <td>2</td>\n",
       "      <td>2.750</td>\n",
       "      <td>22.0</td>\n",
       "      <td>30.00</td>\n",
       "      <td>22</td>\n",
       "      <td>NaN</td>\n",
       "      <td>...</td>\n",
       "      <td>18.90</td>\n",
       "      <td>2.0</td>\n",
       "      <td>Санкт-Петербург</td>\n",
       "      <td>23982.0</td>\n",
       "      <td>11634.0</td>\n",
       "      <td>0.0</td>\n",
       "      <td>NaN</td>\n",
       "      <td>0.0</td>\n",
       "      <td>NaN</td>\n",
       "      <td>NaN</td>\n",
       "    </tr>\n",
       "    <tr>\n",
       "      <th>8</th>\n",
       "      <td>20</td>\n",
       "      <td>2900000.0</td>\n",
       "      <td>33.16</td>\n",
       "      <td>2018-05-23T00:00:00</td>\n",
       "      <td>1</td>\n",
       "      <td>2.650</td>\n",
       "      <td>26.0</td>\n",
       "      <td>15.43</td>\n",
       "      <td>26</td>\n",
       "      <td>NaN</td>\n",
       "      <td>...</td>\n",
       "      <td>8.81</td>\n",
       "      <td>0.0</td>\n",
       "      <td>посёлок Мурино</td>\n",
       "      <td>NaN</td>\n",
       "      <td>NaN</td>\n",
       "      <td>NaN</td>\n",
       "      <td>NaN</td>\n",
       "      <td>NaN</td>\n",
       "      <td>NaN</td>\n",
       "      <td>189.0</td>\n",
       "    </tr>\n",
       "    <tr>\n",
       "      <th>9</th>\n",
       "      <td>18</td>\n",
       "      <td>5400000.0</td>\n",
       "      <td>61.00</td>\n",
       "      <td>2017-02-26T00:00:00</td>\n",
       "      <td>3</td>\n",
       "      <td>2.500</td>\n",
       "      <td>9.0</td>\n",
       "      <td>43.60</td>\n",
       "      <td>7</td>\n",
       "      <td>NaN</td>\n",
       "      <td>...</td>\n",
       "      <td>6.50</td>\n",
       "      <td>2.0</td>\n",
       "      <td>Санкт-Петербург</td>\n",
       "      <td>50898.0</td>\n",
       "      <td>15008.0</td>\n",
       "      <td>0.0</td>\n",
       "      <td>NaN</td>\n",
       "      <td>0.0</td>\n",
       "      <td>NaN</td>\n",
       "      <td>289.0</td>\n",
       "    </tr>\n",
       "  </tbody>\n",
       "</table>\n",
       "<p>10 rows × 22 columns</p>\n",
       "</div>"
      ],
      "text/plain": [
       "   total_images  last_price  total_area first_day_exposition  rooms  \\\n",
       "0            20  13000000.0      108.00  2019-03-07T00:00:00      3   \n",
       "1             7   3350000.0       40.40  2018-12-04T00:00:00      1   \n",
       "2            10   5196000.0       56.00  2015-08-20T00:00:00      2   \n",
       "3             0  64900000.0      159.00  2015-07-24T00:00:00      3   \n",
       "4             2  10000000.0      100.00  2018-06-19T00:00:00      2   \n",
       "5            10   2890000.0       30.40  2018-09-10T00:00:00      1   \n",
       "6             6   3700000.0       37.30  2017-11-02T00:00:00      1   \n",
       "7             5   7915000.0       71.60  2019-04-18T00:00:00      2   \n",
       "8            20   2900000.0       33.16  2018-05-23T00:00:00      1   \n",
       "9            18   5400000.0       61.00  2017-02-26T00:00:00      3   \n",
       "\n",
       "   ceiling_height  floors_total  living_area  floor is_apartment  ...  \\\n",
       "0           2.700           9.0        51.00      8          NaN  ...   \n",
       "1           2.650           9.0        18.60      1          NaN  ...   \n",
       "2           2.600           9.0        34.30      4          NaN  ...   \n",
       "3           2.600           9.0        30.00      9          NaN  ...   \n",
       "4           3.030          13.0        32.00     13          NaN  ...   \n",
       "5           2.625           9.0        14.40      5          NaN  ...   \n",
       "6           2.600           9.0        10.60      6          NaN  ...   \n",
       "7           2.750          22.0        30.00     22          NaN  ...   \n",
       "8           2.650          26.0        15.43     26          NaN  ...   \n",
       "9           2.500           9.0        43.60      7          NaN  ...   \n",
       "\n",
       "   kitchen_area  balcony              locality_name  airports_nearest  \\\n",
       "0         25.00      0.0            Санкт-Петербург           18863.0   \n",
       "1         11.00      2.0             посёлок Шушары           12817.0   \n",
       "2          8.30      0.0            Санкт-Петербург           21741.0   \n",
       "3           NaN      0.0            Санкт-Петербург           28098.0   \n",
       "4         41.00      0.0            Санкт-Петербург           31856.0   \n",
       "5          9.10      0.0  городской посёлок Янино-1               NaN   \n",
       "6         14.40      1.0          посёлок Парголово           52996.0   \n",
       "7         18.90      2.0            Санкт-Петербург           23982.0   \n",
       "8          8.81      0.0             посёлок Мурино               NaN   \n",
       "9          6.50      2.0            Санкт-Петербург           50898.0   \n",
       "\n",
       "  city_сenters_nearest  parks_around_3000  parks_nearest  ponds_around_3000  \\\n",
       "0              16028.0                1.0          482.0                2.0   \n",
       "1              18603.0                0.0            NaN                0.0   \n",
       "2              13933.0                1.0           90.0                2.0   \n",
       "3               6800.0                2.0           84.0                3.0   \n",
       "4               8098.0                2.0          112.0                1.0   \n",
       "5                  NaN                NaN            NaN                NaN   \n",
       "6              19143.0                0.0            NaN                0.0   \n",
       "7              11634.0                0.0            NaN                0.0   \n",
       "8                  NaN                NaN            NaN                NaN   \n",
       "9              15008.0                0.0            NaN                0.0   \n",
       "\n",
       "   ponds_nearest  days_exposition  \n",
       "0          755.0              NaN  \n",
       "1            NaN             81.0  \n",
       "2          574.0            558.0  \n",
       "3          234.0            424.0  \n",
       "4           48.0            121.0  \n",
       "5            NaN             55.0  \n",
       "6            NaN            155.0  \n",
       "7            NaN              NaN  \n",
       "8            NaN            189.0  \n",
       "9            NaN            289.0  \n",
       "\n",
       "[10 rows x 22 columns]"
      ]
     },
     "execution_count": 20,
     "metadata": {},
     "output_type": "execute_result"
    }
   ],
   "source": [
    "df[df['is_apartment'].isna()].head(10)"
   ]
  },
  {
   "cell_type": "markdown",
   "id": "0eb09aba",
   "metadata": {},
   "source": [
    "Проверим для каких объектов характерно значение True, т.е. объекты являются апартаментами:"
   ]
  },
  {
   "cell_type": "code",
   "execution_count": 21,
   "id": "77918497",
   "metadata": {
    "scrolled": true
   },
   "outputs": [
    {
     "data": {
      "text/html": [
       "<div>\n",
       "<style scoped>\n",
       "    .dataframe tbody tr th:only-of-type {\n",
       "        vertical-align: middle;\n",
       "    }\n",
       "\n",
       "    .dataframe tbody tr th {\n",
       "        vertical-align: top;\n",
       "    }\n",
       "\n",
       "    .dataframe thead th {\n",
       "        text-align: right;\n",
       "    }\n",
       "</style>\n",
       "<table border=\"1\" class=\"dataframe\">\n",
       "  <thead>\n",
       "    <tr style=\"text-align: right;\">\n",
       "      <th></th>\n",
       "      <th>total_images</th>\n",
       "      <th>last_price</th>\n",
       "      <th>total_area</th>\n",
       "      <th>first_day_exposition</th>\n",
       "      <th>rooms</th>\n",
       "      <th>ceiling_height</th>\n",
       "      <th>floors_total</th>\n",
       "      <th>living_area</th>\n",
       "      <th>floor</th>\n",
       "      <th>is_apartment</th>\n",
       "      <th>...</th>\n",
       "      <th>kitchen_area</th>\n",
       "      <th>balcony</th>\n",
       "      <th>locality_name</th>\n",
       "      <th>airports_nearest</th>\n",
       "      <th>city_сenters_nearest</th>\n",
       "      <th>parks_around_3000</th>\n",
       "      <th>parks_nearest</th>\n",
       "      <th>ponds_around_3000</th>\n",
       "      <th>ponds_nearest</th>\n",
       "      <th>days_exposition</th>\n",
       "    </tr>\n",
       "  </thead>\n",
       "  <tbody>\n",
       "    <tr>\n",
       "      <th>543</th>\n",
       "      <td>11</td>\n",
       "      <td>12790000.0</td>\n",
       "      <td>56.6</td>\n",
       "      <td>2018-11-06T00:00:00</td>\n",
       "      <td>2</td>\n",
       "      <td>3.50</td>\n",
       "      <td>9.0</td>\n",
       "      <td>29.40</td>\n",
       "      <td>1</td>\n",
       "      <td>True</td>\n",
       "      <td>...</td>\n",
       "      <td>NaN</td>\n",
       "      <td>0.0</td>\n",
       "      <td>Петергоф</td>\n",
       "      <td>35248.0</td>\n",
       "      <td>30437.0</td>\n",
       "      <td>3.0</td>\n",
       "      <td>53.0</td>\n",
       "      <td>3.0</td>\n",
       "      <td>22.0</td>\n",
       "      <td>NaN</td>\n",
       "    </tr>\n",
       "    <tr>\n",
       "      <th>916</th>\n",
       "      <td>11</td>\n",
       "      <td>8183000.0</td>\n",
       "      <td>70.0</td>\n",
       "      <td>2018-01-11T00:00:00</td>\n",
       "      <td>2</td>\n",
       "      <td>3.12</td>\n",
       "      <td>9.0</td>\n",
       "      <td>40.00</td>\n",
       "      <td>3</td>\n",
       "      <td>True</td>\n",
       "      <td>...</td>\n",
       "      <td>NaN</td>\n",
       "      <td>2.0</td>\n",
       "      <td>Санкт-Петербург</td>\n",
       "      <td>45796.0</td>\n",
       "      <td>21729.0</td>\n",
       "      <td>0.0</td>\n",
       "      <td>NaN</td>\n",
       "      <td>1.0</td>\n",
       "      <td>754.0</td>\n",
       "      <td>179.0</td>\n",
       "    </tr>\n",
       "    <tr>\n",
       "      <th>1109</th>\n",
       "      <td>1</td>\n",
       "      <td>34878556.0</td>\n",
       "      <td>95.8</td>\n",
       "      <td>2014-12-09T00:00:00</td>\n",
       "      <td>2</td>\n",
       "      <td>3.15</td>\n",
       "      <td>9.0</td>\n",
       "      <td>58.30</td>\n",
       "      <td>5</td>\n",
       "      <td>True</td>\n",
       "      <td>...</td>\n",
       "      <td>20.00</td>\n",
       "      <td>1.0</td>\n",
       "      <td>Санкт-Петербург</td>\n",
       "      <td>21860.0</td>\n",
       "      <td>318.0</td>\n",
       "      <td>2.0</td>\n",
       "      <td>160.0</td>\n",
       "      <td>3.0</td>\n",
       "      <td>569.0</td>\n",
       "      <td>1572.0</td>\n",
       "    </tr>\n",
       "    <tr>\n",
       "      <th>1608</th>\n",
       "      <td>12</td>\n",
       "      <td>2150000.0</td>\n",
       "      <td>20.1</td>\n",
       "      <td>2019-01-30T00:00:00</td>\n",
       "      <td>1</td>\n",
       "      <td>2.55</td>\n",
       "      <td>9.0</td>\n",
       "      <td>30.00</td>\n",
       "      <td>1</td>\n",
       "      <td>True</td>\n",
       "      <td>...</td>\n",
       "      <td>NaN</td>\n",
       "      <td>0.0</td>\n",
       "      <td>Санкт-Петербург</td>\n",
       "      <td>26646.0</td>\n",
       "      <td>12147.0</td>\n",
       "      <td>0.0</td>\n",
       "      <td>NaN</td>\n",
       "      <td>0.0</td>\n",
       "      <td>NaN</td>\n",
       "      <td>13.0</td>\n",
       "    </tr>\n",
       "    <tr>\n",
       "      <th>2759</th>\n",
       "      <td>11</td>\n",
       "      <td>7500000.0</td>\n",
       "      <td>152.0</td>\n",
       "      <td>2018-07-27T00:00:00</td>\n",
       "      <td>3</td>\n",
       "      <td>3.00</td>\n",
       "      <td>9.0</td>\n",
       "      <td>30.00</td>\n",
       "      <td>1</td>\n",
       "      <td>True</td>\n",
       "      <td>...</td>\n",
       "      <td>NaN</td>\n",
       "      <td>1.0</td>\n",
       "      <td>Всеволожск</td>\n",
       "      <td>NaN</td>\n",
       "      <td>NaN</td>\n",
       "      <td>NaN</td>\n",
       "      <td>NaN</td>\n",
       "      <td>NaN</td>\n",
       "      <td>NaN</td>\n",
       "      <td>7.0</td>\n",
       "    </tr>\n",
       "    <tr>\n",
       "      <th>2975</th>\n",
       "      <td>9</td>\n",
       "      <td>4931398.0</td>\n",
       "      <td>42.9</td>\n",
       "      <td>2018-07-23T00:00:00</td>\n",
       "      <td>1</td>\n",
       "      <td>3.15</td>\n",
       "      <td>9.0</td>\n",
       "      <td>20.39</td>\n",
       "      <td>3</td>\n",
       "      <td>True</td>\n",
       "      <td>...</td>\n",
       "      <td>10.29</td>\n",
       "      <td>0.0</td>\n",
       "      <td>Санкт-Петербург</td>\n",
       "      <td>44870.0</td>\n",
       "      <td>20802.0</td>\n",
       "      <td>0.0</td>\n",
       "      <td>NaN</td>\n",
       "      <td>1.0</td>\n",
       "      <td>792.0</td>\n",
       "      <td>273.0</td>\n",
       "    </tr>\n",
       "    <tr>\n",
       "      <th>3067</th>\n",
       "      <td>13</td>\n",
       "      <td>6600000.0</td>\n",
       "      <td>95.0</td>\n",
       "      <td>2018-09-08T00:00:00</td>\n",
       "      <td>2</td>\n",
       "      <td>4.50</td>\n",
       "      <td>9.0</td>\n",
       "      <td>45.00</td>\n",
       "      <td>7</td>\n",
       "      <td>True</td>\n",
       "      <td>...</td>\n",
       "      <td>25.00</td>\n",
       "      <td>2.0</td>\n",
       "      <td>Выборг</td>\n",
       "      <td>NaN</td>\n",
       "      <td>NaN</td>\n",
       "      <td>NaN</td>\n",
       "      <td>NaN</td>\n",
       "      <td>NaN</td>\n",
       "      <td>NaN</td>\n",
       "      <td>96.0</td>\n",
       "    </tr>\n",
       "    <tr>\n",
       "      <th>3816</th>\n",
       "      <td>4</td>\n",
       "      <td>4779000.0</td>\n",
       "      <td>53.1</td>\n",
       "      <td>2016-05-16T00:00:00</td>\n",
       "      <td>1</td>\n",
       "      <td>2.70</td>\n",
       "      <td>9.0</td>\n",
       "      <td>19.80</td>\n",
       "      <td>6</td>\n",
       "      <td>True</td>\n",
       "      <td>...</td>\n",
       "      <td>15.90</td>\n",
       "      <td>2.0</td>\n",
       "      <td>Санкт-Петербург</td>\n",
       "      <td>19396.0</td>\n",
       "      <td>4516.0</td>\n",
       "      <td>0.0</td>\n",
       "      <td>NaN</td>\n",
       "      <td>1.0</td>\n",
       "      <td>826.0</td>\n",
       "      <td>60.0</td>\n",
       "    </tr>\n",
       "    <tr>\n",
       "      <th>3951</th>\n",
       "      <td>10</td>\n",
       "      <td>4300000.0</td>\n",
       "      <td>50.0</td>\n",
       "      <td>2019-04-20T00:00:00</td>\n",
       "      <td>1</td>\n",
       "      <td>3.00</td>\n",
       "      <td>9.0</td>\n",
       "      <td>17.00</td>\n",
       "      <td>9</td>\n",
       "      <td>True</td>\n",
       "      <td>...</td>\n",
       "      <td>12.00</td>\n",
       "      <td>2.0</td>\n",
       "      <td>Санкт-Петербург</td>\n",
       "      <td>10143.0</td>\n",
       "      <td>11367.0</td>\n",
       "      <td>0.0</td>\n",
       "      <td>NaN</td>\n",
       "      <td>0.0</td>\n",
       "      <td>NaN</td>\n",
       "      <td>NaN</td>\n",
       "    </tr>\n",
       "    <tr>\n",
       "      <th>4339</th>\n",
       "      <td>19</td>\n",
       "      <td>6900000.0</td>\n",
       "      <td>72.0</td>\n",
       "      <td>2019-03-25T00:00:00</td>\n",
       "      <td>3</td>\n",
       "      <td>3.50</td>\n",
       "      <td>9.0</td>\n",
       "      <td>70.00</td>\n",
       "      <td>1</td>\n",
       "      <td>True</td>\n",
       "      <td>...</td>\n",
       "      <td>NaN</td>\n",
       "      <td>0.0</td>\n",
       "      <td>Санкт-Петербург</td>\n",
       "      <td>31487.0</td>\n",
       "      <td>4466.0</td>\n",
       "      <td>2.0</td>\n",
       "      <td>353.0</td>\n",
       "      <td>1.0</td>\n",
       "      <td>439.0</td>\n",
       "      <td>22.0</td>\n",
       "    </tr>\n",
       "  </tbody>\n",
       "</table>\n",
       "<p>10 rows × 22 columns</p>\n",
       "</div>"
      ],
      "text/plain": [
       "      total_images  last_price  total_area first_day_exposition  rooms  \\\n",
       "543             11  12790000.0        56.6  2018-11-06T00:00:00      2   \n",
       "916             11   8183000.0        70.0  2018-01-11T00:00:00      2   \n",
       "1109             1  34878556.0        95.8  2014-12-09T00:00:00      2   \n",
       "1608            12   2150000.0        20.1  2019-01-30T00:00:00      1   \n",
       "2759            11   7500000.0       152.0  2018-07-27T00:00:00      3   \n",
       "2975             9   4931398.0        42.9  2018-07-23T00:00:00      1   \n",
       "3067            13   6600000.0        95.0  2018-09-08T00:00:00      2   \n",
       "3816             4   4779000.0        53.1  2016-05-16T00:00:00      1   \n",
       "3951            10   4300000.0        50.0  2019-04-20T00:00:00      1   \n",
       "4339            19   6900000.0        72.0  2019-03-25T00:00:00      3   \n",
       "\n",
       "      ceiling_height  floors_total  living_area  floor is_apartment  ...  \\\n",
       "543             3.50           9.0        29.40      1         True  ...   \n",
       "916             3.12           9.0        40.00      3         True  ...   \n",
       "1109            3.15           9.0        58.30      5         True  ...   \n",
       "1608            2.55           9.0        30.00      1         True  ...   \n",
       "2759            3.00           9.0        30.00      1         True  ...   \n",
       "2975            3.15           9.0        20.39      3         True  ...   \n",
       "3067            4.50           9.0        45.00      7         True  ...   \n",
       "3816            2.70           9.0        19.80      6         True  ...   \n",
       "3951            3.00           9.0        17.00      9         True  ...   \n",
       "4339            3.50           9.0        70.00      1         True  ...   \n",
       "\n",
       "      kitchen_area  balcony    locality_name  airports_nearest  \\\n",
       "543            NaN      0.0         Петергоф           35248.0   \n",
       "916            NaN      2.0  Санкт-Петербург           45796.0   \n",
       "1109         20.00      1.0  Санкт-Петербург           21860.0   \n",
       "1608           NaN      0.0  Санкт-Петербург           26646.0   \n",
       "2759           NaN      1.0       Всеволожск               NaN   \n",
       "2975         10.29      0.0  Санкт-Петербург           44870.0   \n",
       "3067         25.00      2.0           Выборг               NaN   \n",
       "3816         15.90      2.0  Санкт-Петербург           19396.0   \n",
       "3951         12.00      2.0  Санкт-Петербург           10143.0   \n",
       "4339           NaN      0.0  Санкт-Петербург           31487.0   \n",
       "\n",
       "     city_сenters_nearest  parks_around_3000  parks_nearest  \\\n",
       "543               30437.0                3.0           53.0   \n",
       "916               21729.0                0.0            NaN   \n",
       "1109                318.0                2.0          160.0   \n",
       "1608              12147.0                0.0            NaN   \n",
       "2759                  NaN                NaN            NaN   \n",
       "2975              20802.0                0.0            NaN   \n",
       "3067                  NaN                NaN            NaN   \n",
       "3816               4516.0                0.0            NaN   \n",
       "3951              11367.0                0.0            NaN   \n",
       "4339               4466.0                2.0          353.0   \n",
       "\n",
       "      ponds_around_3000  ponds_nearest  days_exposition  \n",
       "543                 3.0           22.0              NaN  \n",
       "916                 1.0          754.0            179.0  \n",
       "1109                3.0          569.0           1572.0  \n",
       "1608                0.0            NaN             13.0  \n",
       "2759                NaN            NaN              7.0  \n",
       "2975                1.0          792.0            273.0  \n",
       "3067                NaN            NaN             96.0  \n",
       "3816                1.0          826.0             60.0  \n",
       "3951                0.0            NaN              NaN  \n",
       "4339                1.0          439.0             22.0  \n",
       "\n",
       "[10 rows x 22 columns]"
      ]
     },
     "execution_count": 21,
     "metadata": {},
     "output_type": "execute_result"
    }
   ],
   "source": [
    "df[df['is_apartment']==True].head(10)"
   ]
  },
  {
   "cell_type": "markdown",
   "id": "51121706",
   "metadata": {},
   "source": [
    "Посчитаем количество апартаментов:"
   ]
  },
  {
   "cell_type": "code",
   "execution_count": 22,
   "id": "03c3bb46",
   "metadata": {
    "scrolled": true
   },
   "outputs": [
    {
     "data": {
      "text/plain": [
       "50"
      ]
     },
     "execution_count": 22,
     "metadata": {},
     "output_type": "execute_result"
    }
   ],
   "source": [
    "df[df['is_apartment']==True]['is_apartment'].count()"
   ]
  },
  {
   "cell_type": "markdown",
   "id": "794b3ba6",
   "metadata": {},
   "source": [
    "Апартаментов всего 50 шт., таким образом можно предположить, что пропушены значения для объектов, которые не являются апартаментами. "
   ]
  },
  {
   "cell_type": "markdown",
   "id": "86dcc1f4",
   "metadata": {},
   "source": [
    "Заполним пропуски значением False:"
   ]
  },
  {
   "cell_type": "code",
   "execution_count": 23,
   "id": "41f329bd",
   "metadata": {
    "scrolled": true
   },
   "outputs": [],
   "source": [
    "df['is_apartment'] = df['is_apartment'].fillna(False)"
   ]
  },
  {
   "cell_type": "markdown",
   "id": "77c07d4b",
   "metadata": {},
   "source": [
    "Выполним проверку:"
   ]
  },
  {
   "cell_type": "code",
   "execution_count": 24,
   "id": "02443ab6",
   "metadata": {
    "scrolled": false
   },
   "outputs": [
    {
     "data": {
      "text/plain": [
       "total_images                0\n",
       "last_price                  0\n",
       "total_area                  0\n",
       "first_day_exposition        0\n",
       "rooms                       0\n",
       "ceiling_height              0\n",
       "floors_total                0\n",
       "living_area                 0\n",
       "floor                       0\n",
       "is_apartment                0\n",
       "studio                      0\n",
       "open_plan                   0\n",
       "kitchen_area             2278\n",
       "balcony                     0\n",
       "locality_name              49\n",
       "airports_nearest         5542\n",
       "city_сenters_nearest     5519\n",
       "parks_around_3000        5518\n",
       "parks_nearest           15620\n",
       "ponds_around_3000        5518\n",
       "ponds_nearest           14589\n",
       "days_exposition          3181\n",
       "dtype: int64"
      ]
     },
     "execution_count": 24,
     "metadata": {},
     "output_type": "execute_result"
    }
   ],
   "source": [
    "df.isna().sum()"
   ]
  },
  {
   "cell_type": "markdown",
   "id": "9c100b3f",
   "metadata": {},
   "source": [
    "##### Заполнение пропусков в kitchen_area:"
   ]
  },
  {
   "cell_type": "markdown",
   "id": "43467ead",
   "metadata": {},
   "source": [
    "Выведем на экран несколько строк с пропущенным значением столбца kitchen_area:"
   ]
  },
  {
   "cell_type": "code",
   "execution_count": 25,
   "id": "57bb8519",
   "metadata": {
    "scrolled": false
   },
   "outputs": [
    {
     "data": {
      "text/html": [
       "<div>\n",
       "<style scoped>\n",
       "    .dataframe tbody tr th:only-of-type {\n",
       "        vertical-align: middle;\n",
       "    }\n",
       "\n",
       "    .dataframe tbody tr th {\n",
       "        vertical-align: top;\n",
       "    }\n",
       "\n",
       "    .dataframe thead th {\n",
       "        text-align: right;\n",
       "    }\n",
       "</style>\n",
       "<table border=\"1\" class=\"dataframe\">\n",
       "  <thead>\n",
       "    <tr style=\"text-align: right;\">\n",
       "      <th></th>\n",
       "      <th>rooms</th>\n",
       "      <th>ceiling_height</th>\n",
       "      <th>floors_total</th>\n",
       "      <th>living_area</th>\n",
       "      <th>floor</th>\n",
       "      <th>is_apartment</th>\n",
       "      <th>studio</th>\n",
       "      <th>open_plan</th>\n",
       "      <th>kitchen_area</th>\n",
       "    </tr>\n",
       "  </thead>\n",
       "  <tbody>\n",
       "    <tr>\n",
       "      <th>3</th>\n",
       "      <td>3</td>\n",
       "      <td>2.60</td>\n",
       "      <td>9.0</td>\n",
       "      <td>30.0</td>\n",
       "      <td>9</td>\n",
       "      <td>False</td>\n",
       "      <td>False</td>\n",
       "      <td>False</td>\n",
       "      <td>NaN</td>\n",
       "    </tr>\n",
       "    <tr>\n",
       "      <th>30</th>\n",
       "      <td>1</td>\n",
       "      <td>2.55</td>\n",
       "      <td>9.0</td>\n",
       "      <td>30.0</td>\n",
       "      <td>2</td>\n",
       "      <td>False</td>\n",
       "      <td>False</td>\n",
       "      <td>False</td>\n",
       "      <td>NaN</td>\n",
       "    </tr>\n",
       "    <tr>\n",
       "      <th>37</th>\n",
       "      <td>2</td>\n",
       "      <td>2.50</td>\n",
       "      <td>9.0</td>\n",
       "      <td>30.0</td>\n",
       "      <td>1</td>\n",
       "      <td>False</td>\n",
       "      <td>False</td>\n",
       "      <td>False</td>\n",
       "      <td>NaN</td>\n",
       "    </tr>\n",
       "    <tr>\n",
       "      <th>44</th>\n",
       "      <td>1</td>\n",
       "      <td>2.76</td>\n",
       "      <td>9.0</td>\n",
       "      <td>30.0</td>\n",
       "      <td>3</td>\n",
       "      <td>False</td>\n",
       "      <td>False</td>\n",
       "      <td>False</td>\n",
       "      <td>NaN</td>\n",
       "    </tr>\n",
       "    <tr>\n",
       "      <th>59</th>\n",
       "      <td>1</td>\n",
       "      <td>2.70</td>\n",
       "      <td>13.0</td>\n",
       "      <td>30.0</td>\n",
       "      <td>13</td>\n",
       "      <td>False</td>\n",
       "      <td>False</td>\n",
       "      <td>False</td>\n",
       "      <td>NaN</td>\n",
       "    </tr>\n",
       "    <tr>\n",
       "      <th>60</th>\n",
       "      <td>1</td>\n",
       "      <td>2.70</td>\n",
       "      <td>9.0</td>\n",
       "      <td>30.0</td>\n",
       "      <td>8</td>\n",
       "      <td>False</td>\n",
       "      <td>False</td>\n",
       "      <td>False</td>\n",
       "      <td>NaN</td>\n",
       "    </tr>\n",
       "    <tr>\n",
       "      <th>81</th>\n",
       "      <td>1</td>\n",
       "      <td>2.60</td>\n",
       "      <td>9.0</td>\n",
       "      <td>30.0</td>\n",
       "      <td>6</td>\n",
       "      <td>False</td>\n",
       "      <td>False</td>\n",
       "      <td>False</td>\n",
       "      <td>NaN</td>\n",
       "    </tr>\n",
       "    <tr>\n",
       "      <th>82</th>\n",
       "      <td>3</td>\n",
       "      <td>2.65</td>\n",
       "      <td>16.0</td>\n",
       "      <td>30.0</td>\n",
       "      <td>16</td>\n",
       "      <td>False</td>\n",
       "      <td>False</td>\n",
       "      <td>False</td>\n",
       "      <td>NaN</td>\n",
       "    </tr>\n",
       "    <tr>\n",
       "      <th>133</th>\n",
       "      <td>1</td>\n",
       "      <td>2.75</td>\n",
       "      <td>9.0</td>\n",
       "      <td>30.0</td>\n",
       "      <td>6</td>\n",
       "      <td>False</td>\n",
       "      <td>False</td>\n",
       "      <td>False</td>\n",
       "      <td>NaN</td>\n",
       "    </tr>\n",
       "    <tr>\n",
       "      <th>144</th>\n",
       "      <td>0</td>\n",
       "      <td>2.70</td>\n",
       "      <td>9.0</td>\n",
       "      <td>15.5</td>\n",
       "      <td>2</td>\n",
       "      <td>False</td>\n",
       "      <td>True</td>\n",
       "      <td>False</td>\n",
       "      <td>NaN</td>\n",
       "    </tr>\n",
       "  </tbody>\n",
       "</table>\n",
       "</div>"
      ],
      "text/plain": [
       "     rooms  ceiling_height  floors_total  living_area  floor  is_apartment  \\\n",
       "3        3            2.60           9.0         30.0      9         False   \n",
       "30       1            2.55           9.0         30.0      2         False   \n",
       "37       2            2.50           9.0         30.0      1         False   \n",
       "44       1            2.76           9.0         30.0      3         False   \n",
       "59       1            2.70          13.0         30.0     13         False   \n",
       "60       1            2.70           9.0         30.0      8         False   \n",
       "81       1            2.60           9.0         30.0      6         False   \n",
       "82       3            2.65          16.0         30.0     16         False   \n",
       "133      1            2.75           9.0         30.0      6         False   \n",
       "144      0            2.70           9.0         15.5      2         False   \n",
       "\n",
       "     studio  open_plan  kitchen_area  \n",
       "3     False      False           NaN  \n",
       "30    False      False           NaN  \n",
       "37    False      False           NaN  \n",
       "44    False      False           NaN  \n",
       "59    False      False           NaN  \n",
       "60    False      False           NaN  \n",
       "81    False      False           NaN  \n",
       "82    False      False           NaN  \n",
       "133   False      False           NaN  \n",
       "144    True      False           NaN  "
      ]
     },
     "execution_count": 25,
     "metadata": {},
     "output_type": "execute_result"
    }
   ],
   "source": [
    "df[df['kitchen_area'].isna()].loc[:,'rooms':'kitchen_area'].head(10)"
   ]
  },
  {
   "cell_type": "markdown",
   "id": "b111789c",
   "metadata": {},
   "source": [
    "Проверим сколько квартир из пропущенных значений составляют квартиры-студии или квартиры со свободной планировкой:"
   ]
  },
  {
   "cell_type": "code",
   "execution_count": 26,
   "id": "c3c04cb2",
   "metadata": {
    "scrolled": false
   },
   "outputs": [
    {
     "data": {
      "text/plain": [
       "216"
      ]
     },
     "execution_count": 26,
     "metadata": {},
     "output_type": "execute_result"
    }
   ],
   "source": [
    "df[(df['kitchen_area'].isna()) & ((df['studio']==True) | (df['open_plan']==True))]['studio'].count()"
   ]
  },
  {
   "cell_type": "markdown",
   "id": "6b026c3c",
   "metadata": {},
   "source": [
    "Квартир-студий и квартир свободной планировки с пропущенным значением площади кухни - 216 шт. Значит остальные 2062 пропуска не в квартирах-студиях и квартирах свободной планировки. Заполним пропущенные значения для студий и свободной планировки нулем, а для остальных медианой для квартир соответсвующей квартирографии:"
   ]
  },
  {
   "cell_type": "code",
   "execution_count": 27,
   "id": "bef00c12",
   "metadata": {},
   "outputs": [],
   "source": [
    "df.loc[df['studio']==True, 'kitchen_area'] = 0"
   ]
  },
  {
   "cell_type": "code",
   "execution_count": 28,
   "id": "0c53ef07",
   "metadata": {},
   "outputs": [],
   "source": [
    "df.loc[df['open_plan']==True, 'kitchen_area'] = 0"
   ]
  },
  {
   "cell_type": "code",
   "execution_count": 29,
   "id": "95104a95",
   "metadata": {},
   "outputs": [],
   "source": [
    "df['kitchen_area'] = df['kitchen_area'].fillna(df.groupby('rooms')['kitchen_area'].transform(\"median\"))"
   ]
  },
  {
   "cell_type": "markdown",
   "id": "af442d8b",
   "metadata": {},
   "source": [
    "Выполним проверку:"
   ]
  },
  {
   "cell_type": "code",
   "execution_count": 30,
   "id": "ef99ed28",
   "metadata": {
    "scrolled": true
   },
   "outputs": [
    {
     "data": {
      "text/plain": [
       "total_images                0\n",
       "last_price                  0\n",
       "total_area                  0\n",
       "first_day_exposition        0\n",
       "rooms                       0\n",
       "ceiling_height              0\n",
       "floors_total                0\n",
       "living_area                 0\n",
       "floor                       0\n",
       "is_apartment                0\n",
       "studio                      0\n",
       "open_plan                   0\n",
       "kitchen_area                0\n",
       "balcony                     0\n",
       "locality_name              49\n",
       "airports_nearest         5542\n",
       "city_сenters_nearest     5519\n",
       "parks_around_3000        5518\n",
       "parks_nearest           15620\n",
       "ponds_around_3000        5518\n",
       "ponds_nearest           14589\n",
       "days_exposition          3181\n",
       "dtype: int64"
      ]
     },
     "execution_count": 30,
     "metadata": {},
     "output_type": "execute_result"
    }
   ],
   "source": [
    "df.isna().sum()"
   ]
  },
  {
   "cell_type": "markdown",
   "id": "1da6c2d6",
   "metadata": {},
   "source": [
    "##### Заполнение пропусков в locality_name"
   ]
  },
  {
   "cell_type": "markdown",
   "id": "8a640269",
   "metadata": {},
   "source": [
    "Выведем пропущенные строки с пропущенным значением столбца locality_name:"
   ]
  },
  {
   "cell_type": "code",
   "execution_count": 31,
   "id": "e3d5d846",
   "metadata": {
    "scrolled": true
   },
   "outputs": [
    {
     "data": {
      "text/html": [
       "<div>\n",
       "<style scoped>\n",
       "    .dataframe tbody tr th:only-of-type {\n",
       "        vertical-align: middle;\n",
       "    }\n",
       "\n",
       "    .dataframe tbody tr th {\n",
       "        vertical-align: top;\n",
       "    }\n",
       "\n",
       "    .dataframe thead th {\n",
       "        text-align: right;\n",
       "    }\n",
       "</style>\n",
       "<table border=\"1\" class=\"dataframe\">\n",
       "  <thead>\n",
       "    <tr style=\"text-align: right;\">\n",
       "      <th></th>\n",
       "      <th>total_images</th>\n",
       "      <th>last_price</th>\n",
       "      <th>total_area</th>\n",
       "      <th>first_day_exposition</th>\n",
       "      <th>rooms</th>\n",
       "      <th>ceiling_height</th>\n",
       "      <th>floors_total</th>\n",
       "      <th>living_area</th>\n",
       "      <th>floor</th>\n",
       "      <th>is_apartment</th>\n",
       "      <th>...</th>\n",
       "      <th>kitchen_area</th>\n",
       "      <th>balcony</th>\n",
       "      <th>locality_name</th>\n",
       "      <th>airports_nearest</th>\n",
       "      <th>city_сenters_nearest</th>\n",
       "      <th>parks_around_3000</th>\n",
       "      <th>parks_nearest</th>\n",
       "      <th>ponds_around_3000</th>\n",
       "      <th>ponds_nearest</th>\n",
       "      <th>days_exposition</th>\n",
       "    </tr>\n",
       "  </thead>\n",
       "  <tbody>\n",
       "    <tr>\n",
       "      <th>1097</th>\n",
       "      <td>3</td>\n",
       "      <td>8600000.0</td>\n",
       "      <td>81.7</td>\n",
       "      <td>2016-04-15T00:00:00</td>\n",
       "      <td>3</td>\n",
       "      <td>2.65</td>\n",
       "      <td>9.0</td>\n",
       "      <td>50.80</td>\n",
       "      <td>2</td>\n",
       "      <td>False</td>\n",
       "      <td>...</td>\n",
       "      <td>8.80</td>\n",
       "      <td>0.0</td>\n",
       "      <td>NaN</td>\n",
       "      <td>23478.0</td>\n",
       "      <td>4258.0</td>\n",
       "      <td>0.0</td>\n",
       "      <td>NaN</td>\n",
       "      <td>0.0</td>\n",
       "      <td>NaN</td>\n",
       "      <td>147.0</td>\n",
       "    </tr>\n",
       "    <tr>\n",
       "      <th>2033</th>\n",
       "      <td>6</td>\n",
       "      <td>5398000.0</td>\n",
       "      <td>80.0</td>\n",
       "      <td>2017-05-30T00:00:00</td>\n",
       "      <td>3</td>\n",
       "      <td>2.65</td>\n",
       "      <td>9.0</td>\n",
       "      <td>42.60</td>\n",
       "      <td>2</td>\n",
       "      <td>False</td>\n",
       "      <td>...</td>\n",
       "      <td>18.60</td>\n",
       "      <td>0.0</td>\n",
       "      <td>NaN</td>\n",
       "      <td>NaN</td>\n",
       "      <td>NaN</td>\n",
       "      <td>NaN</td>\n",
       "      <td>NaN</td>\n",
       "      <td>NaN</td>\n",
       "      <td>NaN</td>\n",
       "      <td>34.0</td>\n",
       "    </tr>\n",
       "    <tr>\n",
       "      <th>2603</th>\n",
       "      <td>20</td>\n",
       "      <td>3351765.0</td>\n",
       "      <td>42.7</td>\n",
       "      <td>2015-09-20T00:00:00</td>\n",
       "      <td>1</td>\n",
       "      <td>2.65</td>\n",
       "      <td>9.0</td>\n",
       "      <td>15.60</td>\n",
       "      <td>3</td>\n",
       "      <td>False</td>\n",
       "      <td>...</td>\n",
       "      <td>10.70</td>\n",
       "      <td>0.0</td>\n",
       "      <td>NaN</td>\n",
       "      <td>22041.0</td>\n",
       "      <td>17369.0</td>\n",
       "      <td>0.0</td>\n",
       "      <td>NaN</td>\n",
       "      <td>1.0</td>\n",
       "      <td>374.0</td>\n",
       "      <td>276.0</td>\n",
       "    </tr>\n",
       "    <tr>\n",
       "      <th>2632</th>\n",
       "      <td>2</td>\n",
       "      <td>5130593.0</td>\n",
       "      <td>62.4</td>\n",
       "      <td>2015-10-11T00:00:00</td>\n",
       "      <td>2</td>\n",
       "      <td>2.65</td>\n",
       "      <td>21.0</td>\n",
       "      <td>33.10</td>\n",
       "      <td>21</td>\n",
       "      <td>False</td>\n",
       "      <td>...</td>\n",
       "      <td>8.20</td>\n",
       "      <td>0.0</td>\n",
       "      <td>NaN</td>\n",
       "      <td>22041.0</td>\n",
       "      <td>17369.0</td>\n",
       "      <td>0.0</td>\n",
       "      <td>NaN</td>\n",
       "      <td>1.0</td>\n",
       "      <td>374.0</td>\n",
       "      <td>256.0</td>\n",
       "    </tr>\n",
       "    <tr>\n",
       "      <th>3574</th>\n",
       "      <td>10</td>\n",
       "      <td>4200000.0</td>\n",
       "      <td>46.5</td>\n",
       "      <td>2016-05-28T00:00:00</td>\n",
       "      <td>2</td>\n",
       "      <td>2.65</td>\n",
       "      <td>9.0</td>\n",
       "      <td>30.80</td>\n",
       "      <td>5</td>\n",
       "      <td>False</td>\n",
       "      <td>...</td>\n",
       "      <td>6.50</td>\n",
       "      <td>0.0</td>\n",
       "      <td>NaN</td>\n",
       "      <td>27419.0</td>\n",
       "      <td>8127.0</td>\n",
       "      <td>0.0</td>\n",
       "      <td>NaN</td>\n",
       "      <td>1.0</td>\n",
       "      <td>603.0</td>\n",
       "      <td>45.0</td>\n",
       "    </tr>\n",
       "    <tr>\n",
       "      <th>4151</th>\n",
       "      <td>17</td>\n",
       "      <td>17600000.0</td>\n",
       "      <td>89.5</td>\n",
       "      <td>2014-12-09T00:00:00</td>\n",
       "      <td>2</td>\n",
       "      <td>2.65</td>\n",
       "      <td>9.0</td>\n",
       "      <td>39.62</td>\n",
       "      <td>7</td>\n",
       "      <td>False</td>\n",
       "      <td>...</td>\n",
       "      <td>13.38</td>\n",
       "      <td>0.0</td>\n",
       "      <td>NaN</td>\n",
       "      <td>25054.0</td>\n",
       "      <td>3902.0</td>\n",
       "      <td>1.0</td>\n",
       "      <td>485.0</td>\n",
       "      <td>3.0</td>\n",
       "      <td>722.0</td>\n",
       "      <td>869.0</td>\n",
       "    </tr>\n",
       "    <tr>\n",
       "      <th>4189</th>\n",
       "      <td>7</td>\n",
       "      <td>9200000.0</td>\n",
       "      <td>80.0</td>\n",
       "      <td>2015-12-10T00:00:00</td>\n",
       "      <td>3</td>\n",
       "      <td>2.65</td>\n",
       "      <td>9.0</td>\n",
       "      <td>52.30</td>\n",
       "      <td>3</td>\n",
       "      <td>False</td>\n",
       "      <td>...</td>\n",
       "      <td>10.40</td>\n",
       "      <td>0.0</td>\n",
       "      <td>NaN</td>\n",
       "      <td>21774.0</td>\n",
       "      <td>3039.0</td>\n",
       "      <td>1.0</td>\n",
       "      <td>690.0</td>\n",
       "      <td>1.0</td>\n",
       "      <td>953.0</td>\n",
       "      <td>223.0</td>\n",
       "    </tr>\n",
       "    <tr>\n",
       "      <th>4670</th>\n",
       "      <td>1</td>\n",
       "      <td>5500000.0</td>\n",
       "      <td>83.0</td>\n",
       "      <td>2015-08-14T00:00:00</td>\n",
       "      <td>3</td>\n",
       "      <td>2.65</td>\n",
       "      <td>9.0</td>\n",
       "      <td>30.00</td>\n",
       "      <td>6</td>\n",
       "      <td>False</td>\n",
       "      <td>...</td>\n",
       "      <td>9.50</td>\n",
       "      <td>0.0</td>\n",
       "      <td>NaN</td>\n",
       "      <td>26534.0</td>\n",
       "      <td>5382.0</td>\n",
       "      <td>1.0</td>\n",
       "      <td>446.0</td>\n",
       "      <td>1.0</td>\n",
       "      <td>376.0</td>\n",
       "      <td>350.0</td>\n",
       "    </tr>\n",
       "    <tr>\n",
       "      <th>5343</th>\n",
       "      <td>19</td>\n",
       "      <td>13540000.0</td>\n",
       "      <td>85.5</td>\n",
       "      <td>2016-01-20T00:00:00</td>\n",
       "      <td>3</td>\n",
       "      <td>2.65</td>\n",
       "      <td>9.0</td>\n",
       "      <td>59.10</td>\n",
       "      <td>5</td>\n",
       "      <td>False</td>\n",
       "      <td>...</td>\n",
       "      <td>8.30</td>\n",
       "      <td>4.0</td>\n",
       "      <td>NaN</td>\n",
       "      <td>10556.0</td>\n",
       "      <td>9538.0</td>\n",
       "      <td>1.0</td>\n",
       "      <td>67.0</td>\n",
       "      <td>0.0</td>\n",
       "      <td>NaN</td>\n",
       "      <td>303.0</td>\n",
       "    </tr>\n",
       "    <tr>\n",
       "      <th>5707</th>\n",
       "      <td>7</td>\n",
       "      <td>3700000.0</td>\n",
       "      <td>30.0</td>\n",
       "      <td>2016-04-29T00:00:00</td>\n",
       "      <td>1</td>\n",
       "      <td>2.65</td>\n",
       "      <td>23.0</td>\n",
       "      <td>20.00</td>\n",
       "      <td>23</td>\n",
       "      <td>False</td>\n",
       "      <td>...</td>\n",
       "      <td>9.00</td>\n",
       "      <td>0.0</td>\n",
       "      <td>NaN</td>\n",
       "      <td>21460.0</td>\n",
       "      <td>16788.0</td>\n",
       "      <td>0.0</td>\n",
       "      <td>NaN</td>\n",
       "      <td>1.0</td>\n",
       "      <td>170.0</td>\n",
       "      <td>49.0</td>\n",
       "    </tr>\n",
       "  </tbody>\n",
       "</table>\n",
       "<p>10 rows × 22 columns</p>\n",
       "</div>"
      ],
      "text/plain": [
       "      total_images  last_price  total_area first_day_exposition  rooms  \\\n",
       "1097             3   8600000.0        81.7  2016-04-15T00:00:00      3   \n",
       "2033             6   5398000.0        80.0  2017-05-30T00:00:00      3   \n",
       "2603            20   3351765.0        42.7  2015-09-20T00:00:00      1   \n",
       "2632             2   5130593.0        62.4  2015-10-11T00:00:00      2   \n",
       "3574            10   4200000.0        46.5  2016-05-28T00:00:00      2   \n",
       "4151            17  17600000.0        89.5  2014-12-09T00:00:00      2   \n",
       "4189             7   9200000.0        80.0  2015-12-10T00:00:00      3   \n",
       "4670             1   5500000.0        83.0  2015-08-14T00:00:00      3   \n",
       "5343            19  13540000.0        85.5  2016-01-20T00:00:00      3   \n",
       "5707             7   3700000.0        30.0  2016-04-29T00:00:00      1   \n",
       "\n",
       "      ceiling_height  floors_total  living_area  floor  is_apartment  ...  \\\n",
       "1097            2.65           9.0        50.80      2         False  ...   \n",
       "2033            2.65           9.0        42.60      2         False  ...   \n",
       "2603            2.65           9.0        15.60      3         False  ...   \n",
       "2632            2.65          21.0        33.10     21         False  ...   \n",
       "3574            2.65           9.0        30.80      5         False  ...   \n",
       "4151            2.65           9.0        39.62      7         False  ...   \n",
       "4189            2.65           9.0        52.30      3         False  ...   \n",
       "4670            2.65           9.0        30.00      6         False  ...   \n",
       "5343            2.65           9.0        59.10      5         False  ...   \n",
       "5707            2.65          23.0        20.00     23         False  ...   \n",
       "\n",
       "      kitchen_area  balcony  locality_name  airports_nearest  \\\n",
       "1097          8.80      0.0            NaN           23478.0   \n",
       "2033         18.60      0.0            NaN               NaN   \n",
       "2603         10.70      0.0            NaN           22041.0   \n",
       "2632          8.20      0.0            NaN           22041.0   \n",
       "3574          6.50      0.0            NaN           27419.0   \n",
       "4151         13.38      0.0            NaN           25054.0   \n",
       "4189         10.40      0.0            NaN           21774.0   \n",
       "4670          9.50      0.0            NaN           26534.0   \n",
       "5343          8.30      4.0            NaN           10556.0   \n",
       "5707          9.00      0.0            NaN           21460.0   \n",
       "\n",
       "     city_сenters_nearest  parks_around_3000  parks_nearest  \\\n",
       "1097               4258.0                0.0            NaN   \n",
       "2033                  NaN                NaN            NaN   \n",
       "2603              17369.0                0.0            NaN   \n",
       "2632              17369.0                0.0            NaN   \n",
       "3574               8127.0                0.0            NaN   \n",
       "4151               3902.0                1.0          485.0   \n",
       "4189               3039.0                1.0          690.0   \n",
       "4670               5382.0                1.0          446.0   \n",
       "5343               9538.0                1.0           67.0   \n",
       "5707              16788.0                0.0            NaN   \n",
       "\n",
       "      ponds_around_3000  ponds_nearest  days_exposition  \n",
       "1097                0.0            NaN            147.0  \n",
       "2033                NaN            NaN             34.0  \n",
       "2603                1.0          374.0            276.0  \n",
       "2632                1.0          374.0            256.0  \n",
       "3574                1.0          603.0             45.0  \n",
       "4151                3.0          722.0            869.0  \n",
       "4189                1.0          953.0            223.0  \n",
       "4670                1.0          376.0            350.0  \n",
       "5343                0.0            NaN            303.0  \n",
       "5707                1.0          170.0             49.0  \n",
       "\n",
       "[10 rows x 22 columns]"
      ]
     },
     "execution_count": 31,
     "metadata": {},
     "output_type": "execute_result"
    }
   ],
   "source": [
    "df[df['locality_name'].isna()].head(10)"
   ]
  },
  {
   "cell_type": "markdown",
   "id": "da3af2b7",
   "metadata": {},
   "source": [
    "У многих объектов не указана локация, но при этом указано расстояние до центра города. Определим количество таких объектов с расстоянием до центра менее 20км:"
   ]
  },
  {
   "cell_type": "code",
   "execution_count": 32,
   "id": "91225092",
   "metadata": {
    "scrolled": true
   },
   "outputs": [
    {
     "data": {
      "text/plain": [
       "37"
      ]
     },
     "execution_count": 32,
     "metadata": {},
     "output_type": "execute_result"
    }
   ],
   "source": [
    "df[(df['locality_name'].isna()) & (df['city_сenters_nearest'] <= 20000)]['city_сenters_nearest'].count()"
   ]
  },
  {
   "cell_type": "markdown",
   "id": "4054dddd",
   "metadata": {},
   "source": [
    "Таких объектов 37. Значит такие объекты точно находятся в черте города. Таким объектам можно присвоить локацию \"Санкт-Петербург\". Оставшиеся 12 объектов на расчеты не окажут большого влияния, поэтому им тоже присвоим локацию \"Санкт-Петербург\"."
   ]
  },
  {
   "cell_type": "code",
   "execution_count": 33,
   "id": "bc72c8dd",
   "metadata": {},
   "outputs": [],
   "source": [
    "df.loc[df['locality_name'].isna(), 'locality_name'] = 'Санкт-Петербург'"
   ]
  },
  {
   "cell_type": "markdown",
   "id": "d8e28ae0",
   "metadata": {},
   "source": [
    "Выполним проверку:"
   ]
  },
  {
   "cell_type": "code",
   "execution_count": 34,
   "id": "992271a8",
   "metadata": {
    "scrolled": true
   },
   "outputs": [
    {
     "data": {
      "text/plain": [
       "total_images                0\n",
       "last_price                  0\n",
       "total_area                  0\n",
       "first_day_exposition        0\n",
       "rooms                       0\n",
       "ceiling_height              0\n",
       "floors_total                0\n",
       "living_area                 0\n",
       "floor                       0\n",
       "is_apartment                0\n",
       "studio                      0\n",
       "open_plan                   0\n",
       "kitchen_area                0\n",
       "balcony                     0\n",
       "locality_name               0\n",
       "airports_nearest         5542\n",
       "city_сenters_nearest     5519\n",
       "parks_around_3000        5518\n",
       "parks_nearest           15620\n",
       "ponds_around_3000        5518\n",
       "ponds_nearest           14589\n",
       "days_exposition          3181\n",
       "dtype: int64"
      ]
     },
     "execution_count": 34,
     "metadata": {},
     "output_type": "execute_result"
    }
   ],
   "source": [
    "df.isna().sum()"
   ]
  },
  {
   "cell_type": "markdown",
   "id": "f9656597",
   "metadata": {},
   "source": [
    "##### Пропуски в airports_nearest, cityCenters_nearest, parks_around3000, ponds_nearest"
   ]
  },
  {
   "cell_type": "markdown",
   "id": "67ddaa46",
   "metadata": {},
   "source": [
    "Выведем пропущенные строки в соответствующих столбцах:"
   ]
  },
  {
   "cell_type": "code",
   "execution_count": 35,
   "id": "bad670f2",
   "metadata": {
    "scrolled": true
   },
   "outputs": [
    {
     "data": {
      "text/html": [
       "<div>\n",
       "<style scoped>\n",
       "    .dataframe tbody tr th:only-of-type {\n",
       "        vertical-align: middle;\n",
       "    }\n",
       "\n",
       "    .dataframe tbody tr th {\n",
       "        vertical-align: top;\n",
       "    }\n",
       "\n",
       "    .dataframe thead th {\n",
       "        text-align: right;\n",
       "    }\n",
       "</style>\n",
       "<table border=\"1\" class=\"dataframe\">\n",
       "  <thead>\n",
       "    <tr style=\"text-align: right;\">\n",
       "      <th></th>\n",
       "      <th>total_images</th>\n",
       "      <th>last_price</th>\n",
       "      <th>total_area</th>\n",
       "      <th>first_day_exposition</th>\n",
       "      <th>rooms</th>\n",
       "      <th>ceiling_height</th>\n",
       "      <th>floors_total</th>\n",
       "      <th>living_area</th>\n",
       "      <th>floor</th>\n",
       "      <th>is_apartment</th>\n",
       "      <th>...</th>\n",
       "      <th>kitchen_area</th>\n",
       "      <th>balcony</th>\n",
       "      <th>locality_name</th>\n",
       "      <th>airports_nearest</th>\n",
       "      <th>city_сenters_nearest</th>\n",
       "      <th>parks_around_3000</th>\n",
       "      <th>parks_nearest</th>\n",
       "      <th>ponds_around_3000</th>\n",
       "      <th>ponds_nearest</th>\n",
       "      <th>days_exposition</th>\n",
       "    </tr>\n",
       "  </thead>\n",
       "  <tbody>\n",
       "    <tr>\n",
       "      <th>5</th>\n",
       "      <td>10</td>\n",
       "      <td>2890000.0</td>\n",
       "      <td>30.40</td>\n",
       "      <td>2018-09-10T00:00:00</td>\n",
       "      <td>1</td>\n",
       "      <td>2.625</td>\n",
       "      <td>9.0</td>\n",
       "      <td>14.40</td>\n",
       "      <td>5</td>\n",
       "      <td>False</td>\n",
       "      <td>...</td>\n",
       "      <td>9.10</td>\n",
       "      <td>0.0</td>\n",
       "      <td>городской посёлок Янино-1</td>\n",
       "      <td>NaN</td>\n",
       "      <td>NaN</td>\n",
       "      <td>NaN</td>\n",
       "      <td>NaN</td>\n",
       "      <td>NaN</td>\n",
       "      <td>NaN</td>\n",
       "      <td>55.0</td>\n",
       "    </tr>\n",
       "    <tr>\n",
       "      <th>8</th>\n",
       "      <td>20</td>\n",
       "      <td>2900000.0</td>\n",
       "      <td>33.16</td>\n",
       "      <td>2018-05-23T00:00:00</td>\n",
       "      <td>1</td>\n",
       "      <td>2.650</td>\n",
       "      <td>26.0</td>\n",
       "      <td>15.43</td>\n",
       "      <td>26</td>\n",
       "      <td>False</td>\n",
       "      <td>...</td>\n",
       "      <td>8.81</td>\n",
       "      <td>0.0</td>\n",
       "      <td>посёлок Мурино</td>\n",
       "      <td>NaN</td>\n",
       "      <td>NaN</td>\n",
       "      <td>NaN</td>\n",
       "      <td>NaN</td>\n",
       "      <td>NaN</td>\n",
       "      <td>NaN</td>\n",
       "      <td>189.0</td>\n",
       "    </tr>\n",
       "    <tr>\n",
       "      <th>12</th>\n",
       "      <td>10</td>\n",
       "      <td>3890000.0</td>\n",
       "      <td>54.00</td>\n",
       "      <td>2016-06-30T00:00:00</td>\n",
       "      <td>2</td>\n",
       "      <td>2.550</td>\n",
       "      <td>9.0</td>\n",
       "      <td>30.00</td>\n",
       "      <td>5</td>\n",
       "      <td>False</td>\n",
       "      <td>...</td>\n",
       "      <td>9.00</td>\n",
       "      <td>0.0</td>\n",
       "      <td>Сертолово</td>\n",
       "      <td>NaN</td>\n",
       "      <td>NaN</td>\n",
       "      <td>NaN</td>\n",
       "      <td>NaN</td>\n",
       "      <td>NaN</td>\n",
       "      <td>NaN</td>\n",
       "      <td>90.0</td>\n",
       "    </tr>\n",
       "    <tr>\n",
       "      <th>22</th>\n",
       "      <td>20</td>\n",
       "      <td>5000000.0</td>\n",
       "      <td>58.00</td>\n",
       "      <td>2017-04-24T00:00:00</td>\n",
       "      <td>2</td>\n",
       "      <td>2.750</td>\n",
       "      <td>15.0</td>\n",
       "      <td>30.00</td>\n",
       "      <td>15</td>\n",
       "      <td>False</td>\n",
       "      <td>...</td>\n",
       "      <td>11.00</td>\n",
       "      <td>2.0</td>\n",
       "      <td>деревня Кудрово</td>\n",
       "      <td>NaN</td>\n",
       "      <td>NaN</td>\n",
       "      <td>NaN</td>\n",
       "      <td>NaN</td>\n",
       "      <td>NaN</td>\n",
       "      <td>NaN</td>\n",
       "      <td>60.0</td>\n",
       "    </tr>\n",
       "    <tr>\n",
       "      <th>30</th>\n",
       "      <td>12</td>\n",
       "      <td>2200000.0</td>\n",
       "      <td>32.80</td>\n",
       "      <td>2018-02-19T00:00:00</td>\n",
       "      <td>1</td>\n",
       "      <td>2.550</td>\n",
       "      <td>9.0</td>\n",
       "      <td>30.00</td>\n",
       "      <td>2</td>\n",
       "      <td>False</td>\n",
       "      <td>...</td>\n",
       "      <td>9.00</td>\n",
       "      <td>0.0</td>\n",
       "      <td>Коммунар</td>\n",
       "      <td>NaN</td>\n",
       "      <td>NaN</td>\n",
       "      <td>NaN</td>\n",
       "      <td>NaN</td>\n",
       "      <td>NaN</td>\n",
       "      <td>NaN</td>\n",
       "      <td>63.0</td>\n",
       "    </tr>\n",
       "  </tbody>\n",
       "</table>\n",
       "<p>5 rows × 22 columns</p>\n",
       "</div>"
      ],
      "text/plain": [
       "    total_images  last_price  total_area first_day_exposition  rooms  \\\n",
       "5             10   2890000.0       30.40  2018-09-10T00:00:00      1   \n",
       "8             20   2900000.0       33.16  2018-05-23T00:00:00      1   \n",
       "12            10   3890000.0       54.00  2016-06-30T00:00:00      2   \n",
       "22            20   5000000.0       58.00  2017-04-24T00:00:00      2   \n",
       "30            12   2200000.0       32.80  2018-02-19T00:00:00      1   \n",
       "\n",
       "    ceiling_height  floors_total  living_area  floor  is_apartment  ...  \\\n",
       "5            2.625           9.0        14.40      5         False  ...   \n",
       "8            2.650          26.0        15.43     26         False  ...   \n",
       "12           2.550           9.0        30.00      5         False  ...   \n",
       "22           2.750          15.0        30.00     15         False  ...   \n",
       "30           2.550           9.0        30.00      2         False  ...   \n",
       "\n",
       "    kitchen_area  balcony              locality_name  airports_nearest  \\\n",
       "5           9.10      0.0  городской посёлок Янино-1               NaN   \n",
       "8           8.81      0.0             посёлок Мурино               NaN   \n",
       "12          9.00      0.0                  Сертолово               NaN   \n",
       "22         11.00      2.0            деревня Кудрово               NaN   \n",
       "30          9.00      0.0                   Коммунар               NaN   \n",
       "\n",
       "   city_сenters_nearest  parks_around_3000  parks_nearest  ponds_around_3000  \\\n",
       "5                   NaN                NaN            NaN                NaN   \n",
       "8                   NaN                NaN            NaN                NaN   \n",
       "12                  NaN                NaN            NaN                NaN   \n",
       "22                  NaN                NaN            NaN                NaN   \n",
       "30                  NaN                NaN            NaN                NaN   \n",
       "\n",
       "    ponds_nearest  days_exposition  \n",
       "5             NaN             55.0  \n",
       "8             NaN            189.0  \n",
       "12            NaN             90.0  \n",
       "22            NaN             60.0  \n",
       "30            NaN             63.0  \n",
       "\n",
       "[5 rows x 22 columns]"
      ]
     },
     "execution_count": 35,
     "metadata": {},
     "output_type": "execute_result"
    }
   ],
   "source": [
    "df[df['airports_nearest'].isna()].head()"
   ]
  },
  {
   "cell_type": "code",
   "execution_count": 36,
   "id": "80480507",
   "metadata": {
    "scrolled": true
   },
   "outputs": [
    {
     "data": {
      "text/html": [
       "<div>\n",
       "<style scoped>\n",
       "    .dataframe tbody tr th:only-of-type {\n",
       "        vertical-align: middle;\n",
       "    }\n",
       "\n",
       "    .dataframe tbody tr th {\n",
       "        vertical-align: top;\n",
       "    }\n",
       "\n",
       "    .dataframe thead th {\n",
       "        text-align: right;\n",
       "    }\n",
       "</style>\n",
       "<table border=\"1\" class=\"dataframe\">\n",
       "  <thead>\n",
       "    <tr style=\"text-align: right;\">\n",
       "      <th></th>\n",
       "      <th>total_images</th>\n",
       "      <th>last_price</th>\n",
       "      <th>total_area</th>\n",
       "      <th>first_day_exposition</th>\n",
       "      <th>rooms</th>\n",
       "      <th>ceiling_height</th>\n",
       "      <th>floors_total</th>\n",
       "      <th>living_area</th>\n",
       "      <th>floor</th>\n",
       "      <th>is_apartment</th>\n",
       "      <th>...</th>\n",
       "      <th>kitchen_area</th>\n",
       "      <th>balcony</th>\n",
       "      <th>locality_name</th>\n",
       "      <th>airports_nearest</th>\n",
       "      <th>city_сenters_nearest</th>\n",
       "      <th>parks_around_3000</th>\n",
       "      <th>parks_nearest</th>\n",
       "      <th>ponds_around_3000</th>\n",
       "      <th>ponds_nearest</th>\n",
       "      <th>days_exposition</th>\n",
       "    </tr>\n",
       "  </thead>\n",
       "  <tbody>\n",
       "    <tr>\n",
       "      <th>5</th>\n",
       "      <td>10</td>\n",
       "      <td>2890000.0</td>\n",
       "      <td>30.40</td>\n",
       "      <td>2018-09-10T00:00:00</td>\n",
       "      <td>1</td>\n",
       "      <td>2.625</td>\n",
       "      <td>9.0</td>\n",
       "      <td>14.40</td>\n",
       "      <td>5</td>\n",
       "      <td>False</td>\n",
       "      <td>...</td>\n",
       "      <td>9.10</td>\n",
       "      <td>0.0</td>\n",
       "      <td>городской посёлок Янино-1</td>\n",
       "      <td>NaN</td>\n",
       "      <td>NaN</td>\n",
       "      <td>NaN</td>\n",
       "      <td>NaN</td>\n",
       "      <td>NaN</td>\n",
       "      <td>NaN</td>\n",
       "      <td>55.0</td>\n",
       "    </tr>\n",
       "    <tr>\n",
       "      <th>8</th>\n",
       "      <td>20</td>\n",
       "      <td>2900000.0</td>\n",
       "      <td>33.16</td>\n",
       "      <td>2018-05-23T00:00:00</td>\n",
       "      <td>1</td>\n",
       "      <td>2.650</td>\n",
       "      <td>26.0</td>\n",
       "      <td>15.43</td>\n",
       "      <td>26</td>\n",
       "      <td>False</td>\n",
       "      <td>...</td>\n",
       "      <td>8.81</td>\n",
       "      <td>0.0</td>\n",
       "      <td>посёлок Мурино</td>\n",
       "      <td>NaN</td>\n",
       "      <td>NaN</td>\n",
       "      <td>NaN</td>\n",
       "      <td>NaN</td>\n",
       "      <td>NaN</td>\n",
       "      <td>NaN</td>\n",
       "      <td>189.0</td>\n",
       "    </tr>\n",
       "    <tr>\n",
       "      <th>12</th>\n",
       "      <td>10</td>\n",
       "      <td>3890000.0</td>\n",
       "      <td>54.00</td>\n",
       "      <td>2016-06-30T00:00:00</td>\n",
       "      <td>2</td>\n",
       "      <td>2.550</td>\n",
       "      <td>9.0</td>\n",
       "      <td>30.00</td>\n",
       "      <td>5</td>\n",
       "      <td>False</td>\n",
       "      <td>...</td>\n",
       "      <td>9.00</td>\n",
       "      <td>0.0</td>\n",
       "      <td>Сертолово</td>\n",
       "      <td>NaN</td>\n",
       "      <td>NaN</td>\n",
       "      <td>NaN</td>\n",
       "      <td>NaN</td>\n",
       "      <td>NaN</td>\n",
       "      <td>NaN</td>\n",
       "      <td>90.0</td>\n",
       "    </tr>\n",
       "    <tr>\n",
       "      <th>22</th>\n",
       "      <td>20</td>\n",
       "      <td>5000000.0</td>\n",
       "      <td>58.00</td>\n",
       "      <td>2017-04-24T00:00:00</td>\n",
       "      <td>2</td>\n",
       "      <td>2.750</td>\n",
       "      <td>15.0</td>\n",
       "      <td>30.00</td>\n",
       "      <td>15</td>\n",
       "      <td>False</td>\n",
       "      <td>...</td>\n",
       "      <td>11.00</td>\n",
       "      <td>2.0</td>\n",
       "      <td>деревня Кудрово</td>\n",
       "      <td>NaN</td>\n",
       "      <td>NaN</td>\n",
       "      <td>NaN</td>\n",
       "      <td>NaN</td>\n",
       "      <td>NaN</td>\n",
       "      <td>NaN</td>\n",
       "      <td>60.0</td>\n",
       "    </tr>\n",
       "    <tr>\n",
       "      <th>30</th>\n",
       "      <td>12</td>\n",
       "      <td>2200000.0</td>\n",
       "      <td>32.80</td>\n",
       "      <td>2018-02-19T00:00:00</td>\n",
       "      <td>1</td>\n",
       "      <td>2.550</td>\n",
       "      <td>9.0</td>\n",
       "      <td>30.00</td>\n",
       "      <td>2</td>\n",
       "      <td>False</td>\n",
       "      <td>...</td>\n",
       "      <td>9.00</td>\n",
       "      <td>0.0</td>\n",
       "      <td>Коммунар</td>\n",
       "      <td>NaN</td>\n",
       "      <td>NaN</td>\n",
       "      <td>NaN</td>\n",
       "      <td>NaN</td>\n",
       "      <td>NaN</td>\n",
       "      <td>NaN</td>\n",
       "      <td>63.0</td>\n",
       "    </tr>\n",
       "  </tbody>\n",
       "</table>\n",
       "<p>5 rows × 22 columns</p>\n",
       "</div>"
      ],
      "text/plain": [
       "    total_images  last_price  total_area first_day_exposition  rooms  \\\n",
       "5             10   2890000.0       30.40  2018-09-10T00:00:00      1   \n",
       "8             20   2900000.0       33.16  2018-05-23T00:00:00      1   \n",
       "12            10   3890000.0       54.00  2016-06-30T00:00:00      2   \n",
       "22            20   5000000.0       58.00  2017-04-24T00:00:00      2   \n",
       "30            12   2200000.0       32.80  2018-02-19T00:00:00      1   \n",
       "\n",
       "    ceiling_height  floors_total  living_area  floor  is_apartment  ...  \\\n",
       "5            2.625           9.0        14.40      5         False  ...   \n",
       "8            2.650          26.0        15.43     26         False  ...   \n",
       "12           2.550           9.0        30.00      5         False  ...   \n",
       "22           2.750          15.0        30.00     15         False  ...   \n",
       "30           2.550           9.0        30.00      2         False  ...   \n",
       "\n",
       "    kitchen_area  balcony              locality_name  airports_nearest  \\\n",
       "5           9.10      0.0  городской посёлок Янино-1               NaN   \n",
       "8           8.81      0.0             посёлок Мурино               NaN   \n",
       "12          9.00      0.0                  Сертолово               NaN   \n",
       "22         11.00      2.0            деревня Кудрово               NaN   \n",
       "30          9.00      0.0                   Коммунар               NaN   \n",
       "\n",
       "   city_сenters_nearest  parks_around_3000  parks_nearest  ponds_around_3000  \\\n",
       "5                   NaN                NaN            NaN                NaN   \n",
       "8                   NaN                NaN            NaN                NaN   \n",
       "12                  NaN                NaN            NaN                NaN   \n",
       "22                  NaN                NaN            NaN                NaN   \n",
       "30                  NaN                NaN            NaN                NaN   \n",
       "\n",
       "    ponds_nearest  days_exposition  \n",
       "5             NaN             55.0  \n",
       "8             NaN            189.0  \n",
       "12            NaN             90.0  \n",
       "22            NaN             60.0  \n",
       "30            NaN             63.0  \n",
       "\n",
       "[5 rows x 22 columns]"
      ]
     },
     "execution_count": 36,
     "metadata": {},
     "output_type": "execute_result"
    }
   ],
   "source": [
    "df[df['city_сenters_nearest'].isna()].head()"
   ]
  },
  {
   "cell_type": "markdown",
   "id": "f572e9f9",
   "metadata": {},
   "source": [
    "Причиной пропуска данных значений вероятно является удаленность локаций данных объектов от соответствующей инфраструктуры. Считаю, что параметры parks_around3000 и ponds_around3000 необходимо заполнить значением 0, а остальные пропуски заполнить корректно  невозможно, поэтому оставляем эти значения пропущенными. "
   ]
  },
  {
   "cell_type": "code",
   "execution_count": 37,
   "id": "95752e45",
   "metadata": {},
   "outputs": [],
   "source": [
    "df.loc[df['parks_around_3000'].isna(), 'parks_around_3000'] = 0"
   ]
  },
  {
   "cell_type": "code",
   "execution_count": 38,
   "id": "de3f86e6",
   "metadata": {},
   "outputs": [],
   "source": [
    "df.loc[df['ponds_around_3000'].isna(), 'ponds_around_3000'] = 0"
   ]
  },
  {
   "cell_type": "markdown",
   "id": "4217491f",
   "metadata": {},
   "source": [
    "Выполним проверку:"
   ]
  },
  {
   "cell_type": "code",
   "execution_count": 39,
   "id": "9228a46a",
   "metadata": {},
   "outputs": [
    {
     "data": {
      "text/plain": [
       "total_images                0\n",
       "last_price                  0\n",
       "total_area                  0\n",
       "first_day_exposition        0\n",
       "rooms                       0\n",
       "ceiling_height              0\n",
       "floors_total                0\n",
       "living_area                 0\n",
       "floor                       0\n",
       "is_apartment                0\n",
       "studio                      0\n",
       "open_plan                   0\n",
       "kitchen_area                0\n",
       "balcony                     0\n",
       "locality_name               0\n",
       "airports_nearest         5542\n",
       "city_сenters_nearest     5519\n",
       "parks_around_3000           0\n",
       "parks_nearest           15620\n",
       "ponds_around_3000           0\n",
       "ponds_nearest           14589\n",
       "days_exposition          3181\n",
       "dtype: int64"
      ]
     },
     "execution_count": 39,
     "metadata": {},
     "output_type": "execute_result"
    }
   ],
   "source": [
    "df.isna().sum()"
   ]
  },
  {
   "cell_type": "markdown",
   "id": "9018b1ac",
   "metadata": {},
   "source": [
    "##### Пропуски в days_exposition"
   ]
  },
  {
   "cell_type": "markdown",
   "id": "69f05572",
   "metadata": {},
   "source": [
    "Выведем пропущенные значения:"
   ]
  },
  {
   "cell_type": "code",
   "execution_count": 40,
   "id": "2a5f93bf",
   "metadata": {},
   "outputs": [
    {
     "data": {
      "text/html": [
       "<div>\n",
       "<style scoped>\n",
       "    .dataframe tbody tr th:only-of-type {\n",
       "        vertical-align: middle;\n",
       "    }\n",
       "\n",
       "    .dataframe tbody tr th {\n",
       "        vertical-align: top;\n",
       "    }\n",
       "\n",
       "    .dataframe thead th {\n",
       "        text-align: right;\n",
       "    }\n",
       "</style>\n",
       "<table border=\"1\" class=\"dataframe\">\n",
       "  <thead>\n",
       "    <tr style=\"text-align: right;\">\n",
       "      <th></th>\n",
       "      <th>total_images</th>\n",
       "      <th>last_price</th>\n",
       "      <th>total_area</th>\n",
       "      <th>first_day_exposition</th>\n",
       "      <th>rooms</th>\n",
       "      <th>ceiling_height</th>\n",
       "      <th>floors_total</th>\n",
       "      <th>living_area</th>\n",
       "      <th>floor</th>\n",
       "      <th>is_apartment</th>\n",
       "      <th>...</th>\n",
       "      <th>kitchen_area</th>\n",
       "      <th>balcony</th>\n",
       "      <th>locality_name</th>\n",
       "      <th>airports_nearest</th>\n",
       "      <th>city_сenters_nearest</th>\n",
       "      <th>parks_around_3000</th>\n",
       "      <th>parks_nearest</th>\n",
       "      <th>ponds_around_3000</th>\n",
       "      <th>ponds_nearest</th>\n",
       "      <th>days_exposition</th>\n",
       "    </tr>\n",
       "  </thead>\n",
       "  <tbody>\n",
       "    <tr>\n",
       "      <th>0</th>\n",
       "      <td>20</td>\n",
       "      <td>13000000.0</td>\n",
       "      <td>108.0</td>\n",
       "      <td>2019-03-07T00:00:00</td>\n",
       "      <td>3</td>\n",
       "      <td>2.70</td>\n",
       "      <td>9.0</td>\n",
       "      <td>51.0</td>\n",
       "      <td>8</td>\n",
       "      <td>False</td>\n",
       "      <td>...</td>\n",
       "      <td>25.0</td>\n",
       "      <td>0.0</td>\n",
       "      <td>Санкт-Петербург</td>\n",
       "      <td>18863.0</td>\n",
       "      <td>16028.0</td>\n",
       "      <td>1.0</td>\n",
       "      <td>482.0</td>\n",
       "      <td>2.0</td>\n",
       "      <td>755.0</td>\n",
       "      <td>NaN</td>\n",
       "    </tr>\n",
       "    <tr>\n",
       "      <th>7</th>\n",
       "      <td>5</td>\n",
       "      <td>7915000.0</td>\n",
       "      <td>71.6</td>\n",
       "      <td>2019-04-18T00:00:00</td>\n",
       "      <td>2</td>\n",
       "      <td>2.75</td>\n",
       "      <td>22.0</td>\n",
       "      <td>30.0</td>\n",
       "      <td>22</td>\n",
       "      <td>False</td>\n",
       "      <td>...</td>\n",
       "      <td>18.9</td>\n",
       "      <td>2.0</td>\n",
       "      <td>Санкт-Петербург</td>\n",
       "      <td>23982.0</td>\n",
       "      <td>11634.0</td>\n",
       "      <td>0.0</td>\n",
       "      <td>NaN</td>\n",
       "      <td>0.0</td>\n",
       "      <td>NaN</td>\n",
       "      <td>NaN</td>\n",
       "    </tr>\n",
       "    <tr>\n",
       "      <th>44</th>\n",
       "      <td>13</td>\n",
       "      <td>5350000.0</td>\n",
       "      <td>40.0</td>\n",
       "      <td>2018-11-18T00:00:00</td>\n",
       "      <td>1</td>\n",
       "      <td>2.76</td>\n",
       "      <td>9.0</td>\n",
       "      <td>30.0</td>\n",
       "      <td>3</td>\n",
       "      <td>False</td>\n",
       "      <td>...</td>\n",
       "      <td>9.0</td>\n",
       "      <td>1.0</td>\n",
       "      <td>Санкт-Петербург</td>\n",
       "      <td>30471.0</td>\n",
       "      <td>11603.0</td>\n",
       "      <td>1.0</td>\n",
       "      <td>620.0</td>\n",
       "      <td>1.0</td>\n",
       "      <td>1152.0</td>\n",
       "      <td>NaN</td>\n",
       "    </tr>\n",
       "    <tr>\n",
       "      <th>45</th>\n",
       "      <td>17</td>\n",
       "      <td>5200000.0</td>\n",
       "      <td>50.6</td>\n",
       "      <td>2018-12-02T00:00:00</td>\n",
       "      <td>2</td>\n",
       "      <td>2.65</td>\n",
       "      <td>9.0</td>\n",
       "      <td>30.3</td>\n",
       "      <td>7</td>\n",
       "      <td>False</td>\n",
       "      <td>...</td>\n",
       "      <td>7.0</td>\n",
       "      <td>0.0</td>\n",
       "      <td>Санкт-Петербург</td>\n",
       "      <td>30011.0</td>\n",
       "      <td>12872.0</td>\n",
       "      <td>0.0</td>\n",
       "      <td>NaN</td>\n",
       "      <td>0.0</td>\n",
       "      <td>NaN</td>\n",
       "      <td>NaN</td>\n",
       "    </tr>\n",
       "    <tr>\n",
       "      <th>46</th>\n",
       "      <td>17</td>\n",
       "      <td>6600000.0</td>\n",
       "      <td>52.1</td>\n",
       "      <td>2019-01-31T00:00:00</td>\n",
       "      <td>2</td>\n",
       "      <td>2.60</td>\n",
       "      <td>9.0</td>\n",
       "      <td>29.7</td>\n",
       "      <td>9</td>\n",
       "      <td>False</td>\n",
       "      <td>...</td>\n",
       "      <td>8.3</td>\n",
       "      <td>2.0</td>\n",
       "      <td>Санкт-Петербург</td>\n",
       "      <td>15114.0</td>\n",
       "      <td>12702.0</td>\n",
       "      <td>0.0</td>\n",
       "      <td>NaN</td>\n",
       "      <td>0.0</td>\n",
       "      <td>NaN</td>\n",
       "      <td>NaN</td>\n",
       "    </tr>\n",
       "  </tbody>\n",
       "</table>\n",
       "<p>5 rows × 22 columns</p>\n",
       "</div>"
      ],
      "text/plain": [
       "    total_images  last_price  total_area first_day_exposition  rooms  \\\n",
       "0             20  13000000.0       108.0  2019-03-07T00:00:00      3   \n",
       "7              5   7915000.0        71.6  2019-04-18T00:00:00      2   \n",
       "44            13   5350000.0        40.0  2018-11-18T00:00:00      1   \n",
       "45            17   5200000.0        50.6  2018-12-02T00:00:00      2   \n",
       "46            17   6600000.0        52.1  2019-01-31T00:00:00      2   \n",
       "\n",
       "    ceiling_height  floors_total  living_area  floor  is_apartment  ...  \\\n",
       "0             2.70           9.0         51.0      8         False  ...   \n",
       "7             2.75          22.0         30.0     22         False  ...   \n",
       "44            2.76           9.0         30.0      3         False  ...   \n",
       "45            2.65           9.0         30.3      7         False  ...   \n",
       "46            2.60           9.0         29.7      9         False  ...   \n",
       "\n",
       "    kitchen_area  balcony    locality_name  airports_nearest  \\\n",
       "0           25.0      0.0  Санкт-Петербург           18863.0   \n",
       "7           18.9      2.0  Санкт-Петербург           23982.0   \n",
       "44           9.0      1.0  Санкт-Петербург           30471.0   \n",
       "45           7.0      0.0  Санкт-Петербург           30011.0   \n",
       "46           8.3      2.0  Санкт-Петербург           15114.0   \n",
       "\n",
       "   city_сenters_nearest  parks_around_3000  parks_nearest  ponds_around_3000  \\\n",
       "0               16028.0                1.0          482.0                2.0   \n",
       "7               11634.0                0.0            NaN                0.0   \n",
       "44              11603.0                1.0          620.0                1.0   \n",
       "45              12872.0                0.0            NaN                0.0   \n",
       "46              12702.0                0.0            NaN                0.0   \n",
       "\n",
       "    ponds_nearest  days_exposition  \n",
       "0           755.0              NaN  \n",
       "7             NaN              NaN  \n",
       "44         1152.0              NaN  \n",
       "45            NaN              NaN  \n",
       "46            NaN              NaN  \n",
       "\n",
       "[5 rows x 22 columns]"
      ]
     },
     "execution_count": 40,
     "metadata": {},
     "output_type": "execute_result"
    }
   ],
   "source": [
    "df[df['days_exposition'].isna()].head()"
   ]
  },
  {
   "cell_type": "markdown",
   "id": "97fedc32",
   "metadata": {},
   "source": [
    "Причина пропусков возможно в том, что данные объекты еще в продаже. Заполнить данные пропуски корректно не представляется возможным, поэтому оставляем пропущенные значения."
   ]
  },
  {
   "cell_type": "markdown",
   "id": "59446391",
   "metadata": {},
   "source": [
    "#### Проверка типов данных"
   ]
  },
  {
   "cell_type": "markdown",
   "id": "9e4612d2",
   "metadata": {},
   "source": [
    "Выведем первые 5 строк таблицы:"
   ]
  },
  {
   "cell_type": "code",
   "execution_count": 41,
   "id": "15260dd2",
   "metadata": {
    "scrolled": true
   },
   "outputs": [
    {
     "data": {
      "text/html": [
       "<div>\n",
       "<style scoped>\n",
       "    .dataframe tbody tr th:only-of-type {\n",
       "        vertical-align: middle;\n",
       "    }\n",
       "\n",
       "    .dataframe tbody tr th {\n",
       "        vertical-align: top;\n",
       "    }\n",
       "\n",
       "    .dataframe thead th {\n",
       "        text-align: right;\n",
       "    }\n",
       "</style>\n",
       "<table border=\"1\" class=\"dataframe\">\n",
       "  <thead>\n",
       "    <tr style=\"text-align: right;\">\n",
       "      <th></th>\n",
       "      <th>total_images</th>\n",
       "      <th>last_price</th>\n",
       "      <th>total_area</th>\n",
       "      <th>first_day_exposition</th>\n",
       "      <th>rooms</th>\n",
       "      <th>ceiling_height</th>\n",
       "      <th>floors_total</th>\n",
       "      <th>living_area</th>\n",
       "      <th>floor</th>\n",
       "      <th>is_apartment</th>\n",
       "      <th>...</th>\n",
       "      <th>kitchen_area</th>\n",
       "      <th>balcony</th>\n",
       "      <th>locality_name</th>\n",
       "      <th>airports_nearest</th>\n",
       "      <th>city_сenters_nearest</th>\n",
       "      <th>parks_around_3000</th>\n",
       "      <th>parks_nearest</th>\n",
       "      <th>ponds_around_3000</th>\n",
       "      <th>ponds_nearest</th>\n",
       "      <th>days_exposition</th>\n",
       "    </tr>\n",
       "  </thead>\n",
       "  <tbody>\n",
       "    <tr>\n",
       "      <th>0</th>\n",
       "      <td>20</td>\n",
       "      <td>13000000.0</td>\n",
       "      <td>108.0</td>\n",
       "      <td>2019-03-07T00:00:00</td>\n",
       "      <td>3</td>\n",
       "      <td>2.70</td>\n",
       "      <td>9.0</td>\n",
       "      <td>51.0</td>\n",
       "      <td>8</td>\n",
       "      <td>False</td>\n",
       "      <td>...</td>\n",
       "      <td>25.0</td>\n",
       "      <td>0.0</td>\n",
       "      <td>Санкт-Петербург</td>\n",
       "      <td>18863.0</td>\n",
       "      <td>16028.0</td>\n",
       "      <td>1.0</td>\n",
       "      <td>482.0</td>\n",
       "      <td>2.0</td>\n",
       "      <td>755.0</td>\n",
       "      <td>NaN</td>\n",
       "    </tr>\n",
       "    <tr>\n",
       "      <th>1</th>\n",
       "      <td>7</td>\n",
       "      <td>3350000.0</td>\n",
       "      <td>40.4</td>\n",
       "      <td>2018-12-04T00:00:00</td>\n",
       "      <td>1</td>\n",
       "      <td>2.65</td>\n",
       "      <td>9.0</td>\n",
       "      <td>18.6</td>\n",
       "      <td>1</td>\n",
       "      <td>False</td>\n",
       "      <td>...</td>\n",
       "      <td>11.0</td>\n",
       "      <td>2.0</td>\n",
       "      <td>посёлок Шушары</td>\n",
       "      <td>12817.0</td>\n",
       "      <td>18603.0</td>\n",
       "      <td>0.0</td>\n",
       "      <td>NaN</td>\n",
       "      <td>0.0</td>\n",
       "      <td>NaN</td>\n",
       "      <td>81.0</td>\n",
       "    </tr>\n",
       "    <tr>\n",
       "      <th>2</th>\n",
       "      <td>10</td>\n",
       "      <td>5196000.0</td>\n",
       "      <td>56.0</td>\n",
       "      <td>2015-08-20T00:00:00</td>\n",
       "      <td>2</td>\n",
       "      <td>2.60</td>\n",
       "      <td>9.0</td>\n",
       "      <td>34.3</td>\n",
       "      <td>4</td>\n",
       "      <td>False</td>\n",
       "      <td>...</td>\n",
       "      <td>8.3</td>\n",
       "      <td>0.0</td>\n",
       "      <td>Санкт-Петербург</td>\n",
       "      <td>21741.0</td>\n",
       "      <td>13933.0</td>\n",
       "      <td>1.0</td>\n",
       "      <td>90.0</td>\n",
       "      <td>2.0</td>\n",
       "      <td>574.0</td>\n",
       "      <td>558.0</td>\n",
       "    </tr>\n",
       "    <tr>\n",
       "      <th>3</th>\n",
       "      <td>0</td>\n",
       "      <td>64900000.0</td>\n",
       "      <td>159.0</td>\n",
       "      <td>2015-07-24T00:00:00</td>\n",
       "      <td>3</td>\n",
       "      <td>2.60</td>\n",
       "      <td>9.0</td>\n",
       "      <td>30.0</td>\n",
       "      <td>9</td>\n",
       "      <td>False</td>\n",
       "      <td>...</td>\n",
       "      <td>9.5</td>\n",
       "      <td>0.0</td>\n",
       "      <td>Санкт-Петербург</td>\n",
       "      <td>28098.0</td>\n",
       "      <td>6800.0</td>\n",
       "      <td>2.0</td>\n",
       "      <td>84.0</td>\n",
       "      <td>3.0</td>\n",
       "      <td>234.0</td>\n",
       "      <td>424.0</td>\n",
       "    </tr>\n",
       "    <tr>\n",
       "      <th>4</th>\n",
       "      <td>2</td>\n",
       "      <td>10000000.0</td>\n",
       "      <td>100.0</td>\n",
       "      <td>2018-06-19T00:00:00</td>\n",
       "      <td>2</td>\n",
       "      <td>3.03</td>\n",
       "      <td>13.0</td>\n",
       "      <td>32.0</td>\n",
       "      <td>13</td>\n",
       "      <td>False</td>\n",
       "      <td>...</td>\n",
       "      <td>41.0</td>\n",
       "      <td>0.0</td>\n",
       "      <td>Санкт-Петербург</td>\n",
       "      <td>31856.0</td>\n",
       "      <td>8098.0</td>\n",
       "      <td>2.0</td>\n",
       "      <td>112.0</td>\n",
       "      <td>1.0</td>\n",
       "      <td>48.0</td>\n",
       "      <td>121.0</td>\n",
       "    </tr>\n",
       "  </tbody>\n",
       "</table>\n",
       "<p>5 rows × 22 columns</p>\n",
       "</div>"
      ],
      "text/plain": [
       "   total_images  last_price  total_area first_day_exposition  rooms  \\\n",
       "0            20  13000000.0       108.0  2019-03-07T00:00:00      3   \n",
       "1             7   3350000.0        40.4  2018-12-04T00:00:00      1   \n",
       "2            10   5196000.0        56.0  2015-08-20T00:00:00      2   \n",
       "3             0  64900000.0       159.0  2015-07-24T00:00:00      3   \n",
       "4             2  10000000.0       100.0  2018-06-19T00:00:00      2   \n",
       "\n",
       "   ceiling_height  floors_total  living_area  floor  is_apartment  ...  \\\n",
       "0            2.70           9.0         51.0      8         False  ...   \n",
       "1            2.65           9.0         18.6      1         False  ...   \n",
       "2            2.60           9.0         34.3      4         False  ...   \n",
       "3            2.60           9.0         30.0      9         False  ...   \n",
       "4            3.03          13.0         32.0     13         False  ...   \n",
       "\n",
       "   kitchen_area  balcony    locality_name  airports_nearest  \\\n",
       "0          25.0      0.0  Санкт-Петербург           18863.0   \n",
       "1          11.0      2.0   посёлок Шушары           12817.0   \n",
       "2           8.3      0.0  Санкт-Петербург           21741.0   \n",
       "3           9.5      0.0  Санкт-Петербург           28098.0   \n",
       "4          41.0      0.0  Санкт-Петербург           31856.0   \n",
       "\n",
       "  city_сenters_nearest  parks_around_3000  parks_nearest  ponds_around_3000  \\\n",
       "0              16028.0                1.0          482.0                2.0   \n",
       "1              18603.0                0.0            NaN                0.0   \n",
       "2              13933.0                1.0           90.0                2.0   \n",
       "3               6800.0                2.0           84.0                3.0   \n",
       "4               8098.0                2.0          112.0                1.0   \n",
       "\n",
       "   ponds_nearest  days_exposition  \n",
       "0          755.0              NaN  \n",
       "1            NaN             81.0  \n",
       "2          574.0            558.0  \n",
       "3          234.0            424.0  \n",
       "4           48.0            121.0  \n",
       "\n",
       "[5 rows x 22 columns]"
      ]
     },
     "execution_count": 41,
     "metadata": {},
     "output_type": "execute_result"
    }
   ],
   "source": [
    "df.head()"
   ]
  },
  {
   "cell_type": "markdown",
   "id": "597fab10",
   "metadata": {},
   "source": [
    "Выведем еще раз общую информацию:"
   ]
  },
  {
   "cell_type": "code",
   "execution_count": 42,
   "id": "f2824e7e",
   "metadata": {},
   "outputs": [
    {
     "name": "stdout",
     "output_type": "stream",
     "text": [
      "<class 'pandas.core.frame.DataFrame'>\n",
      "RangeIndex: 23699 entries, 0 to 23698\n",
      "Data columns (total 22 columns):\n",
      " #   Column                Non-Null Count  Dtype  \n",
      "---  ------                --------------  -----  \n",
      " 0   total_images          23699 non-null  int64  \n",
      " 1   last_price            23699 non-null  float64\n",
      " 2   total_area            23699 non-null  float64\n",
      " 3   first_day_exposition  23699 non-null  object \n",
      " 4   rooms                 23699 non-null  int64  \n",
      " 5   ceiling_height        23699 non-null  float64\n",
      " 6   floors_total          23699 non-null  float64\n",
      " 7   living_area           23699 non-null  float64\n",
      " 8   floor                 23699 non-null  int64  \n",
      " 9   is_apartment          23699 non-null  bool   \n",
      " 10  studio                23699 non-null  bool   \n",
      " 11  open_plan             23699 non-null  bool   \n",
      " 12  kitchen_area          23699 non-null  float64\n",
      " 13  balcony               23699 non-null  float64\n",
      " 14  locality_name         23699 non-null  object \n",
      " 15  airports_nearest      18157 non-null  float64\n",
      " 16  city_сenters_nearest  18180 non-null  float64\n",
      " 17  parks_around_3000     23699 non-null  float64\n",
      " 18  parks_nearest         8079 non-null   float64\n",
      " 19  ponds_around_3000     23699 non-null  float64\n",
      " 20  ponds_nearest         9110 non-null   float64\n",
      " 21  days_exposition       20518 non-null  float64\n",
      "dtypes: bool(3), float64(14), int64(3), object(2)\n",
      "memory usage: 3.5+ MB\n"
     ]
    }
   ],
   "source": [
    "df.info()"
   ]
  },
  {
   "cell_type": "markdown",
   "id": "de2cd51c",
   "metadata": {},
   "source": [
    "Значения в столбцах floors_total, balcony, parks_around_3000, ponds_around_3000, days_exposition имеют тип данных float, однако, являются целыми числами и дробными быть не могут.\\\n",
    "Изменим тип данных в столбцах floors_total, balcony,parks_around_3000, ponds_around_3000.\n",
    "Значения в столбце first_day_exposition на тип date_time"
   ]
  },
  {
   "cell_type": "code",
   "execution_count": 43,
   "id": "6663da42",
   "metadata": {},
   "outputs": [],
   "source": [
    "try:\n",
    "    df[['last_price', 'floors_total', 'balcony','parks_around_3000','ponds_around_3000']] = \\\n",
    "    df[['last_price', 'floors_total', 'balcony','parks_around_3000','ponds_around_3000']].astype('int64')\n",
    "except:\n",
    "    df[['last_price', 'floors_total', 'balcony','parks_around_3000','ponds_around_3000']] = \\\n",
    "    df[['last_price', 'floors_total', 'balcony','parks_around_3000','ponds_around_3000']].apply(pd.to_numeric, errors='coerce')\n",
    "    df[['last_price', 'floors_total', 'balcony','parks_around_3000','ponds_around_3000']] = \\\n",
    "    df[['last_price', 'floors_total', 'balcony','parks_around_3000','ponds_around_3000']].astype('int64')"
   ]
  },
  {
   "cell_type": "code",
   "execution_count": 44,
   "id": "930d54f7",
   "metadata": {},
   "outputs": [],
   "source": [
    "df['first_day_exposition'] = pd.to_datetime(df['first_day_exposition'], format='%Y-%m-%dT%H:%M:%S')"
   ]
  },
  {
   "cell_type": "markdown",
   "id": "b7effeee",
   "metadata": {},
   "source": [
    "Значение с столбце city_сenters_nearest заменим на \"Int64\":"
   ]
  },
  {
   "cell_type": "code",
   "execution_count": 45,
   "id": "037afe4d",
   "metadata": {},
   "outputs": [
    {
     "data": {
      "text/plain": [
       "0        16028\n",
       "1        18603\n",
       "2        13933\n",
       "3         6800\n",
       "4         8098\n",
       "         ...  \n",
       "23694     4232\n",
       "23695     <NA>\n",
       "23696     <NA>\n",
       "23697    10364\n",
       "23698     <NA>\n",
       "Name: city_сenters_nearest, Length: 23699, dtype: Int64"
      ]
     },
     "execution_count": 45,
     "metadata": {},
     "output_type": "execute_result"
    }
   ],
   "source": [
    "df['city_сenters_nearest'].astype('Int64')"
   ]
  },
  {
   "cell_type": "markdown",
   "id": "c641fda4",
   "metadata": {},
   "source": [
    "Проверим изменения:"
   ]
  },
  {
   "cell_type": "code",
   "execution_count": 46,
   "id": "e3d7b0c2",
   "metadata": {
    "scrolled": false
   },
   "outputs": [
    {
     "name": "stdout",
     "output_type": "stream",
     "text": [
      "<class 'pandas.core.frame.DataFrame'>\n",
      "RangeIndex: 23699 entries, 0 to 23698\n",
      "Data columns (total 22 columns):\n",
      " #   Column                Non-Null Count  Dtype         \n",
      "---  ------                --------------  -----         \n",
      " 0   total_images          23699 non-null  int64         \n",
      " 1   last_price            23699 non-null  int64         \n",
      " 2   total_area            23699 non-null  float64       \n",
      " 3   first_day_exposition  23699 non-null  datetime64[ns]\n",
      " 4   rooms                 23699 non-null  int64         \n",
      " 5   ceiling_height        23699 non-null  float64       \n",
      " 6   floors_total          23699 non-null  int64         \n",
      " 7   living_area           23699 non-null  float64       \n",
      " 8   floor                 23699 non-null  int64         \n",
      " 9   is_apartment          23699 non-null  bool          \n",
      " 10  studio                23699 non-null  bool          \n",
      " 11  open_plan             23699 non-null  bool          \n",
      " 12  kitchen_area          23699 non-null  float64       \n",
      " 13  balcony               23699 non-null  int64         \n",
      " 14  locality_name         23699 non-null  object        \n",
      " 15  airports_nearest      18157 non-null  float64       \n",
      " 16  city_сenters_nearest  18180 non-null  float64       \n",
      " 17  parks_around_3000     23699 non-null  int64         \n",
      " 18  parks_nearest         8079 non-null   float64       \n",
      " 19  ponds_around_3000     23699 non-null  int64         \n",
      " 20  ponds_nearest         9110 non-null   float64       \n",
      " 21  days_exposition       20518 non-null  float64       \n",
      "dtypes: bool(3), datetime64[ns](1), float64(9), int64(8), object(1)\n",
      "memory usage: 3.5+ MB\n"
     ]
    }
   ],
   "source": [
    "df.info()"
   ]
  },
  {
   "cell_type": "markdown",
   "id": "619fbe2e",
   "metadata": {},
   "source": [
    "Все изменения прошли успешно. Данные изменения необходимы для корректной работы с данными и дальнейших преобразований данных. "
   ]
  },
  {
   "cell_type": "markdown",
   "id": "7ce184a4",
   "metadata": {},
   "source": [
    "#### Проверка дубликатов"
   ]
  },
  {
   "cell_type": "markdown",
   "id": "f718d28f",
   "metadata": {},
   "source": [
    "Проверим данные в таблице на явные дубликаты:"
   ]
  },
  {
   "cell_type": "code",
   "execution_count": 47,
   "id": "63b09234",
   "metadata": {},
   "outputs": [
    {
     "data": {
      "text/plain": [
       "0"
      ]
     },
     "execution_count": 47,
     "metadata": {},
     "output_type": "execute_result"
    }
   ],
   "source": [
    "df.duplicated().sum()"
   ]
  },
  {
   "cell_type": "markdown",
   "id": "59b8f8e8",
   "metadata": {},
   "source": [
    "Явных дубликатов нет. Проведем анализ неявных дубликатов в столбцах с типом данных object. Такой столбец один - locality_name."
   ]
  },
  {
   "cell_type": "code",
   "execution_count": 48,
   "id": "054012fe",
   "metadata": {
    "scrolled": true
   },
   "outputs": [
    {
     "data": {
      "text/plain": [
       "array(['Санкт-Петербург', 'посёлок Шушары', 'городской посёлок Янино-1',\n",
       "       'посёлок Парголово', 'посёлок Мурино', 'Ломоносов', 'Сертолово',\n",
       "       'Петергоф', 'Пушкин', 'деревня Кудрово', 'Коммунар', 'Колпино',\n",
       "       'поселок городского типа Красный Бор', 'Гатчина', 'поселок Мурино',\n",
       "       'деревня Фёдоровское', 'Выборг', 'Кронштадт', 'Кировск',\n",
       "       'деревня Новое Девяткино', 'посёлок Металлострой',\n",
       "       'посёлок городского типа Лебяжье',\n",
       "       'посёлок городского типа Сиверский', 'поселок Молодцово',\n",
       "       'поселок городского типа Кузьмоловский',\n",
       "       'садовое товарищество Новая Ропша', 'Павловск',\n",
       "       'деревня Пикколово', 'Всеволожск', 'Волхов', 'Кингисепп',\n",
       "       'Приозерск', 'Сестрорецк', 'деревня Куттузи', 'посёлок Аннино',\n",
       "       'поселок городского типа Ефимовский', 'посёлок Плодовое',\n",
       "       'деревня Заклинье', 'поселок Торковичи', 'поселок Первомайское',\n",
       "       'Красное Село', 'посёлок Понтонный', 'Сясьстрой', 'деревня Старая',\n",
       "       'деревня Лесколово', 'посёлок Новый Свет', 'Сланцы',\n",
       "       'село Путилово', 'Ивангород', 'Мурино', 'Шлиссельбург',\n",
       "       'Никольское', 'Зеленогорск', 'Сосновый Бор', 'поселок Новый Свет',\n",
       "       'деревня Оржицы', 'деревня Кальтино', 'Кудрово',\n",
       "       'поселок Романовка', 'посёлок Бугры', 'поселок Бугры',\n",
       "       'поселок городского типа Рощино', 'Кириши', 'Луга', 'Волосово',\n",
       "       'Отрадное', 'село Павлово', 'поселок Оредеж', 'село Копорье',\n",
       "       'посёлок городского типа Красный Бор', 'посёлок Молодёжное',\n",
       "       'Тихвин', 'посёлок Победа', 'деревня Нурма',\n",
       "       'поселок городского типа Синявино', 'Тосно',\n",
       "       'посёлок городского типа Кузьмоловский', 'посёлок Стрельна',\n",
       "       'Бокситогорск', 'посёлок Александровская', 'деревня Лопухинка',\n",
       "       'Пикалёво', 'поселок Терволово',\n",
       "       'поселок городского типа Советский', 'Подпорожье',\n",
       "       'посёлок Петровское', 'посёлок городского типа Токсово',\n",
       "       'поселок Сельцо', 'посёлок городского типа Вырица',\n",
       "       'деревня Кипень', 'деревня Келози', 'деревня Вартемяги',\n",
       "       'посёлок Тельмана', 'поселок Севастьяново',\n",
       "       'городской поселок Большая Ижора', 'городской посёлок Павлово',\n",
       "       'деревня Агалатово', 'посёлок Новогорелово',\n",
       "       'городской посёлок Лесогорский', 'деревня Лаголово',\n",
       "       'поселок Цвелодубово', 'поселок городского типа Рахья',\n",
       "       'поселок городского типа Вырица', 'деревня Белогорка',\n",
       "       'поселок Заводской', 'городской посёлок Новоселье',\n",
       "       'деревня Большие Колпаны', 'деревня Горбунки', 'деревня Батово',\n",
       "       'деревня Заневка', 'деревня Иссад', 'Приморск',\n",
       "       'городской посёлок Фёдоровское', 'деревня Мистолово',\n",
       "       'Новая Ладога', 'поселок Зимитицы', 'поселок Барышево',\n",
       "       'деревня Разметелево', 'поселок городского типа имени Свердлова',\n",
       "       'деревня Пеники', 'поселок Рябово', 'деревня Пудомяги',\n",
       "       'поселок станции Корнево', 'деревня Низино', 'деревня Бегуницы',\n",
       "       'посёлок Поляны', 'городской посёлок Мга', 'поселок Елизаветино',\n",
       "       'посёлок городского типа Кузнечное', 'деревня Колтуши',\n",
       "       'поселок Запорожское', 'посёлок городского типа Рощино',\n",
       "       'деревня Гостилицы', 'деревня Малое Карлино',\n",
       "       'посёлок Мичуринское', 'посёлок городского типа имени Морозова',\n",
       "       'посёлок Песочный', 'посёлок Сосново', 'деревня Аро',\n",
       "       'поселок Ильичёво', 'посёлок городского типа Тайцы',\n",
       "       'деревня Малое Верево', 'деревня Извара', 'поселок станции Вещево',\n",
       "       'село Паша', 'деревня Калитино',\n",
       "       'посёлок городского типа Ульяновка', 'деревня Чудской Бор',\n",
       "       'поселок городского типа Дубровка', 'деревня Мины',\n",
       "       'поселок Войсковицы', 'посёлок городского типа имени Свердлова',\n",
       "       'деревня Коркино', 'посёлок Ропша',\n",
       "       'поселок городского типа Приладожский', 'посёлок Щеглово',\n",
       "       'посёлок Гаврилово', 'Лодейное Поле', 'деревня Рабитицы',\n",
       "       'поселок городского типа Никольский', 'деревня Кузьмолово',\n",
       "       'деревня Малые Колпаны', 'поселок Тельмана',\n",
       "       'посёлок Петро-Славянка', 'городской посёлок Назия',\n",
       "       'посёлок Репино', 'посёлок Ильичёво', 'поселок Углово',\n",
       "       'поселок Старая Малукса', 'садовое товарищество Рахья',\n",
       "       'поселок Аннино', 'поселок Победа', 'деревня Меньково',\n",
       "       'деревня Старые Бегуницы', 'посёлок Сапёрный', 'поселок Семрино',\n",
       "       'поселок Гаврилово', 'поселок Глажево', 'поселок Кобринское',\n",
       "       'деревня Гарболово', 'деревня Юкки',\n",
       "       'поселок станции Приветнинское', 'деревня Мануйлово',\n",
       "       'деревня Пчева', 'поселок Поляны', 'поселок Цвылёво',\n",
       "       'поселок Мельниково', 'посёлок Пудость', 'посёлок Усть-Луга',\n",
       "       'Светогорск', 'Любань', 'поселок Селезнёво',\n",
       "       'поселок городского типа Рябово', 'Каменногорск', 'деревня Кривко',\n",
       "       'поселок Глебычево', 'деревня Парицы', 'поселок Жилпосёлок',\n",
       "       'посёлок городского типа Мга', 'городской поселок Янино-1',\n",
       "       'посёлок Войскорово', 'село Никольское', 'посёлок Терволово',\n",
       "       'поселок Стеклянный', 'посёлок городского типа Важины',\n",
       "       'посёлок Мыза-Ивановка', 'село Русско-Высоцкое',\n",
       "       'поселок городского типа Лебяжье',\n",
       "       'поселок городского типа Форносово', 'село Старая Ладога',\n",
       "       'поселок Житково', 'городской посёлок Виллози', 'деревня Лампово',\n",
       "       'деревня Шпаньково', 'деревня Лаврики', 'посёлок Сумино',\n",
       "       'посёлок Возрождение', 'деревня Старосиверская',\n",
       "       'посёлок Кикерино', 'поселок Возрождение',\n",
       "       'деревня Старое Хинколово', 'посёлок Пригородный',\n",
       "       'посёлок Торфяное', 'городской посёлок Будогощь',\n",
       "       'поселок Суходолье', 'поселок Красная Долина', 'деревня Хапо-Ое',\n",
       "       'поселок городского типа Дружная Горка', 'поселок Лисий Нос',\n",
       "       'деревня Яльгелево', 'посёлок Стеклянный', 'село Рождествено',\n",
       "       'деревня Старополье', 'посёлок Левашово', 'деревня Сяськелево',\n",
       "       'деревня Камышовка',\n",
       "       'садоводческое некоммерческое товарищество Лесная Поляна',\n",
       "       'деревня Хязельки', 'поселок Жилгородок',\n",
       "       'посёлок городского типа Павлово', 'деревня Ялгино',\n",
       "       'поселок Новый Учхоз', 'городской посёлок Рощино',\n",
       "       'поселок Гончарово', 'поселок Почап', 'посёлок Сапёрное',\n",
       "       'посёлок Платформа 69-й километр', 'поселок Каложицы',\n",
       "       'деревня Фалилеево', 'деревня Пельгора',\n",
       "       'поселок городского типа Лесогорский', 'деревня Торошковичи',\n",
       "       'посёлок Белоостров', 'посёлок Алексеевка', 'поселок Серебрянский',\n",
       "       'поселок Лукаши', 'поселок Петровское', 'деревня Щеглово',\n",
       "       'поселок Мичуринское', 'деревня Тарасово', 'поселок Кингисеппский',\n",
       "       'посёлок при железнодорожной станции Вещево', 'поселок Ушаки',\n",
       "       'деревня Котлы', 'деревня Сижно', 'деревня Торосово',\n",
       "       'посёлок Форт Красная Горка', 'поселок городского типа Токсово',\n",
       "       'деревня Новолисино', 'посёлок станции Громово', 'деревня Глинка',\n",
       "       'посёлок Мельниково', 'поселок городского типа Назия',\n",
       "       'деревня Старая Пустошь', 'поселок Коммунары', 'поселок Починок',\n",
       "       'посёлок городского типа Вознесенье', 'деревня Разбегаево',\n",
       "       'посёлок городского типа Рябово', 'поселок Гладкое',\n",
       "       'посёлок при железнодорожной станции Приветнинское',\n",
       "       'поселок Тёсово-4', 'посёлок Жилгородок', 'деревня Бор',\n",
       "       'посёлок Коробицыно', 'деревня Большая Вруда', 'деревня Курковицы',\n",
       "       'посёлок Лисий Нос', 'городской посёлок Советский',\n",
       "       'посёлок Кобралово', 'деревня Суоранда', 'поселок Кобралово',\n",
       "       'поселок городского типа Кондратьево',\n",
       "       'коттеджный поселок Счастье', 'поселок Любань', 'деревня Реброво',\n",
       "       'деревня Зимитицы', 'деревня Тойворово', 'поселок Семиозерье',\n",
       "       'поселок Лесное', 'поселок Совхозный', 'поселок Усть-Луга',\n",
       "       'посёлок Ленинское', 'посёлок Суйда',\n",
       "       'посёлок городского типа Форносово', 'деревня Нижние Осельки',\n",
       "       'посёлок станции Свирь', 'поселок Перово', 'Высоцк',\n",
       "       'поселок Гарболово', 'село Шум', 'поселок Котельский',\n",
       "       'поселок станции Лужайка', 'деревня Большая Пустомержа',\n",
       "       'поселок Красносельское', 'деревня Вахнова Кара', 'деревня Пижма',\n",
       "       'коттеджный поселок Кивеннапа Север', 'поселок Коробицыно',\n",
       "       'поселок Ромашки', 'посёлок Перово', 'деревня Каськово',\n",
       "       'деревня Куровицы', 'посёлок Плоское', 'поселок Сумино',\n",
       "       'поселок городского типа Большая Ижора', 'поселок Кирпичное',\n",
       "       'деревня Ям-Тесово', 'деревня Раздолье', 'деревня Терпилицы',\n",
       "       'посёлок Шугозеро', 'деревня Ваганово', 'поселок Пушное',\n",
       "       'садовое товарищество Садко', 'посёлок Усть-Ижора',\n",
       "       'деревня Выскатка', 'городской посёлок Свирьстрой',\n",
       "       'поселок Громово', 'деревня Кисельня', 'посёлок Старая Малукса',\n",
       "       'деревня Трубников Бор', 'поселок Калитино',\n",
       "       'посёлок Высокоключевой', 'садовое товарищество Приладожский',\n",
       "       'посёлок Пансионат Зелёный Бор', 'деревня Ненимяки',\n",
       "       'поселок Пансионат Зелёный Бор', 'деревня Снегирёвка',\n",
       "       'деревня Рапполово', 'деревня Пустынка', 'поселок Рабитицы',\n",
       "       'деревня Большой Сабск', 'деревня Русско', 'деревня Лупполово',\n",
       "       'деревня Большое Рейзино', 'деревня Малая Романовка',\n",
       "       'поселок Дружноселье', 'поселок Пчевжа', 'поселок Володарское',\n",
       "       'деревня Нижняя', 'коттеджный посёлок Лесное', 'деревня Тихковицы',\n",
       "       'деревня Борисова Грива', 'посёлок Дзержинского'], dtype=object)"
      ]
     },
     "execution_count": 48,
     "metadata": {},
     "output_type": "execute_result"
    }
   ],
   "source": [
    "df['locality_name'].unique()"
   ]
  },
  {
   "cell_type": "markdown",
   "id": "f57799d6",
   "metadata": {},
   "source": [
    "Проверим кол-во уникальных значений:"
   ]
  },
  {
   "cell_type": "code",
   "execution_count": 49,
   "id": "a59e24c7",
   "metadata": {},
   "outputs": [
    {
     "data": {
      "text/plain": [
       "364"
      ]
     },
     "execution_count": 49,
     "metadata": {},
     "output_type": "execute_result"
    }
   ],
   "source": [
    "df['locality_name'].nunique()"
   ]
  },
  {
   "cell_type": "markdown",
   "id": "777d8f00",
   "metadata": {},
   "source": [
    "В данных имеются неявные дубликаты такие как слова \"поселок\" и \"посёлок\" в названиях населенных пунктов. "
   ]
  },
  {
   "cell_type": "markdown",
   "id": "f6b9e8df",
   "metadata": {},
   "source": [
    "Заменим слова  \"поселок\" и \"посёлок\":"
   ]
  },
  {
   "cell_type": "code",
   "execution_count": 50,
   "id": "9c4aee68",
   "metadata": {},
   "outputs": [],
   "source": [
    "df['locality_name'] = df['locality_name'].str.replace(\"поселок\", \"посёлок\")"
   ]
  },
  {
   "cell_type": "markdown",
   "id": "9c198592",
   "metadata": {},
   "source": [
    "Проверим еще раз получившийся результат:"
   ]
  },
  {
   "cell_type": "code",
   "execution_count": 51,
   "id": "a81753b7",
   "metadata": {},
   "outputs": [
    {
     "data": {
      "text/plain": [
       "array(['Санкт-Петербург', 'посёлок Шушары', 'городской посёлок Янино-1',\n",
       "       'посёлок Парголово', 'посёлок Мурино', 'Ломоносов', 'Сертолово',\n",
       "       'Петергоф', 'Пушкин', 'деревня Кудрово', 'Коммунар', 'Колпино',\n",
       "       'посёлок городского типа Красный Бор', 'Гатчина',\n",
       "       'деревня Фёдоровское', 'Выборг', 'Кронштадт', 'Кировск',\n",
       "       'деревня Новое Девяткино', 'посёлок Металлострой',\n",
       "       'посёлок городского типа Лебяжье',\n",
       "       'посёлок городского типа Сиверский', 'посёлок Молодцово',\n",
       "       'посёлок городского типа Кузьмоловский',\n",
       "       'садовое товарищество Новая Ропша', 'Павловск',\n",
       "       'деревня Пикколово', 'Всеволожск', 'Волхов', 'Кингисепп',\n",
       "       'Приозерск', 'Сестрорецк', 'деревня Куттузи', 'посёлок Аннино',\n",
       "       'посёлок городского типа Ефимовский', 'посёлок Плодовое',\n",
       "       'деревня Заклинье', 'посёлок Торковичи', 'посёлок Первомайское',\n",
       "       'Красное Село', 'посёлок Понтонный', 'Сясьстрой', 'деревня Старая',\n",
       "       'деревня Лесколово', 'посёлок Новый Свет', 'Сланцы',\n",
       "       'село Путилово', 'Ивангород', 'Мурино', 'Шлиссельбург',\n",
       "       'Никольское', 'Зеленогорск', 'Сосновый Бор', 'деревня Оржицы',\n",
       "       'деревня Кальтино', 'Кудрово', 'посёлок Романовка',\n",
       "       'посёлок Бугры', 'посёлок городского типа Рощино', 'Кириши',\n",
       "       'Луга', 'Волосово', 'Отрадное', 'село Павлово', 'посёлок Оредеж',\n",
       "       'село Копорье', 'посёлок Молодёжное', 'Тихвин', 'посёлок Победа',\n",
       "       'деревня Нурма', 'посёлок городского типа Синявино', 'Тосно',\n",
       "       'посёлок Стрельна', 'Бокситогорск', 'посёлок Александровская',\n",
       "       'деревня Лопухинка', 'Пикалёво', 'посёлок Терволово',\n",
       "       'посёлок городского типа Советский', 'Подпорожье',\n",
       "       'посёлок Петровское', 'посёлок городского типа Токсово',\n",
       "       'посёлок Сельцо', 'посёлок городского типа Вырица',\n",
       "       'деревня Кипень', 'деревня Келози', 'деревня Вартемяги',\n",
       "       'посёлок Тельмана', 'посёлок Севастьяново',\n",
       "       'городской посёлок Большая Ижора', 'городской посёлок Павлово',\n",
       "       'деревня Агалатово', 'посёлок Новогорелово',\n",
       "       'городской посёлок Лесогорский', 'деревня Лаголово',\n",
       "       'посёлок Цвелодубово', 'посёлок городского типа Рахья',\n",
       "       'деревня Белогорка', 'посёлок Заводской',\n",
       "       'городской посёлок Новоселье', 'деревня Большие Колпаны',\n",
       "       'деревня Горбунки', 'деревня Батово', 'деревня Заневка',\n",
       "       'деревня Иссад', 'Приморск', 'городской посёлок Фёдоровское',\n",
       "       'деревня Мистолово', 'Новая Ладога', 'посёлок Зимитицы',\n",
       "       'посёлок Барышево', 'деревня Разметелево',\n",
       "       'посёлок городского типа имени Свердлова', 'деревня Пеники',\n",
       "       'посёлок Рябово', 'деревня Пудомяги', 'посёлок станции Корнево',\n",
       "       'деревня Низино', 'деревня Бегуницы', 'посёлок Поляны',\n",
       "       'городской посёлок Мга', 'посёлок Елизаветино',\n",
       "       'посёлок городского типа Кузнечное', 'деревня Колтуши',\n",
       "       'посёлок Запорожское', 'деревня Гостилицы',\n",
       "       'деревня Малое Карлино', 'посёлок Мичуринское',\n",
       "       'посёлок городского типа имени Морозова', 'посёлок Песочный',\n",
       "       'посёлок Сосново', 'деревня Аро', 'посёлок Ильичёво',\n",
       "       'посёлок городского типа Тайцы', 'деревня Малое Верево',\n",
       "       'деревня Извара', 'посёлок станции Вещево', 'село Паша',\n",
       "       'деревня Калитино', 'посёлок городского типа Ульяновка',\n",
       "       'деревня Чудской Бор', 'посёлок городского типа Дубровка',\n",
       "       'деревня Мины', 'посёлок Войсковицы', 'деревня Коркино',\n",
       "       'посёлок Ропша', 'посёлок городского типа Приладожский',\n",
       "       'посёлок Щеглово', 'посёлок Гаврилово', 'Лодейное Поле',\n",
       "       'деревня Рабитицы', 'посёлок городского типа Никольский',\n",
       "       'деревня Кузьмолово', 'деревня Малые Колпаны',\n",
       "       'посёлок Петро-Славянка', 'городской посёлок Назия',\n",
       "       'посёлок Репино', 'посёлок Углово', 'посёлок Старая Малукса',\n",
       "       'садовое товарищество Рахья', 'деревня Меньково',\n",
       "       'деревня Старые Бегуницы', 'посёлок Сапёрный', 'посёлок Семрино',\n",
       "       'посёлок Глажево', 'посёлок Кобринское', 'деревня Гарболово',\n",
       "       'деревня Юкки', 'посёлок станции Приветнинское',\n",
       "       'деревня Мануйлово', 'деревня Пчева', 'посёлок Цвылёво',\n",
       "       'посёлок Мельниково', 'посёлок Пудость', 'посёлок Усть-Луга',\n",
       "       'Светогорск', 'Любань', 'посёлок Селезнёво',\n",
       "       'посёлок городского типа Рябово', 'Каменногорск', 'деревня Кривко',\n",
       "       'посёлок Глебычево', 'деревня Парицы', 'посёлок Жилпосёлок',\n",
       "       'посёлок городского типа Мга', 'посёлок Войскорово',\n",
       "       'село Никольское', 'посёлок Стеклянный',\n",
       "       'посёлок городского типа Важины', 'посёлок Мыза-Ивановка',\n",
       "       'село Русско-Высоцкое', 'посёлок городского типа Форносово',\n",
       "       'село Старая Ладога', 'посёлок Житково',\n",
       "       'городской посёлок Виллози', 'деревня Лампово',\n",
       "       'деревня Шпаньково', 'деревня Лаврики', 'посёлок Сумино',\n",
       "       'посёлок Возрождение', 'деревня Старосиверская',\n",
       "       'посёлок Кикерино', 'деревня Старое Хинколово',\n",
       "       'посёлок Пригородный', 'посёлок Торфяное',\n",
       "       'городской посёлок Будогощь', 'посёлок Суходолье',\n",
       "       'посёлок Красная Долина', 'деревня Хапо-Ое',\n",
       "       'посёлок городского типа Дружная Горка', 'посёлок Лисий Нос',\n",
       "       'деревня Яльгелево', 'село Рождествено', 'деревня Старополье',\n",
       "       'посёлок Левашово', 'деревня Сяськелево', 'деревня Камышовка',\n",
       "       'садоводческое некоммерческое товарищество Лесная Поляна',\n",
       "       'деревня Хязельки', 'посёлок Жилгородок',\n",
       "       'посёлок городского типа Павлово', 'деревня Ялгино',\n",
       "       'посёлок Новый Учхоз', 'городской посёлок Рощино',\n",
       "       'посёлок Гончарово', 'посёлок Почап', 'посёлок Сапёрное',\n",
       "       'посёлок Платформа 69-й километр', 'посёлок Каложицы',\n",
       "       'деревня Фалилеево', 'деревня Пельгора',\n",
       "       'посёлок городского типа Лесогорский', 'деревня Торошковичи',\n",
       "       'посёлок Белоостров', 'посёлок Алексеевка', 'посёлок Серебрянский',\n",
       "       'посёлок Лукаши', 'деревня Щеглово', 'деревня Тарасово',\n",
       "       'посёлок Кингисеппский',\n",
       "       'посёлок при железнодорожной станции Вещево', 'посёлок Ушаки',\n",
       "       'деревня Котлы', 'деревня Сижно', 'деревня Торосово',\n",
       "       'посёлок Форт Красная Горка', 'деревня Новолисино',\n",
       "       'посёлок станции Громово', 'деревня Глинка',\n",
       "       'посёлок городского типа Назия', 'деревня Старая Пустошь',\n",
       "       'посёлок Коммунары', 'посёлок Починок',\n",
       "       'посёлок городского типа Вознесенье', 'деревня Разбегаево',\n",
       "       'посёлок Гладкое',\n",
       "       'посёлок при железнодорожной станции Приветнинское',\n",
       "       'посёлок Тёсово-4', 'деревня Бор', 'посёлок Коробицыно',\n",
       "       'деревня Большая Вруда', 'деревня Курковицы',\n",
       "       'городской посёлок Советский', 'посёлок Кобралово',\n",
       "       'деревня Суоранда', 'посёлок городского типа Кондратьево',\n",
       "       'коттеджный посёлок Счастье', 'посёлок Любань', 'деревня Реброво',\n",
       "       'деревня Зимитицы', 'деревня Тойворово', 'посёлок Семиозерье',\n",
       "       'посёлок Лесное', 'посёлок Совхозный', 'посёлок Ленинское',\n",
       "       'посёлок Суйда', 'деревня Нижние Осельки', 'посёлок станции Свирь',\n",
       "       'посёлок Перово', 'Высоцк', 'посёлок Гарболово', 'село Шум',\n",
       "       'посёлок Котельский', 'посёлок станции Лужайка',\n",
       "       'деревня Большая Пустомержа', 'посёлок Красносельское',\n",
       "       'деревня Вахнова Кара', 'деревня Пижма',\n",
       "       'коттеджный посёлок Кивеннапа Север', 'посёлок Ромашки',\n",
       "       'деревня Каськово', 'деревня Куровицы', 'посёлок Плоское',\n",
       "       'посёлок городского типа Большая Ижора', 'посёлок Кирпичное',\n",
       "       'деревня Ям-Тесово', 'деревня Раздолье', 'деревня Терпилицы',\n",
       "       'посёлок Шугозеро', 'деревня Ваганово', 'посёлок Пушное',\n",
       "       'садовое товарищество Садко', 'посёлок Усть-Ижора',\n",
       "       'деревня Выскатка', 'городской посёлок Свирьстрой',\n",
       "       'посёлок Громово', 'деревня Кисельня', 'деревня Трубников Бор',\n",
       "       'посёлок Калитино', 'посёлок Высокоключевой',\n",
       "       'садовое товарищество Приладожский',\n",
       "       'посёлок Пансионат Зелёный Бор', 'деревня Ненимяки',\n",
       "       'деревня Снегирёвка', 'деревня Рапполово', 'деревня Пустынка',\n",
       "       'посёлок Рабитицы', 'деревня Большой Сабск', 'деревня Русско',\n",
       "       'деревня Лупполово', 'деревня Большое Рейзино',\n",
       "       'деревня Малая Романовка', 'посёлок Дружноселье', 'посёлок Пчевжа',\n",
       "       'посёлок Володарское', 'деревня Нижняя',\n",
       "       'коттеджный посёлок Лесное', 'деревня Тихковицы',\n",
       "       'деревня Борисова Грива', 'посёлок Дзержинского'], dtype=object)"
      ]
     },
     "execution_count": 51,
     "metadata": {},
     "output_type": "execute_result"
    }
   ],
   "source": [
    "df['locality_name'].unique()"
   ]
  },
  {
   "cell_type": "markdown",
   "id": "750e5250",
   "metadata": {},
   "source": [
    "Обнаружен еще один неявный дубликат: \"посёлок Мурино\" и \"Мурино\". Заменим его. "
   ]
  },
  {
   "cell_type": "code",
   "execution_count": 52,
   "id": "71094250",
   "metadata": {},
   "outputs": [],
   "source": [
    "df['locality_name'] = df['locality_name'].replace(\"посёлок Мурино\", \"Мурино\")"
   ]
  },
  {
   "cell_type": "markdown",
   "id": "b9c16236",
   "metadata": {},
   "source": [
    "Проверим замены:"
   ]
  },
  {
   "cell_type": "code",
   "execution_count": 53,
   "id": "f26a5b79",
   "metadata": {},
   "outputs": [
    {
     "data": {
      "text/plain": [
       "array(['Санкт-Петербург', 'посёлок Шушары', 'городской посёлок Янино-1',\n",
       "       'посёлок Парголово', 'Мурино', 'Ломоносов', 'Сертолово',\n",
       "       'Петергоф', 'Пушкин', 'деревня Кудрово', 'Коммунар', 'Колпино',\n",
       "       'посёлок городского типа Красный Бор', 'Гатчина',\n",
       "       'деревня Фёдоровское', 'Выборг', 'Кронштадт', 'Кировск',\n",
       "       'деревня Новое Девяткино', 'посёлок Металлострой',\n",
       "       'посёлок городского типа Лебяжье',\n",
       "       'посёлок городского типа Сиверский', 'посёлок Молодцово',\n",
       "       'посёлок городского типа Кузьмоловский',\n",
       "       'садовое товарищество Новая Ропша', 'Павловск',\n",
       "       'деревня Пикколово', 'Всеволожск', 'Волхов', 'Кингисепп',\n",
       "       'Приозерск', 'Сестрорецк', 'деревня Куттузи', 'посёлок Аннино',\n",
       "       'посёлок городского типа Ефимовский', 'посёлок Плодовое',\n",
       "       'деревня Заклинье', 'посёлок Торковичи', 'посёлок Первомайское',\n",
       "       'Красное Село', 'посёлок Понтонный', 'Сясьстрой', 'деревня Старая',\n",
       "       'деревня Лесколово', 'посёлок Новый Свет', 'Сланцы',\n",
       "       'село Путилово', 'Ивангород', 'Шлиссельбург', 'Никольское',\n",
       "       'Зеленогорск', 'Сосновый Бор', 'деревня Оржицы',\n",
       "       'деревня Кальтино', 'Кудрово', 'посёлок Романовка',\n",
       "       'посёлок Бугры', 'посёлок городского типа Рощино', 'Кириши',\n",
       "       'Луга', 'Волосово', 'Отрадное', 'село Павлово', 'посёлок Оредеж',\n",
       "       'село Копорье', 'посёлок Молодёжное', 'Тихвин', 'посёлок Победа',\n",
       "       'деревня Нурма', 'посёлок городского типа Синявино', 'Тосно',\n",
       "       'посёлок Стрельна', 'Бокситогорск', 'посёлок Александровская',\n",
       "       'деревня Лопухинка', 'Пикалёво', 'посёлок Терволово',\n",
       "       'посёлок городского типа Советский', 'Подпорожье',\n",
       "       'посёлок Петровское', 'посёлок городского типа Токсово',\n",
       "       'посёлок Сельцо', 'посёлок городского типа Вырица',\n",
       "       'деревня Кипень', 'деревня Келози', 'деревня Вартемяги',\n",
       "       'посёлок Тельмана', 'посёлок Севастьяново',\n",
       "       'городской посёлок Большая Ижора', 'городской посёлок Павлово',\n",
       "       'деревня Агалатово', 'посёлок Новогорелово',\n",
       "       'городской посёлок Лесогорский', 'деревня Лаголово',\n",
       "       'посёлок Цвелодубово', 'посёлок городского типа Рахья',\n",
       "       'деревня Белогорка', 'посёлок Заводской',\n",
       "       'городской посёлок Новоселье', 'деревня Большие Колпаны',\n",
       "       'деревня Горбунки', 'деревня Батово', 'деревня Заневка',\n",
       "       'деревня Иссад', 'Приморск', 'городской посёлок Фёдоровское',\n",
       "       'деревня Мистолово', 'Новая Ладога', 'посёлок Зимитицы',\n",
       "       'посёлок Барышево', 'деревня Разметелево',\n",
       "       'посёлок городского типа имени Свердлова', 'деревня Пеники',\n",
       "       'посёлок Рябово', 'деревня Пудомяги', 'посёлок станции Корнево',\n",
       "       'деревня Низино', 'деревня Бегуницы', 'посёлок Поляны',\n",
       "       'городской посёлок Мга', 'посёлок Елизаветино',\n",
       "       'посёлок городского типа Кузнечное', 'деревня Колтуши',\n",
       "       'посёлок Запорожское', 'деревня Гостилицы',\n",
       "       'деревня Малое Карлино', 'посёлок Мичуринское',\n",
       "       'посёлок городского типа имени Морозова', 'посёлок Песочный',\n",
       "       'посёлок Сосново', 'деревня Аро', 'посёлок Ильичёво',\n",
       "       'посёлок городского типа Тайцы', 'деревня Малое Верево',\n",
       "       'деревня Извара', 'посёлок станции Вещево', 'село Паша',\n",
       "       'деревня Калитино', 'посёлок городского типа Ульяновка',\n",
       "       'деревня Чудской Бор', 'посёлок городского типа Дубровка',\n",
       "       'деревня Мины', 'посёлок Войсковицы', 'деревня Коркино',\n",
       "       'посёлок Ропша', 'посёлок городского типа Приладожский',\n",
       "       'посёлок Щеглово', 'посёлок Гаврилово', 'Лодейное Поле',\n",
       "       'деревня Рабитицы', 'посёлок городского типа Никольский',\n",
       "       'деревня Кузьмолово', 'деревня Малые Колпаны',\n",
       "       'посёлок Петро-Славянка', 'городской посёлок Назия',\n",
       "       'посёлок Репино', 'посёлок Углово', 'посёлок Старая Малукса',\n",
       "       'садовое товарищество Рахья', 'деревня Меньково',\n",
       "       'деревня Старые Бегуницы', 'посёлок Сапёрный', 'посёлок Семрино',\n",
       "       'посёлок Глажево', 'посёлок Кобринское', 'деревня Гарболово',\n",
       "       'деревня Юкки', 'посёлок станции Приветнинское',\n",
       "       'деревня Мануйлово', 'деревня Пчева', 'посёлок Цвылёво',\n",
       "       'посёлок Мельниково', 'посёлок Пудость', 'посёлок Усть-Луга',\n",
       "       'Светогорск', 'Любань', 'посёлок Селезнёво',\n",
       "       'посёлок городского типа Рябово', 'Каменногорск', 'деревня Кривко',\n",
       "       'посёлок Глебычево', 'деревня Парицы', 'посёлок Жилпосёлок',\n",
       "       'посёлок городского типа Мга', 'посёлок Войскорово',\n",
       "       'село Никольское', 'посёлок Стеклянный',\n",
       "       'посёлок городского типа Важины', 'посёлок Мыза-Ивановка',\n",
       "       'село Русско-Высоцкое', 'посёлок городского типа Форносово',\n",
       "       'село Старая Ладога', 'посёлок Житково',\n",
       "       'городской посёлок Виллози', 'деревня Лампово',\n",
       "       'деревня Шпаньково', 'деревня Лаврики', 'посёлок Сумино',\n",
       "       'посёлок Возрождение', 'деревня Старосиверская',\n",
       "       'посёлок Кикерино', 'деревня Старое Хинколово',\n",
       "       'посёлок Пригородный', 'посёлок Торфяное',\n",
       "       'городской посёлок Будогощь', 'посёлок Суходолье',\n",
       "       'посёлок Красная Долина', 'деревня Хапо-Ое',\n",
       "       'посёлок городского типа Дружная Горка', 'посёлок Лисий Нос',\n",
       "       'деревня Яльгелево', 'село Рождествено', 'деревня Старополье',\n",
       "       'посёлок Левашово', 'деревня Сяськелево', 'деревня Камышовка',\n",
       "       'садоводческое некоммерческое товарищество Лесная Поляна',\n",
       "       'деревня Хязельки', 'посёлок Жилгородок',\n",
       "       'посёлок городского типа Павлово', 'деревня Ялгино',\n",
       "       'посёлок Новый Учхоз', 'городской посёлок Рощино',\n",
       "       'посёлок Гончарово', 'посёлок Почап', 'посёлок Сапёрное',\n",
       "       'посёлок Платформа 69-й километр', 'посёлок Каложицы',\n",
       "       'деревня Фалилеево', 'деревня Пельгора',\n",
       "       'посёлок городского типа Лесогорский', 'деревня Торошковичи',\n",
       "       'посёлок Белоостров', 'посёлок Алексеевка', 'посёлок Серебрянский',\n",
       "       'посёлок Лукаши', 'деревня Щеглово', 'деревня Тарасово',\n",
       "       'посёлок Кингисеппский',\n",
       "       'посёлок при железнодорожной станции Вещево', 'посёлок Ушаки',\n",
       "       'деревня Котлы', 'деревня Сижно', 'деревня Торосово',\n",
       "       'посёлок Форт Красная Горка', 'деревня Новолисино',\n",
       "       'посёлок станции Громово', 'деревня Глинка',\n",
       "       'посёлок городского типа Назия', 'деревня Старая Пустошь',\n",
       "       'посёлок Коммунары', 'посёлок Починок',\n",
       "       'посёлок городского типа Вознесенье', 'деревня Разбегаево',\n",
       "       'посёлок Гладкое',\n",
       "       'посёлок при железнодорожной станции Приветнинское',\n",
       "       'посёлок Тёсово-4', 'деревня Бор', 'посёлок Коробицыно',\n",
       "       'деревня Большая Вруда', 'деревня Курковицы',\n",
       "       'городской посёлок Советский', 'посёлок Кобралово',\n",
       "       'деревня Суоранда', 'посёлок городского типа Кондратьево',\n",
       "       'коттеджный посёлок Счастье', 'посёлок Любань', 'деревня Реброво',\n",
       "       'деревня Зимитицы', 'деревня Тойворово', 'посёлок Семиозерье',\n",
       "       'посёлок Лесное', 'посёлок Совхозный', 'посёлок Ленинское',\n",
       "       'посёлок Суйда', 'деревня Нижние Осельки', 'посёлок станции Свирь',\n",
       "       'посёлок Перово', 'Высоцк', 'посёлок Гарболово', 'село Шум',\n",
       "       'посёлок Котельский', 'посёлок станции Лужайка',\n",
       "       'деревня Большая Пустомержа', 'посёлок Красносельское',\n",
       "       'деревня Вахнова Кара', 'деревня Пижма',\n",
       "       'коттеджный посёлок Кивеннапа Север', 'посёлок Ромашки',\n",
       "       'деревня Каськово', 'деревня Куровицы', 'посёлок Плоское',\n",
       "       'посёлок городского типа Большая Ижора', 'посёлок Кирпичное',\n",
       "       'деревня Ям-Тесово', 'деревня Раздолье', 'деревня Терпилицы',\n",
       "       'посёлок Шугозеро', 'деревня Ваганово', 'посёлок Пушное',\n",
       "       'садовое товарищество Садко', 'посёлок Усть-Ижора',\n",
       "       'деревня Выскатка', 'городской посёлок Свирьстрой',\n",
       "       'посёлок Громово', 'деревня Кисельня', 'деревня Трубников Бор',\n",
       "       'посёлок Калитино', 'посёлок Высокоключевой',\n",
       "       'садовое товарищество Приладожский',\n",
       "       'посёлок Пансионат Зелёный Бор', 'деревня Ненимяки',\n",
       "       'деревня Снегирёвка', 'деревня Рапполово', 'деревня Пустынка',\n",
       "       'посёлок Рабитицы', 'деревня Большой Сабск', 'деревня Русско',\n",
       "       'деревня Лупполово', 'деревня Большое Рейзино',\n",
       "       'деревня Малая Романовка', 'посёлок Дружноселье', 'посёлок Пчевжа',\n",
       "       'посёлок Володарское', 'деревня Нижняя',\n",
       "       'коттеджный посёлок Лесное', 'деревня Тихковицы',\n",
       "       'деревня Борисова Грива', 'посёлок Дзержинского'], dtype=object)"
      ]
     },
     "execution_count": 53,
     "metadata": {},
     "output_type": "execute_result"
    }
   ],
   "source": [
    "df['locality_name'].unique()"
   ]
  },
  {
   "cell_type": "markdown",
   "id": "be4393dc",
   "metadata": {},
   "source": [
    "Проверим кол-во уникальных значений:"
   ]
  },
  {
   "cell_type": "code",
   "execution_count": 54,
   "id": "2cb12c05",
   "metadata": {},
   "outputs": [
    {
     "data": {
      "text/plain": [
       "329"
      ]
     },
     "execution_count": 54,
     "metadata": {},
     "output_type": "execute_result"
    }
   ],
   "source": [
    "df['locality_name'].nunique()"
   ]
  },
  {
   "cell_type": "markdown",
   "id": "b1eada9d",
   "metadata": {},
   "source": [
    "Кол-во уникальных значений уменьшилось с 364 до 329. Других неявных дубликатов не обнаружено. "
   ]
  },
  {
   "cell_type": "markdown",
   "id": "10dc737b",
   "metadata": {},
   "source": [
    "#### Проверка аномальных значений"
   ]
  },
  {
   "cell_type": "markdown",
   "id": "8cc2ded7",
   "metadata": {},
   "source": [
    "Для определения аномальных значений построим диаграммы размаха для числовых значений, которые могут оказать влияние на результаты анализа:"
   ]
  },
  {
   "cell_type": "code",
   "execution_count": 55,
   "id": "4df84d26",
   "metadata": {
    "scrolled": false
   },
   "outputs": [
    {
     "data": {
      "image/png": "[encoded data removed]",
      "text/plain": [
       "<Figure size 720x720 with 1 Axes>"
      ]
     },
     "metadata": {
      "needs_background": "light"
     },
     "output_type": "display_data"
    },
    {
     "data": {
      "text/plain": [
       "count    2.369900e+04\n",
       "mean     6.541549e+06\n",
       "std      1.088701e+07\n",
       "min      1.219000e+04\n",
       "25%      3.400000e+06\n",
       "50%      4.650000e+06\n",
       "75%      6.800000e+06\n",
       "max      7.630000e+08\n",
       "Name: last_price, dtype: float64"
      ]
     },
     "metadata": {},
     "output_type": "display_data"
    },
    {
     "data": {
      "image/png": "[encoded data removed]",
      "text/plain": [
       "<Figure size 720x720 with 1 Axes>"
      ]
     },
     "metadata": {
      "needs_background": "light"
     },
     "output_type": "display_data"
    },
    {
     "data": {
      "text/plain": [
       "count    23699.000000\n",
       "mean        60.348651\n",
       "std         35.654083\n",
       "min         12.000000\n",
       "25%         40.000000\n",
       "50%         52.000000\n",
       "75%         69.900000\n",
       "max        900.000000\n",
       "Name: total_area, dtype: float64"
      ]
     },
     "metadata": {},
     "output_type": "display_data"
    },
    {
     "data": {
      "image/png": "[encoded data removed]",
      "text/plain": [
       "<Figure size 720x720 with 1 Axes>"
      ]
     },
     "metadata": {
      "needs_background": "light"
     },
     "output_type": "display_data"
    },
    {
     "data": {
      "text/plain": [
       "count    23699.000000\n",
       "mean         2.070636\n",
       "std          1.078405\n",
       "min          0.000000\n",
       "25%          1.000000\n",
       "50%          2.000000\n",
       "75%          3.000000\n",
       "max         19.000000\n",
       "Name: rooms, dtype: float64"
      ]
     },
     "metadata": {},
     "output_type": "display_data"
    },
    {
     "data": {
      "image/png": "[encoded data removed]",
      "text/plain": [
       "<Figure size 720x720 with 1 Axes>"
      ]
     },
     "metadata": {
      "needs_background": "light"
     },
     "output_type": "display_data"
    },
    {
     "data": {
      "text/plain": [
       "count    23699.000000\n",
       "mean         2.737376\n",
       "std          1.006337\n",
       "min          1.000000\n",
       "25%          2.550000\n",
       "50%          2.650000\n",
       "75%          2.750000\n",
       "max        100.000000\n",
       "Name: ceiling_height, dtype: float64"
      ]
     },
     "metadata": {},
     "output_type": "display_data"
    },
    {
     "data": {
      "image/png": "[encoded data removed]",
      "text/plain": [
       "<Figure size 720x720 with 1 Axes>"
      ]
     },
     "metadata": {
      "needs_background": "light"
     },
     "output_type": "display_data"
    },
    {
     "data": {
      "text/plain": [
       "count    23699.000000\n",
       "mean        34.099892\n",
       "std         21.162096\n",
       "min          2.000000\n",
       "25%         19.000000\n",
       "50%         30.000000\n",
       "75%         41.100000\n",
       "max        409.700000\n",
       "Name: living_area, dtype: float64"
      ]
     },
     "metadata": {},
     "output_type": "display_data"
    },
    {
     "data": {
      "image/png": "[encoded data removed]",
      "text/plain": [
       "<Figure size 720x720 with 1 Axes>"
      ]
     },
     "metadata": {
      "needs_background": "light"
     },
     "output_type": "display_data"
    },
    {
     "data": {
      "text/plain": [
       "count    23699.000000\n",
       "mean         0.591080\n",
       "std          0.959298\n",
       "min          0.000000\n",
       "25%          0.000000\n",
       "50%          0.000000\n",
       "75%          1.000000\n",
       "max          5.000000\n",
       "Name: balcony, dtype: float64"
      ]
     },
     "metadata": {},
     "output_type": "display_data"
    }
   ],
   "source": [
    "columns = ['last_price', 'total_area', 'rooms', 'ceiling_height', 'living_area','balcony']\n",
    "for column in columns:\n",
    "    df.boxplot(column, figsize=(10,10))\n",
    "    plt.show()\n",
    "    display(df[column].describe())"
   ]
  },
  {
   "cell_type": "markdown",
   "id": "222c7567",
   "metadata": {},
   "source": [
    "**По диаграммам размаха можно сделать выводы:**\n",
    "1. Дорогие объекты оказывают сильное влияние на значения. Так, 75% продаваемых квартир стоиомстью менее 7 млн, однако, на диаграмме можно наблюдать выбросы до 800 млн. Стандартное отклонение составляет 10 млн, что очень много. Считаю необходимым для корректности дальнейших расчетов ограничить значения от 1 млн. до 10 млн.\n",
    "2. Параметр общая площадь объектов, также имеет достаточно много выбросов. 75% объектов имеют общую площадь 69.9 кв.м. Ограничим данный параметр 150 кв.м.;\n",
    "3. Большинство продаваемых объектов - 1,2,3-комнатные квартиры. Встречаются редкие значения - более 6 комнат;\n",
    "4. Высота потолков содержит множество выбросов. Требуется дополнительный анализ значений данного параметра;\n",
    "5. Аналогично общей площади параметр жилая площадь имеет выбивающиеся значения;\n",
    "6. Некоторые объекты имеют более 2х балконов, что достаточно редко встречается;\n",
    "7. По расстоянию до центра города 75% объектов располагаются на расстоянии около 16 км, но ограничивать данный параметр считаю некорректным, т.к. в данных рассматривает Санкт-Петербург и область. "
   ]
  },
  {
   "cell_type": "markdown",
   "id": "3258754d",
   "metadata": {},
   "source": [
    "Проверим почему такой большой разброс в высоте потолков. Выведем уникальные значения данного столбца."
   ]
  },
  {
   "cell_type": "code",
   "execution_count": 56,
   "id": "41f631ba",
   "metadata": {},
   "outputs": [
    {
     "data": {
      "text/plain": [
       "array([  2.7  ,   2.65 ,   2.6  ,   3.03 ,   2.625,   2.75 ,   2.5  ,\n",
       "         2.67 ,   2.55 ,   2.56 ,   3.05 ,   3.   ,   2.9  ,   2.8  ,\n",
       "         2.76 ,   3.2  ,   2.645,   2.61 ,   2.54 ,   3.15 ,   3.25 ,\n",
       "         3.45 ,   2.77 ,   2.85 ,   2.64 ,   2.57 ,   4.15 ,   3.5  ,\n",
       "         3.3  ,   2.71 ,   4.   ,   2.47 ,   2.73 ,   2.84 ,   3.1  ,\n",
       "         2.675,   2.34 ,   3.4  ,   2.52 ,   3.06 ,   2.72 ,   2.51 ,\n",
       "         2.78 ,  13.85 ,   2.725,  25.   ,   2.58 ,   3.7  ,  14.85 ,\n",
       "         5.2  ,   2.575,   2.525,   2.745,   2.87 ,   2.66 ,   2.775,\n",
       "         2.59 ,   2.   ,   2.45 ,   3.6  ,   5.   ,   2.92 ,   2.505,\n",
       "         3.11 ,   3.13 ,   2.735,   3.8  ,   3.55 ,   3.16 ,   3.62 ,\n",
       "         3.12 ,   2.53 ,   2.565,   2.74 ,   2.96 ,   2.46 ,   5.3  ,\n",
       "         2.79 ,   2.95 ,   4.06 ,   2.94 ,   3.82 ,   3.54 ,   3.53 ,\n",
       "         2.83 ,   3.325,   4.7  ,   2.4  ,   3.38 ,   3.01 ,   5.6  ,\n",
       "         2.65 ,   3.65 ,   3.9  ,   3.18 ,   3.35 ,   2.3  ,   3.57 ,\n",
       "         2.48 ,   2.62 ,   2.82 ,   3.98 ,   2.63 ,   3.83 ,   2.715,\n",
       "         3.52 ,   3.95 ,   3.75 ,   2.88 ,   3.67 ,   3.87 ,   3.66 ,\n",
       "         3.85 ,   3.86 ,   4.19 ,   3.24 ,   4.8  ,   4.5  ,   4.2  ,\n",
       "         3.36 ,  32.   ,   3.08 ,   3.68 ,   3.07 ,   3.37 ,   3.09 ,\n",
       "         8.   ,   3.26 ,   3.34 ,   2.775,   2.81 ,   3.44 ,   2.97 ,\n",
       "         3.14 ,   4.37 ,   2.68 ,   2.6  ,   3.22 ,   3.27 ,  27.   ,\n",
       "         4.1  ,   2.93 ,   3.46 ,  24.   ,   2.785,   3.47 ,   3.33 ,\n",
       "         3.63 ,   3.32 ,  26.   ,   1.2  ,   8.3  ,   2.98 ,   2.86 ,\n",
       "         3.17 ,   4.4  ,   3.28 ,   3.04 ,   4.45 ,   5.5  ,   3.84 ,\n",
       "         3.23 ,   3.02 ,   3.21 ,   3.43 ,  15.   ,   3.78 ,   4.3  ,\n",
       "         3.39 ,   2.69 ,   3.31 ,   4.65 ,   3.56 ,   2.2  ,   2.555,\n",
       "         3.51 ,   2.615,   3.93 ,   3.42 ,   2.99 ,   3.49 ,  14.   ,\n",
       "         4.14 ,   2.91 ,   3.88 ,   1.75 ,   4.25 ,   3.29 ,  20.   ,\n",
       "         2.25 ,   3.76 ,   3.69 ,   6.   ,  22.6  ,   2.89 ,   3.58 ,\n",
       "         5.8  ,  27.5  ,   2.49 ,   4.9  ,   3.48 ,  10.3  ,   1.   ,\n",
       "       100.   ,   3.59 ])"
      ]
     },
     "execution_count": 56,
     "metadata": {},
     "output_type": "execute_result"
    }
   ],
   "source": [
    "df['ceiling_height'].unique()"
   ]
  },
  {
   "cell_type": "markdown",
   "id": "52abf7eb",
   "metadata": {},
   "source": [
    "Высоты потолков 32м, 27м и т.д. похожи на выброс. При этом вероятно при заполнении произошла ошибка и эти значения соответствуют значениям в 3.2м, 2.7м и т.д. Заменим подобные значения:"
   ]
  },
  {
   "cell_type": "code",
   "execution_count": 57,
   "id": "2e18c9ee",
   "metadata": {},
   "outputs": [],
   "source": [
    "df['ceiling_height'] = df['ceiling_height'].replace({32: 3.2, 27: 2.7, 26: 2.6, 22.6: 2.26, 24: 2.4, 25: 2.5, 27.5: 2.75})"
   ]
  },
  {
   "cell_type": "code",
   "execution_count": 58,
   "id": "198cdc02",
   "metadata": {},
   "outputs": [
    {
     "data": {
      "text/plain": [
       "array([  2.7  ,   2.65 ,   2.6  ,   3.03 ,   2.625,   2.75 ,   2.5  ,\n",
       "         2.67 ,   2.55 ,   2.56 ,   3.05 ,   3.   ,   2.9  ,   2.8  ,\n",
       "         2.76 ,   3.2  ,   2.645,   2.61 ,   2.54 ,   3.15 ,   3.25 ,\n",
       "         3.45 ,   2.77 ,   2.85 ,   2.64 ,   2.57 ,   4.15 ,   3.5  ,\n",
       "         3.3  ,   2.71 ,   4.   ,   2.47 ,   2.73 ,   2.84 ,   3.1  ,\n",
       "         2.675,   2.34 ,   3.4  ,   2.52 ,   3.06 ,   2.72 ,   2.51 ,\n",
       "         2.78 ,  13.85 ,   2.725,   2.58 ,   3.7  ,  14.85 ,   5.2  ,\n",
       "         2.575,   2.525,   2.745,   2.87 ,   2.66 ,   2.775,   2.59 ,\n",
       "         2.   ,   2.45 ,   3.6  ,   5.   ,   2.92 ,   2.505,   3.11 ,\n",
       "         3.13 ,   2.735,   3.8  ,   3.55 ,   3.16 ,   3.62 ,   3.12 ,\n",
       "         2.53 ,   2.565,   2.74 ,   2.96 ,   2.46 ,   5.3  ,   2.79 ,\n",
       "         2.95 ,   4.06 ,   2.94 ,   3.82 ,   3.54 ,   3.53 ,   2.83 ,\n",
       "         3.325,   4.7  ,   2.4  ,   3.38 ,   3.01 ,   5.6  ,   2.65 ,\n",
       "         3.65 ,   3.9  ,   3.18 ,   3.35 ,   2.3  ,   3.57 ,   2.48 ,\n",
       "         2.62 ,   2.82 ,   3.98 ,   2.63 ,   3.83 ,   2.715,   3.52 ,\n",
       "         3.95 ,   3.75 ,   2.88 ,   3.67 ,   3.87 ,   3.66 ,   3.85 ,\n",
       "         3.86 ,   4.19 ,   3.24 ,   4.8  ,   4.5  ,   4.2  ,   3.36 ,\n",
       "         3.08 ,   3.68 ,   3.07 ,   3.37 ,   3.09 ,   8.   ,   3.26 ,\n",
       "         3.34 ,   2.775,   2.81 ,   3.44 ,   2.97 ,   3.14 ,   4.37 ,\n",
       "         2.68 ,   2.6  ,   3.22 ,   3.27 ,   4.1  ,   2.93 ,   3.46 ,\n",
       "         2.785,   3.47 ,   3.33 ,   3.63 ,   3.32 ,   1.2  ,   8.3  ,\n",
       "         2.98 ,   2.86 ,   3.17 ,   4.4  ,   3.28 ,   3.04 ,   4.45 ,\n",
       "         5.5  ,   3.84 ,   3.23 ,   3.02 ,   3.21 ,   3.43 ,  15.   ,\n",
       "         3.78 ,   4.3  ,   3.39 ,   2.69 ,   3.31 ,   4.65 ,   3.56 ,\n",
       "         2.2  ,   2.555,   3.51 ,   2.615,   3.93 ,   3.42 ,   2.99 ,\n",
       "         3.49 ,  14.   ,   4.14 ,   2.91 ,   3.88 ,   1.75 ,   4.25 ,\n",
       "         3.29 ,  20.   ,   2.25 ,   3.76 ,   3.69 ,   6.   ,   2.26 ,\n",
       "         2.89 ,   3.58 ,   5.8  ,   2.49 ,   4.9  ,   3.48 ,  10.3  ,\n",
       "         1.   , 100.   ,   3.59 ])"
      ]
     },
     "execution_count": 58,
     "metadata": {},
     "output_type": "execute_result"
    }
   ],
   "source": [
    "df['ceiling_height'].unique()"
   ]
  },
  {
   "cell_type": "markdown",
   "id": "f85b9635",
   "metadata": {},
   "source": [
    "Замена прошла успешно. Высоты потолков со значениями менее 2м и более 6м находятся за пределами нормального распределения и их стоит удалить."
   ]
  },
  {
   "cell_type": "code",
   "execution_count": 59,
   "id": "4f984b29",
   "metadata": {},
   "outputs": [],
   "source": [
    "df = df[(df['ceiling_height'] > 2) & (df['ceiling_height'] < 6)]"
   ]
  },
  {
   "cell_type": "markdown",
   "id": "3e6d0d66",
   "metadata": {},
   "source": [
    "Введем ограничения по всем параметрам, описанные выше:"
   ]
  },
  {
   "cell_type": "code",
   "execution_count": 60,
   "id": "9273c181",
   "metadata": {},
   "outputs": [],
   "source": [
    "df = df.query('last_price >= 1000000 or last_price <= 10000000 or total_area <= 150 or rooms <= 6 or balcony <= 2')"
   ]
  },
  {
   "cell_type": "markdown",
   "id": "3ae7d153",
   "metadata": {},
   "source": [
    "Проверим кол-во удаленных строк:"
   ]
  },
  {
   "cell_type": "code",
   "execution_count": 61,
   "id": "5fe8e48f",
   "metadata": {
    "scrolled": false
   },
   "outputs": [
    {
     "data": {
      "text/plain": [
       "23671"
      ]
     },
     "execution_count": 61,
     "metadata": {},
     "output_type": "execute_result"
    }
   ],
   "source": [
    "len(df)"
   ]
  },
  {
   "cell_type": "markdown",
   "id": "9c8dfb2a",
   "metadata": {},
   "source": [
    "Кол-во удаленных строк составило 23шт, данное кол-во строк на результаты анализа не повлияет. "
   ]
  },
  {
   "cell_type": "markdown",
   "id": "c23f983a",
   "metadata": {},
   "source": [
    "### Посчитайте и добавьте в таблицу новые столбцы"
   ]
  },
  {
   "cell_type": "code",
   "execution_count": 62,
   "id": "431944cf",
   "metadata": {},
   "outputs": [],
   "source": [
    "#добавляем в таблицу новый столбец \"стоимость квадратного метра\"\n",
    "df['square_meter_price'] = df['last_price']/df['total_area']"
   ]
  },
  {
   "cell_type": "code",
   "execution_count": 63,
   "id": "936e875a",
   "metadata": {},
   "outputs": [],
   "source": [
    "#добавляем в таблицу новый столбец \"день публикации\"\n",
    "df['weekday_exposition'] = df['first_day_exposition'].dt.weekday"
   ]
  },
  {
   "cell_type": "code",
   "execution_count": 64,
   "id": "caefb6f9",
   "metadata": {},
   "outputs": [],
   "source": [
    "#добавляем в таблицу новый столбец \"месяц публикации\"\n",
    "df['month_exposition'] = df['first_day_exposition'].dt.month"
   ]
  },
  {
   "cell_type": "code",
   "execution_count": 65,
   "id": "90a7f228",
   "metadata": {},
   "outputs": [],
   "source": [
    "#добавляем в таблицу новый столбец \"год публикации\"\n",
    "df['year_exposition'] = df['first_day_exposition'].dt.year"
   ]
  },
  {
   "cell_type": "code",
   "execution_count": 66,
   "id": "abaa6015",
   "metadata": {},
   "outputs": [],
   "source": [
    "#создаем функцию для определения категории этажа\n",
    "def floor_type(df):\n",
    "    if df['floor'] == 1:\n",
    "        return 'первый'\n",
    "    elif df['floor'] == df['floors_total']:\n",
    "        return 'последний'\n",
    "    elif df['floor'] < df['floors_total']:\n",
    "        return 'другой'\n",
    "    else:\n",
    "        return 'не найдено'   "
   ]
  },
  {
   "cell_type": "code",
   "execution_count": 67,
   "id": "ae2e431e",
   "metadata": {},
   "outputs": [],
   "source": [
    "#добавляем в таблицу новый столбец \"категория этажа\"\n",
    "df['floor_type'] = df.apply(floor_type, axis=1)  "
   ]
  },
  {
   "cell_type": "code",
   "execution_count": 68,
   "id": "971e9c52",
   "metadata": {},
   "outputs": [],
   "source": [
    "#переводим расстояние до центра в км, округляем до целых и сохраняем в том же столбце\n",
    "df['city_сenters_nearest_km'] = (df['city_сenters_nearest']/1000).round().astype('Int64')"
   ]
  },
  {
   "cell_type": "code",
   "execution_count": 69,
   "id": "c30e1990",
   "metadata": {
    "scrolled": true
   },
   "outputs": [
    {
     "data": {
      "text/html": [
       "<div>\n",
       "<style scoped>\n",
       "    .dataframe tbody tr th:only-of-type {\n",
       "        vertical-align: middle;\n",
       "    }\n",
       "\n",
       "    .dataframe tbody tr th {\n",
       "        vertical-align: top;\n",
       "    }\n",
       "\n",
       "    .dataframe thead th {\n",
       "        text-align: right;\n",
       "    }\n",
       "</style>\n",
       "<table border=\"1\" class=\"dataframe\">\n",
       "  <thead>\n",
       "    <tr style=\"text-align: right;\">\n",
       "      <th></th>\n",
       "      <th>total_images</th>\n",
       "      <th>last_price</th>\n",
       "      <th>total_area</th>\n",
       "      <th>first_day_exposition</th>\n",
       "      <th>rooms</th>\n",
       "      <th>ceiling_height</th>\n",
       "      <th>floors_total</th>\n",
       "      <th>living_area</th>\n",
       "      <th>floor</th>\n",
       "      <th>is_apartment</th>\n",
       "      <th>...</th>\n",
       "      <th>parks_nearest</th>\n",
       "      <th>ponds_around_3000</th>\n",
       "      <th>ponds_nearest</th>\n",
       "      <th>days_exposition</th>\n",
       "      <th>square_meter_price</th>\n",
       "      <th>weekday_exposition</th>\n",
       "      <th>month_exposition</th>\n",
       "      <th>year_exposition</th>\n",
       "      <th>floor_type</th>\n",
       "      <th>city_сenters_nearest_km</th>\n",
       "    </tr>\n",
       "  </thead>\n",
       "  <tbody>\n",
       "    <tr>\n",
       "      <th>0</th>\n",
       "      <td>20</td>\n",
       "      <td>13000000</td>\n",
       "      <td>108.00</td>\n",
       "      <td>2019-03-07</td>\n",
       "      <td>3</td>\n",
       "      <td>2.700</td>\n",
       "      <td>9</td>\n",
       "      <td>51.00</td>\n",
       "      <td>8</td>\n",
       "      <td>False</td>\n",
       "      <td>...</td>\n",
       "      <td>482.0</td>\n",
       "      <td>2</td>\n",
       "      <td>755.0</td>\n",
       "      <td>NaN</td>\n",
       "      <td>120370.370370</td>\n",
       "      <td>3</td>\n",
       "      <td>3</td>\n",
       "      <td>2019</td>\n",
       "      <td>другой</td>\n",
       "      <td>16</td>\n",
       "    </tr>\n",
       "    <tr>\n",
       "      <th>1</th>\n",
       "      <td>7</td>\n",
       "      <td>3350000</td>\n",
       "      <td>40.40</td>\n",
       "      <td>2018-12-04</td>\n",
       "      <td>1</td>\n",
       "      <td>2.650</td>\n",
       "      <td>9</td>\n",
       "      <td>18.60</td>\n",
       "      <td>1</td>\n",
       "      <td>False</td>\n",
       "      <td>...</td>\n",
       "      <td>NaN</td>\n",
       "      <td>0</td>\n",
       "      <td>NaN</td>\n",
       "      <td>81.0</td>\n",
       "      <td>82920.792079</td>\n",
       "      <td>1</td>\n",
       "      <td>12</td>\n",
       "      <td>2018</td>\n",
       "      <td>первый</td>\n",
       "      <td>19</td>\n",
       "    </tr>\n",
       "    <tr>\n",
       "      <th>2</th>\n",
       "      <td>10</td>\n",
       "      <td>5196000</td>\n",
       "      <td>56.00</td>\n",
       "      <td>2015-08-20</td>\n",
       "      <td>2</td>\n",
       "      <td>2.600</td>\n",
       "      <td>9</td>\n",
       "      <td>34.30</td>\n",
       "      <td>4</td>\n",
       "      <td>False</td>\n",
       "      <td>...</td>\n",
       "      <td>90.0</td>\n",
       "      <td>2</td>\n",
       "      <td>574.0</td>\n",
       "      <td>558.0</td>\n",
       "      <td>92785.714286</td>\n",
       "      <td>3</td>\n",
       "      <td>8</td>\n",
       "      <td>2015</td>\n",
       "      <td>другой</td>\n",
       "      <td>14</td>\n",
       "    </tr>\n",
       "    <tr>\n",
       "      <th>3</th>\n",
       "      <td>0</td>\n",
       "      <td>64900000</td>\n",
       "      <td>159.00</td>\n",
       "      <td>2015-07-24</td>\n",
       "      <td>3</td>\n",
       "      <td>2.600</td>\n",
       "      <td>9</td>\n",
       "      <td>30.00</td>\n",
       "      <td>9</td>\n",
       "      <td>False</td>\n",
       "      <td>...</td>\n",
       "      <td>84.0</td>\n",
       "      <td>3</td>\n",
       "      <td>234.0</td>\n",
       "      <td>424.0</td>\n",
       "      <td>408176.100629</td>\n",
       "      <td>4</td>\n",
       "      <td>7</td>\n",
       "      <td>2015</td>\n",
       "      <td>последний</td>\n",
       "      <td>7</td>\n",
       "    </tr>\n",
       "    <tr>\n",
       "      <th>4</th>\n",
       "      <td>2</td>\n",
       "      <td>10000000</td>\n",
       "      <td>100.00</td>\n",
       "      <td>2018-06-19</td>\n",
       "      <td>2</td>\n",
       "      <td>3.030</td>\n",
       "      <td>13</td>\n",
       "      <td>32.00</td>\n",
       "      <td>13</td>\n",
       "      <td>False</td>\n",
       "      <td>...</td>\n",
       "      <td>112.0</td>\n",
       "      <td>1</td>\n",
       "      <td>48.0</td>\n",
       "      <td>121.0</td>\n",
       "      <td>100000.000000</td>\n",
       "      <td>1</td>\n",
       "      <td>6</td>\n",
       "      <td>2018</td>\n",
       "      <td>последний</td>\n",
       "      <td>8</td>\n",
       "    </tr>\n",
       "    <tr>\n",
       "      <th>5</th>\n",
       "      <td>10</td>\n",
       "      <td>2890000</td>\n",
       "      <td>30.40</td>\n",
       "      <td>2018-09-10</td>\n",
       "      <td>1</td>\n",
       "      <td>2.625</td>\n",
       "      <td>9</td>\n",
       "      <td>14.40</td>\n",
       "      <td>5</td>\n",
       "      <td>False</td>\n",
       "      <td>...</td>\n",
       "      <td>NaN</td>\n",
       "      <td>0</td>\n",
       "      <td>NaN</td>\n",
       "      <td>55.0</td>\n",
       "      <td>95065.789474</td>\n",
       "      <td>0</td>\n",
       "      <td>9</td>\n",
       "      <td>2018</td>\n",
       "      <td>другой</td>\n",
       "      <td>&lt;NA&gt;</td>\n",
       "    </tr>\n",
       "    <tr>\n",
       "      <th>6</th>\n",
       "      <td>6</td>\n",
       "      <td>3700000</td>\n",
       "      <td>37.30</td>\n",
       "      <td>2017-11-02</td>\n",
       "      <td>1</td>\n",
       "      <td>2.600</td>\n",
       "      <td>9</td>\n",
       "      <td>10.60</td>\n",
       "      <td>6</td>\n",
       "      <td>False</td>\n",
       "      <td>...</td>\n",
       "      <td>NaN</td>\n",
       "      <td>0</td>\n",
       "      <td>NaN</td>\n",
       "      <td>155.0</td>\n",
       "      <td>99195.710456</td>\n",
       "      <td>3</td>\n",
       "      <td>11</td>\n",
       "      <td>2017</td>\n",
       "      <td>другой</td>\n",
       "      <td>19</td>\n",
       "    </tr>\n",
       "    <tr>\n",
       "      <th>7</th>\n",
       "      <td>5</td>\n",
       "      <td>7915000</td>\n",
       "      <td>71.60</td>\n",
       "      <td>2019-04-18</td>\n",
       "      <td>2</td>\n",
       "      <td>2.750</td>\n",
       "      <td>22</td>\n",
       "      <td>30.00</td>\n",
       "      <td>22</td>\n",
       "      <td>False</td>\n",
       "      <td>...</td>\n",
       "      <td>NaN</td>\n",
       "      <td>0</td>\n",
       "      <td>NaN</td>\n",
       "      <td>NaN</td>\n",
       "      <td>110544.692737</td>\n",
       "      <td>3</td>\n",
       "      <td>4</td>\n",
       "      <td>2019</td>\n",
       "      <td>последний</td>\n",
       "      <td>12</td>\n",
       "    </tr>\n",
       "    <tr>\n",
       "      <th>8</th>\n",
       "      <td>20</td>\n",
       "      <td>2900000</td>\n",
       "      <td>33.16</td>\n",
       "      <td>2018-05-23</td>\n",
       "      <td>1</td>\n",
       "      <td>2.650</td>\n",
       "      <td>26</td>\n",
       "      <td>15.43</td>\n",
       "      <td>26</td>\n",
       "      <td>False</td>\n",
       "      <td>...</td>\n",
       "      <td>NaN</td>\n",
       "      <td>0</td>\n",
       "      <td>NaN</td>\n",
       "      <td>189.0</td>\n",
       "      <td>87454.764777</td>\n",
       "      <td>2</td>\n",
       "      <td>5</td>\n",
       "      <td>2018</td>\n",
       "      <td>последний</td>\n",
       "      <td>&lt;NA&gt;</td>\n",
       "    </tr>\n",
       "    <tr>\n",
       "      <th>9</th>\n",
       "      <td>18</td>\n",
       "      <td>5400000</td>\n",
       "      <td>61.00</td>\n",
       "      <td>2017-02-26</td>\n",
       "      <td>3</td>\n",
       "      <td>2.500</td>\n",
       "      <td>9</td>\n",
       "      <td>43.60</td>\n",
       "      <td>7</td>\n",
       "      <td>False</td>\n",
       "      <td>...</td>\n",
       "      <td>NaN</td>\n",
       "      <td>0</td>\n",
       "      <td>NaN</td>\n",
       "      <td>289.0</td>\n",
       "      <td>88524.590164</td>\n",
       "      <td>6</td>\n",
       "      <td>2</td>\n",
       "      <td>2017</td>\n",
       "      <td>другой</td>\n",
       "      <td>15</td>\n",
       "    </tr>\n",
       "  </tbody>\n",
       "</table>\n",
       "<p>10 rows × 28 columns</p>\n",
       "</div>"
      ],
      "text/plain": [
       "   total_images  last_price  total_area first_day_exposition  rooms  \\\n",
       "0            20    13000000      108.00           2019-03-07      3   \n",
       "1             7     3350000       40.40           2018-12-04      1   \n",
       "2            10     5196000       56.00           2015-08-20      2   \n",
       "3             0    64900000      159.00           2015-07-24      3   \n",
       "4             2    10000000      100.00           2018-06-19      2   \n",
       "5            10     2890000       30.40           2018-09-10      1   \n",
       "6             6     3700000       37.30           2017-11-02      1   \n",
       "7             5     7915000       71.60           2019-04-18      2   \n",
       "8            20     2900000       33.16           2018-05-23      1   \n",
       "9            18     5400000       61.00           2017-02-26      3   \n",
       "\n",
       "   ceiling_height  floors_total  living_area  floor  is_apartment  ...  \\\n",
       "0           2.700             9        51.00      8         False  ...   \n",
       "1           2.650             9        18.60      1         False  ...   \n",
       "2           2.600             9        34.30      4         False  ...   \n",
       "3           2.600             9        30.00      9         False  ...   \n",
       "4           3.030            13        32.00     13         False  ...   \n",
       "5           2.625             9        14.40      5         False  ...   \n",
       "6           2.600             9        10.60      6         False  ...   \n",
       "7           2.750            22        30.00     22         False  ...   \n",
       "8           2.650            26        15.43     26         False  ...   \n",
       "9           2.500             9        43.60      7         False  ...   \n",
       "\n",
       "   parks_nearest  ponds_around_3000  ponds_nearest  days_exposition  \\\n",
       "0          482.0                  2          755.0              NaN   \n",
       "1            NaN                  0            NaN             81.0   \n",
       "2           90.0                  2          574.0            558.0   \n",
       "3           84.0                  3          234.0            424.0   \n",
       "4          112.0                  1           48.0            121.0   \n",
       "5            NaN                  0            NaN             55.0   \n",
       "6            NaN                  0            NaN            155.0   \n",
       "7            NaN                  0            NaN              NaN   \n",
       "8            NaN                  0            NaN            189.0   \n",
       "9            NaN                  0            NaN            289.0   \n",
       "\n",
       "  square_meter_price  weekday_exposition  month_exposition  year_exposition  \\\n",
       "0      120370.370370                   3                 3             2019   \n",
       "1       82920.792079                   1                12             2018   \n",
       "2       92785.714286                   3                 8             2015   \n",
       "3      408176.100629                   4                 7             2015   \n",
       "4      100000.000000                   1                 6             2018   \n",
       "5       95065.789474                   0                 9             2018   \n",
       "6       99195.710456                   3                11             2017   \n",
       "7      110544.692737                   3                 4             2019   \n",
       "8       87454.764777                   2                 5             2018   \n",
       "9       88524.590164                   6                 2             2017   \n",
       "\n",
       "   floor_type  city_сenters_nearest_km  \n",
       "0      другой                       16  \n",
       "1      первый                       19  \n",
       "2      другой                       14  \n",
       "3   последний                        7  \n",
       "4   последний                        8  \n",
       "5      другой                     <NA>  \n",
       "6      другой                       19  \n",
       "7   последний                       12  \n",
       "8   последний                     <NA>  \n",
       "9      другой                       15  \n",
       "\n",
       "[10 rows x 28 columns]"
      ]
     },
     "execution_count": 69,
     "metadata": {},
     "output_type": "execute_result"
    }
   ],
   "source": [
    "#Проверяем выполненные преобразования\n",
    "df.head(10)"
   ]
  },
  {
   "cell_type": "markdown",
   "id": "32aa6e70",
   "metadata": {},
   "source": [
    "Все добавления прошли успешно."
   ]
  },
  {
   "cell_type": "markdown",
   "id": "31fc15f5",
   "metadata": {},
   "source": [
    "**Вывод:**\\\n",
    "В таблицу добавлены столбцы: стоимость квадратного метра; день, месяц и год публикации; тип этажа; расстояние до центра города в километрах."
   ]
  },
  {
   "cell_type": "markdown",
   "id": "8173a8e4",
   "metadata": {},
   "source": [
    "### Исследовательский анализ данных"
   ]
  },
  {
   "cell_type": "markdown",
   "id": "0dbdf675",
   "metadata": {},
   "source": [
    "#### Гисторграммы для числовых значений и предварительные наблюдения по полученным значениям:"
   ]
  },
  {
   "cell_type": "code",
   "execution_count": 70,
   "id": "1c1ee0d5",
   "metadata": {},
   "outputs": [],
   "source": [
    "#Построить гисторграммы можно при помощи цикла, но некоторорые гистограммы требуют индивидуальной настройки, поэтому построим их вручную. "
   ]
  },
  {
   "cell_type": "code",
   "execution_count": 71,
   "id": "933b072b",
   "metadata": {
    "scrolled": false
   },
   "outputs": [
    {
     "data": {
      "text/plain": [
       "<AxesSubplot:>"
      ]
     },
     "execution_count": 71,
     "metadata": {},
     "output_type": "execute_result"
    },
    {
     "data": {
      "image/png": "[encoded data removed]",
      "text/plain": [
       "<Figure size 432x288 with 1 Axes>"
      ]
     },
     "metadata": {
      "needs_background": "light"
     },
     "output_type": "display_data"
    }
   ],
   "source": [
    "#построим гистограмму для параметра \"общая площадь\":\n",
    "df['total_area'].hist(range=(0,500))"
   ]
  },
  {
   "cell_type": "markdown",
   "id": "59ead518",
   "metadata": {},
   "source": [
    "Большая часть продаваемых квартир имеет общую площадь до 100 кв.м. При этом встречаются редкие варианты с площадью около 800 кв.м."
   ]
  },
  {
   "cell_type": "code",
   "execution_count": 72,
   "id": "bef26865",
   "metadata": {},
   "outputs": [
    {
     "data": {
      "text/plain": [
       "<AxesSubplot:>"
      ]
     },
     "execution_count": 72,
     "metadata": {},
     "output_type": "execute_result"
    },
    {
     "data": {
      "image/png": "[encoded data removed]",
      "text/plain": [
       "<Figure size 432x288 with 1 Axes>"
      ]
     },
     "metadata": {
      "needs_background": "light"
     },
     "output_type": "display_data"
    }
   ],
   "source": [
    "#Построим гистограмму для параметра \"жилая площадь\"\n",
    "df['living_area'].hist()"
   ]
  },
  {
   "cell_type": "markdown",
   "id": "01b63f90",
   "metadata": {},
   "source": [
    "Большая часть продаваемых квартир имеет жилую площадь до 50 кв.м. При этом некоторые квартиры имеют жилую площадь 0, можно предположить, что это аппартаменты. "
   ]
  },
  {
   "cell_type": "code",
   "execution_count": 73,
   "id": "ba298a5a",
   "metadata": {},
   "outputs": [
    {
     "data": {
      "text/plain": [
       "<AxesSubplot:>"
      ]
     },
     "execution_count": 73,
     "metadata": {},
     "output_type": "execute_result"
    },
    {
     "data": {
      "image/png": "[encoded data removed]",
      "text/plain": [
       "<Figure size 432x288 with 1 Axes>"
      ]
     },
     "metadata": {
      "needs_background": "light"
     },
     "output_type": "display_data"
    }
   ],
   "source": [
    "#Построим гистограмму для параметра \"площадь кухни\"\n",
    "df['kitchen_area'].hist()"
   ]
  },
  {
   "cell_type": "markdown",
   "id": "08774d76",
   "metadata": {},
   "source": [
    "Площадь кухни варьируется от 0 до 20 кв.м. "
   ]
  },
  {
   "cell_type": "code",
   "execution_count": 74,
   "id": "af6878e0",
   "metadata": {},
   "outputs": [
    {
     "data": {
      "text/plain": [
       "<AxesSubplot:ylabel='Frequency'>"
      ]
     },
     "execution_count": 74,
     "metadata": {},
     "output_type": "execute_result"
    },
    {
     "data": {
      "image/png": "[encoded data removed]",
      "text/plain": [
       "<Figure size 432x288 with 1 Axes>"
      ]
     },
     "metadata": {
      "needs_background": "light"
     },
     "output_type": "display_data"
    }
   ],
   "source": [
    "#Построим гистограмму для параметра \"цена на момент снятия с публикации\":\n",
    "df['last_price'].plot(kind='hist', range=[0,20000000], grid=True)"
   ]
  },
  {
   "cell_type": "markdown",
   "id": "25b9b0bc",
   "metadata": {},
   "source": [
    "Большинство продаваемых объектов стоят от 2 до 8 млн. "
   ]
  },
  {
   "cell_type": "code",
   "execution_count": 75,
   "id": "cd2bc827",
   "metadata": {},
   "outputs": [
    {
     "data": {
      "text/plain": [
       "<AxesSubplot:>"
      ]
     },
     "execution_count": 75,
     "metadata": {},
     "output_type": "execute_result"
    },
    {
     "data": {
      "image/png": "[encoded data removed]",
      "text/plain": [
       "<Figure size 432x288 with 1 Axes>"
      ]
     },
     "metadata": {
      "needs_background": "light"
     },
     "output_type": "display_data"
    }
   ],
   "source": [
    "#Построим гистограмму для параметра \"количество комнат\":\n",
    "df['rooms'].hist()"
   ]
  },
  {
   "cell_type": "markdown",
   "id": "4265ee82",
   "metadata": {},
   "source": [
    "Большинство продаваемых квартир имеет 2-3 комнаты, чуть меньше 1 комнату."
   ]
  },
  {
   "cell_type": "code",
   "execution_count": 76,
   "id": "eb1baee0",
   "metadata": {},
   "outputs": [
    {
     "data": {
      "text/plain": [
       "<AxesSubplot:>"
      ]
     },
     "execution_count": 76,
     "metadata": {},
     "output_type": "execute_result"
    },
    {
     "data": {
      "image/png": "[encoded data removed]",
      "text/plain": [
       "<Figure size 432x288 with 1 Axes>"
      ]
     },
     "metadata": {
      "needs_background": "light"
     },
     "output_type": "display_data"
    }
   ],
   "source": [
    "#Построим гистограмму для параметра \"высота потолков\":\n",
    "df['ceiling_height'].hist()"
   ]
  },
  {
   "cell_type": "markdown",
   "id": "e78a9fc4",
   "metadata": {},
   "source": [
    "Большинство продаваемых квартир имеет высоту потолков в интервале от 2.5м до 3м."
   ]
  },
  {
   "cell_type": "code",
   "execution_count": 77,
   "id": "9a75c2d9",
   "metadata": {},
   "outputs": [
    {
     "data": {
      "text/plain": [
       "<AxesSubplot:>"
      ]
     },
     "execution_count": 77,
     "metadata": {},
     "output_type": "execute_result"
    },
    {
     "data": {
      "image/png": "[encoded data removed]",
      "text/plain": [
       "<Figure size 432x288 with 1 Axes>"
      ]
     },
     "metadata": {
      "needs_background": "light"
     },
     "output_type": "display_data"
    }
   ],
   "source": [
    "#Построим гистограмму для параметра \"этаж квартиры\":\n",
    "df['floor'].hist()"
   ]
  },
  {
   "cell_type": "markdown",
   "id": "0e374107",
   "metadata": {},
   "source": [
    "Большинство продаваемых объектов расположены с 1го по 5й этажи, примерно вполовину меньше с 5 по 10. "
   ]
  },
  {
   "cell_type": "code",
   "execution_count": 78,
   "id": "53535878",
   "metadata": {},
   "outputs": [
    {
     "data": {
      "text/plain": [
       "<AxesSubplot:>"
      ]
     },
     "execution_count": 78,
     "metadata": {},
     "output_type": "execute_result"
    },
    {
     "data": {
      "image/png": "[encoded data removed]",
      "text/plain": [
       "<Figure size 432x288 with 1 Axes>"
      ]
     },
     "metadata": {
      "needs_background": "light"
     },
     "output_type": "display_data"
    }
   ],
   "source": [
    "#Построим гистограмму для параметра \"тип этажа квартиры\":\n",
    "df['floor_type'].hist()"
   ]
  },
  {
   "cell_type": "markdown",
   "id": "bdd32f4e",
   "metadata": {},
   "source": [
    "Большинство продаваемых объектов расположены не на крайних этажах. "
   ]
  },
  {
   "cell_type": "code",
   "execution_count": 79,
   "id": "193779a2",
   "metadata": {},
   "outputs": [
    {
     "data": {
      "text/plain": [
       "<AxesSubplot:>"
      ]
     },
     "execution_count": 79,
     "metadata": {},
     "output_type": "execute_result"
    },
    {
     "data": {
      "image/png": "[encoded data removed]",
      "text/plain": [
       "<Figure size 432x288 with 1 Axes>"
      ]
     },
     "metadata": {
      "needs_background": "light"
     },
     "output_type": "display_data"
    }
   ],
   "source": [
    "#Построим гистограмму для параметра \"общее количество этажей в доме\":\n",
    "df['floors_total'].hist()"
   ]
  },
  {
   "cell_type": "markdown",
   "id": "993a443a",
   "metadata": {},
   "source": [
    "Большая часть продаваемых объектов имеет от 5 до 12 этажей в доме. "
   ]
  },
  {
   "cell_type": "code",
   "execution_count": 80,
   "id": "e20f1d82",
   "metadata": {},
   "outputs": [
    {
     "data": {
      "text/plain": [
       "<AxesSubplot:>"
      ]
     },
     "execution_count": 80,
     "metadata": {},
     "output_type": "execute_result"
    },
    {
     "data": {
      "image/png": "[encoded data removed]",
      "text/plain": [
       "<Figure size 432x288 with 1 Axes>"
      ]
     },
     "metadata": {
      "needs_background": "light"
     },
     "output_type": "display_data"
    }
   ],
   "source": [
    "#Построим гистограмму для параметра \"расстояние до центра города в метрах\":\n",
    "df['city_сenters_nearest'].hist()"
   ]
  },
  {
   "cell_type": "markdown",
   "id": "917424fb",
   "metadata": {},
   "source": [
    "Большая часть продаваемых объектов расположены на расстоянии до 20 000м от центра города."
   ]
  },
  {
   "cell_type": "code",
   "execution_count": 81,
   "id": "84a4c0f0",
   "metadata": {},
   "outputs": [
    {
     "data": {
      "text/plain": [
       "<AxesSubplot:>"
      ]
     },
     "execution_count": 81,
     "metadata": {},
     "output_type": "execute_result"
    },
    {
     "data": {
      "image/png": "[encoded data removed]",
      "text/plain": [
       "<Figure size 432x288 with 1 Axes>"
      ]
     },
     "metadata": {
      "needs_background": "light"
     },
     "output_type": "display_data"
    }
   ],
   "source": [
    "#Построим гистограмму для параметра \"расстояние до ближайшего аэропорта\":\n",
    "df['airports_nearest'].hist()"
   ]
  },
  {
   "cell_type": "markdown",
   "id": "6d0cea56",
   "metadata": {},
   "source": [
    "Большая часть продаваемых объектов расположены на расстоянии от 10 000м до 40 000м от аэропорта."
   ]
  },
  {
   "cell_type": "code",
   "execution_count": 82,
   "id": "c1f7b21b",
   "metadata": {},
   "outputs": [
    {
     "data": {
      "text/plain": [
       "<AxesSubplot:>"
      ]
     },
     "execution_count": 82,
     "metadata": {},
     "output_type": "execute_result"
    },
    {
     "data": {
      "image/png": "[encoded data removed]",
      "text/plain": [
       "<Figure size 432x288 with 1 Axes>"
      ]
     },
     "metadata": {
      "needs_background": "light"
     },
     "output_type": "display_data"
    }
   ],
   "source": [
    "#Построим гистограмму для параметра \"расстояние до ближайшего парка\":\n",
    "df['parks_nearest'].hist()"
   ]
  },
  {
   "cell_type": "markdown",
   "id": "f48d7489",
   "metadata": {},
   "source": [
    "Около 4000 объектов расположены на расстоянии до 600м от парка."
   ]
  },
  {
   "cell_type": "code",
   "execution_count": 83,
   "id": "b8b55e77",
   "metadata": {},
   "outputs": [
    {
     "data": {
      "text/plain": [
       "<AxesSubplot:>"
      ]
     },
     "execution_count": 83,
     "metadata": {},
     "output_type": "execute_result"
    },
    {
     "data": {
      "image/png": "[encoded data removed]",
      "text/plain": [
       "<Figure size 432x288 with 1 Axes>"
      ]
     },
     "metadata": {
      "needs_background": "light"
     },
     "output_type": "display_data"
    }
   ],
   "source": [
    "#Построим гистограмму для параметра \"день публикации\":\n",
    "df['weekday_exposition'].hist()"
   ]
  },
  {
   "cell_type": "markdown",
   "id": "96f7509d",
   "metadata": {},
   "source": [
    "Большинство объявлений публикуются на буднях, меньше на выходных."
   ]
  },
  {
   "cell_type": "code",
   "execution_count": 84,
   "id": "ea35a677",
   "metadata": {},
   "outputs": [
    {
     "data": {
      "text/plain": [
       "<AxesSubplot:>"
      ]
     },
     "execution_count": 84,
     "metadata": {},
     "output_type": "execute_result"
    },
    {
     "data": {
      "image/png": "[encoded data removed]",
      "text/plain": [
       "<Figure size 432x288 with 1 Axes>"
      ]
     },
     "metadata": {
      "needs_background": "light"
     },
     "output_type": "display_data"
    }
   ],
   "source": [
    "#Построим гистограмму для параметра \"месяц публикации\":\n",
    "df['month_exposition'].hist()"
   ]
  },
  {
   "cell_type": "markdown",
   "id": "cb87933c",
   "metadata": {},
   "source": [
    "Больше всего объявлений публикуется в декабре и январе, меньше всего в начале мая."
   ]
  },
  {
   "cell_type": "markdown",
   "id": "3e9f5593",
   "metadata": {},
   "source": [
    "**Выводы:**\n",
    "1. Большая часть продаваемых квартир имеет общую площадь до 100 кв.м. При этом встречаются редкие варианты с площадью около 800 кв.м. Жилая площадь до 50 кв.м. При этом некоторые квартиры имеют жилую площадь 0, можно предположить, что это аппартаменты. \n",
    "2. Площадь кухни варьируется от 0 до 20 кв.м. \n",
    "3. Большинство продаваемых объектов стоят от 2 до 8 млн;\n",
    "4. Большинство продаваемых квартир имеет 2-3 комнаты, чуть меньше 1 комнату;\n",
    "5. Высота потолков в большинстве объектов находится в интервале от 2.5м до 3м;\n",
    "6. Расположены объекты в основном с 1го по 5й этажи, примерно вполовину меньше с 5 по 10;\n",
    "7. Большинство продаваемых объектов расположены не на крайних этажах;\n",
    "8. Большая часть продаваемых объектов имеет от 5 до 12 этажей в доме;\n",
    "9. Большая часть продаваемых объектов расположены на расстоянии до 20 км от центра города;\n",
    "10. Большая часть продаваемых объектов расположены на расстоянии от 10 000м до 40 000м от аэропорта;\n",
    "11. Около 4000 объектов расположены на расстоянии до 600м от парка;\n",
    "12. Большинство объявлений публикуются на буднях в середине недели, меньше на выходных;\n",
    "13. Больше всего объявлений публикуется в декабре и январе, меньше всего в начале мая."
   ]
  },
  {
   "cell_type": "markdown",
   "id": "6b5a7144",
   "metadata": {},
   "source": [
    "#### Как быстро продаются квартиры"
   ]
  },
  {
   "cell_type": "markdown",
   "id": "4db2caff",
   "metadata": {},
   "source": [
    "Построим гистограмму по параметру days_exposition:"
   ]
  },
  {
   "cell_type": "code",
   "execution_count": 85,
   "id": "f1bba9d7",
   "metadata": {},
   "outputs": [
    {
     "data": {
      "text/plain": [
       "<AxesSubplot:>"
      ]
     },
     "execution_count": 85,
     "metadata": {},
     "output_type": "execute_result"
    },
    {
     "data": {
      "image/png": "[encoded data removed]",
      "text/plain": [
       "<Figure size 432x288 with 1 Axes>"
      ]
     },
     "metadata": {
      "needs_background": "light"
     },
     "output_type": "display_data"
    }
   ],
   "source": [
    "df['days_exposition'].hist(range=(0,100), bins=100)"
   ]
  },
  {
   "cell_type": "markdown",
   "id": "43f74d35",
   "metadata": {},
   "source": [
    "На гистограмме видны пики в районе 45 дней и 60 дней."
   ]
  },
  {
   "cell_type": "markdown",
   "id": "530ebcd9",
   "metadata": {},
   "source": [
    "Посчитаем основные показатели скорости продажи квартир:"
   ]
  },
  {
   "cell_type": "code",
   "execution_count": 86,
   "id": "bebf29ab",
   "metadata": {},
   "outputs": [
    {
     "data": {
      "text/plain": [
       "count    20494.000000\n",
       "mean       180.931736\n",
       "std        219.801179\n",
       "min          1.000000\n",
       "25%         45.000000\n",
       "50%         95.000000\n",
       "75%        232.000000\n",
       "max       1580.000000\n",
       "Name: days_exposition, dtype: float64"
      ]
     },
     "execution_count": 86,
     "metadata": {},
     "output_type": "execute_result"
    }
   ],
   "source": [
    "df['days_exposition'].describe()"
   ]
  },
  {
   "cell_type": "markdown",
   "id": "08f5dd52",
   "metadata": {},
   "source": [
    "**Вывод:**\\\n",
    "В 75% случаев квартира продается за 232 дня. Быстрыми можно считать продажи, которые происходят менее чем за 45 дней, необычно быстрые продажи - 1 день. Необычно долгие продажи - более 600 дней. "
   ]
  },
  {
   "cell_type": "markdown",
   "id": "b0ed20ef",
   "metadata": {},
   "source": [
    "#### Зависимость стоимости объекта от различных факторов"
   ]
  },
  {
   "cell_type": "markdown",
   "id": "ee77dac8",
   "metadata": {},
   "source": [
    "Построим диаграммы рассеяния и определим коэффициенты корреляции между различными параметрами и конечной стоимостью квартиры.  "
   ]
  },
  {
   "cell_type": "code",
   "execution_count": 87,
   "id": "84e81b34",
   "metadata": {
    "scrolled": false
   },
   "outputs": [
    {
     "data": {
      "image/png": "[encoded data removed]",
      "text/plain": [
       "<Figure size 432x288 with 1 Axes>"
      ]
     },
     "metadata": {
      "needs_background": "light"
     },
     "output_type": "display_data"
    },
    {
     "data": {
      "text/plain": [
       "'Коэффициент корреляции: 0.6538139999829581'"
      ]
     },
     "metadata": {},
     "output_type": "display_data"
    },
    {
     "data": {
      "image/png": "[encoded data removed]",
      "text/plain": [
       "<Figure size 432x288 with 1 Axes>"
      ]
     },
     "metadata": {
      "needs_background": "light"
     },
     "output_type": "display_data"
    },
    {
     "data": {
      "text/plain": [
       "'Коэффициент корреляции: 0.5399487978767971'"
      ]
     },
     "metadata": {},
     "output_type": "display_data"
    },
    {
     "data": {
      "image/png": "[encoded data removed]",
      "text/plain": [
       "<Figure size 432x288 with 1 Axes>"
      ]
     },
     "metadata": {
      "needs_background": "light"
     },
     "output_type": "display_data"
    },
    {
     "data": {
      "text/plain": [
       "'Коэффициент корреляции: 0.4512796539945205'"
      ]
     },
     "metadata": {},
     "output_type": "display_data"
    },
    {
     "data": {
      "image/png": "[encoded data removed]",
      "text/plain": [
       "<Figure size 432x288 with 1 Axes>"
      ]
     },
     "metadata": {
      "needs_background": "light"
     },
     "output_type": "display_data"
    },
    {
     "data": {
      "text/plain": [
       "'Коэффициент корреляции: 0.3634757151027081'"
      ]
     },
     "metadata": {},
     "output_type": "display_data"
    },
    {
     "data": {
      "image/png": "[encoded data removed]",
      "text/plain": [
       "<Figure size 432x288 with 1 Axes>"
      ]
     },
     "metadata": {
      "needs_background": "light"
     },
     "output_type": "display_data"
    },
    {
     "data": {
      "text/plain": [
       "'Коэффциент корреляции определить невозможно'"
      ]
     },
     "metadata": {},
     "output_type": "display_data"
    },
    {
     "data": {
      "image/png": "[encoded data removed]",
      "text/plain": [
       "<Figure size 432x288 with 1 Axes>"
      ]
     },
     "metadata": {
      "needs_background": "light"
     },
     "output_type": "display_data"
    },
    {
     "data": {
      "text/plain": [
       "'Коэффициент корреляции: 0.002246263353720631'"
      ]
     },
     "metadata": {},
     "output_type": "display_data"
    },
    {
     "data": {
      "image/png": "[encoded data removed]",
      "text/plain": [
       "<Figure size 432x288 with 1 Axes>"
      ]
     },
     "metadata": {
      "needs_background": "light"
     },
     "output_type": "display_data"
    },
    {
     "data": {
      "text/plain": [
       "'Коэффициент корреляции: 0.0027923234662203308'"
      ]
     },
     "metadata": {},
     "output_type": "display_data"
    },
    {
     "data": {
      "image/png": "[encoded data removed]",
      "text/plain": [
       "<Figure size 432x288 with 1 Axes>"
      ]
     },
     "metadata": {
      "needs_background": "light"
     },
     "output_type": "display_data"
    },
    {
     "data": {
      "text/plain": [
       "'Коэффициент корреляции: -0.04311679577944342'"
      ]
     },
     "metadata": {},
     "output_type": "display_data"
    }
   ],
   "source": [
    "columns_2 = ['total_area', 'living_area', 'kitchen_area', 'rooms', 'floor_type', 'weekday_exposition', 'month_exposition', 'year_exposition']\n",
    "for column in columns_2:\n",
    "    df.plot(x=column, y='last_price', kind='scatter', grid=True, ylim=(0, 50000000), alpha=0.05)\n",
    "    plt.show()\n",
    "    try:\n",
    "        display(f'Коэффициент корреляции: {df[column].corr(df[\"last_price\"])}')\n",
    "    except:\n",
    "        display('Коэффциент корреляции определить невозможно')\n",
    "        "
   ]
  },
  {
   "cell_type": "markdown",
   "id": "7175e4a3",
   "metadata": {},
   "source": [
    "**По построенным графикам можно сделать следующие выводы:**\n",
    "1. Наблюдается средне-сильная зависимость между общей площадью и стоимостью объекта. Особенно четко наблюдается зависимость на объектах площадью до 200 м.к.в\n",
    "2. Также средне-сильная зависимость между жилой площадью и стоимостью объекта.\n",
    "3. Между площадью кухни и стоимостью объекта также есть зависимость. Однако, есть некоторый пик у объектов без кухни. \n",
    "4. Стоимость квартир в зависимости от кол-ва комнат равномерно растет влоть до 3х-комнатных квартир. после чего наблюдается некоторое снижение. Зависимость есть, но не очень сильная. \n",
    "5. Стоимость квартир не на крайних этажах выше. При этом стоимость кварир на последнем этаже выше, чем на 1м.\n",
    "6. Явной зависимости между днем и месяцем публикации не наблюдается. \n",
    "7. Общая стоимость квартир равномерно росла до 2017 года, начиная с 2018 года наблюдается некоторое снижение стоимости, однако, при этом упала и площадь продаваемых квартир. Поэтому нельзя сказать, что квартиры стали дешевле. "
   ]
  },
  {
   "cell_type": "code",
   "execution_count": 88,
   "id": "05b09e47",
   "metadata": {},
   "outputs": [
    {
     "data": {
      "image/png": "[encoded data removed]",
      "text/plain": [
       "<Figure size 432x288 with 1 Axes>"
      ]
     },
     "metadata": {
      "needs_background": "light"
     },
     "output_type": "display_data"
    }
   ],
   "source": [
    "df.plot(x='year_exposition', y='total_area', kind='scatter',ylim=(0,600), grid=True, alpha=0.05)\n",
    "plt.show()"
   ]
  },
  {
   "cell_type": "markdown",
   "id": "5926cc00",
   "metadata": {},
   "source": [
    "#### Средняя цена квадратного метра в 10 населенных пунктах с наибольшим числом объявлений"
   ]
  },
  {
   "cell_type": "markdown",
   "id": "f97faf9b",
   "metadata": {},
   "source": [
    "Сделаем сводную таблицу по населенным пунктам и стоимости квадратного метра квартир:"
   ]
  },
  {
   "cell_type": "code",
   "execution_count": 89,
   "id": "e806b40a",
   "metadata": {},
   "outputs": [
    {
     "data": {
      "text/html": [
       "<div>\n",
       "<style scoped>\n",
       "    .dataframe tbody tr th:only-of-type {\n",
       "        vertical-align: middle;\n",
       "    }\n",
       "\n",
       "    .dataframe tbody tr th {\n",
       "        vertical-align: top;\n",
       "    }\n",
       "\n",
       "    .dataframe thead tr th {\n",
       "        text-align: left;\n",
       "    }\n",
       "\n",
       "    .dataframe thead tr:last-of-type th {\n",
       "        text-align: right;\n",
       "    }\n",
       "</style>\n",
       "<table border=\"1\" class=\"dataframe\">\n",
       "  <thead>\n",
       "    <tr>\n",
       "      <th></th>\n",
       "      <th>mean</th>\n",
       "      <th>count</th>\n",
       "    </tr>\n",
       "    <tr>\n",
       "      <th></th>\n",
       "      <th>square_meter_price</th>\n",
       "      <th>square_meter_price</th>\n",
       "    </tr>\n",
       "    <tr>\n",
       "      <th>locality_name</th>\n",
       "      <th></th>\n",
       "      <th></th>\n",
       "    </tr>\n",
       "  </thead>\n",
       "  <tbody>\n",
       "    <tr>\n",
       "      <th>Бокситогорск</th>\n",
       "      <td>17551.591819</td>\n",
       "      <td>16</td>\n",
       "    </tr>\n",
       "    <tr>\n",
       "      <th>Волосово</th>\n",
       "      <td>40183.325974</td>\n",
       "      <td>36</td>\n",
       "    </tr>\n",
       "    <tr>\n",
       "      <th>Волхов</th>\n",
       "      <td>35087.679877</td>\n",
       "      <td>111</td>\n",
       "    </tr>\n",
       "    <tr>\n",
       "      <th>Всеволожск</th>\n",
       "      <td>68719.320400</td>\n",
       "      <td>397</td>\n",
       "    </tr>\n",
       "    <tr>\n",
       "      <th>Выборг</th>\n",
       "      <td>58238.143141</td>\n",
       "      <td>235</td>\n",
       "    </tr>\n",
       "    <tr>\n",
       "      <th>Высоцк</th>\n",
       "      <td>35986.304502</td>\n",
       "      <td>4</td>\n",
       "    </tr>\n",
       "    <tr>\n",
       "      <th>Гатчина</th>\n",
       "      <td>68746.146763</td>\n",
       "      <td>307</td>\n",
       "    </tr>\n",
       "    <tr>\n",
       "      <th>Зеленогорск</th>\n",
       "      <td>115122.799198</td>\n",
       "      <td>24</td>\n",
       "    </tr>\n",
       "    <tr>\n",
       "      <th>Ивангород</th>\n",
       "      <td>32591.904362</td>\n",
       "      <td>28</td>\n",
       "    </tr>\n",
       "    <tr>\n",
       "      <th>Каменногорск</th>\n",
       "      <td>27969.167698</td>\n",
       "      <td>13</td>\n",
       "    </tr>\n",
       "  </tbody>\n",
       "</table>\n",
       "</div>"
      ],
      "text/plain": [
       "                            mean              count\n",
       "              square_meter_price square_meter_price\n",
       "locality_name                                      \n",
       "Бокситогорск        17551.591819                 16\n",
       "Волосово            40183.325974                 36\n",
       "Волхов              35087.679877                111\n",
       "Всеволожск          68719.320400                397\n",
       "Выборг              58238.143141                235\n",
       "Высоцк              35986.304502                  4\n",
       "Гатчина             68746.146763                307\n",
       "Зеленогорск        115122.799198                 24\n",
       "Ивангород           32591.904362                 28\n",
       "Каменногорск        27969.167698                 13"
      ]
     },
     "execution_count": 89,
     "metadata": {},
     "output_type": "execute_result"
    }
   ],
   "source": [
    "square_meter_price_top = df.pivot_table(index='locality_name', values='square_meter_price', aggfunc=['mean','count'])\n",
    "square_meter_price_top.head(10)"
   ]
  },
  {
   "cell_type": "code",
   "execution_count": 90,
   "id": "9a729231",
   "metadata": {},
   "outputs": [],
   "source": [
    "#заменим названия столбцов\n",
    "square_meter_price_top.columns = ['mean', 'count']\n",
    "square_meter_price_top['mean'] = square_meter_price_top['mean'].round()"
   ]
  },
  {
   "cell_type": "code",
   "execution_count": 91,
   "id": "571b2b87",
   "metadata": {
    "scrolled": true
   },
   "outputs": [
    {
     "data": {
      "text/html": [
       "<div>\n",
       "<style scoped>\n",
       "    .dataframe tbody tr th:only-of-type {\n",
       "        vertical-align: middle;\n",
       "    }\n",
       "\n",
       "    .dataframe tbody tr th {\n",
       "        vertical-align: top;\n",
       "    }\n",
       "\n",
       "    .dataframe thead th {\n",
       "        text-align: right;\n",
       "    }\n",
       "</style>\n",
       "<table border=\"1\" class=\"dataframe\">\n",
       "  <thead>\n",
       "    <tr style=\"text-align: right;\">\n",
       "      <th></th>\n",
       "      <th>mean</th>\n",
       "      <th>count</th>\n",
       "    </tr>\n",
       "    <tr>\n",
       "      <th>locality_name</th>\n",
       "      <th></th>\n",
       "      <th></th>\n",
       "    </tr>\n",
       "  </thead>\n",
       "  <tbody>\n",
       "    <tr>\n",
       "      <th>Санкт-Петербург</th>\n",
       "      <td>114728.0</td>\n",
       "      <td>15758</td>\n",
       "    </tr>\n",
       "    <tr>\n",
       "      <th>Мурино</th>\n",
       "      <td>86088.0</td>\n",
       "      <td>590</td>\n",
       "    </tr>\n",
       "    <tr>\n",
       "      <th>посёлок Шушары</th>\n",
       "      <td>78677.0</td>\n",
       "      <td>440</td>\n",
       "    </tr>\n",
       "    <tr>\n",
       "      <th>Всеволожск</th>\n",
       "      <td>68719.0</td>\n",
       "      <td>397</td>\n",
       "    </tr>\n",
       "    <tr>\n",
       "      <th>Пушкин</th>\n",
       "      <td>103126.0</td>\n",
       "      <td>369</td>\n",
       "    </tr>\n",
       "    <tr>\n",
       "      <th>Колпино</th>\n",
       "      <td>75425.0</td>\n",
       "      <td>338</td>\n",
       "    </tr>\n",
       "    <tr>\n",
       "      <th>посёлок Парголово</th>\n",
       "      <td>90176.0</td>\n",
       "      <td>327</td>\n",
       "    </tr>\n",
       "    <tr>\n",
       "      <th>Гатчина</th>\n",
       "      <td>68746.0</td>\n",
       "      <td>307</td>\n",
       "    </tr>\n",
       "    <tr>\n",
       "      <th>деревня Кудрово</th>\n",
       "      <td>92474.0</td>\n",
       "      <td>299</td>\n",
       "    </tr>\n",
       "    <tr>\n",
       "      <th>Выборг</th>\n",
       "      <td>58238.0</td>\n",
       "      <td>235</td>\n",
       "    </tr>\n",
       "  </tbody>\n",
       "</table>\n",
       "</div>"
      ],
      "text/plain": [
       "                       mean  count\n",
       "locality_name                     \n",
       "Санкт-Петербург    114728.0  15758\n",
       "Мурино              86088.0    590\n",
       "посёлок Шушары      78677.0    440\n",
       "Всеволожск          68719.0    397\n",
       "Пушкин             103126.0    369\n",
       "Колпино             75425.0    338\n",
       "посёлок Парголово   90176.0    327\n",
       "Гатчина             68746.0    307\n",
       "деревня Кудрово     92474.0    299\n",
       "Выборг              58238.0    235"
      ]
     },
     "execution_count": 91,
     "metadata": {},
     "output_type": "execute_result"
    }
   ],
   "source": [
    "#отсортируем данные по убыванию количества объявлений\n",
    "square_meter_price_top = square_meter_price_top.sort_values(by='count', ascending=False).head(10)\n",
    "square_meter_price_top"
   ]
  },
  {
   "cell_type": "code",
   "execution_count": 92,
   "id": "c2a6eaad",
   "metadata": {},
   "outputs": [
    {
     "data": {
      "text/html": [
       "<div>\n",
       "<style scoped>\n",
       "    .dataframe tbody tr th:only-of-type {\n",
       "        vertical-align: middle;\n",
       "    }\n",
       "\n",
       "    .dataframe tbody tr th {\n",
       "        vertical-align: top;\n",
       "    }\n",
       "\n",
       "    .dataframe thead th {\n",
       "        text-align: right;\n",
       "    }\n",
       "</style>\n",
       "<table border=\"1\" class=\"dataframe\">\n",
       "  <thead>\n",
       "    <tr style=\"text-align: right;\">\n",
       "      <th></th>\n",
       "      <th>mean</th>\n",
       "      <th>count</th>\n",
       "    </tr>\n",
       "    <tr>\n",
       "      <th>locality_name</th>\n",
       "      <th></th>\n",
       "      <th></th>\n",
       "    </tr>\n",
       "  </thead>\n",
       "  <tbody>\n",
       "    <tr>\n",
       "      <th>Санкт-Петербург</th>\n",
       "      <td>114728.0</td>\n",
       "      <td>15758</td>\n",
       "    </tr>\n",
       "    <tr>\n",
       "      <th>Пушкин</th>\n",
       "      <td>103126.0</td>\n",
       "      <td>369</td>\n",
       "    </tr>\n",
       "    <tr>\n",
       "      <th>деревня Кудрово</th>\n",
       "      <td>92474.0</td>\n",
       "      <td>299</td>\n",
       "    </tr>\n",
       "    <tr>\n",
       "      <th>посёлок Парголово</th>\n",
       "      <td>90176.0</td>\n",
       "      <td>327</td>\n",
       "    </tr>\n",
       "    <tr>\n",
       "      <th>Мурино</th>\n",
       "      <td>86088.0</td>\n",
       "      <td>590</td>\n",
       "    </tr>\n",
       "    <tr>\n",
       "      <th>посёлок Шушары</th>\n",
       "      <td>78677.0</td>\n",
       "      <td>440</td>\n",
       "    </tr>\n",
       "    <tr>\n",
       "      <th>Колпино</th>\n",
       "      <td>75425.0</td>\n",
       "      <td>338</td>\n",
       "    </tr>\n",
       "    <tr>\n",
       "      <th>Гатчина</th>\n",
       "      <td>68746.0</td>\n",
       "      <td>307</td>\n",
       "    </tr>\n",
       "    <tr>\n",
       "      <th>Всеволожск</th>\n",
       "      <td>68719.0</td>\n",
       "      <td>397</td>\n",
       "    </tr>\n",
       "    <tr>\n",
       "      <th>Выборг</th>\n",
       "      <td>58238.0</td>\n",
       "      <td>235</td>\n",
       "    </tr>\n",
       "  </tbody>\n",
       "</table>\n",
       "</div>"
      ],
      "text/plain": [
       "                       mean  count\n",
       "locality_name                     \n",
       "Санкт-Петербург    114728.0  15758\n",
       "Пушкин             103126.0    369\n",
       "деревня Кудрово     92474.0    299\n",
       "посёлок Парголово   90176.0    327\n",
       "Мурино              86088.0    590\n",
       "посёлок Шушары      78677.0    440\n",
       "Колпино             75425.0    338\n",
       "Гатчина             68746.0    307\n",
       "Всеволожск          68719.0    397\n",
       "Выборг              58238.0    235"
      ]
     },
     "execution_count": 92,
     "metadata": {},
     "output_type": "execute_result"
    }
   ],
   "source": [
    "#отсортируем данные по убыванию средней стоимости\n",
    "square_meter_price_top = square_meter_price_top.sort_values(by='mean', ascending=False).head(10)\n",
    "square_meter_price_top"
   ]
  },
  {
   "cell_type": "markdown",
   "id": "06ca8cf0",
   "metadata": {},
   "source": [
    "**Вывод:**\n",
    "\n",
    "Посчитана средняя стоимость квадратного метра жилья в 10 населенных пунктах с наибольшим количеством объявлений:\\\n",
    "Самая высокая стоимость жилья из данной выборки наблюдается в Санкт-Петербурге и составляет 114599 за квадратный метр;\\\n",
    "Самая низкая стоимость жилья из данной выборки наблюдатеся в Выборге и составляет 58238 за квадратный метр."
   ]
  },
  {
   "cell_type": "markdown",
   "id": "9d353aea",
   "metadata": {},
   "source": [
    "#### Средняя цена каждого километра в Санкт-Петербурге"
   ]
  },
  {
   "cell_type": "markdown",
   "id": "797cf578",
   "metadata": {},
   "source": [
    "Отсортируем данные по населенному пункту и сгруппируем их по расстоянию до центра города к километрах.\\\n",
    "Удалим из выборки объекты, которые расположены за чертой города, т.е. дальше 25 км от центра."
   ]
  },
  {
   "cell_type": "code",
   "execution_count": 93,
   "id": "86976c84",
   "metadata": {},
   "outputs": [],
   "source": [
    "df_spb = df[(df['locality_name'] == 'Санкт-Петербург') & (df['city_сenters_nearest'] < 25000)].groupby('city_сenters_nearest_km')"
   ]
  },
  {
   "cell_type": "code",
   "execution_count": 94,
   "id": "4680dd4d",
   "metadata": {},
   "outputs": [
    {
     "data": {
      "image/png": "[encoded data removed]",
      "text/plain": [
       "<Figure size 1440x576 with 1 Axes>"
      ]
     },
     "metadata": {
      "needs_background": "light"
     },
     "output_type": "display_data"
    }
   ],
   "source": [
    "#построим график зависимости между стоимостью и расстоянием от центра городаф\n",
    "df_spb['last_price'].mean().plot(figsize=(20,8), grid = True, title = 'Заголовок');"
   ]
  },
  {
   "cell_type": "code",
   "execution_count": 95,
   "id": "539f7c1c",
   "metadata": {
    "scrolled": false
   },
   "outputs": [
    {
     "data": {
      "text/plain": [
       "city_сenters_nearest_km\n",
       "0     3.144912e+07\n",
       "1     2.115871e+07\n",
       "2     1.780829e+07\n",
       "3     1.110271e+07\n",
       "4     1.327061e+07\n",
       "5     1.446081e+07\n",
       "6     1.517041e+07\n",
       "7     1.477515e+07\n",
       "8     9.923479e+06\n",
       "9     6.941773e+06\n",
       "10    6.511375e+06\n",
       "11    6.253704e+06\n",
       "12    5.830352e+06\n",
       "13    6.083141e+06\n",
       "14    5.628834e+06\n",
       "15    5.884231e+06\n",
       "16    5.373131e+06\n",
       "17    5.280423e+06\n",
       "18    5.091331e+06\n",
       "19    5.037675e+06\n",
       "20    5.990038e+06\n",
       "21    5.493469e+06\n",
       "22    5.415524e+06\n",
       "23    4.985376e+06\n",
       "24    3.841303e+06\n",
       "25    4.100000e+06\n",
       "Name: last_price, dtype: float64"
      ]
     },
     "execution_count": 95,
     "metadata": {},
     "output_type": "execute_result"
    }
   ],
   "source": [
    "#Выведем среднюю стоимость каждого километра\n",
    "df_spb['last_price'].mean()"
   ]
  },
  {
   "cell_type": "markdown",
   "id": "e63bf95f",
   "metadata": {},
   "source": [
    "**Вывод:**\\\n",
    "По представленному графику и средней стоимости километра можно сделать вывод, что чем ближе объект находится к центру, тем выше его стоимость.\\\n",
    "Наблюдается некоторая аномалия при значении 3 км от центра."
   ]
  },
  {
   "cell_type": "markdown",
   "id": "20eb2888",
   "metadata": {},
   "source": [
    "### Общий вывод"
   ]
  },
  {
   "cell_type": "markdown",
   "id": "8e892e43",
   "metadata": {},
   "source": [
    "**Исходные данные:**\\\n",
    "Архив объявлений за несколько лет о продаже квартир в Санкт-Петербурге и соседних населённых пунктах"
   ]
  },
  {
   "cell_type": "markdown",
   "id": "17059772",
   "metadata": {},
   "source": [
    "**Задача исследования:**\\\n",
    "Найти интересные особенности и зависимости, которые существуют на рынке недвижимости"
   ]
  },
  {
   "cell_type": "markdown",
   "id": "ac2bec33",
   "metadata": {},
   "source": [
    "**Выполненные работы:**\\\n",
    "Изучены предоставленные данные;\\\n",
    "Проанализированы причины пропуска в данных;\\\n",
    "Заполнены пропуски там, где это возможно;\\\n",
    "Устранены дубликаты;\\\n",
    "Изменены типы данных там, где это было необходимо;\\\n",
    "Устранены аномальные значения;\\\n",
    "Произведены необходимые расчеты, добавлены столбцы: стоимость квадратного метра; день, месяц и год публикации; тип этажа; расстояние до центра города в километрах;\\\n",
    "Определены зависимости и коэффициенты кореляции стоимости квартир от различных факторов;\\\n",
    "Определено как быстро продаются квартиры;\\\n",
    "Определена средняя цена квадратного метра в 10 населенных пунктах с наибольшим числом объявлений;\\\n",
    "Определена средняя цена каждого километра в Санкт-Петербурге."
   ]
  },
  {
   "cell_type": "markdown",
   "id": "1ec49313",
   "metadata": {},
   "source": [
    "**Выводы:**\n",
    "\n",
    "Скорость продажи:\\\n",
    "В 75% случаев квартира продается за 232 дня. Быстрыми можно считать продажи, которые происходят менее чем за 45 дней, необычно быстрые продажи - 1 день. Необычно долгие продажи - более 600 дней.\\\n",
    "\n",
    "Зависимость стоимости от различных факторов:\n",
    "1. Наблюдается средне-сильная зависимость между общей площадью и стоимостью объекта. Особенно четко наблюдается зависимость на объектах площадью до 200 м.к.в\n",
    "2. Также средне-сильная зависимость наблюдается между жилой площадью, площадью кухни и стоимостью объекта.\n",
    "3. Стоимость квартир в зависимости от кол-ва комнат равномерно растет влоть до 3х-комнатных квартир, после чего наблюдается некоторое снижение. Зависимость есть, но не очень сильная. \n",
    "4. Стоимость квартир не на крайних этажах выше. При этом стоимость кварир на последнем этаже выше, чем на 1м.\n",
    "5. Явной зависимости между стоимостью и  днем/месяцем публикации не наблюдается. \n",
    "6. Общая стоимость квартир равномерно росла до 2017 года, начиная с 2018 года наблюдается некоторое снижение стоимости, однако, при этом упала и площадь продаваемых квартир. Поэтому нельзя сказать, что квартиры стали дешевле.\n",
    "\n",
    "Средняя стоимость квадратного метра жилья в 10 населенных пунктах с наибольшим количеством объявлений:\\\n",
    "Самая высокая стоимость жилья из данной выборки наблюдается в Санкт-Петербурге и составляет 114599 за квадратный метр;\\\n",
    "Самая низкая стоимость жилья из данной выборки наблюдатеся в Выборге и составляет 58238 за квадратный метр.\n",
    "\n",
    "Средняя цена каждого километра в Санкт-Петербурге:\\\n",
    "Чем ближе объект находится к центру, тем выше его стоимость.\n"
   ]
  }
 ],
 "metadata": {
  "ExecuteTimeLog": [
   {
    "duration": 384,
    "start_time": "2022-11-26T00:21:50.132Z"
   },
   {
    "duration": 197,
    "start_time": "2022-11-26T00:21:50.517Z"
   },
   {
    "duration": 88,
    "start_time": "2022-11-26T00:21:50.715Z"
   },
   {
    "duration": 0,
    "start_time": "2022-11-26T00:21:50.807Z"
   },
   {
    "duration": 0,
    "start_time": "2022-11-26T00:21:50.808Z"
   },
   {
    "duration": 0,
    "start_time": "2022-11-26T00:21:50.810Z"
   },
   {
    "duration": 0,
    "start_time": "2022-11-26T00:21:50.811Z"
   },
   {
    "duration": 0,
    "start_time": "2022-11-26T00:21:50.812Z"
   },
   {
    "duration": 1,
    "start_time": "2022-11-26T00:21:50.813Z"
   },
   {
    "duration": 0,
    "start_time": "2022-11-26T00:21:50.815Z"
   },
   {
    "duration": 0,
    "start_time": "2022-11-26T00:21:50.816Z"
   },
   {
    "duration": 0,
    "start_time": "2022-11-26T00:21:50.817Z"
   },
   {
    "duration": 0,
    "start_time": "2022-11-26T00:21:50.819Z"
   },
   {
    "duration": 0,
    "start_time": "2022-11-26T00:21:50.821Z"
   },
   {
    "duration": 0,
    "start_time": "2022-11-26T00:21:50.822Z"
   },
   {
    "duration": 0,
    "start_time": "2022-11-26T00:21:50.824Z"
   },
   {
    "duration": 0,
    "start_time": "2022-11-26T00:21:50.825Z"
   },
   {
    "duration": 0,
    "start_time": "2022-11-26T00:21:50.827Z"
   },
   {
    "duration": 0,
    "start_time": "2022-11-26T00:21:50.828Z"
   },
   {
    "duration": 0,
    "start_time": "2022-11-26T00:21:50.829Z"
   },
   {
    "duration": 0,
    "start_time": "2022-11-26T00:21:50.831Z"
   },
   {
    "duration": 0,
    "start_time": "2022-11-26T00:21:50.832Z"
   },
   {
    "duration": 0,
    "start_time": "2022-11-26T00:21:50.833Z"
   },
   {
    "duration": 0,
    "start_time": "2022-11-26T00:21:50.835Z"
   },
   {
    "duration": 0,
    "start_time": "2022-11-26T00:21:50.836Z"
   },
   {
    "duration": 1,
    "start_time": "2022-11-26T00:21:50.837Z"
   },
   {
    "duration": 0,
    "start_time": "2022-11-26T00:21:50.839Z"
   },
   {
    "duration": 0,
    "start_time": "2022-11-26T00:21:50.840Z"
   },
   {
    "duration": 0,
    "start_time": "2022-11-26T00:21:50.841Z"
   },
   {
    "duration": 0,
    "start_time": "2022-11-26T00:21:50.843Z"
   },
   {
    "duration": 0,
    "start_time": "2022-11-26T00:21:50.844Z"
   },
   {
    "duration": 0,
    "start_time": "2022-11-26T00:21:50.845Z"
   },
   {
    "duration": 0,
    "start_time": "2022-11-26T00:21:50.847Z"
   },
   {
    "duration": 0,
    "start_time": "2022-11-26T00:21:50.848Z"
   },
   {
    "duration": 0,
    "start_time": "2022-11-26T00:21:50.850Z"
   },
   {
    "duration": 0,
    "start_time": "2022-11-26T00:21:50.851Z"
   },
   {
    "duration": 0,
    "start_time": "2022-11-26T00:21:50.852Z"
   },
   {
    "duration": 0,
    "start_time": "2022-11-26T00:21:50.854Z"
   },
   {
    "duration": 0,
    "start_time": "2022-11-26T00:21:50.855Z"
   },
   {
    "duration": 0,
    "start_time": "2022-11-26T00:21:50.856Z"
   },
   {
    "duration": 0,
    "start_time": "2022-11-26T00:21:50.857Z"
   },
   {
    "duration": 0,
    "start_time": "2022-11-26T00:21:50.859Z"
   },
   {
    "duration": 0,
    "start_time": "2022-11-26T00:21:50.860Z"
   },
   {
    "duration": 0,
    "start_time": "2022-11-26T00:21:50.922Z"
   },
   {
    "duration": 0,
    "start_time": "2022-11-26T00:21:50.923Z"
   },
   {
    "duration": 0,
    "start_time": "2022-11-26T00:21:50.925Z"
   },
   {
    "duration": 0,
    "start_time": "2022-11-26T00:21:50.926Z"
   },
   {
    "duration": 0,
    "start_time": "2022-11-26T00:21:50.928Z"
   },
   {
    "duration": 0,
    "start_time": "2022-11-26T00:21:50.929Z"
   },
   {
    "duration": 0,
    "start_time": "2022-11-26T00:21:50.931Z"
   },
   {
    "duration": 0,
    "start_time": "2022-11-26T00:21:50.932Z"
   },
   {
    "duration": 0,
    "start_time": "2022-11-26T00:21:50.933Z"
   },
   {
    "duration": 0,
    "start_time": "2022-11-26T00:21:50.935Z"
   },
   {
    "duration": 0,
    "start_time": "2022-11-26T00:21:50.936Z"
   },
   {
    "duration": 0,
    "start_time": "2022-11-26T00:21:50.937Z"
   },
   {
    "duration": 0,
    "start_time": "2022-11-26T00:21:50.939Z"
   },
   {
    "duration": 0,
    "start_time": "2022-11-26T00:21:50.940Z"
   },
   {
    "duration": 0,
    "start_time": "2022-11-26T00:21:50.942Z"
   },
   {
    "duration": 0,
    "start_time": "2022-11-26T00:21:50.943Z"
   },
   {
    "duration": 0,
    "start_time": "2022-11-26T00:21:50.944Z"
   },
   {
    "duration": 0,
    "start_time": "2022-11-26T00:21:50.945Z"
   },
   {
    "duration": 0,
    "start_time": "2022-11-26T00:21:50.947Z"
   },
   {
    "duration": 0,
    "start_time": "2022-11-26T00:21:50.948Z"
   },
   {
    "duration": 0,
    "start_time": "2022-11-26T00:21:50.949Z"
   },
   {
    "duration": 0,
    "start_time": "2022-11-26T00:21:50.950Z"
   },
   {
    "duration": 0,
    "start_time": "2022-11-26T00:21:50.951Z"
   },
   {
    "duration": 0,
    "start_time": "2022-11-26T00:21:50.953Z"
   },
   {
    "duration": 0,
    "start_time": "2022-11-26T00:21:50.954Z"
   },
   {
    "duration": 0,
    "start_time": "2022-11-26T00:21:50.955Z"
   },
   {
    "duration": 0,
    "start_time": "2022-11-26T00:21:50.956Z"
   },
   {
    "duration": 0,
    "start_time": "2022-11-26T00:21:50.957Z"
   },
   {
    "duration": 0,
    "start_time": "2022-11-26T00:21:50.958Z"
   },
   {
    "duration": 0,
    "start_time": "2022-11-26T00:21:50.959Z"
   },
   {
    "duration": 0,
    "start_time": "2022-11-26T00:21:50.960Z"
   },
   {
    "duration": 0,
    "start_time": "2022-11-26T00:21:51.021Z"
   },
   {
    "duration": 0,
    "start_time": "2022-11-26T00:21:51.022Z"
   },
   {
    "duration": 0,
    "start_time": "2022-11-26T00:21:51.023Z"
   },
   {
    "duration": 0,
    "start_time": "2022-11-26T00:21:51.025Z"
   },
   {
    "duration": 0,
    "start_time": "2022-11-26T00:21:51.025Z"
   },
   {
    "duration": 0,
    "start_time": "2022-11-26T00:21:51.026Z"
   },
   {
    "duration": 0,
    "start_time": "2022-11-26T00:21:51.027Z"
   },
   {
    "duration": 0,
    "start_time": "2022-11-26T00:21:51.028Z"
   },
   {
    "duration": 0,
    "start_time": "2022-11-26T00:21:51.029Z"
   },
   {
    "duration": 0,
    "start_time": "2022-11-26T00:21:51.030Z"
   },
   {
    "duration": 0,
    "start_time": "2022-11-26T00:21:51.031Z"
   },
   {
    "duration": 0,
    "start_time": "2022-11-26T00:21:51.032Z"
   },
   {
    "duration": 0,
    "start_time": "2022-11-26T00:21:51.033Z"
   },
   {
    "duration": 0,
    "start_time": "2022-11-26T00:21:51.034Z"
   },
   {
    "duration": 0,
    "start_time": "2022-11-26T00:21:51.035Z"
   },
   {
    "duration": 0,
    "start_time": "2022-11-26T00:21:51.036Z"
   },
   {
    "duration": 0,
    "start_time": "2022-11-26T00:21:51.037Z"
   },
   {
    "duration": 0,
    "start_time": "2022-11-26T00:21:51.038Z"
   },
   {
    "duration": 424,
    "start_time": "2022-11-26T00:22:35.018Z"
   },
   {
    "duration": 201,
    "start_time": "2022-11-26T00:22:35.444Z"
   },
   {
    "duration": 86,
    "start_time": "2022-11-26T00:22:35.649Z"
   },
   {
    "duration": 38,
    "start_time": "2022-11-26T00:22:35.737Z"
   },
   {
    "duration": 12,
    "start_time": "2022-11-26T00:22:35.777Z"
   },
   {
    "duration": 3,
    "start_time": "2022-11-26T00:22:35.791Z"
   },
   {
    "duration": 1706,
    "start_time": "2022-11-26T00:22:35.795Z"
   },
   {
    "duration": 9,
    "start_time": "2022-11-26T00:22:37.502Z"
   },
   {
    "duration": 5,
    "start_time": "2022-11-26T00:22:37.520Z"
   },
   {
    "duration": 7,
    "start_time": "2022-11-26T00:22:37.526Z"
   },
   {
    "duration": 7,
    "start_time": "2022-11-26T00:22:37.534Z"
   },
   {
    "duration": 12,
    "start_time": "2022-11-26T00:22:37.543Z"
   },
   {
    "duration": 36,
    "start_time": "2022-11-26T00:22:37.557Z"
   },
   {
    "duration": 26,
    "start_time": "2022-11-26T00:22:37.595Z"
   },
   {
    "duration": 7,
    "start_time": "2022-11-26T00:22:37.622Z"
   },
   {
    "duration": 11,
    "start_time": "2022-11-26T00:22:37.630Z"
   },
   {
    "duration": 4,
    "start_time": "2022-11-26T00:22:37.642Z"
   },
   {
    "duration": 31,
    "start_time": "2022-11-26T00:22:37.647Z"
   },
   {
    "duration": 53,
    "start_time": "2022-11-26T00:22:37.680Z"
   },
   {
    "duration": 5,
    "start_time": "2022-11-26T00:22:37.735Z"
   },
   {
    "duration": 26,
    "start_time": "2022-11-26T00:22:37.741Z"
   },
   {
    "duration": 14,
    "start_time": "2022-11-26T00:22:37.768Z"
   },
   {
    "duration": 14,
    "start_time": "2022-11-26T00:22:37.783Z"
   },
   {
    "duration": 13,
    "start_time": "2022-11-26T00:22:37.798Z"
   },
   {
    "duration": 3,
    "start_time": "2022-11-26T00:22:37.813Z"
   },
   {
    "duration": 14,
    "start_time": "2022-11-26T00:22:37.818Z"
   },
   {
    "duration": 5,
    "start_time": "2022-11-26T00:22:37.836Z"
   },
   {
    "duration": 8,
    "start_time": "2022-11-26T00:22:37.842Z"
   },
   {
    "duration": 27,
    "start_time": "2022-11-26T00:22:37.852Z"
   },
   {
    "duration": 6,
    "start_time": "2022-11-26T00:22:37.880Z"
   },
   {
    "duration": 10,
    "start_time": "2022-11-26T00:22:37.887Z"
   },
   {
    "duration": 22,
    "start_time": "2022-11-26T00:22:37.899Z"
   },
   {
    "duration": 24,
    "start_time": "2022-11-26T00:22:37.923Z"
   },
   {
    "duration": 29,
    "start_time": "2022-11-26T00:22:37.950Z"
   },
   {
    "duration": 9,
    "start_time": "2022-11-26T00:22:37.981Z"
   },
   {
    "duration": 7,
    "start_time": "2022-11-26T00:22:37.992Z"
   },
   {
    "duration": 26,
    "start_time": "2022-11-26T00:22:38.000Z"
   },
   {
    "duration": 25,
    "start_time": "2022-11-26T00:22:38.027Z"
   },
   {
    "duration": 20,
    "start_time": "2022-11-26T00:22:38.054Z"
   },
   {
    "duration": 39,
    "start_time": "2022-11-26T00:22:38.075Z"
   },
   {
    "duration": 11,
    "start_time": "2022-11-26T00:22:38.116Z"
   },
   {
    "duration": 7,
    "start_time": "2022-11-26T00:22:38.128Z"
   },
   {
    "duration": 9,
    "start_time": "2022-11-26T00:22:38.136Z"
   },
   {
    "duration": 15,
    "start_time": "2022-11-26T00:22:38.147Z"
   },
   {
    "duration": 18,
    "start_time": "2022-11-26T00:22:38.164Z"
   },
   {
    "duration": 6,
    "start_time": "2022-11-26T00:22:38.184Z"
   },
   {
    "duration": 36,
    "start_time": "2022-11-26T00:22:38.191Z"
   },
   {
    "duration": 15,
    "start_time": "2022-11-26T00:22:38.228Z"
   },
   {
    "duration": 6,
    "start_time": "2022-11-26T00:22:38.245Z"
   },
   {
    "duration": 4,
    "start_time": "2022-11-26T00:22:38.252Z"
   },
   {
    "duration": 9,
    "start_time": "2022-11-26T00:22:38.258Z"
   },
   {
    "duration": 7,
    "start_time": "2022-11-26T00:22:38.268Z"
   },
   {
    "duration": 898,
    "start_time": "2022-11-26T00:22:38.276Z"
   },
   {
    "duration": 6,
    "start_time": "2022-11-26T00:22:39.176Z"
   },
   {
    "duration": 11,
    "start_time": "2022-11-26T00:22:39.183Z"
   },
   {
    "duration": 11,
    "start_time": "2022-11-26T00:22:39.195Z"
   },
   {
    "duration": 6,
    "start_time": "2022-11-26T00:22:39.221Z"
   },
   {
    "duration": 8,
    "start_time": "2022-11-26T00:22:39.229Z"
   },
   {
    "duration": 3,
    "start_time": "2022-11-26T00:22:39.239Z"
   },
   {
    "duration": 5,
    "start_time": "2022-11-26T00:22:39.244Z"
   },
   {
    "duration": 9,
    "start_time": "2022-11-26T00:22:39.250Z"
   },
   {
    "duration": 9,
    "start_time": "2022-11-26T00:22:39.260Z"
   },
   {
    "duration": 6,
    "start_time": "2022-11-26T00:22:39.271Z"
   },
   {
    "duration": 3,
    "start_time": "2022-11-26T00:22:39.278Z"
   },
   {
    "duration": 392,
    "start_time": "2022-11-26T00:22:39.283Z"
   },
   {
    "duration": 5,
    "start_time": "2022-11-26T00:22:39.677Z"
   },
   {
    "duration": 167,
    "start_time": "2022-11-26T00:22:39.683Z"
   },
   {
    "duration": 2,
    "start_time": "2022-11-26T00:22:39.851Z"
   },
   {
    "duration": 108,
    "start_time": "2022-11-26T00:22:39.855Z"
   },
   {
    "duration": 141,
    "start_time": "2022-11-26T00:22:39.964Z"
   },
   {
    "duration": 127,
    "start_time": "2022-11-26T00:22:40.106Z"
   },
   {
    "duration": 149,
    "start_time": "2022-11-26T00:22:40.234Z"
   },
   {
    "duration": 136,
    "start_time": "2022-11-26T00:22:40.385Z"
   },
   {
    "duration": 131,
    "start_time": "2022-11-26T00:22:40.523Z"
   },
   {
    "duration": 120,
    "start_time": "2022-11-26T00:22:40.656Z"
   },
   {
    "duration": 184,
    "start_time": "2022-11-26T00:22:40.778Z"
   },
   {
    "duration": 123,
    "start_time": "2022-11-26T00:22:40.964Z"
   },
   {
    "duration": 132,
    "start_time": "2022-11-26T00:22:41.089Z"
   },
   {
    "duration": 117,
    "start_time": "2022-11-26T00:22:41.222Z"
   },
   {
    "duration": 133,
    "start_time": "2022-11-26T00:22:41.340Z"
   },
   {
    "duration": 123,
    "start_time": "2022-11-26T00:22:41.478Z"
   },
   {
    "duration": 133,
    "start_time": "2022-11-26T00:22:41.603Z"
   },
   {
    "duration": 135,
    "start_time": "2022-11-26T00:22:41.737Z"
   },
   {
    "duration": 9,
    "start_time": "2022-11-26T00:22:41.874Z"
   },
   {
    "duration": 1457,
    "start_time": "2022-11-26T00:22:41.884Z"
   },
   {
    "duration": 22,
    "start_time": "2022-11-26T00:22:43.343Z"
   },
   {
    "duration": 4,
    "start_time": "2022-11-26T00:22:43.366Z"
   },
   {
    "duration": 12,
    "start_time": "2022-11-26T00:22:43.371Z"
   },
   {
    "duration": 9,
    "start_time": "2022-11-26T00:22:43.384Z"
   },
   {
    "duration": 30,
    "start_time": "2022-11-26T00:22:43.394Z"
   },
   {
    "duration": 264,
    "start_time": "2022-11-26T00:22:43.426Z"
   },
   {
    "duration": 7,
    "start_time": "2022-11-26T00:22:43.691Z"
   },
   {
    "duration": 159,
    "start_time": "2022-11-26T00:34:02.481Z"
   },
   {
    "duration": 57,
    "start_time": "2022-11-26T09:40:31.826Z"
   },
   {
    "duration": 394,
    "start_time": "2022-11-26T09:40:37.562Z"
   },
   {
    "duration": 454,
    "start_time": "2022-11-26T09:40:38.561Z"
   },
   {
    "duration": 189,
    "start_time": "2022-11-26T09:40:39.640Z"
   },
   {
    "duration": 44,
    "start_time": "2022-11-26T09:40:43.631Z"
   },
   {
    "duration": 16,
    "start_time": "2022-11-26T09:40:46.222Z"
   },
   {
    "duration": 6,
    "start_time": "2022-11-26T09:40:51.843Z"
   },
   {
    "duration": 1955,
    "start_time": "2022-11-26T09:40:52.619Z"
   },
   {
    "duration": 14,
    "start_time": "2022-11-26T09:42:24.937Z"
   },
   {
    "duration": 55,
    "start_time": "2022-11-26T09:43:09.715Z"
   },
   {
    "duration": 75,
    "start_time": "2022-11-26T09:54:37.344Z"
   },
   {
    "duration": 13,
    "start_time": "2022-11-26T09:58:25.969Z"
   },
   {
    "duration": 3,
    "start_time": "2022-11-26T09:58:53.779Z"
   },
   {
    "duration": 140,
    "start_time": "2022-11-26T10:00:57.819Z"
   },
   {
    "duration": 233,
    "start_time": "2022-11-26T10:01:57.808Z"
   },
   {
    "duration": 1397,
    "start_time": "2022-11-26T10:07:40.854Z"
   },
   {
    "duration": 3,
    "start_time": "2022-11-26T10:07:55.293Z"
   },
   {
    "duration": 4,
    "start_time": "2022-11-26T10:07:55.299Z"
   },
   {
    "duration": 149,
    "start_time": "2022-11-26T10:07:55.305Z"
   },
   {
    "duration": 44,
    "start_time": "2022-11-26T10:07:55.458Z"
   },
   {
    "duration": 57,
    "start_time": "2022-11-26T10:07:55.504Z"
   },
   {
    "duration": 5,
    "start_time": "2022-11-26T10:07:55.564Z"
   },
   {
    "duration": 2192,
    "start_time": "2022-11-26T10:07:55.571Z"
   },
   {
    "duration": 10,
    "start_time": "2022-11-26T10:07:57.765Z"
   },
   {
    "duration": 15,
    "start_time": "2022-11-26T10:07:57.777Z"
   },
   {
    "duration": 4,
    "start_time": "2022-11-26T10:07:57.794Z"
   },
   {
    "duration": 5,
    "start_time": "2022-11-26T10:07:57.800Z"
   },
   {
    "duration": 58,
    "start_time": "2022-11-26T10:07:57.806Z"
   },
   {
    "duration": 4,
    "start_time": "2022-11-26T10:07:57.866Z"
   },
   {
    "duration": 10,
    "start_time": "2022-11-26T10:07:57.872Z"
   },
   {
    "duration": 33,
    "start_time": "2022-11-26T10:07:57.885Z"
   },
   {
    "duration": 17,
    "start_time": "2022-11-26T10:07:57.920Z"
   },
   {
    "duration": 8,
    "start_time": "2022-11-26T10:07:57.940Z"
   },
   {
    "duration": 45,
    "start_time": "2022-11-26T10:07:57.951Z"
   },
   {
    "duration": 6,
    "start_time": "2022-11-26T10:07:57.998Z"
   },
   {
    "duration": 36,
    "start_time": "2022-11-26T10:07:58.008Z"
   },
   {
    "duration": 37,
    "start_time": "2022-11-26T10:07:58.047Z"
   },
   {
    "duration": 6,
    "start_time": "2022-11-26T10:07:58.086Z"
   },
   {
    "duration": 9,
    "start_time": "2022-11-26T10:07:58.094Z"
   },
   {
    "duration": 43,
    "start_time": "2022-11-26T10:07:58.105Z"
   },
   {
    "duration": 21,
    "start_time": "2022-11-26T10:07:58.150Z"
   },
   {
    "duration": 7,
    "start_time": "2022-11-26T10:07:58.172Z"
   },
   {
    "duration": 6,
    "start_time": "2022-11-26T10:07:58.181Z"
   },
   {
    "duration": 5,
    "start_time": "2022-11-26T10:07:58.189Z"
   },
   {
    "duration": 7,
    "start_time": "2022-11-26T10:07:58.196Z"
   },
   {
    "duration": 45,
    "start_time": "2022-11-26T10:07:58.204Z"
   },
   {
    "duration": 35,
    "start_time": "2022-11-26T10:07:58.251Z"
   },
   {
    "duration": 11,
    "start_time": "2022-11-26T10:07:58.289Z"
   },
   {
    "duration": 5,
    "start_time": "2022-11-26T10:07:58.302Z"
   },
   {
    "duration": 35,
    "start_time": "2022-11-26T10:07:58.309Z"
   },
   {
    "duration": 35,
    "start_time": "2022-11-26T10:07:58.347Z"
   },
   {
    "duration": 25,
    "start_time": "2022-11-26T10:07:58.384Z"
   },
   {
    "duration": 7,
    "start_time": "2022-11-26T10:07:58.439Z"
   },
   {
    "duration": 18,
    "start_time": "2022-11-26T10:07:58.448Z"
   },
   {
    "duration": 9,
    "start_time": "2022-11-26T10:07:58.468Z"
   },
   {
    "duration": 27,
    "start_time": "2022-11-26T10:07:58.479Z"
   },
   {
    "duration": 50,
    "start_time": "2022-11-26T10:07:58.508Z"
   },
   {
    "duration": 21,
    "start_time": "2022-11-26T10:07:58.561Z"
   },
   {
    "duration": 10,
    "start_time": "2022-11-26T10:07:58.583Z"
   },
   {
    "duration": 8,
    "start_time": "2022-11-26T10:07:58.594Z"
   },
   {
    "duration": 38,
    "start_time": "2022-11-26T10:07:58.604Z"
   },
   {
    "duration": 19,
    "start_time": "2022-11-26T10:07:58.645Z"
   },
   {
    "duration": 20,
    "start_time": "2022-11-26T10:07:58.665Z"
   },
   {
    "duration": 6,
    "start_time": "2022-11-26T10:07:58.686Z"
   },
   {
    "duration": 45,
    "start_time": "2022-11-26T10:07:58.694Z"
   },
   {
    "duration": 32,
    "start_time": "2022-11-26T10:07:58.741Z"
   },
   {
    "duration": 15,
    "start_time": "2022-11-26T10:07:58.776Z"
   },
   {
    "duration": 7,
    "start_time": "2022-11-26T10:07:58.794Z"
   },
   {
    "duration": 25,
    "start_time": "2022-11-26T10:07:58.803Z"
   },
   {
    "duration": 35,
    "start_time": "2022-11-26T10:07:58.834Z"
   },
   {
    "duration": 1140,
    "start_time": "2022-11-26T10:07:58.871Z"
   },
   {
    "duration": 7,
    "start_time": "2022-11-26T10:08:00.018Z"
   },
   {
    "duration": 8,
    "start_time": "2022-11-26T10:08:00.038Z"
   },
   {
    "duration": 26,
    "start_time": "2022-11-26T10:08:00.048Z"
   },
   {
    "duration": 10,
    "start_time": "2022-11-26T10:08:00.076Z"
   },
   {
    "duration": 19,
    "start_time": "2022-11-26T10:08:00.087Z"
   },
   {
    "duration": 14,
    "start_time": "2022-11-26T10:08:00.108Z"
   },
   {
    "duration": 11,
    "start_time": "2022-11-26T10:08:00.124Z"
   },
   {
    "duration": 47,
    "start_time": "2022-11-26T10:08:00.137Z"
   },
   {
    "duration": 20,
    "start_time": "2022-11-26T10:08:00.186Z"
   },
   {
    "duration": 15,
    "start_time": "2022-11-26T10:08:00.208Z"
   },
   {
    "duration": 12,
    "start_time": "2022-11-26T10:08:00.226Z"
   },
   {
    "duration": 23,
    "start_time": "2022-11-26T10:08:00.241Z"
   },
   {
    "duration": 538,
    "start_time": "2022-11-26T10:08:00.266Z"
   },
   {
    "duration": 7,
    "start_time": "2022-11-26T10:08:00.807Z"
   },
   {
    "duration": 91,
    "start_time": "2022-11-26T10:08:00.816Z"
   },
   {
    "duration": 49,
    "start_time": "2022-11-26T10:08:00.909Z"
   },
   {
    "duration": 150,
    "start_time": "2022-11-26T10:08:00.960Z"
   },
   {
    "duration": 174,
    "start_time": "2022-11-26T10:08:01.112Z"
   },
   {
    "duration": 164,
    "start_time": "2022-11-26T10:08:01.288Z"
   },
   {
    "duration": 204,
    "start_time": "2022-11-26T10:08:01.454Z"
   },
   {
    "duration": 177,
    "start_time": "2022-11-26T10:08:01.661Z"
   },
   {
    "duration": 237,
    "start_time": "2022-11-26T10:08:01.840Z"
   },
   {
    "duration": 169,
    "start_time": "2022-11-26T10:08:02.079Z"
   },
   {
    "duration": 160,
    "start_time": "2022-11-26T10:08:02.250Z"
   },
   {
    "duration": 167,
    "start_time": "2022-11-26T10:08:02.412Z"
   },
   {
    "duration": 160,
    "start_time": "2022-11-26T10:08:02.581Z"
   },
   {
    "duration": 145,
    "start_time": "2022-11-26T10:08:02.744Z"
   },
   {
    "duration": 164,
    "start_time": "2022-11-26T10:08:02.891Z"
   },
   {
    "duration": 152,
    "start_time": "2022-11-26T10:08:03.057Z"
   },
   {
    "duration": 160,
    "start_time": "2022-11-26T10:08:03.211Z"
   },
   {
    "duration": 274,
    "start_time": "2022-11-26T10:08:03.373Z"
   },
   {
    "duration": 14,
    "start_time": "2022-11-26T10:08:03.650Z"
   },
   {
    "duration": 1880,
    "start_time": "2022-11-26T10:08:03.666Z"
   },
   {
    "duration": 192,
    "start_time": "2022-11-26T10:08:05.548Z"
   },
   {
    "duration": 38,
    "start_time": "2022-11-26T10:08:05.742Z"
   },
   {
    "duration": 4,
    "start_time": "2022-11-26T10:08:05.782Z"
   },
   {
    "duration": 12,
    "start_time": "2022-11-26T10:08:05.788Z"
   },
   {
    "duration": 36,
    "start_time": "2022-11-26T10:08:05.802Z"
   },
   {
    "duration": 19,
    "start_time": "2022-11-26T10:08:05.841Z"
   },
   {
    "duration": 219,
    "start_time": "2022-11-26T10:08:05.866Z"
   },
   {
    "duration": 7,
    "start_time": "2022-11-26T10:08:06.086Z"
   },
   {
    "duration": 172,
    "start_time": "2022-11-26T10:10:05.123Z"
   },
   {
    "duration": 80,
    "start_time": "2022-11-26T10:10:35.040Z"
   },
   {
    "duration": 159,
    "start_time": "2022-11-26T10:10:53.683Z"
   },
   {
    "duration": 182,
    "start_time": "2022-11-26T10:11:06.223Z"
   },
   {
    "duration": 3,
    "start_time": "2022-11-26T10:20:46.025Z"
   },
   {
    "duration": 14,
    "start_time": "2022-11-26T10:20:46.030Z"
   },
   {
    "duration": 161,
    "start_time": "2022-11-26T10:20:46.046Z"
   },
   {
    "duration": 55,
    "start_time": "2022-11-26T10:20:46.209Z"
   },
   {
    "duration": 15,
    "start_time": "2022-11-26T10:20:46.266Z"
   },
   {
    "duration": 5,
    "start_time": "2022-11-26T10:20:46.282Z"
   },
   {
    "duration": 2019,
    "start_time": "2022-11-26T10:20:46.289Z"
   },
   {
    "duration": 9,
    "start_time": "2022-11-26T10:20:48.309Z"
   },
   {
    "duration": 33,
    "start_time": "2022-11-26T10:20:48.320Z"
   },
   {
    "duration": 6,
    "start_time": "2022-11-26T10:20:48.355Z"
   },
   {
    "duration": 6,
    "start_time": "2022-11-26T10:20:48.363Z"
   },
   {
    "duration": 7,
    "start_time": "2022-11-26T10:20:48.370Z"
   },
   {
    "duration": 3,
    "start_time": "2022-11-26T10:20:48.379Z"
   },
   {
    "duration": 8,
    "start_time": "2022-11-26T10:20:48.384Z"
   },
   {
    "duration": 67,
    "start_time": "2022-11-26T10:20:48.393Z"
   },
   {
    "duration": 6,
    "start_time": "2022-11-26T10:20:48.462Z"
   },
   {
    "duration": 7,
    "start_time": "2022-11-26T10:20:48.470Z"
   },
   {
    "duration": 11,
    "start_time": "2022-11-26T10:20:48.479Z"
   },
   {
    "duration": 6,
    "start_time": "2022-11-26T10:20:48.492Z"
   },
   {
    "duration": 57,
    "start_time": "2022-11-26T10:20:48.499Z"
   },
   {
    "duration": 32,
    "start_time": "2022-11-26T10:20:48.557Z"
   },
   {
    "duration": 8,
    "start_time": "2022-11-26T10:20:48.590Z"
   },
   {
    "duration": 8,
    "start_time": "2022-11-26T10:20:48.600Z"
   },
   {
    "duration": 31,
    "start_time": "2022-11-26T10:20:48.609Z"
   },
   {
    "duration": 15,
    "start_time": "2022-11-26T10:20:48.642Z"
   },
   {
    "duration": 6,
    "start_time": "2022-11-26T10:20:48.659Z"
   },
   {
    "duration": 15,
    "start_time": "2022-11-26T10:20:48.667Z"
   },
   {
    "duration": 17,
    "start_time": "2022-11-26T10:20:48.684Z"
   },
   {
    "duration": 21,
    "start_time": "2022-11-26T10:20:48.703Z"
   },
   {
    "duration": 12,
    "start_time": "2022-11-26T10:20:48.726Z"
   },
   {
    "duration": 32,
    "start_time": "2022-11-26T10:20:48.741Z"
   },
   {
    "duration": 8,
    "start_time": "2022-11-26T10:20:48.775Z"
   },
   {
    "duration": 6,
    "start_time": "2022-11-26T10:20:48.784Z"
   },
   {
    "duration": 10,
    "start_time": "2022-11-26T10:20:48.792Z"
   },
   {
    "duration": 65,
    "start_time": "2022-11-26T10:20:48.804Z"
   },
   {
    "duration": 37,
    "start_time": "2022-11-26T10:20:48.872Z"
   },
   {
    "duration": 5,
    "start_time": "2022-11-26T10:20:48.911Z"
   },
   {
    "duration": 10,
    "start_time": "2022-11-26T10:20:48.941Z"
   },
   {
    "duration": 14,
    "start_time": "2022-11-26T10:20:48.956Z"
   },
   {
    "duration": 41,
    "start_time": "2022-11-26T10:20:48.972Z"
   },
   {
    "duration": 39,
    "start_time": "2022-11-26T10:20:49.020Z"
   },
   {
    "duration": 21,
    "start_time": "2022-11-26T10:20:49.060Z"
   },
   {
    "duration": 14,
    "start_time": "2022-11-26T10:20:49.084Z"
   },
   {
    "duration": 13,
    "start_time": "2022-11-26T10:20:49.100Z"
   },
   {
    "duration": 8,
    "start_time": "2022-11-26T10:20:49.139Z"
   },
   {
    "duration": 17,
    "start_time": "2022-11-26T10:20:49.150Z"
   },
   {
    "duration": 21,
    "start_time": "2022-11-26T10:20:49.169Z"
   },
   {
    "duration": 9,
    "start_time": "2022-11-26T10:20:49.193Z"
   },
   {
    "duration": 10,
    "start_time": "2022-11-26T10:20:49.237Z"
   },
   {
    "duration": 29,
    "start_time": "2022-11-26T10:20:49.249Z"
   },
   {
    "duration": 7,
    "start_time": "2022-11-26T10:20:49.280Z"
   },
   {
    "duration": 8,
    "start_time": "2022-11-26T10:20:49.289Z"
   },
   {
    "duration": 18,
    "start_time": "2022-11-26T10:20:49.299Z"
   },
   {
    "duration": 8,
    "start_time": "2022-11-26T10:20:49.338Z"
   },
   {
    "duration": 998,
    "start_time": "2022-11-26T10:20:49.348Z"
   },
   {
    "duration": 6,
    "start_time": "2022-11-26T10:20:50.348Z"
   },
   {
    "duration": 7,
    "start_time": "2022-11-26T10:20:50.356Z"
   },
   {
    "duration": 5,
    "start_time": "2022-11-26T10:20:50.365Z"
   },
   {
    "duration": 8,
    "start_time": "2022-11-26T10:20:50.372Z"
   },
   {
    "duration": 9,
    "start_time": "2022-11-26T10:20:50.382Z"
   },
   {
    "duration": 10,
    "start_time": "2022-11-26T10:20:50.393Z"
   },
   {
    "duration": 32,
    "start_time": "2022-11-26T10:20:50.405Z"
   },
   {
    "duration": 4,
    "start_time": "2022-11-26T10:20:50.440Z"
   },
   {
    "duration": 10,
    "start_time": "2022-11-26T10:20:50.446Z"
   },
   {
    "duration": 6,
    "start_time": "2022-11-26T10:20:50.457Z"
   },
   {
    "duration": 5,
    "start_time": "2022-11-26T10:20:50.465Z"
   },
   {
    "duration": 4,
    "start_time": "2022-11-26T10:20:50.472Z"
   },
   {
    "duration": 415,
    "start_time": "2022-11-26T10:20:50.477Z"
   },
   {
    "duration": 6,
    "start_time": "2022-11-26T10:20:50.894Z"
   },
   {
    "duration": 37,
    "start_time": "2022-11-26T10:20:50.901Z"
   },
   {
    "duration": 2,
    "start_time": "2022-11-26T10:20:50.941Z"
   },
   {
    "duration": 138,
    "start_time": "2022-11-26T10:20:50.944Z"
   },
   {
    "duration": 163,
    "start_time": "2022-11-26T10:20:51.084Z"
   },
   {
    "duration": 179,
    "start_time": "2022-11-26T10:20:51.249Z"
   },
   {
    "duration": 162,
    "start_time": "2022-11-26T10:20:51.430Z"
   },
   {
    "duration": 150,
    "start_time": "2022-11-26T10:20:51.594Z"
   },
   {
    "duration": 159,
    "start_time": "2022-11-26T10:20:51.746Z"
   },
   {
    "duration": 131,
    "start_time": "2022-11-26T10:20:51.906Z"
   },
   {
    "duration": 234,
    "start_time": "2022-11-26T10:20:52.039Z"
   },
   {
    "duration": 150,
    "start_time": "2022-11-26T10:20:52.275Z"
   },
   {
    "duration": 149,
    "start_time": "2022-11-26T10:20:52.427Z"
   },
   {
    "duration": 130,
    "start_time": "2022-11-26T10:20:52.578Z"
   },
   {
    "duration": 150,
    "start_time": "2022-11-26T10:20:52.710Z"
   },
   {
    "duration": 133,
    "start_time": "2022-11-26T10:20:52.862Z"
   },
   {
    "duration": 148,
    "start_time": "2022-11-26T10:20:52.997Z"
   },
   {
    "duration": 230,
    "start_time": "2022-11-26T10:20:53.147Z"
   },
   {
    "duration": 9,
    "start_time": "2022-11-26T10:20:53.378Z"
   },
   {
    "duration": 1709,
    "start_time": "2022-11-26T10:20:53.389Z"
   },
   {
    "duration": 180,
    "start_time": "2022-11-26T10:20:55.100Z"
   },
   {
    "duration": 25,
    "start_time": "2022-11-26T10:20:55.281Z"
   },
   {
    "duration": 4,
    "start_time": "2022-11-26T10:20:55.308Z"
   },
   {
    "duration": 30,
    "start_time": "2022-11-26T10:20:55.314Z"
   },
   {
    "duration": 9,
    "start_time": "2022-11-26T10:20:55.346Z"
   },
   {
    "duration": 25,
    "start_time": "2022-11-26T10:20:55.357Z"
   },
   {
    "duration": 189,
    "start_time": "2022-11-26T10:20:55.383Z"
   },
   {
    "duration": 7,
    "start_time": "2022-11-26T10:20:55.574Z"
   },
   {
    "duration": 416,
    "start_time": "2022-11-26T16:49:56.924Z"
   },
   {
    "duration": 271,
    "start_time": "2022-11-26T16:49:57.342Z"
   },
   {
    "duration": 135,
    "start_time": "2022-11-26T16:49:57.615Z"
   },
   {
    "duration": 56,
    "start_time": "2022-11-26T16:49:57.753Z"
   },
   {
    "duration": 13,
    "start_time": "2022-11-26T16:49:57.811Z"
   },
   {
    "duration": 3,
    "start_time": "2022-11-26T16:49:57.825Z"
   },
   {
    "duration": 1983,
    "start_time": "2022-11-26T16:49:57.830Z"
   },
   {
    "duration": 8,
    "start_time": "2022-11-26T16:49:59.815Z"
   },
   {
    "duration": 47,
    "start_time": "2022-11-26T16:49:59.825Z"
   },
   {
    "duration": 13,
    "start_time": "2022-11-26T16:49:59.874Z"
   },
   {
    "duration": 22,
    "start_time": "2022-11-26T16:49:59.889Z"
   },
   {
    "duration": 5,
    "start_time": "2022-11-26T16:49:59.913Z"
   },
   {
    "duration": 3,
    "start_time": "2022-11-26T16:49:59.919Z"
   },
   {
    "duration": 10,
    "start_time": "2022-11-26T16:49:59.923Z"
   },
   {
    "duration": 30,
    "start_time": "2022-11-26T16:49:59.934Z"
   },
   {
    "duration": 7,
    "start_time": "2022-11-26T16:49:59.966Z"
   },
   {
    "duration": 6,
    "start_time": "2022-11-26T16:49:59.974Z"
   },
   {
    "duration": 38,
    "start_time": "2022-11-26T16:49:59.982Z"
   },
   {
    "duration": 11,
    "start_time": "2022-11-26T16:50:00.021Z"
   },
   {
    "duration": 37,
    "start_time": "2022-11-26T16:50:00.034Z"
   },
   {
    "duration": 43,
    "start_time": "2022-11-26T16:50:00.073Z"
   },
   {
    "duration": 11,
    "start_time": "2022-11-26T16:50:00.117Z"
   },
   {
    "duration": 35,
    "start_time": "2022-11-26T16:50:00.130Z"
   },
   {
    "duration": 41,
    "start_time": "2022-11-26T16:50:00.167Z"
   },
   {
    "duration": 18,
    "start_time": "2022-11-26T16:50:00.210Z"
   },
   {
    "duration": 10,
    "start_time": "2022-11-26T16:50:00.229Z"
   },
   {
    "duration": 16,
    "start_time": "2022-11-26T16:50:00.240Z"
   },
   {
    "duration": 43,
    "start_time": "2022-11-26T16:50:00.261Z"
   },
   {
    "duration": 22,
    "start_time": "2022-11-26T16:50:00.306Z"
   },
   {
    "duration": 37,
    "start_time": "2022-11-26T16:50:00.329Z"
   },
   {
    "duration": 55,
    "start_time": "2022-11-26T16:50:00.368Z"
   },
   {
    "duration": 24,
    "start_time": "2022-11-26T16:50:00.425Z"
   },
   {
    "duration": 19,
    "start_time": "2022-11-26T16:50:00.451Z"
   },
   {
    "duration": 43,
    "start_time": "2022-11-26T16:50:00.472Z"
   },
   {
    "duration": 30,
    "start_time": "2022-11-26T16:50:00.517Z"
   },
   {
    "duration": 39,
    "start_time": "2022-11-26T16:50:00.549Z"
   },
   {
    "duration": 21,
    "start_time": "2022-11-26T16:50:00.589Z"
   },
   {
    "duration": 19,
    "start_time": "2022-11-26T16:50:00.612Z"
   },
   {
    "duration": 17,
    "start_time": "2022-11-26T16:50:00.633Z"
   },
   {
    "duration": 25,
    "start_time": "2022-11-26T16:50:00.651Z"
   },
   {
    "duration": 36,
    "start_time": "2022-11-26T16:50:00.681Z"
   },
   {
    "duration": 12,
    "start_time": "2022-11-26T16:50:00.718Z"
   },
   {
    "duration": 16,
    "start_time": "2022-11-26T16:50:00.732Z"
   },
   {
    "duration": 10,
    "start_time": "2022-11-26T16:50:00.749Z"
   },
   {
    "duration": 41,
    "start_time": "2022-11-26T16:50:00.761Z"
   },
   {
    "duration": 22,
    "start_time": "2022-11-26T16:50:00.804Z"
   },
   {
    "duration": 21,
    "start_time": "2022-11-26T16:50:00.828Z"
   },
   {
    "duration": 14,
    "start_time": "2022-11-26T16:50:00.850Z"
   },
   {
    "duration": 57,
    "start_time": "2022-11-26T16:50:00.866Z"
   },
   {
    "duration": 20,
    "start_time": "2022-11-26T16:50:00.925Z"
   },
   {
    "duration": 20,
    "start_time": "2022-11-26T16:50:00.947Z"
   },
   {
    "duration": 15,
    "start_time": "2022-11-26T16:50:00.969Z"
   },
   {
    "duration": 24,
    "start_time": "2022-11-26T16:50:00.993Z"
   },
   {
    "duration": 14,
    "start_time": "2022-11-26T16:50:01.018Z"
   },
   {
    "duration": 1037,
    "start_time": "2022-11-26T16:50:01.034Z"
   },
   {
    "duration": 12,
    "start_time": "2022-11-26T16:50:02.072Z"
   },
   {
    "duration": 30,
    "start_time": "2022-11-26T16:50:02.086Z"
   },
   {
    "duration": 4,
    "start_time": "2022-11-26T16:50:02.118Z"
   },
   {
    "duration": 9,
    "start_time": "2022-11-26T16:50:02.123Z"
   },
   {
    "duration": 7,
    "start_time": "2022-11-26T16:50:02.134Z"
   },
   {
    "duration": 10,
    "start_time": "2022-11-26T16:50:02.142Z"
   },
   {
    "duration": 5,
    "start_time": "2022-11-26T16:50:02.153Z"
   },
   {
    "duration": 8,
    "start_time": "2022-11-26T16:50:02.160Z"
   },
   {
    "duration": 11,
    "start_time": "2022-11-26T16:50:02.170Z"
   },
   {
    "duration": 27,
    "start_time": "2022-11-26T16:50:02.186Z"
   },
   {
    "duration": 5,
    "start_time": "2022-11-26T16:50:02.215Z"
   },
   {
    "duration": 3,
    "start_time": "2022-11-26T16:50:02.222Z"
   },
   {
    "duration": 434,
    "start_time": "2022-11-26T16:50:02.226Z"
   },
   {
    "duration": 4,
    "start_time": "2022-11-26T16:50:02.662Z"
   },
   {
    "duration": 60,
    "start_time": "2022-11-26T16:50:02.668Z"
   },
   {
    "duration": 18,
    "start_time": "2022-11-26T16:50:02.729Z"
   },
   {
    "duration": 157,
    "start_time": "2022-11-26T16:50:02.748Z"
   },
   {
    "duration": 150,
    "start_time": "2022-11-26T16:50:02.908Z"
   },
   {
    "duration": 150,
    "start_time": "2022-11-26T16:50:03.060Z"
   },
   {
    "duration": 157,
    "start_time": "2022-11-26T16:50:03.212Z"
   },
   {
    "duration": 150,
    "start_time": "2022-11-26T16:50:03.370Z"
   },
   {
    "duration": 154,
    "start_time": "2022-11-26T16:50:03.522Z"
   },
   {
    "duration": 141,
    "start_time": "2022-11-26T16:50:03.686Z"
   },
   {
    "duration": 209,
    "start_time": "2022-11-26T16:50:03.828Z"
   },
   {
    "duration": 170,
    "start_time": "2022-11-26T16:50:04.039Z"
   },
   {
    "duration": 161,
    "start_time": "2022-11-26T16:50:04.211Z"
   },
   {
    "duration": 124,
    "start_time": "2022-11-26T16:50:04.378Z"
   },
   {
    "duration": 160,
    "start_time": "2022-11-26T16:50:04.504Z"
   },
   {
    "duration": 144,
    "start_time": "2022-11-26T16:50:04.665Z"
   },
   {
    "duration": 144,
    "start_time": "2022-11-26T16:50:04.811Z"
   },
   {
    "duration": 274,
    "start_time": "2022-11-26T16:50:04.957Z"
   },
   {
    "duration": 9,
    "start_time": "2022-11-26T16:50:05.233Z"
   },
   {
    "duration": 1680,
    "start_time": "2022-11-26T16:50:05.244Z"
   },
   {
    "duration": 187,
    "start_time": "2022-11-26T16:50:06.926Z"
   },
   {
    "duration": 22,
    "start_time": "2022-11-26T16:50:07.114Z"
   },
   {
    "duration": 3,
    "start_time": "2022-11-26T16:50:07.137Z"
   },
   {
    "duration": 9,
    "start_time": "2022-11-26T16:50:07.142Z"
   },
   {
    "duration": 28,
    "start_time": "2022-11-26T16:50:07.153Z"
   },
   {
    "duration": 33,
    "start_time": "2022-11-26T16:50:07.182Z"
   },
   {
    "duration": 176,
    "start_time": "2022-11-26T16:50:07.216Z"
   },
   {
    "duration": 14,
    "start_time": "2022-11-26T16:50:07.393Z"
   },
   {
    "duration": 176,
    "start_time": "2022-11-26T16:51:02.215Z"
   },
   {
    "duration": 428,
    "start_time": "2022-11-26T16:51:11.908Z"
   },
   {
    "duration": 276,
    "start_time": "2022-11-26T16:51:12.338Z"
   },
   {
    "duration": 146,
    "start_time": "2022-11-26T16:51:12.616Z"
   },
   {
    "duration": 50,
    "start_time": "2022-11-26T16:51:12.764Z"
   },
   {
    "duration": 20,
    "start_time": "2022-11-26T16:51:12.816Z"
   },
   {
    "duration": 5,
    "start_time": "2022-11-26T16:51:12.837Z"
   },
   {
    "duration": 3346,
    "start_time": "2022-11-26T16:51:12.843Z"
   },
   {
    "duration": 18,
    "start_time": "2022-11-26T16:51:16.191Z"
   },
   {
    "duration": 54,
    "start_time": "2022-11-26T16:51:16.211Z"
   },
   {
    "duration": 4,
    "start_time": "2022-11-26T16:51:16.267Z"
   },
   {
    "duration": 33,
    "start_time": "2022-11-26T16:51:16.272Z"
   },
   {
    "duration": 5,
    "start_time": "2022-11-26T16:51:16.307Z"
   },
   {
    "duration": 485,
    "start_time": "2022-11-26T16:51:16.313Z"
   },
   {
    "duration": 6,
    "start_time": "2022-11-26T16:51:16.802Z"
   },
   {
    "duration": 28,
    "start_time": "2022-11-26T16:51:16.810Z"
   },
   {
    "duration": 5,
    "start_time": "2022-11-26T16:51:16.839Z"
   },
   {
    "duration": 6,
    "start_time": "2022-11-26T16:51:16.845Z"
   },
   {
    "duration": 41,
    "start_time": "2022-11-26T16:51:16.852Z"
   },
   {
    "duration": 10,
    "start_time": "2022-11-26T16:51:16.897Z"
   },
   {
    "duration": 31,
    "start_time": "2022-11-26T16:51:16.908Z"
   },
   {
    "duration": 27,
    "start_time": "2022-11-26T16:51:16.940Z"
   },
   {
    "duration": 5,
    "start_time": "2022-11-26T16:51:16.968Z"
   },
   {
    "duration": 19,
    "start_time": "2022-11-26T16:51:16.974Z"
   },
   {
    "duration": 17,
    "start_time": "2022-11-26T16:51:16.998Z"
   },
   {
    "duration": 16,
    "start_time": "2022-11-26T16:51:17.016Z"
   },
   {
    "duration": 6,
    "start_time": "2022-11-26T16:51:17.033Z"
   },
   {
    "duration": 4,
    "start_time": "2022-11-26T16:51:17.041Z"
   },
   {
    "duration": 14,
    "start_time": "2022-11-26T16:51:17.047Z"
   },
   {
    "duration": 6,
    "start_time": "2022-11-26T16:51:17.063Z"
   },
   {
    "duration": 11,
    "start_time": "2022-11-26T16:51:17.071Z"
   },
   {
    "duration": 48,
    "start_time": "2022-11-26T16:51:17.083Z"
   },
   {
    "duration": 7,
    "start_time": "2022-11-26T16:51:17.133Z"
   },
   {
    "duration": 5,
    "start_time": "2022-11-26T16:51:17.141Z"
   },
   {
    "duration": 10,
    "start_time": "2022-11-26T16:51:17.147Z"
   },
   {
    "duration": 39,
    "start_time": "2022-11-26T16:51:17.158Z"
   },
   {
    "duration": 25,
    "start_time": "2022-11-26T16:51:17.199Z"
   },
   {
    "duration": 5,
    "start_time": "2022-11-26T16:51:17.226Z"
   },
   {
    "duration": 5,
    "start_time": "2022-11-26T16:51:17.232Z"
   },
   {
    "duration": 9,
    "start_time": "2022-11-26T16:51:17.239Z"
   },
   {
    "duration": 57,
    "start_time": "2022-11-26T16:51:17.249Z"
   },
   {
    "duration": 23,
    "start_time": "2022-11-26T16:51:17.312Z"
   },
   {
    "duration": 16,
    "start_time": "2022-11-26T16:51:17.336Z"
   },
   {
    "duration": 35,
    "start_time": "2022-11-26T16:51:17.354Z"
   },
   {
    "duration": 14,
    "start_time": "2022-11-26T16:51:17.391Z"
   },
   {
    "duration": 9,
    "start_time": "2022-11-26T16:51:17.407Z"
   },
   {
    "duration": 16,
    "start_time": "2022-11-26T16:51:17.418Z"
   },
   {
    "duration": 20,
    "start_time": "2022-11-26T16:51:17.436Z"
   },
   {
    "duration": 7,
    "start_time": "2022-11-26T16:51:17.458Z"
   },
   {
    "duration": 14,
    "start_time": "2022-11-26T16:51:17.483Z"
   },
   {
    "duration": 23,
    "start_time": "2022-11-26T16:51:17.498Z"
   },
   {
    "duration": 8,
    "start_time": "2022-11-26T16:51:17.522Z"
   },
   {
    "duration": 5,
    "start_time": "2022-11-26T16:51:17.532Z"
   },
   {
    "duration": 9,
    "start_time": "2022-11-26T16:51:17.538Z"
   },
   {
    "duration": 7,
    "start_time": "2022-11-26T16:51:17.549Z"
   },
   {
    "duration": 974,
    "start_time": "2022-11-26T16:51:17.558Z"
   },
   {
    "duration": 5,
    "start_time": "2022-11-26T16:51:18.533Z"
   },
   {
    "duration": 6,
    "start_time": "2022-11-26T16:51:18.540Z"
   },
   {
    "duration": 4,
    "start_time": "2022-11-26T16:51:18.547Z"
   },
   {
    "duration": 7,
    "start_time": "2022-11-26T16:51:18.552Z"
   },
   {
    "duration": 26,
    "start_time": "2022-11-26T16:51:18.561Z"
   },
   {
    "duration": 17,
    "start_time": "2022-11-26T16:51:18.589Z"
   },
   {
    "duration": 4,
    "start_time": "2022-11-26T16:51:18.608Z"
   },
   {
    "duration": 5,
    "start_time": "2022-11-26T16:51:18.614Z"
   },
   {
    "duration": 9,
    "start_time": "2022-11-26T16:51:18.620Z"
   },
   {
    "duration": 10,
    "start_time": "2022-11-26T16:51:18.630Z"
   },
   {
    "duration": 11,
    "start_time": "2022-11-26T16:51:18.641Z"
   },
   {
    "duration": 4,
    "start_time": "2022-11-26T16:51:18.654Z"
   },
   {
    "duration": 454,
    "start_time": "2022-11-26T16:51:18.677Z"
   },
   {
    "duration": 5,
    "start_time": "2022-11-26T16:51:19.134Z"
   },
   {
    "duration": 27,
    "start_time": "2022-11-26T16:51:19.141Z"
   },
   {
    "duration": 2,
    "start_time": "2022-11-26T16:51:19.169Z"
   },
   {
    "duration": 163,
    "start_time": "2022-11-26T16:51:19.172Z"
   },
   {
    "duration": 174,
    "start_time": "2022-11-26T16:51:19.337Z"
   },
   {
    "duration": 134,
    "start_time": "2022-11-26T16:51:19.513Z"
   },
   {
    "duration": 180,
    "start_time": "2022-11-26T16:51:19.649Z"
   },
   {
    "duration": 232,
    "start_time": "2022-11-26T16:51:19.831Z"
   },
   {
    "duration": 161,
    "start_time": "2022-11-26T16:51:20.064Z"
   },
   {
    "duration": 150,
    "start_time": "2022-11-26T16:51:20.227Z"
   },
   {
    "duration": 164,
    "start_time": "2022-11-26T16:51:20.382Z"
   },
   {
    "duration": 146,
    "start_time": "2022-11-26T16:51:20.547Z"
   },
   {
    "duration": 147,
    "start_time": "2022-11-26T16:51:20.699Z"
   },
   {
    "duration": 127,
    "start_time": "2022-11-26T16:51:20.847Z"
   },
   {
    "duration": 167,
    "start_time": "2022-11-26T16:51:20.975Z"
   },
   {
    "duration": 141,
    "start_time": "2022-11-26T16:51:21.143Z"
   },
   {
    "duration": 151,
    "start_time": "2022-11-26T16:51:21.286Z"
   },
   {
    "duration": 311,
    "start_time": "2022-11-26T16:51:21.438Z"
   },
   {
    "duration": 9,
    "start_time": "2022-11-26T16:51:21.750Z"
   },
   {
    "duration": 1614,
    "start_time": "2022-11-26T16:51:21.761Z"
   },
   {
    "duration": 184,
    "start_time": "2022-11-26T16:51:23.386Z"
   },
   {
    "duration": 42,
    "start_time": "2022-11-26T16:51:23.571Z"
   },
   {
    "duration": 5,
    "start_time": "2022-11-26T16:51:23.615Z"
   },
   {
    "duration": 10,
    "start_time": "2022-11-26T16:51:23.622Z"
   },
   {
    "duration": 9,
    "start_time": "2022-11-26T16:51:23.634Z"
   },
   {
    "duration": 12,
    "start_time": "2022-11-26T16:51:23.645Z"
   },
   {
    "duration": 196,
    "start_time": "2022-11-26T16:51:23.658Z"
   },
   {
    "duration": 6,
    "start_time": "2022-11-26T16:51:23.856Z"
   }
  ],
  "kernelspec": {
   "display_name": "Python 3 (ipykernel)",
   "language": "python",
   "name": "python3"
  },
  "language_info": {
   "codemirror_mode": {
    "name": "ipython",
    "version": 3
   },
   "file_extension": ".py",
   "mimetype": "text/x-python",
   "name": "python",
   "nbconvert_exporter": "python",
   "pygments_lexer": "ipython3",
   "version": "3.9.12"
  },
  "toc": {
   "base_numbering": 1,
   "nav_menu": {},
   "number_sections": true,
   "sideBar": true,
   "skip_h1_title": true,
   "title_cell": "Содержание",
   "title_sidebar": "Содержание",
   "toc_cell": true,
   "toc_position": {},
   "toc_section_display": true,
   "toc_window_display": true
  }
 },
 "nbformat": 4,
 "nbformat_minor": 5
}
