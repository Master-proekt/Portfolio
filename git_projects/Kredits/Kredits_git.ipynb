{
 "cells": [
  {
   "cell_type": "markdown",
   "id": "231c0398",
   "metadata": {
    "toc": true
   },
   "source": [
    "<h1>Содержание<span class=\"tocSkip\"></span></h1>\n",
    "<div class=\"toc\"><ul class=\"toc-item\"><li><span><a href=\"#Откройте-таблицу-и-изучите-общую-информацию-о-данных\" data-toc-modified-id=\"Откройте-таблицу-и-изучите-общую-информацию-о-данных-1\"><span class=\"toc-item-num\">1&nbsp;&nbsp;</span>Откройте таблицу и изучите общую информацию о данных</a></span></li><li><span><a href=\"#Предобработка-данных\" data-toc-modified-id=\"Предобработка-данных-2\"><span class=\"toc-item-num\">2&nbsp;&nbsp;</span>Предобработка данных</a></span><ul class=\"toc-item\"><li><span><a href=\"#Удаление-пропусков\" data-toc-modified-id=\"Удаление-пропусков-2.1\"><span class=\"toc-item-num\">2.1&nbsp;&nbsp;</span>Удаление пропусков</a></span></li><li><span><a href=\"#Обработка-аномальных-значений\" data-toc-modified-id=\"Обработка-аномальных-значений-2.2\"><span class=\"toc-item-num\">2.2&nbsp;&nbsp;</span>Обработка аномальных значений</a></span></li><li><span><a href=\"#Удаление-пропусков-(продолжение)\" data-toc-modified-id=\"Удаление-пропусков-(продолжение)-2.3\"><span class=\"toc-item-num\">2.3&nbsp;&nbsp;</span>Удаление пропусков (продолжение)</a></span></li><li><span><a href=\"#Изменение-типов-данных\" data-toc-modified-id=\"Изменение-типов-данных-2.4\"><span class=\"toc-item-num\">2.4&nbsp;&nbsp;</span>Изменение типов данных</a></span></li><li><span><a href=\"#Обработка-дубликатов\" data-toc-modified-id=\"Обработка-дубликатов-2.5\"><span class=\"toc-item-num\">2.5&nbsp;&nbsp;</span>Обработка дубликатов</a></span></li><li><span><a href=\"#Категоризация-данных\" data-toc-modified-id=\"Категоризация-данных-2.6\"><span class=\"toc-item-num\">2.6&nbsp;&nbsp;</span>Категоризация данных</a></span></li><li><span><a href=\"#Шаг-3.-Исследуйте-данные-и-ответьте-на-вопросы\" data-toc-modified-id=\"Шаг-3.-Исследуйте-данные-и-ответьте-на-вопросы-2.7\"><span class=\"toc-item-num\">2.7&nbsp;&nbsp;</span>Шаг 3. Исследуйте данные и ответьте на вопросы</a></span><ul class=\"toc-item\"><li><span><a href=\"#3.1-Есть-ли-зависимость-между-количеством-детей-и-возвратом-кредита-в-срок?\" data-toc-modified-id=\"3.1-Есть-ли-зависимость-между-количеством-детей-и-возвратом-кредита-в-срок?-2.7.1\"><span class=\"toc-item-num\">2.7.1&nbsp;&nbsp;</span>3.1 Есть ли зависимость между количеством детей и возвратом кредита в срок?</a></span></li><li><span><a href=\"#3.2-Есть-ли-зависимость-между-семейным-положением-и-возвратом-кредита-в-срок?\" data-toc-modified-id=\"3.2-Есть-ли-зависимость-между-семейным-положением-и-возвратом-кредита-в-срок?-2.7.2\"><span class=\"toc-item-num\">2.7.2&nbsp;&nbsp;</span>3.2 Есть ли зависимость между семейным положением и возвратом кредита в срок?</a></span></li><li><span><a href=\"#3.3-Есть-ли-зависимость-между-уровнем-дохода-и-возвратом-кредита-в-срок?\" data-toc-modified-id=\"3.3-Есть-ли-зависимость-между-уровнем-дохода-и-возвратом-кредита-в-срок?-2.7.3\"><span class=\"toc-item-num\">2.7.3&nbsp;&nbsp;</span>3.3 Есть ли зависимость между уровнем дохода и возвратом кредита в срок?</a></span></li><li><span><a href=\"#3.4-Как-разные-цели-кредита-влияют-на-его-возврат-в-срок?\" data-toc-modified-id=\"3.4-Как-разные-цели-кредита-влияют-на-его-возврат-в-срок?-2.7.4\"><span class=\"toc-item-num\">2.7.4&nbsp;&nbsp;</span>3.4 Как разные цели кредита влияют на его возврат в срок?</a></span></li><li><span><a href=\"#3.5-Приведите-возможные-причины-появления-пропусков-в-исходных-данных.\" data-toc-modified-id=\"3.5-Приведите-возможные-причины-появления-пропусков-в-исходных-данных.-2.7.5\"><span class=\"toc-item-num\">2.7.5&nbsp;&nbsp;</span>3.5 Приведите возможные причины появления пропусков в исходных данных.</a></span></li><li><span><a href=\"#3.6-Объясните,-почему-заполнить-пропуски-медианным-значением-—-лучшее-решение-для-количественных-переменных.\" data-toc-modified-id=\"3.6-Объясните,-почему-заполнить-пропуски-медианным-значением-—-лучшее-решение-для-количественных-переменных.-2.7.6\"><span class=\"toc-item-num\">2.7.6&nbsp;&nbsp;</span>3.6 Объясните, почему заполнить пропуски медианным значением — лучшее решение для количественных переменных.</a></span></li></ul></li><li><span><a href=\"#Шаг-4:-общий-вывод.\" data-toc-modified-id=\"Шаг-4:-общий-вывод.-2.8\"><span class=\"toc-item-num\">2.8&nbsp;&nbsp;</span>Шаг 4: общий вывод.</a></span></li></ul></li></ul></div>"
   ]
  },
  {
   "cell_type": "markdown",
   "id": "48f189fb",
   "metadata": {
    "deletable": false,
    "editable": false,
    "id": "c81daeeb"
   },
   "source": [
    "# Исследование надежности заемщиков\n"
   ]
  },
  {
   "cell_type": "markdown",
   "id": "b6a3270f",
   "metadata": {
    "deletable": false,
    "editable": false,
    "id": "827c20bf"
   },
   "source": [
    "Во второй части проекта вы выполните шаги 3 и 4. Их вручную проверит ревьюер.\n",
    "Чтобы вам не пришлось писать код заново для шагов 1 и 2, мы добавили авторские решения в ячейки с кодом. \n",
    "\n"
   ]
  },
  {
   "cell_type": "markdown",
   "id": "34a3b844",
   "metadata": {
    "deletable": false,
    "editable": false,
    "id": "744d7639"
   },
   "source": [
    "## Откройте таблицу и изучите общую информацию о данных"
   ]
  },
  {
   "cell_type": "markdown",
   "id": "e69fdc9b",
   "metadata": {
    "deletable": false,
    "editable": false,
    "id": "e7a14c31"
   },
   "source": [
    "**Задание 1. Импортируйте библиотеку pandas. Считайте данные из csv-файла в датафрейм и сохраните в переменную `data`. Путь к файлу:**\n",
    "\n",
    "`/datasets/data.csv`"
   ]
  },
  {
   "cell_type": "code",
   "execution_count": 1,
   "id": "1cb158e9",
   "metadata": {
    "deletable": false,
    "id": "7bcf75c9"
   },
   "outputs": [],
   "source": [
    "import pandas as pd\n",
    "\n",
    "try:\n",
    "    data = pd.read_csv('/datasets/data.csv')\n",
    "except:\n",
    "    data = pd.read_csv(r\"C:\\Users\\maste\\OneDrive\\Рабочий стол\\data.csv\")"
   ]
  },
  {
   "cell_type": "markdown",
   "id": "f1cbd9f7",
   "metadata": {
    "deletable": false,
    "editable": false,
    "id": "b8038fe3"
   },
   "source": [
    "**Задание 2. Выведите первые 20 строчек датафрейма `data` на экран.**"
   ]
  },
  {
   "cell_type": "code",
   "execution_count": 2,
   "id": "77f4e741",
   "metadata": {
    "deletable": false,
    "id": "2a7cab99",
    "outputId": "1a8f3ef2-d323-4ec2-ddf7-89670b5944c4"
   },
   "outputs": [
    {
     "data": {
      "text/html": [
       "<div>\n",
       "<style scoped>\n",
       "    .dataframe tbody tr th:only-of-type {\n",
       "        vertical-align: middle;\n",
       "    }\n",
       "\n",
       "    .dataframe tbody tr th {\n",
       "        vertical-align: top;\n",
       "    }\n",
       "\n",
       "    .dataframe thead th {\n",
       "        text-align: right;\n",
       "    }\n",
       "</style>\n",
       "<table border=\"1\" class=\"dataframe\">\n",
       "  <thead>\n",
       "    <tr style=\"text-align: right;\">\n",
       "      <th></th>\n",
       "      <th>children</th>\n",
       "      <th>days_employed</th>\n",
       "      <th>dob_years</th>\n",
       "      <th>education</th>\n",
       "      <th>education_id</th>\n",
       "      <th>family_status</th>\n",
       "      <th>family_status_id</th>\n",
       "      <th>gender</th>\n",
       "      <th>income_type</th>\n",
       "      <th>debt</th>\n",
       "      <th>total_income</th>\n",
       "      <th>purpose</th>\n",
       "    </tr>\n",
       "  </thead>\n",
       "  <tbody>\n",
       "    <tr>\n",
       "      <th>0</th>\n",
       "      <td>1</td>\n",
       "      <td>-8437.673028</td>\n",
       "      <td>42</td>\n",
       "      <td>высшее</td>\n",
       "      <td>0</td>\n",
       "      <td>женат / замужем</td>\n",
       "      <td>0</td>\n",
       "      <td>F</td>\n",
       "      <td>сотрудник</td>\n",
       "      <td>0</td>\n",
       "      <td>253875.639453</td>\n",
       "      <td>покупка жилья</td>\n",
       "    </tr>\n",
       "    <tr>\n",
       "      <th>1</th>\n",
       "      <td>1</td>\n",
       "      <td>-4024.803754</td>\n",
       "      <td>36</td>\n",
       "      <td>среднее</td>\n",
       "      <td>1</td>\n",
       "      <td>женат / замужем</td>\n",
       "      <td>0</td>\n",
       "      <td>F</td>\n",
       "      <td>сотрудник</td>\n",
       "      <td>0</td>\n",
       "      <td>112080.014102</td>\n",
       "      <td>приобретение автомобиля</td>\n",
       "    </tr>\n",
       "    <tr>\n",
       "      <th>2</th>\n",
       "      <td>0</td>\n",
       "      <td>-5623.422610</td>\n",
       "      <td>33</td>\n",
       "      <td>Среднее</td>\n",
       "      <td>1</td>\n",
       "      <td>женат / замужем</td>\n",
       "      <td>0</td>\n",
       "      <td>M</td>\n",
       "      <td>сотрудник</td>\n",
       "      <td>0</td>\n",
       "      <td>145885.952297</td>\n",
       "      <td>покупка жилья</td>\n",
       "    </tr>\n",
       "    <tr>\n",
       "      <th>3</th>\n",
       "      <td>3</td>\n",
       "      <td>-4124.747207</td>\n",
       "      <td>32</td>\n",
       "      <td>среднее</td>\n",
       "      <td>1</td>\n",
       "      <td>женат / замужем</td>\n",
       "      <td>0</td>\n",
       "      <td>M</td>\n",
       "      <td>сотрудник</td>\n",
       "      <td>0</td>\n",
       "      <td>267628.550329</td>\n",
       "      <td>дополнительное образование</td>\n",
       "    </tr>\n",
       "    <tr>\n",
       "      <th>4</th>\n",
       "      <td>0</td>\n",
       "      <td>340266.072047</td>\n",
       "      <td>53</td>\n",
       "      <td>среднее</td>\n",
       "      <td>1</td>\n",
       "      <td>гражданский брак</td>\n",
       "      <td>1</td>\n",
       "      <td>F</td>\n",
       "      <td>пенсионер</td>\n",
       "      <td>0</td>\n",
       "      <td>158616.077870</td>\n",
       "      <td>сыграть свадьбу</td>\n",
       "    </tr>\n",
       "    <tr>\n",
       "      <th>5</th>\n",
       "      <td>0</td>\n",
       "      <td>-926.185831</td>\n",
       "      <td>27</td>\n",
       "      <td>высшее</td>\n",
       "      <td>0</td>\n",
       "      <td>гражданский брак</td>\n",
       "      <td>1</td>\n",
       "      <td>M</td>\n",
       "      <td>компаньон</td>\n",
       "      <td>0</td>\n",
       "      <td>255763.565419</td>\n",
       "      <td>покупка жилья</td>\n",
       "    </tr>\n",
       "    <tr>\n",
       "      <th>6</th>\n",
       "      <td>0</td>\n",
       "      <td>-2879.202052</td>\n",
       "      <td>43</td>\n",
       "      <td>высшее</td>\n",
       "      <td>0</td>\n",
       "      <td>женат / замужем</td>\n",
       "      <td>0</td>\n",
       "      <td>F</td>\n",
       "      <td>компаньон</td>\n",
       "      <td>0</td>\n",
       "      <td>240525.971920</td>\n",
       "      <td>операции с жильем</td>\n",
       "    </tr>\n",
       "    <tr>\n",
       "      <th>7</th>\n",
       "      <td>0</td>\n",
       "      <td>-152.779569</td>\n",
       "      <td>50</td>\n",
       "      <td>СРЕДНЕЕ</td>\n",
       "      <td>1</td>\n",
       "      <td>женат / замужем</td>\n",
       "      <td>0</td>\n",
       "      <td>M</td>\n",
       "      <td>сотрудник</td>\n",
       "      <td>0</td>\n",
       "      <td>135823.934197</td>\n",
       "      <td>образование</td>\n",
       "    </tr>\n",
       "    <tr>\n",
       "      <th>8</th>\n",
       "      <td>2</td>\n",
       "      <td>-6929.865299</td>\n",
       "      <td>35</td>\n",
       "      <td>ВЫСШЕЕ</td>\n",
       "      <td>0</td>\n",
       "      <td>гражданский брак</td>\n",
       "      <td>1</td>\n",
       "      <td>F</td>\n",
       "      <td>сотрудник</td>\n",
       "      <td>0</td>\n",
       "      <td>95856.832424</td>\n",
       "      <td>на проведение свадьбы</td>\n",
       "    </tr>\n",
       "    <tr>\n",
       "      <th>9</th>\n",
       "      <td>0</td>\n",
       "      <td>-2188.756445</td>\n",
       "      <td>41</td>\n",
       "      <td>среднее</td>\n",
       "      <td>1</td>\n",
       "      <td>женат / замужем</td>\n",
       "      <td>0</td>\n",
       "      <td>M</td>\n",
       "      <td>сотрудник</td>\n",
       "      <td>0</td>\n",
       "      <td>144425.938277</td>\n",
       "      <td>покупка жилья для семьи</td>\n",
       "    </tr>\n",
       "    <tr>\n",
       "      <th>10</th>\n",
       "      <td>2</td>\n",
       "      <td>-4171.483647</td>\n",
       "      <td>36</td>\n",
       "      <td>высшее</td>\n",
       "      <td>0</td>\n",
       "      <td>женат / замужем</td>\n",
       "      <td>0</td>\n",
       "      <td>M</td>\n",
       "      <td>компаньон</td>\n",
       "      <td>0</td>\n",
       "      <td>113943.491460</td>\n",
       "      <td>покупка недвижимости</td>\n",
       "    </tr>\n",
       "    <tr>\n",
       "      <th>11</th>\n",
       "      <td>0</td>\n",
       "      <td>-792.701887</td>\n",
       "      <td>40</td>\n",
       "      <td>среднее</td>\n",
       "      <td>1</td>\n",
       "      <td>женат / замужем</td>\n",
       "      <td>0</td>\n",
       "      <td>F</td>\n",
       "      <td>сотрудник</td>\n",
       "      <td>0</td>\n",
       "      <td>77069.234271</td>\n",
       "      <td>покупка коммерческой недвижимости</td>\n",
       "    </tr>\n",
       "    <tr>\n",
       "      <th>12</th>\n",
       "      <td>0</td>\n",
       "      <td>NaN</td>\n",
       "      <td>65</td>\n",
       "      <td>среднее</td>\n",
       "      <td>1</td>\n",
       "      <td>гражданский брак</td>\n",
       "      <td>1</td>\n",
       "      <td>M</td>\n",
       "      <td>пенсионер</td>\n",
       "      <td>0</td>\n",
       "      <td>NaN</td>\n",
       "      <td>сыграть свадьбу</td>\n",
       "    </tr>\n",
       "    <tr>\n",
       "      <th>13</th>\n",
       "      <td>0</td>\n",
       "      <td>-1846.641941</td>\n",
       "      <td>54</td>\n",
       "      <td>неоконченное высшее</td>\n",
       "      <td>2</td>\n",
       "      <td>женат / замужем</td>\n",
       "      <td>0</td>\n",
       "      <td>F</td>\n",
       "      <td>сотрудник</td>\n",
       "      <td>0</td>\n",
       "      <td>130458.228857</td>\n",
       "      <td>приобретение автомобиля</td>\n",
       "    </tr>\n",
       "    <tr>\n",
       "      <th>14</th>\n",
       "      <td>0</td>\n",
       "      <td>-1844.956182</td>\n",
       "      <td>56</td>\n",
       "      <td>высшее</td>\n",
       "      <td>0</td>\n",
       "      <td>гражданский брак</td>\n",
       "      <td>1</td>\n",
       "      <td>F</td>\n",
       "      <td>компаньон</td>\n",
       "      <td>1</td>\n",
       "      <td>165127.911772</td>\n",
       "      <td>покупка жилой недвижимости</td>\n",
       "    </tr>\n",
       "    <tr>\n",
       "      <th>15</th>\n",
       "      <td>1</td>\n",
       "      <td>-972.364419</td>\n",
       "      <td>26</td>\n",
       "      <td>среднее</td>\n",
       "      <td>1</td>\n",
       "      <td>женат / замужем</td>\n",
       "      <td>0</td>\n",
       "      <td>F</td>\n",
       "      <td>сотрудник</td>\n",
       "      <td>0</td>\n",
       "      <td>116820.904450</td>\n",
       "      <td>строительство собственной недвижимости</td>\n",
       "    </tr>\n",
       "    <tr>\n",
       "      <th>16</th>\n",
       "      <td>0</td>\n",
       "      <td>-1719.934226</td>\n",
       "      <td>35</td>\n",
       "      <td>среднее</td>\n",
       "      <td>1</td>\n",
       "      <td>женат / замужем</td>\n",
       "      <td>0</td>\n",
       "      <td>F</td>\n",
       "      <td>сотрудник</td>\n",
       "      <td>0</td>\n",
       "      <td>289202.704229</td>\n",
       "      <td>недвижимость</td>\n",
       "    </tr>\n",
       "    <tr>\n",
       "      <th>17</th>\n",
       "      <td>0</td>\n",
       "      <td>-2369.999720</td>\n",
       "      <td>33</td>\n",
       "      <td>высшее</td>\n",
       "      <td>0</td>\n",
       "      <td>гражданский брак</td>\n",
       "      <td>1</td>\n",
       "      <td>M</td>\n",
       "      <td>сотрудник</td>\n",
       "      <td>0</td>\n",
       "      <td>90410.586745</td>\n",
       "      <td>строительство недвижимости</td>\n",
       "    </tr>\n",
       "    <tr>\n",
       "      <th>18</th>\n",
       "      <td>0</td>\n",
       "      <td>400281.136913</td>\n",
       "      <td>53</td>\n",
       "      <td>среднее</td>\n",
       "      <td>1</td>\n",
       "      <td>вдовец / вдова</td>\n",
       "      <td>2</td>\n",
       "      <td>F</td>\n",
       "      <td>пенсионер</td>\n",
       "      <td>0</td>\n",
       "      <td>56823.777243</td>\n",
       "      <td>на покупку подержанного автомобиля</td>\n",
       "    </tr>\n",
       "    <tr>\n",
       "      <th>19</th>\n",
       "      <td>0</td>\n",
       "      <td>-10038.818549</td>\n",
       "      <td>48</td>\n",
       "      <td>СРЕДНЕЕ</td>\n",
       "      <td>1</td>\n",
       "      <td>в разводе</td>\n",
       "      <td>3</td>\n",
       "      <td>F</td>\n",
       "      <td>сотрудник</td>\n",
       "      <td>0</td>\n",
       "      <td>242831.107982</td>\n",
       "      <td>на покупку своего автомобиля</td>\n",
       "    </tr>\n",
       "  </tbody>\n",
       "</table>\n",
       "</div>"
      ],
      "text/plain": [
       "    children  days_employed  dob_years            education  education_id  \\\n",
       "0          1   -8437.673028         42               высшее             0   \n",
       "1          1   -4024.803754         36              среднее             1   \n",
       "2          0   -5623.422610         33              Среднее             1   \n",
       "3          3   -4124.747207         32              среднее             1   \n",
       "4          0  340266.072047         53              среднее             1   \n",
       "5          0    -926.185831         27               высшее             0   \n",
       "6          0   -2879.202052         43               высшее             0   \n",
       "7          0    -152.779569         50              СРЕДНЕЕ             1   \n",
       "8          2   -6929.865299         35               ВЫСШЕЕ             0   \n",
       "9          0   -2188.756445         41              среднее             1   \n",
       "10         2   -4171.483647         36               высшее             0   \n",
       "11         0    -792.701887         40              среднее             1   \n",
       "12         0            NaN         65              среднее             1   \n",
       "13         0   -1846.641941         54  неоконченное высшее             2   \n",
       "14         0   -1844.956182         56               высшее             0   \n",
       "15         1    -972.364419         26              среднее             1   \n",
       "16         0   -1719.934226         35              среднее             1   \n",
       "17         0   -2369.999720         33               высшее             0   \n",
       "18         0  400281.136913         53              среднее             1   \n",
       "19         0  -10038.818549         48              СРЕДНЕЕ             1   \n",
       "\n",
       "       family_status  family_status_id gender income_type  debt  \\\n",
       "0    женат / замужем                 0      F   сотрудник     0   \n",
       "1    женат / замужем                 0      F   сотрудник     0   \n",
       "2    женат / замужем                 0      M   сотрудник     0   \n",
       "3    женат / замужем                 0      M   сотрудник     0   \n",
       "4   гражданский брак                 1      F   пенсионер     0   \n",
       "5   гражданский брак                 1      M   компаньон     0   \n",
       "6    женат / замужем                 0      F   компаньон     0   \n",
       "7    женат / замужем                 0      M   сотрудник     0   \n",
       "8   гражданский брак                 1      F   сотрудник     0   \n",
       "9    женат / замужем                 0      M   сотрудник     0   \n",
       "10   женат / замужем                 0      M   компаньон     0   \n",
       "11   женат / замужем                 0      F   сотрудник     0   \n",
       "12  гражданский брак                 1      M   пенсионер     0   \n",
       "13   женат / замужем                 0      F   сотрудник     0   \n",
       "14  гражданский брак                 1      F   компаньон     1   \n",
       "15   женат / замужем                 0      F   сотрудник     0   \n",
       "16   женат / замужем                 0      F   сотрудник     0   \n",
       "17  гражданский брак                 1      M   сотрудник     0   \n",
       "18    вдовец / вдова                 2      F   пенсионер     0   \n",
       "19         в разводе                 3      F   сотрудник     0   \n",
       "\n",
       "     total_income                                 purpose  \n",
       "0   253875.639453                           покупка жилья  \n",
       "1   112080.014102                 приобретение автомобиля  \n",
       "2   145885.952297                           покупка жилья  \n",
       "3   267628.550329              дополнительное образование  \n",
       "4   158616.077870                         сыграть свадьбу  \n",
       "5   255763.565419                           покупка жилья  \n",
       "6   240525.971920                       операции с жильем  \n",
       "7   135823.934197                             образование  \n",
       "8    95856.832424                   на проведение свадьбы  \n",
       "9   144425.938277                 покупка жилья для семьи  \n",
       "10  113943.491460                    покупка недвижимости  \n",
       "11   77069.234271       покупка коммерческой недвижимости  \n",
       "12            NaN                         сыграть свадьбу  \n",
       "13  130458.228857                 приобретение автомобиля  \n",
       "14  165127.911772              покупка жилой недвижимости  \n",
       "15  116820.904450  строительство собственной недвижимости  \n",
       "16  289202.704229                            недвижимость  \n",
       "17   90410.586745              строительство недвижимости  \n",
       "18   56823.777243      на покупку подержанного автомобиля  \n",
       "19  242831.107982            на покупку своего автомобиля  "
      ]
     },
     "execution_count": 2,
     "metadata": {},
     "output_type": "execute_result"
    }
   ],
   "source": [
    "data.head(20)"
   ]
  },
  {
   "cell_type": "markdown",
   "id": "b8f7a92f",
   "metadata": {
    "deletable": false,
    "editable": false,
    "id": "1c12e233"
   },
   "source": [
    "**Задание 3. Выведите основную информацию о датафрейме с помощью метода `info()`.**"
   ]
  },
  {
   "cell_type": "code",
   "execution_count": 3,
   "id": "86ddf3d3",
   "metadata": {
    "deletable": false,
    "id": "2b757bca",
    "outputId": "15376089-8dad-46c9-b520-c05248d43158"
   },
   "outputs": [
    {
     "name": "stdout",
     "output_type": "stream",
     "text": [
      "<class 'pandas.core.frame.DataFrame'>\n",
      "RangeIndex: 21525 entries, 0 to 21524\n",
      "Data columns (total 12 columns):\n",
      " #   Column            Non-Null Count  Dtype  \n",
      "---  ------            --------------  -----  \n",
      " 0   children          21525 non-null  int64  \n",
      " 1   days_employed     19351 non-null  float64\n",
      " 2   dob_years         21525 non-null  int64  \n",
      " 3   education         21525 non-null  object \n",
      " 4   education_id      21525 non-null  int64  \n",
      " 5   family_status     21525 non-null  object \n",
      " 6   family_status_id  21525 non-null  int64  \n",
      " 7   gender            21525 non-null  object \n",
      " 8   income_type       21525 non-null  object \n",
      " 9   debt              21525 non-null  int64  \n",
      " 10  total_income      19351 non-null  float64\n",
      " 11  purpose           21525 non-null  object \n",
      "dtypes: float64(2), int64(5), object(5)\n",
      "memory usage: 2.0+ MB\n"
     ]
    }
   ],
   "source": [
    "data.info()"
   ]
  },
  {
   "cell_type": "markdown",
   "id": "7d11ae07",
   "metadata": {
    "deletable": false,
    "editable": false,
    "id": "333ec665"
   },
   "source": [
    "## Предобработка данных"
   ]
  },
  {
   "cell_type": "markdown",
   "id": "039bb2a2",
   "metadata": {
    "deletable": false,
    "editable": false,
    "id": "02d92d53"
   },
   "source": [
    "### Удаление пропусков"
   ]
  },
  {
   "cell_type": "markdown",
   "id": "98abe6b8",
   "metadata": {
    "deletable": false,
    "editable": false,
    "id": "cd84967c"
   },
   "source": [
    "**Задание 4. Выведите количество пропущенных значений для каждого столбца. Используйте комбинацию двух методов.**"
   ]
  },
  {
   "cell_type": "code",
   "execution_count": 4,
   "id": "f2a75a73",
   "metadata": {
    "deletable": false,
    "id": "7f9b2309",
    "outputId": "81f4d817-781c-465c-ed15-91ce4446810d",
    "scrolled": false
   },
   "outputs": [
    {
     "data": {
      "text/plain": [
       "children               0\n",
       "days_employed       2174\n",
       "dob_years              0\n",
       "education              0\n",
       "education_id           0\n",
       "family_status          0\n",
       "family_status_id       0\n",
       "gender                 0\n",
       "income_type            0\n",
       "debt                   0\n",
       "total_income        2174\n",
       "purpose                0\n",
       "dtype: int64"
      ]
     },
     "execution_count": 4,
     "metadata": {},
     "output_type": "execute_result"
    }
   ],
   "source": [
    "data.isna().sum()"
   ]
  },
  {
   "cell_type": "markdown",
   "id": "ac72d07b",
   "metadata": {},
   "source": [
    "Оценим пропущенные значения, попробуем найти закономерности:"
   ]
  },
  {
   "cell_type": "code",
   "execution_count": 5,
   "id": "1f056acc",
   "metadata": {},
   "outputs": [
    {
     "data": {
      "text/html": [
       "<div>\n",
       "<style scoped>\n",
       "    .dataframe tbody tr th:only-of-type {\n",
       "        vertical-align: middle;\n",
       "    }\n",
       "\n",
       "    .dataframe tbody tr th {\n",
       "        vertical-align: top;\n",
       "    }\n",
       "\n",
       "    .dataframe thead th {\n",
       "        text-align: right;\n",
       "    }\n",
       "</style>\n",
       "<table border=\"1\" class=\"dataframe\">\n",
       "  <thead>\n",
       "    <tr style=\"text-align: right;\">\n",
       "      <th></th>\n",
       "      <th>children</th>\n",
       "      <th>days_employed</th>\n",
       "      <th>dob_years</th>\n",
       "      <th>education</th>\n",
       "      <th>education_id</th>\n",
       "      <th>family_status</th>\n",
       "      <th>family_status_id</th>\n",
       "      <th>gender</th>\n",
       "      <th>income_type</th>\n",
       "      <th>debt</th>\n",
       "      <th>total_income</th>\n",
       "      <th>purpose</th>\n",
       "    </tr>\n",
       "  </thead>\n",
       "  <tbody>\n",
       "    <tr>\n",
       "      <th>12</th>\n",
       "      <td>0</td>\n",
       "      <td>NaN</td>\n",
       "      <td>65</td>\n",
       "      <td>среднее</td>\n",
       "      <td>1</td>\n",
       "      <td>гражданский брак</td>\n",
       "      <td>1</td>\n",
       "      <td>M</td>\n",
       "      <td>пенсионер</td>\n",
       "      <td>0</td>\n",
       "      <td>NaN</td>\n",
       "      <td>сыграть свадьбу</td>\n",
       "    </tr>\n",
       "    <tr>\n",
       "      <th>26</th>\n",
       "      <td>0</td>\n",
       "      <td>NaN</td>\n",
       "      <td>41</td>\n",
       "      <td>среднее</td>\n",
       "      <td>1</td>\n",
       "      <td>женат / замужем</td>\n",
       "      <td>0</td>\n",
       "      <td>M</td>\n",
       "      <td>госслужащий</td>\n",
       "      <td>0</td>\n",
       "      <td>NaN</td>\n",
       "      <td>образование</td>\n",
       "    </tr>\n",
       "    <tr>\n",
       "      <th>29</th>\n",
       "      <td>0</td>\n",
       "      <td>NaN</td>\n",
       "      <td>63</td>\n",
       "      <td>среднее</td>\n",
       "      <td>1</td>\n",
       "      <td>Не женат / не замужем</td>\n",
       "      <td>4</td>\n",
       "      <td>F</td>\n",
       "      <td>пенсионер</td>\n",
       "      <td>0</td>\n",
       "      <td>NaN</td>\n",
       "      <td>строительство жилой недвижимости</td>\n",
       "    </tr>\n",
       "    <tr>\n",
       "      <th>41</th>\n",
       "      <td>0</td>\n",
       "      <td>NaN</td>\n",
       "      <td>50</td>\n",
       "      <td>среднее</td>\n",
       "      <td>1</td>\n",
       "      <td>женат / замужем</td>\n",
       "      <td>0</td>\n",
       "      <td>F</td>\n",
       "      <td>госслужащий</td>\n",
       "      <td>0</td>\n",
       "      <td>NaN</td>\n",
       "      <td>сделка с подержанным автомобилем</td>\n",
       "    </tr>\n",
       "    <tr>\n",
       "      <th>55</th>\n",
       "      <td>0</td>\n",
       "      <td>NaN</td>\n",
       "      <td>54</td>\n",
       "      <td>среднее</td>\n",
       "      <td>1</td>\n",
       "      <td>гражданский брак</td>\n",
       "      <td>1</td>\n",
       "      <td>F</td>\n",
       "      <td>пенсионер</td>\n",
       "      <td>1</td>\n",
       "      <td>NaN</td>\n",
       "      <td>сыграть свадьбу</td>\n",
       "    </tr>\n",
       "    <tr>\n",
       "      <th>65</th>\n",
       "      <td>0</td>\n",
       "      <td>NaN</td>\n",
       "      <td>21</td>\n",
       "      <td>среднее</td>\n",
       "      <td>1</td>\n",
       "      <td>Не женат / не замужем</td>\n",
       "      <td>4</td>\n",
       "      <td>M</td>\n",
       "      <td>компаньон</td>\n",
       "      <td>0</td>\n",
       "      <td>NaN</td>\n",
       "      <td>операции с коммерческой недвижимостью</td>\n",
       "    </tr>\n",
       "    <tr>\n",
       "      <th>67</th>\n",
       "      <td>0</td>\n",
       "      <td>NaN</td>\n",
       "      <td>52</td>\n",
       "      <td>высшее</td>\n",
       "      <td>0</td>\n",
       "      <td>женат / замужем</td>\n",
       "      <td>0</td>\n",
       "      <td>F</td>\n",
       "      <td>пенсионер</td>\n",
       "      <td>0</td>\n",
       "      <td>NaN</td>\n",
       "      <td>покупка жилья для семьи</td>\n",
       "    </tr>\n",
       "    <tr>\n",
       "      <th>72</th>\n",
       "      <td>1</td>\n",
       "      <td>NaN</td>\n",
       "      <td>32</td>\n",
       "      <td>высшее</td>\n",
       "      <td>0</td>\n",
       "      <td>женат / замужем</td>\n",
       "      <td>0</td>\n",
       "      <td>M</td>\n",
       "      <td>госслужащий</td>\n",
       "      <td>0</td>\n",
       "      <td>NaN</td>\n",
       "      <td>операции с коммерческой недвижимостью</td>\n",
       "    </tr>\n",
       "    <tr>\n",
       "      <th>82</th>\n",
       "      <td>2</td>\n",
       "      <td>NaN</td>\n",
       "      <td>50</td>\n",
       "      <td>высшее</td>\n",
       "      <td>0</td>\n",
       "      <td>женат / замужем</td>\n",
       "      <td>0</td>\n",
       "      <td>F</td>\n",
       "      <td>сотрудник</td>\n",
       "      <td>0</td>\n",
       "      <td>NaN</td>\n",
       "      <td>жилье</td>\n",
       "    </tr>\n",
       "    <tr>\n",
       "      <th>83</th>\n",
       "      <td>0</td>\n",
       "      <td>NaN</td>\n",
       "      <td>52</td>\n",
       "      <td>среднее</td>\n",
       "      <td>1</td>\n",
       "      <td>женат / замужем</td>\n",
       "      <td>0</td>\n",
       "      <td>M</td>\n",
       "      <td>сотрудник</td>\n",
       "      <td>0</td>\n",
       "      <td>NaN</td>\n",
       "      <td>жилье</td>\n",
       "    </tr>\n",
       "    <tr>\n",
       "      <th>90</th>\n",
       "      <td>2</td>\n",
       "      <td>NaN</td>\n",
       "      <td>35</td>\n",
       "      <td>высшее</td>\n",
       "      <td>0</td>\n",
       "      <td>женат / замужем</td>\n",
       "      <td>0</td>\n",
       "      <td>F</td>\n",
       "      <td>сотрудник</td>\n",
       "      <td>0</td>\n",
       "      <td>NaN</td>\n",
       "      <td>операции с жильем</td>\n",
       "    </tr>\n",
       "    <tr>\n",
       "      <th>94</th>\n",
       "      <td>1</td>\n",
       "      <td>NaN</td>\n",
       "      <td>34</td>\n",
       "      <td>высшее</td>\n",
       "      <td>0</td>\n",
       "      <td>гражданский брак</td>\n",
       "      <td>1</td>\n",
       "      <td>F</td>\n",
       "      <td>компаньон</td>\n",
       "      <td>0</td>\n",
       "      <td>NaN</td>\n",
       "      <td>на проведение свадьбы</td>\n",
       "    </tr>\n",
       "    <tr>\n",
       "      <th>96</th>\n",
       "      <td>0</td>\n",
       "      <td>NaN</td>\n",
       "      <td>44</td>\n",
       "      <td>СРЕДНЕЕ</td>\n",
       "      <td>1</td>\n",
       "      <td>женат / замужем</td>\n",
       "      <td>0</td>\n",
       "      <td>F</td>\n",
       "      <td>сотрудник</td>\n",
       "      <td>0</td>\n",
       "      <td>NaN</td>\n",
       "      <td>покупка жилой недвижимости</td>\n",
       "    </tr>\n",
       "    <tr>\n",
       "      <th>97</th>\n",
       "      <td>0</td>\n",
       "      <td>NaN</td>\n",
       "      <td>47</td>\n",
       "      <td>высшее</td>\n",
       "      <td>0</td>\n",
       "      <td>женат / замужем</td>\n",
       "      <td>0</td>\n",
       "      <td>F</td>\n",
       "      <td>сотрудник</td>\n",
       "      <td>0</td>\n",
       "      <td>NaN</td>\n",
       "      <td>профильное образование</td>\n",
       "    </tr>\n",
       "    <tr>\n",
       "      <th>120</th>\n",
       "      <td>0</td>\n",
       "      <td>NaN</td>\n",
       "      <td>46</td>\n",
       "      <td>среднее</td>\n",
       "      <td>1</td>\n",
       "      <td>женат / замужем</td>\n",
       "      <td>0</td>\n",
       "      <td>F</td>\n",
       "      <td>сотрудник</td>\n",
       "      <td>0</td>\n",
       "      <td>NaN</td>\n",
       "      <td>высшее образование</td>\n",
       "    </tr>\n",
       "    <tr>\n",
       "      <th>121</th>\n",
       "      <td>0</td>\n",
       "      <td>NaN</td>\n",
       "      <td>29</td>\n",
       "      <td>высшее</td>\n",
       "      <td>0</td>\n",
       "      <td>женат / замужем</td>\n",
       "      <td>0</td>\n",
       "      <td>F</td>\n",
       "      <td>компаньон</td>\n",
       "      <td>0</td>\n",
       "      <td>NaN</td>\n",
       "      <td>автомобиль</td>\n",
       "    </tr>\n",
       "    <tr>\n",
       "      <th>135</th>\n",
       "      <td>0</td>\n",
       "      <td>NaN</td>\n",
       "      <td>27</td>\n",
       "      <td>среднее</td>\n",
       "      <td>1</td>\n",
       "      <td>женат / замужем</td>\n",
       "      <td>0</td>\n",
       "      <td>M</td>\n",
       "      <td>компаньон</td>\n",
       "      <td>0</td>\n",
       "      <td>NaN</td>\n",
       "      <td>жилье</td>\n",
       "    </tr>\n",
       "    <tr>\n",
       "      <th>141</th>\n",
       "      <td>0</td>\n",
       "      <td>NaN</td>\n",
       "      <td>39</td>\n",
       "      <td>среднее</td>\n",
       "      <td>1</td>\n",
       "      <td>гражданский брак</td>\n",
       "      <td>1</td>\n",
       "      <td>M</td>\n",
       "      <td>сотрудник</td>\n",
       "      <td>0</td>\n",
       "      <td>NaN</td>\n",
       "      <td>свадьба</td>\n",
       "    </tr>\n",
       "    <tr>\n",
       "      <th>145</th>\n",
       "      <td>0</td>\n",
       "      <td>NaN</td>\n",
       "      <td>62</td>\n",
       "      <td>среднее</td>\n",
       "      <td>1</td>\n",
       "      <td>женат / замужем</td>\n",
       "      <td>0</td>\n",
       "      <td>M</td>\n",
       "      <td>пенсионер</td>\n",
       "      <td>0</td>\n",
       "      <td>NaN</td>\n",
       "      <td>строительство недвижимости</td>\n",
       "    </tr>\n",
       "    <tr>\n",
       "      <th>174</th>\n",
       "      <td>0</td>\n",
       "      <td>NaN</td>\n",
       "      <td>55</td>\n",
       "      <td>высшее</td>\n",
       "      <td>0</td>\n",
       "      <td>вдовец / вдова</td>\n",
       "      <td>2</td>\n",
       "      <td>F</td>\n",
       "      <td>компаньон</td>\n",
       "      <td>0</td>\n",
       "      <td>NaN</td>\n",
       "      <td>свой автомобиль</td>\n",
       "    </tr>\n",
       "  </tbody>\n",
       "</table>\n",
       "</div>"
      ],
      "text/plain": [
       "     children  days_employed  dob_years education  education_id  \\\n",
       "12          0            NaN         65   среднее             1   \n",
       "26          0            NaN         41   среднее             1   \n",
       "29          0            NaN         63   среднее             1   \n",
       "41          0            NaN         50   среднее             1   \n",
       "55          0            NaN         54   среднее             1   \n",
       "65          0            NaN         21   среднее             1   \n",
       "67          0            NaN         52    высшее             0   \n",
       "72          1            NaN         32    высшее             0   \n",
       "82          2            NaN         50    высшее             0   \n",
       "83          0            NaN         52   среднее             1   \n",
       "90          2            NaN         35    высшее             0   \n",
       "94          1            NaN         34    высшее             0   \n",
       "96          0            NaN         44   СРЕДНЕЕ             1   \n",
       "97          0            NaN         47    высшее             0   \n",
       "120         0            NaN         46   среднее             1   \n",
       "121         0            NaN         29    высшее             0   \n",
       "135         0            NaN         27   среднее             1   \n",
       "141         0            NaN         39   среднее             1   \n",
       "145         0            NaN         62   среднее             1   \n",
       "174         0            NaN         55    высшее             0   \n",
       "\n",
       "             family_status  family_status_id gender  income_type  debt  \\\n",
       "12        гражданский брак                 1      M    пенсионер     0   \n",
       "26         женат / замужем                 0      M  госслужащий     0   \n",
       "29   Не женат / не замужем                 4      F    пенсионер     0   \n",
       "41         женат / замужем                 0      F  госслужащий     0   \n",
       "55        гражданский брак                 1      F    пенсионер     1   \n",
       "65   Не женат / не замужем                 4      M    компаньон     0   \n",
       "67         женат / замужем                 0      F    пенсионер     0   \n",
       "72         женат / замужем                 0      M  госслужащий     0   \n",
       "82         женат / замужем                 0      F    сотрудник     0   \n",
       "83         женат / замужем                 0      M    сотрудник     0   \n",
       "90         женат / замужем                 0      F    сотрудник     0   \n",
       "94        гражданский брак                 1      F    компаньон     0   \n",
       "96         женат / замужем                 0      F    сотрудник     0   \n",
       "97         женат / замужем                 0      F    сотрудник     0   \n",
       "120        женат / замужем                 0      F    сотрудник     0   \n",
       "121        женат / замужем                 0      F    компаньон     0   \n",
       "135        женат / замужем                 0      M    компаньон     0   \n",
       "141       гражданский брак                 1      M    сотрудник     0   \n",
       "145        женат / замужем                 0      M    пенсионер     0   \n",
       "174         вдовец / вдова                 2      F    компаньон     0   \n",
       "\n",
       "     total_income                                purpose  \n",
       "12            NaN                        сыграть свадьбу  \n",
       "26            NaN                            образование  \n",
       "29            NaN       строительство жилой недвижимости  \n",
       "41            NaN       сделка с подержанным автомобилем  \n",
       "55            NaN                        сыграть свадьбу  \n",
       "65            NaN  операции с коммерческой недвижимостью  \n",
       "67            NaN                покупка жилья для семьи  \n",
       "72            NaN  операции с коммерческой недвижимостью  \n",
       "82            NaN                                  жилье  \n",
       "83            NaN                                  жилье  \n",
       "90            NaN                      операции с жильем  \n",
       "94            NaN                  на проведение свадьбы  \n",
       "96            NaN             покупка жилой недвижимости  \n",
       "97            NaN                 профильное образование  \n",
       "120           NaN                     высшее образование  \n",
       "121           NaN                             автомобиль  \n",
       "135           NaN                                  жилье  \n",
       "141           NaN                                свадьба  \n",
       "145           NaN             строительство недвижимости  \n",
       "174           NaN                        свой автомобиль  "
      ]
     },
     "execution_count": 5,
     "metadata": {},
     "output_type": "execute_result"
    }
   ],
   "source": [
    "data[data['total_income'].isna()].head(20)"
   ]
  },
  {
   "cell_type": "markdown",
   "id": "40890f16",
   "metadata": {
    "deletable": false,
    "editable": false,
    "id": "db86e27b"
   },
   "source": [
    "**Задание 5. В двух столбцах есть пропущенные значения. Один из них — `days_employed`. Пропуски в этом столбце вы обработаете на следующем этапе. Другой столбец с пропущенными значениями — `total_income` — хранит данные о доходах. На сумму дохода сильнее всего влияет тип занятости, поэтому заполнить пропуски в этом столбце нужно медианным значением по каждому типу из столбца `income_type`. Например, у человека с типом занятости `сотрудник` пропуск в столбце `total_income` должен быть заполнен медианным доходом среди всех записей с тем же типом.**"
   ]
  },
  {
   "cell_type": "code",
   "execution_count": 6,
   "id": "59ddcdbf",
   "metadata": {
    "deletable": false,
    "id": "42006a93"
   },
   "outputs": [],
   "source": [
    "for t in data['income_type'].unique():\n",
    "    data.loc[(data['income_type'] == t) & (data['total_income'].isna()), 'total_income'] = \\\n",
    "    data.loc[(data['income_type'] == t), 'total_income'].median()"
   ]
  },
  {
   "cell_type": "markdown",
   "id": "5186bb19",
   "metadata": {
    "deletable": false,
    "editable": false,
    "id": "89da5ece"
   },
   "source": [
    "### Обработка аномальных значений"
   ]
  },
  {
   "cell_type": "markdown",
   "id": "6e200c70",
   "metadata": {
    "deletable": false,
    "editable": false,
    "id": "57964554"
   },
   "source": [
    "**Задание 6. В данных могут встречаться артефакты (аномалии) — значения, которые не отражают действительность и появились по какой-то ошибке. таким артефактом будет отрицательное количество дней трудового стажа в столбце `days_employed`. Для реальных данных это нормально. Обработайте значения в этом столбце: замените все отрицательные значения положительными с помощью метода `abs()`.**"
   ]
  },
  {
   "cell_type": "code",
   "execution_count": 7,
   "id": "b1050fa1",
   "metadata": {
    "deletable": false,
    "id": "f6f055bf"
   },
   "outputs": [],
   "source": [
    "data['days_employed'] = data['days_employed'].abs()"
   ]
  },
  {
   "cell_type": "markdown",
   "id": "4b27ce11",
   "metadata": {
    "deletable": false,
    "editable": false,
    "id": "6107dd2f"
   },
   "source": [
    "**Задание 7. Для каждого типа занятости выведите медианное значение трудового стажа `days_employed` в днях.**"
   ]
  },
  {
   "cell_type": "code",
   "execution_count": 8,
   "id": "be051e13",
   "metadata": {
    "deletable": false,
    "id": "85a5faf6",
    "outputId": "801ef80e-522b-4668-f34e-565af7432bcf"
   },
   "outputs": [
    {
     "data": {
      "text/plain": [
       "income_type\n",
       "безработный        366413.652744\n",
       "в декрете            3296.759962\n",
       "госслужащий          2689.368353\n",
       "компаньон            1547.382223\n",
       "пенсионер          365213.306266\n",
       "предприниматель       520.848083\n",
       "сотрудник            1574.202821\n",
       "студент               578.751554\n",
       "Name: days_employed, dtype: float64"
      ]
     },
     "execution_count": 8,
     "metadata": {},
     "output_type": "execute_result"
    }
   ],
   "source": [
    "data.groupby('income_type')['days_employed'].agg('median')"
   ]
  },
  {
   "cell_type": "markdown",
   "id": "8d890eda",
   "metadata": {
    "deletable": false,
    "editable": false,
    "id": "38d1a030"
   },
   "source": [
    "У двух типов (безработные и пенсионеры) получатся аномально большие значения. Исправить такие значения сложно, поэтому оставьте их как есть. Тем более этот столбец не понадобится вам для исследования."
   ]
  },
  {
   "cell_type": "markdown",
   "id": "da7ee92f",
   "metadata": {
    "deletable": false,
    "editable": false,
    "id": "d8a9f147"
   },
   "source": [
    "**Задание 8. Выведите перечень уникальных значений столбца `children`.**"
   ]
  },
  {
   "cell_type": "code",
   "execution_count": 9,
   "id": "d4a967a3",
   "metadata": {
    "deletable": false,
    "id": "ef5056eb",
    "outputId": "6975b15c-7f95-4697-d16d-a0c79b657b03"
   },
   "outputs": [
    {
     "data": {
      "text/plain": [
       "array([ 1,  0,  3,  2, -1,  4, 20,  5], dtype=int64)"
      ]
     },
     "execution_count": 9,
     "metadata": {},
     "output_type": "execute_result"
    }
   ],
   "source": [
    "data['children'].unique()"
   ]
  },
  {
   "cell_type": "markdown",
   "id": "00d550a5",
   "metadata": {
    "deletable": false,
    "editable": false,
    "id": "40b9ebf2"
   },
   "source": [
    "**Задание 9. В столбце `children` есть два аномальных значения. Удалите строки, в которых встречаются такие аномальные значения из датафрейма `data`.**"
   ]
  },
  {
   "cell_type": "code",
   "execution_count": 10,
   "id": "188549d0",
   "metadata": {
    "deletable": false,
    "id": "3ff9801d"
   },
   "outputs": [],
   "source": [
    "data = data[(data['children'] != -1) & (data['children'] != 20)]"
   ]
  },
  {
   "cell_type": "markdown",
   "id": "55e17892",
   "metadata": {
    "deletable": false,
    "editable": false,
    "id": "bbc4d0ce"
   },
   "source": [
    "**Задание 10. Ещё раз выведите перечень уникальных значений столбца `children`, чтобы убедиться, что артефакты удалены.**"
   ]
  },
  {
   "cell_type": "code",
   "execution_count": 11,
   "id": "e77393ef",
   "metadata": {
    "deletable": false,
    "id": "ad4fa8b7",
    "outputId": "b2097101-d49d-44d9-901b-32a65c9463d1"
   },
   "outputs": [
    {
     "data": {
      "text/plain": [
       "array([1, 0, 3, 2, 4, 5], dtype=int64)"
      ]
     },
     "execution_count": 11,
     "metadata": {},
     "output_type": "execute_result"
    }
   ],
   "source": [
    "data['children'].unique()"
   ]
  },
  {
   "cell_type": "markdown",
   "id": "d367d8c6",
   "metadata": {
    "deletable": false,
    "editable": false,
    "id": "75440b63"
   },
   "source": [
    "### Удаление пропусков (продолжение)"
   ]
  },
  {
   "cell_type": "markdown",
   "id": "6aee421e",
   "metadata": {
    "deletable": false,
    "editable": false,
    "id": "f4ea573f"
   },
   "source": [
    "**Задание 11. Заполните пропуски в столбце `days_employed` медианными значениями по каждого типа занятости `income_type`.**"
   ]
  },
  {
   "cell_type": "code",
   "execution_count": 12,
   "id": "183012f7",
   "metadata": {
    "deletable": false,
    "id": "af6b1a7e"
   },
   "outputs": [],
   "source": [
    "for t in data['income_type'].unique():\n",
    "    data.loc[(data['income_type'] == t) & (data['days_employed'].isna()), 'days_employed'] = \\\n",
    "    data.loc[(data['income_type'] == t), 'days_employed'].median()"
   ]
  },
  {
   "cell_type": "markdown",
   "id": "80b887f8",
   "metadata": {
    "deletable": false,
    "editable": false,
    "id": "2753f40d"
   },
   "source": [
    "**Задание 12. Убедитесь, что все пропуски заполнены. Проверьте себя и ещё раз выведите количество пропущенных значений для каждого столбца с помощью двух методов.**"
   ]
  },
  {
   "cell_type": "code",
   "execution_count": 13,
   "id": "92b9368b",
   "metadata": {
    "deletable": false,
    "id": "55f78bc2",
    "outputId": "8da1e4e1-358e-4e87-98c9-f261bce0a7b2"
   },
   "outputs": [
    {
     "data": {
      "text/plain": [
       "children            0\n",
       "days_employed       0\n",
       "dob_years           0\n",
       "education           0\n",
       "education_id        0\n",
       "family_status       0\n",
       "family_status_id    0\n",
       "gender              0\n",
       "income_type         0\n",
       "debt                0\n",
       "total_income        0\n",
       "purpose             0\n",
       "dtype: int64"
      ]
     },
     "execution_count": 13,
     "metadata": {},
     "output_type": "execute_result"
    }
   ],
   "source": [
    "data.isna().sum()"
   ]
  },
  {
   "cell_type": "markdown",
   "id": "09985442",
   "metadata": {
    "deletable": false,
    "editable": false,
    "id": "ddc81e43"
   },
   "source": [
    "### Изменение типов данных"
   ]
  },
  {
   "cell_type": "markdown",
   "id": "00039358",
   "metadata": {
    "deletable": false,
    "editable": false,
    "id": "42d19d24"
   },
   "source": [
    "**Задание 13. Замените вещественный тип данных в столбце `total_income` на целочисленный с помощью метода `astype()`.**"
   ]
  },
  {
   "cell_type": "code",
   "execution_count": 14,
   "id": "1eec57d0",
   "metadata": {
    "deletable": false,
    "id": "920b65ad"
   },
   "outputs": [],
   "source": [
    "data['total_income'] = data['total_income'].astype(int)"
   ]
  },
  {
   "cell_type": "markdown",
   "id": "a7db9ffa",
   "metadata": {
    "deletable": false,
    "editable": false,
    "id": "80c420ba"
   },
   "source": [
    "### Обработка дубликатов"
   ]
  },
  {
   "cell_type": "markdown",
   "id": "b30278f4",
   "metadata": {
    "deletable": false,
    "editable": false
   },
   "source": [
    "**Задание 14. Обработайте неявные дубликаты в столбце `education`. В этом столбце есть одни и те же значения, но записанные по-разному: с использованием заглавных и строчных букв. Приведите их к нижнему регистру. Проверьте остальные столбцы.**"
   ]
  },
  {
   "cell_type": "code",
   "execution_count": 15,
   "id": "7d06794b",
   "metadata": {
    "deletable": false
   },
   "outputs": [],
   "source": [
    "data['education'] = data['education'].str.lower()"
   ]
  },
  {
   "cell_type": "markdown",
   "id": "10406398",
   "metadata": {
    "deletable": false,
    "editable": false,
    "id": "dc587695"
   },
   "source": [
    "**Задание 15. Выведите на экран количество строк-дубликатов в данных. Если такие строки присутствуют, удалите их.**"
   ]
  },
  {
   "cell_type": "code",
   "execution_count": 16,
   "id": "7e055c53",
   "metadata": {
    "deletable": false,
    "id": "3ee445e4",
    "outputId": "9684deba-1934-42d1-99e1-cda61740f822"
   },
   "outputs": [
    {
     "data": {
      "text/plain": [
       "71"
      ]
     },
     "execution_count": 16,
     "metadata": {},
     "output_type": "execute_result"
    }
   ],
   "source": [
    "data.duplicated().sum()"
   ]
  },
  {
   "cell_type": "code",
   "execution_count": 17,
   "id": "08a8d8f6",
   "metadata": {
    "deletable": false,
    "id": "8575fe05"
   },
   "outputs": [],
   "source": [
    "data = data.drop_duplicates()"
   ]
  },
  {
   "cell_type": "markdown",
   "id": "3fe16f40",
   "metadata": {
    "deletable": false,
    "editable": false,
    "id": "9904cf55"
   },
   "source": [
    "### Категоризация данных"
   ]
  },
  {
   "cell_type": "markdown",
   "id": "e0bbcf83",
   "metadata": {
    "deletable": false,
    "editable": false,
    "id": "72fcc8a2"
   },
   "source": [
    "**Задание 16. На основании диапазонов, указанных ниже, создайте в датафрейме `data` столбец `total_income_category` с категориями:**\n",
    "\n",
    "- 0–30000 — `'E'`;\n",
    "- 30001–50000 — `'D'`;\n",
    "- 50001–200000 — `'C'`;\n",
    "- 200001–1000000 — `'B'`;\n",
    "- 1000001 и выше — `'A'`.\n",
    "\n",
    "\n",
    "**Например, кредитополучателю с доходом 25000 нужно назначить категорию `'E'`, а клиенту, получающему 235000, — `'B'`. Используйте собственную функцию с именем `categorize_income()` и метод `apply()`.**"
   ]
  },
  {
   "cell_type": "code",
   "execution_count": 18,
   "id": "80473974",
   "metadata": {
    "deletable": false,
    "id": "e1771346"
   },
   "outputs": [],
   "source": [
    "def categorize_income(income):\n",
    "    try:\n",
    "        if 0 <= income <= 30000:\n",
    "            return 'E'\n",
    "        elif 30001 <= income <= 50000:\n",
    "            return 'D'\n",
    "        elif 50001 <= income <= 200000:\n",
    "            return 'C'\n",
    "        elif 200001 <= income <= 1000000:\n",
    "            return 'B'\n",
    "        elif income >= 1000001:\n",
    "            return 'A'\n",
    "    except:\n",
    "        pass"
   ]
  },
  {
   "cell_type": "code",
   "execution_count": 19,
   "id": "1ea11aee",
   "metadata": {
    "deletable": false,
    "id": "d5f3586d"
   },
   "outputs": [],
   "source": [
    "data['total_income_category'] = data['total_income'].apply(categorize_income)"
   ]
  },
  {
   "cell_type": "markdown",
   "id": "2bb72e0c",
   "metadata": {
    "deletable": false,
    "editable": false,
    "id": "dde49b5c"
   },
   "source": [
    "**Задание 17. Выведите на экран перечень уникальных целей взятия кредита из столбца `purpose`.**"
   ]
  },
  {
   "cell_type": "code",
   "execution_count": 20,
   "id": "ffe13c04",
   "metadata": {
    "deletable": false,
    "id": "f67ce9b3",
    "outputId": "673c12d9-7d7e-4ae0-9812-c622c89dd244"
   },
   "outputs": [
    {
     "data": {
      "text/plain": [
       "array(['покупка жилья', 'приобретение автомобиля',\n",
       "       'дополнительное образование', 'сыграть свадьбу',\n",
       "       'операции с жильем', 'образование', 'на проведение свадьбы',\n",
       "       'покупка жилья для семьи', 'покупка недвижимости',\n",
       "       'покупка коммерческой недвижимости', 'покупка жилой недвижимости',\n",
       "       'строительство собственной недвижимости', 'недвижимость',\n",
       "       'строительство недвижимости', 'на покупку подержанного автомобиля',\n",
       "       'на покупку своего автомобиля',\n",
       "       'операции с коммерческой недвижимостью',\n",
       "       'строительство жилой недвижимости', 'жилье',\n",
       "       'операции со своей недвижимостью', 'автомобили',\n",
       "       'заняться образованием', 'сделка с подержанным автомобилем',\n",
       "       'получение образования', 'автомобиль', 'свадьба',\n",
       "       'получение дополнительного образования', 'покупка своего жилья',\n",
       "       'операции с недвижимостью', 'получение высшего образования',\n",
       "       'свой автомобиль', 'сделка с автомобилем',\n",
       "       'профильное образование', 'высшее образование',\n",
       "       'покупка жилья для сдачи', 'на покупку автомобиля', 'ремонт жилью',\n",
       "       'заняться высшим образованием'], dtype=object)"
      ]
     },
     "execution_count": 20,
     "metadata": {},
     "output_type": "execute_result"
    }
   ],
   "source": [
    "data['purpose'].unique()"
   ]
  },
  {
   "cell_type": "markdown",
   "id": "48910593",
   "metadata": {
    "deletable": false,
    "editable": false,
    "id": "85d0aef0"
   },
   "source": [
    "**Задание 18. Создайте функцию, которая на основании данных из столбца `purpose` сформирует новый столбец `purpose_category`, в который войдут следующие категории:**\n",
    "\n",
    "- `'операции с автомобилем'`,\n",
    "- `'операции с недвижимостью'`,\n",
    "- `'проведение свадьбы'`,\n",
    "- `'получение образования'`.\n",
    "\n",
    "**Например, если в столбце `purpose` находится подстрока `'на покупку автомобиля'`, то в столбце `purpose_category` должна появиться строка `'операции с автомобилем'`.**\n",
    "\n",
    "**Используйте собственную функцию с именем `categorize_purpose()` и метод `apply()`. Изучите данные в столбце `purpose` и определите, какие подстроки помогут вам правильно определить категорию.**"
   ]
  },
  {
   "cell_type": "code",
   "execution_count": 21,
   "id": "b47aef99",
   "metadata": {
    "deletable": false,
    "id": "e149fab4"
   },
   "outputs": [],
   "source": [
    "def categorize_purpose(row):\n",
    "    try:\n",
    "        if 'автом' in row:\n",
    "            return 'операции с автомобилем'\n",
    "        elif 'жил' in row or 'недвиж' in row:\n",
    "            return 'операции с недвижимостью'\n",
    "        elif 'свад' in row:\n",
    "            return 'проведение свадьбы'\n",
    "        elif 'образов' in row:\n",
    "            return 'получение образования'\n",
    "    except:\n",
    "        return 'нет категории'"
   ]
  },
  {
   "cell_type": "code",
   "execution_count": 22,
   "id": "63905d7a",
   "metadata": {
    "deletable": false,
    "id": "bf36e69b"
   },
   "outputs": [],
   "source": [
    "data['purpose_category'] = data['purpose'].apply(categorize_purpose)"
   ]
  },
  {
   "cell_type": "markdown",
   "id": "d4e10671",
   "metadata": {
    "deletable": false,
    "editable": false,
    "id": "09b242bf"
   },
   "source": [
    "### Шаг 3. Исследуйте данные и ответьте на вопросы"
   ]
  },
  {
   "cell_type": "markdown",
   "id": "a90260af",
   "metadata": {
    "deletable": false,
    "editable": false,
    "id": "c5d66278"
   },
   "source": [
    "#### 3.1 Есть ли зависимость между количеством детей и возвратом кредита в срок?"
   ]
  },
  {
   "cell_type": "markdown",
   "id": "64f20e21",
   "metadata": {},
   "source": [
    "Проверим какие уникальные значения содержатся в столбце 'debt'"
   ]
  },
  {
   "cell_type": "code",
   "execution_count": 23,
   "id": "f1f34f1d",
   "metadata": {
    "deletable": false,
    "id": "2cacfc4a"
   },
   "outputs": [
    {
     "data": {
      "text/plain": [
       "array([0, 1], dtype=int64)"
      ]
     },
     "execution_count": 23,
     "metadata": {},
     "output_type": "execute_result"
    }
   ],
   "source": [
    "# Ваш код будет здесь. Вы можете создавать новые ячейки.\n",
    "data['debt'].unique()"
   ]
  },
  {
   "cell_type": "markdown",
   "id": "986646df",
   "metadata": {},
   "source": [
    "Столбец 'debt' содержит 0 и 1, соответственно можно сделать вывод, что он содержит данные \"есть задолженность\" = 1 или \"нет задолженности\" = 0"
   ]
  },
  {
   "cell_type": "markdown",
   "id": "120135c1",
   "metadata": {},
   "source": [
    "Составим сводную таблицу зависимости кол-ва детей и кол-ва задолженности:"
   ]
  },
  {
   "cell_type": "code",
   "execution_count": 24,
   "id": "038d124c",
   "metadata": {},
   "outputs": [
    {
     "data": {
      "text/html": [
       "<div>\n",
       "<style scoped>\n",
       "    .dataframe tbody tr th:only-of-type {\n",
       "        vertical-align: middle;\n",
       "    }\n",
       "\n",
       "    .dataframe tbody tr th {\n",
       "        vertical-align: top;\n",
       "    }\n",
       "\n",
       "    .dataframe thead tr th {\n",
       "        text-align: left;\n",
       "    }\n",
       "\n",
       "    .dataframe thead tr:last-of-type th {\n",
       "        text-align: right;\n",
       "    }\n",
       "</style>\n",
       "<table border=\"1\" class=\"dataframe\">\n",
       "  <thead>\n",
       "    <tr>\n",
       "      <th></th>\n",
       "      <th>count</th>\n",
       "      <th>sum</th>\n",
       "      <th>mean</th>\n",
       "    </tr>\n",
       "    <tr>\n",
       "      <th></th>\n",
       "      <th>debt</th>\n",
       "      <th>debt</th>\n",
       "      <th>debt</th>\n",
       "    </tr>\n",
       "    <tr>\n",
       "      <th>children</th>\n",
       "      <th></th>\n",
       "      <th></th>\n",
       "      <th></th>\n",
       "    </tr>\n",
       "  </thead>\n",
       "  <tbody>\n",
       "    <tr>\n",
       "      <th>0</th>\n",
       "      <td>14091</td>\n",
       "      <td>1063</td>\n",
       "      <td>0.075438</td>\n",
       "    </tr>\n",
       "    <tr>\n",
       "      <th>1</th>\n",
       "      <td>4808</td>\n",
       "      <td>444</td>\n",
       "      <td>0.092346</td>\n",
       "    </tr>\n",
       "    <tr>\n",
       "      <th>2</th>\n",
       "      <td>2052</td>\n",
       "      <td>194</td>\n",
       "      <td>0.094542</td>\n",
       "    </tr>\n",
       "    <tr>\n",
       "      <th>3</th>\n",
       "      <td>330</td>\n",
       "      <td>27</td>\n",
       "      <td>0.081818</td>\n",
       "    </tr>\n",
       "    <tr>\n",
       "      <th>4</th>\n",
       "      <td>41</td>\n",
       "      <td>4</td>\n",
       "      <td>0.097561</td>\n",
       "    </tr>\n",
       "    <tr>\n",
       "      <th>5</th>\n",
       "      <td>9</td>\n",
       "      <td>0</td>\n",
       "      <td>0.000000</td>\n",
       "    </tr>\n",
       "  </tbody>\n",
       "</table>\n",
       "</div>"
      ],
      "text/plain": [
       "          count   sum      mean\n",
       "           debt  debt      debt\n",
       "children                       \n",
       "0         14091  1063  0.075438\n",
       "1          4808   444  0.092346\n",
       "2          2052   194  0.094542\n",
       "3           330    27  0.081818\n",
       "4            41     4  0.097561\n",
       "5             9     0  0.000000"
      ]
     },
     "execution_count": 24,
     "metadata": {},
     "output_type": "execute_result"
    }
   ],
   "source": [
    "#Составим сводную таблицу зависимости кол-ва детей и кол-ва задолженности\n",
    "data_pivot_children = data.pivot_table(index='children', values='debt', aggfunc=['count', 'sum', 'mean'])\n",
    "data_pivot_children"
   ]
  },
  {
   "cell_type": "markdown",
   "id": "1a807045",
   "metadata": {},
   "source": [
    "Посчитаем процент должников в каждой группе и добавим соответствующий столбец. Отсортируем значения по убыванию."
   ]
  },
  {
   "cell_type": "code",
   "execution_count": 25,
   "id": "10a5889e",
   "metadata": {},
   "outputs": [
    {
     "data": {
      "text/html": [
       "<div>\n",
       "<style scoped>\n",
       "    .dataframe tbody tr th:only-of-type {\n",
       "        vertical-align: middle;\n",
       "    }\n",
       "\n",
       "    .dataframe tbody tr th {\n",
       "        vertical-align: top;\n",
       "    }\n",
       "\n",
       "    .dataframe thead tr th {\n",
       "        text-align: left;\n",
       "    }\n",
       "\n",
       "    .dataframe thead tr:last-of-type th {\n",
       "        text-align: right;\n",
       "    }\n",
       "</style>\n",
       "<table border=\"1\" class=\"dataframe\">\n",
       "  <thead>\n",
       "    <tr>\n",
       "      <th></th>\n",
       "      <th>count</th>\n",
       "      <th>sum</th>\n",
       "      <th>mean</th>\n",
       "      <th>percent_debts</th>\n",
       "    </tr>\n",
       "    <tr>\n",
       "      <th></th>\n",
       "      <th>debt</th>\n",
       "      <th>debt</th>\n",
       "      <th>debt</th>\n",
       "      <th></th>\n",
       "    </tr>\n",
       "    <tr>\n",
       "      <th>children</th>\n",
       "      <th></th>\n",
       "      <th></th>\n",
       "      <th></th>\n",
       "      <th></th>\n",
       "    </tr>\n",
       "  </thead>\n",
       "  <tbody>\n",
       "    <tr>\n",
       "      <th>4</th>\n",
       "      <td>41</td>\n",
       "      <td>4</td>\n",
       "      <td>0.097561</td>\n",
       "      <td>9.756098</td>\n",
       "    </tr>\n",
       "    <tr>\n",
       "      <th>2</th>\n",
       "      <td>2052</td>\n",
       "      <td>194</td>\n",
       "      <td>0.094542</td>\n",
       "      <td>9.454191</td>\n",
       "    </tr>\n",
       "    <tr>\n",
       "      <th>1</th>\n",
       "      <td>4808</td>\n",
       "      <td>444</td>\n",
       "      <td>0.092346</td>\n",
       "      <td>9.234609</td>\n",
       "    </tr>\n",
       "    <tr>\n",
       "      <th>3</th>\n",
       "      <td>330</td>\n",
       "      <td>27</td>\n",
       "      <td>0.081818</td>\n",
       "      <td>8.181818</td>\n",
       "    </tr>\n",
       "    <tr>\n",
       "      <th>0</th>\n",
       "      <td>14091</td>\n",
       "      <td>1063</td>\n",
       "      <td>0.075438</td>\n",
       "      <td>7.543822</td>\n",
       "    </tr>\n",
       "    <tr>\n",
       "      <th>5</th>\n",
       "      <td>9</td>\n",
       "      <td>0</td>\n",
       "      <td>0.000000</td>\n",
       "      <td>0.000000</td>\n",
       "    </tr>\n",
       "  </tbody>\n",
       "</table>\n",
       "</div>"
      ],
      "text/plain": [
       "          count   sum      mean percent_debts\n",
       "           debt  debt      debt              \n",
       "children                                     \n",
       "4            41     4  0.097561      9.756098\n",
       "2          2052   194  0.094542      9.454191\n",
       "1          4808   444  0.092346      9.234609\n",
       "3           330    27  0.081818      8.181818\n",
       "0         14091  1063  0.075438      7.543822\n",
       "5             9     0  0.000000      0.000000"
      ]
     },
     "execution_count": 25,
     "metadata": {},
     "output_type": "execute_result"
    }
   ],
   "source": [
    "data_pivot_children['percent_debts'] = data_pivot_children['mean']*100\n",
    "data_pivot_children.sort_values(by='percent_debts', ascending=False)"
   ]
  },
  {
   "cell_type": "markdown",
   "id": "6f6ea725",
   "metadata": {},
   "source": [
    "Заемщики, имеющие 4 и 5 детей составляют небольшое кол-во от общего числа заемщиков, однаком их результаты существенно выбиваются на фоне остальных. Поэтому считаю необходимым объединить заемщиков, имеющих 3 и более детей. "
   ]
  },
  {
   "cell_type": "code",
   "execution_count": 26,
   "id": "cb0b904f",
   "metadata": {},
   "outputs": [],
   "source": [
    "def children_count(count):\n",
    "    if count >= 3:\n",
    "        return '3+'\n",
    "    else:\n",
    "        return count\n",
    "    \n",
    "data['children'] = data['children'].apply(children_count)"
   ]
  },
  {
   "cell_type": "markdown",
   "id": "2fca2ae6",
   "metadata": {},
   "source": [
    "Посчитаем процент должников с обновленными данными:"
   ]
  },
  {
   "cell_type": "code",
   "execution_count": 27,
   "id": "7df15ffd",
   "metadata": {
    "scrolled": true
   },
   "outputs": [
    {
     "data": {
      "text/html": [
       "<div>\n",
       "<style scoped>\n",
       "    .dataframe tbody tr th:only-of-type {\n",
       "        vertical-align: middle;\n",
       "    }\n",
       "\n",
       "    .dataframe tbody tr th {\n",
       "        vertical-align: top;\n",
       "    }\n",
       "\n",
       "    .dataframe thead tr th {\n",
       "        text-align: left;\n",
       "    }\n",
       "\n",
       "    .dataframe thead tr:last-of-type th {\n",
       "        text-align: right;\n",
       "    }\n",
       "</style>\n",
       "<table border=\"1\" class=\"dataframe\">\n",
       "  <thead>\n",
       "    <tr>\n",
       "      <th></th>\n",
       "      <th>count</th>\n",
       "      <th>sum</th>\n",
       "      <th>mean</th>\n",
       "      <th>percent_debts</th>\n",
       "    </tr>\n",
       "    <tr>\n",
       "      <th></th>\n",
       "      <th>debt</th>\n",
       "      <th>debt</th>\n",
       "      <th>debt</th>\n",
       "      <th></th>\n",
       "    </tr>\n",
       "    <tr>\n",
       "      <th>children</th>\n",
       "      <th></th>\n",
       "      <th></th>\n",
       "      <th></th>\n",
       "      <th></th>\n",
       "    </tr>\n",
       "  </thead>\n",
       "  <tbody>\n",
       "    <tr>\n",
       "      <th>2</th>\n",
       "      <td>2052</td>\n",
       "      <td>194</td>\n",
       "      <td>0.094542</td>\n",
       "      <td>9.454191</td>\n",
       "    </tr>\n",
       "    <tr>\n",
       "      <th>1</th>\n",
       "      <td>4808</td>\n",
       "      <td>444</td>\n",
       "      <td>0.092346</td>\n",
       "      <td>9.234609</td>\n",
       "    </tr>\n",
       "    <tr>\n",
       "      <th>3+</th>\n",
       "      <td>380</td>\n",
       "      <td>31</td>\n",
       "      <td>0.081579</td>\n",
       "      <td>8.157895</td>\n",
       "    </tr>\n",
       "    <tr>\n",
       "      <th>0</th>\n",
       "      <td>14091</td>\n",
       "      <td>1063</td>\n",
       "      <td>0.075438</td>\n",
       "      <td>7.543822</td>\n",
       "    </tr>\n",
       "  </tbody>\n",
       "</table>\n",
       "</div>"
      ],
      "text/plain": [
       "          count   sum      mean percent_debts\n",
       "           debt  debt      debt              \n",
       "children                                     \n",
       "2          2052   194  0.094542      9.454191\n",
       "1          4808   444  0.092346      9.234609\n",
       "3+          380    31  0.081579      8.157895\n",
       "0         14091  1063  0.075438      7.543822"
      ]
     },
     "execution_count": 27,
     "metadata": {},
     "output_type": "execute_result"
    }
   ],
   "source": [
    "data_pivot_children = data.pivot_table(index='children', values='debt', aggfunc=['count', 'sum', 'mean'])\n",
    "data_pivot_children['percent_debts'] = data_pivot_children['mean']*100\n",
    "data_pivot_children.sort_values(by='percent_debts', ascending=False)"
   ]
  },
  {
   "cell_type": "markdown",
   "id": "b6c72795",
   "metadata": {
    "deletable": false,
    "id": "3a6b99ec"
   },
   "source": [
    "**Вывод:** \n",
    "1. Заемщики, имеющие 1 и 2 ребенка, имеют наибольшей процент задолженностей и представляют наиболее рискованную группу\n",
    "2. Заемщики, не имеющие детей и имеющие более 3х детей, представляют наименее рискованную группу\n",
    "\n",
    "Зависимость между количеством детей и возвратом кредита в срок имеется"
   ]
  },
  {
   "cell_type": "markdown",
   "id": "46b5c0f4",
   "metadata": {
    "deletable": false,
    "editable": false,
    "id": "97be82ca"
   },
   "source": [
    "#### 3.2 Есть ли зависимость между семейным положением и возвратом кредита в срок?"
   ]
  },
  {
   "cell_type": "markdown",
   "id": "93b9bacf",
   "metadata": {},
   "source": [
    "Составим сводную таблицу зависимости семейного положения и задолженности:"
   ]
  },
  {
   "cell_type": "code",
   "execution_count": 28,
   "id": "fe75f76b",
   "metadata": {
    "deletable": false,
    "id": "dc3f7ee8"
   },
   "outputs": [
    {
     "data": {
      "text/html": [
       "<div>\n",
       "<style scoped>\n",
       "    .dataframe tbody tr th:only-of-type {\n",
       "        vertical-align: middle;\n",
       "    }\n",
       "\n",
       "    .dataframe tbody tr th {\n",
       "        vertical-align: top;\n",
       "    }\n",
       "\n",
       "    .dataframe thead tr th {\n",
       "        text-align: left;\n",
       "    }\n",
       "\n",
       "    .dataframe thead tr:last-of-type th {\n",
       "        text-align: right;\n",
       "    }\n",
       "</style>\n",
       "<table border=\"1\" class=\"dataframe\">\n",
       "  <thead>\n",
       "    <tr>\n",
       "      <th></th>\n",
       "      <th>count</th>\n",
       "      <th>sum</th>\n",
       "      <th>mean</th>\n",
       "    </tr>\n",
       "    <tr>\n",
       "      <th></th>\n",
       "      <th>debt</th>\n",
       "      <th>debt</th>\n",
       "      <th>debt</th>\n",
       "    </tr>\n",
       "    <tr>\n",
       "      <th>family_status</th>\n",
       "      <th></th>\n",
       "      <th></th>\n",
       "      <th></th>\n",
       "    </tr>\n",
       "  </thead>\n",
       "  <tbody>\n",
       "    <tr>\n",
       "      <th>Не женат / не замужем</th>\n",
       "      <td>2796</td>\n",
       "      <td>273</td>\n",
       "      <td>0.097639</td>\n",
       "    </tr>\n",
       "    <tr>\n",
       "      <th>в разводе</th>\n",
       "      <td>1189</td>\n",
       "      <td>84</td>\n",
       "      <td>0.070648</td>\n",
       "    </tr>\n",
       "    <tr>\n",
       "      <th>вдовец / вдова</th>\n",
       "      <td>951</td>\n",
       "      <td>63</td>\n",
       "      <td>0.066246</td>\n",
       "    </tr>\n",
       "    <tr>\n",
       "      <th>гражданский брак</th>\n",
       "      <td>4134</td>\n",
       "      <td>385</td>\n",
       "      <td>0.093130</td>\n",
       "    </tr>\n",
       "    <tr>\n",
       "      <th>женат / замужем</th>\n",
       "      <td>12261</td>\n",
       "      <td>927</td>\n",
       "      <td>0.075606</td>\n",
       "    </tr>\n",
       "  </tbody>\n",
       "</table>\n",
       "</div>"
      ],
      "text/plain": [
       "                       count  sum      mean\n",
       "                        debt debt      debt\n",
       "family_status                              \n",
       "Не женат / не замужем   2796  273  0.097639\n",
       "в разводе               1189   84  0.070648\n",
       "вдовец / вдова           951   63  0.066246\n",
       "гражданский брак        4134  385  0.093130\n",
       "женат / замужем        12261  927  0.075606"
      ]
     },
     "execution_count": 28,
     "metadata": {},
     "output_type": "execute_result"
    }
   ],
   "source": [
    "# Ваш код будет здесь. Вы можете создавать новые ячейки.\n",
    "data_pivot_family = data.pivot_table(index='family_status', values='debt', aggfunc=['count', 'sum', 'mean'])\n",
    "data_pivot_family"
   ]
  },
  {
   "cell_type": "markdown",
   "id": "d4d69d34",
   "metadata": {},
   "source": [
    "Посчитаем процент должников в каждой группе и добавим соответствующий столбец. Отсортируем значения по убыванию."
   ]
  },
  {
   "cell_type": "code",
   "execution_count": 29,
   "id": "a06d742b",
   "metadata": {},
   "outputs": [
    {
     "data": {
      "text/html": [
       "<div>\n",
       "<style scoped>\n",
       "    .dataframe tbody tr th:only-of-type {\n",
       "        vertical-align: middle;\n",
       "    }\n",
       "\n",
       "    .dataframe tbody tr th {\n",
       "        vertical-align: top;\n",
       "    }\n",
       "\n",
       "    .dataframe thead tr th {\n",
       "        text-align: left;\n",
       "    }\n",
       "\n",
       "    .dataframe thead tr:last-of-type th {\n",
       "        text-align: right;\n",
       "    }\n",
       "</style>\n",
       "<table border=\"1\" class=\"dataframe\">\n",
       "  <thead>\n",
       "    <tr>\n",
       "      <th></th>\n",
       "      <th>count</th>\n",
       "      <th>sum</th>\n",
       "      <th>mean</th>\n",
       "      <th>percent_debts</th>\n",
       "    </tr>\n",
       "    <tr>\n",
       "      <th></th>\n",
       "      <th>debt</th>\n",
       "      <th>debt</th>\n",
       "      <th>debt</th>\n",
       "      <th></th>\n",
       "    </tr>\n",
       "    <tr>\n",
       "      <th>family_status</th>\n",
       "      <th></th>\n",
       "      <th></th>\n",
       "      <th></th>\n",
       "      <th></th>\n",
       "    </tr>\n",
       "  </thead>\n",
       "  <tbody>\n",
       "    <tr>\n",
       "      <th>Не женат / не замужем</th>\n",
       "      <td>2796</td>\n",
       "      <td>273</td>\n",
       "      <td>0.097639</td>\n",
       "      <td>9.763948</td>\n",
       "    </tr>\n",
       "    <tr>\n",
       "      <th>гражданский брак</th>\n",
       "      <td>4134</td>\n",
       "      <td>385</td>\n",
       "      <td>0.093130</td>\n",
       "      <td>9.313014</td>\n",
       "    </tr>\n",
       "    <tr>\n",
       "      <th>женат / замужем</th>\n",
       "      <td>12261</td>\n",
       "      <td>927</td>\n",
       "      <td>0.075606</td>\n",
       "      <td>7.560558</td>\n",
       "    </tr>\n",
       "    <tr>\n",
       "      <th>в разводе</th>\n",
       "      <td>1189</td>\n",
       "      <td>84</td>\n",
       "      <td>0.070648</td>\n",
       "      <td>7.064760</td>\n",
       "    </tr>\n",
       "    <tr>\n",
       "      <th>вдовец / вдова</th>\n",
       "      <td>951</td>\n",
       "      <td>63</td>\n",
       "      <td>0.066246</td>\n",
       "      <td>6.624606</td>\n",
       "    </tr>\n",
       "  </tbody>\n",
       "</table>\n",
       "</div>"
      ],
      "text/plain": [
       "                       count  sum      mean percent_debts\n",
       "                        debt debt      debt              \n",
       "family_status                                            \n",
       "Не женат / не замужем   2796  273  0.097639      9.763948\n",
       "гражданский брак        4134  385  0.093130      9.313014\n",
       "женат / замужем        12261  927  0.075606      7.560558\n",
       "в разводе               1189   84  0.070648      7.064760\n",
       "вдовец / вдова           951   63  0.066246      6.624606"
      ]
     },
     "execution_count": 29,
     "metadata": {},
     "output_type": "execute_result"
    }
   ],
   "source": [
    "data_pivot_family['percent_debts'] = data_pivot_family['mean']*100\n",
    "data_pivot_family.sort_values(by='percent_debts', ascending=False)"
   ]
  },
  {
   "cell_type": "markdown",
   "id": "d4f91670",
   "metadata": {
    "deletable": false,
    "id": "1cef7837"
   },
   "source": [
    "**Вывод:** \n",
    "По полученным результатам можно сделать выводы:\n",
    "1. Наиболее рискованная группа заемщиков со статусом семейного положения - \"Не женат / не замужем\"\n",
    "2. Наиболее безопасны заемщики со статусами \"в разводе\",\"вдовец / вдова\" и \"женат / замужем\"\n",
    "\n",
    "Зависимость между семейным положением и возвратом кредита в срок имеется. "
   ]
  },
  {
   "cell_type": "markdown",
   "id": "762e8716",
   "metadata": {
    "deletable": false,
    "editable": false,
    "id": "1e8b2fca"
   },
   "source": [
    "#### 3.3 Есть ли зависимость между уровнем дохода и возвратом кредита в срок?"
   ]
  },
  {
   "cell_type": "markdown",
   "id": "d6eede79",
   "metadata": {},
   "source": [
    "Составим сводную таблицу зависимости категории уровня дохода и задолженности:"
   ]
  },
  {
   "cell_type": "code",
   "execution_count": 30,
   "id": "a82e16a2",
   "metadata": {
    "deletable": false,
    "id": "cd7e3720"
   },
   "outputs": [
    {
     "data": {
      "text/html": [
       "<div>\n",
       "<style scoped>\n",
       "    .dataframe tbody tr th:only-of-type {\n",
       "        vertical-align: middle;\n",
       "    }\n",
       "\n",
       "    .dataframe tbody tr th {\n",
       "        vertical-align: top;\n",
       "    }\n",
       "\n",
       "    .dataframe thead tr th {\n",
       "        text-align: left;\n",
       "    }\n",
       "\n",
       "    .dataframe thead tr:last-of-type th {\n",
       "        text-align: right;\n",
       "    }\n",
       "</style>\n",
       "<table border=\"1\" class=\"dataframe\">\n",
       "  <thead>\n",
       "    <tr>\n",
       "      <th></th>\n",
       "      <th>count</th>\n",
       "      <th>sum</th>\n",
       "      <th>mean</th>\n",
       "    </tr>\n",
       "    <tr>\n",
       "      <th></th>\n",
       "      <th>debt</th>\n",
       "      <th>debt</th>\n",
       "      <th>debt</th>\n",
       "    </tr>\n",
       "    <tr>\n",
       "      <th>total_income_category</th>\n",
       "      <th></th>\n",
       "      <th></th>\n",
       "      <th></th>\n",
       "    </tr>\n",
       "  </thead>\n",
       "  <tbody>\n",
       "    <tr>\n",
       "      <th>A</th>\n",
       "      <td>25</td>\n",
       "      <td>2</td>\n",
       "      <td>0.080000</td>\n",
       "    </tr>\n",
       "    <tr>\n",
       "      <th>B</th>\n",
       "      <td>5014</td>\n",
       "      <td>354</td>\n",
       "      <td>0.070602</td>\n",
       "    </tr>\n",
       "    <tr>\n",
       "      <th>C</th>\n",
       "      <td>15921</td>\n",
       "      <td>1353</td>\n",
       "      <td>0.084982</td>\n",
       "    </tr>\n",
       "    <tr>\n",
       "      <th>D</th>\n",
       "      <td>349</td>\n",
       "      <td>21</td>\n",
       "      <td>0.060172</td>\n",
       "    </tr>\n",
       "    <tr>\n",
       "      <th>E</th>\n",
       "      <td>22</td>\n",
       "      <td>2</td>\n",
       "      <td>0.090909</td>\n",
       "    </tr>\n",
       "  </tbody>\n",
       "</table>\n",
       "</div>"
      ],
      "text/plain": [
       "                       count   sum      mean\n",
       "                        debt  debt      debt\n",
       "total_income_category                       \n",
       "A                         25     2  0.080000\n",
       "B                       5014   354  0.070602\n",
       "C                      15921  1353  0.084982\n",
       "D                        349    21  0.060172\n",
       "E                         22     2  0.090909"
      ]
     },
     "execution_count": 30,
     "metadata": {},
     "output_type": "execute_result"
    }
   ],
   "source": [
    "# Ваш код будет здесь. Вы можете создавать новые ячейки.\n",
    "data_pivot_income = data.pivot_table(index='total_income_category', values='debt', aggfunc=['count', 'sum', 'mean'])\n",
    "data_pivot_income"
   ]
  },
  {
   "cell_type": "markdown",
   "id": "6785eaef",
   "metadata": {},
   "source": [
    "Посчитаем процент должников в каждой группе и добавим соответствующий столбец. Отсортируем значения по убыванию."
   ]
  },
  {
   "cell_type": "code",
   "execution_count": 31,
   "id": "ce92d2e7",
   "metadata": {},
   "outputs": [
    {
     "data": {
      "text/html": [
       "<div>\n",
       "<style scoped>\n",
       "    .dataframe tbody tr th:only-of-type {\n",
       "        vertical-align: middle;\n",
       "    }\n",
       "\n",
       "    .dataframe tbody tr th {\n",
       "        vertical-align: top;\n",
       "    }\n",
       "\n",
       "    .dataframe thead tr th {\n",
       "        text-align: left;\n",
       "    }\n",
       "\n",
       "    .dataframe thead tr:last-of-type th {\n",
       "        text-align: right;\n",
       "    }\n",
       "</style>\n",
       "<table border=\"1\" class=\"dataframe\">\n",
       "  <thead>\n",
       "    <tr>\n",
       "      <th></th>\n",
       "      <th>count</th>\n",
       "      <th>sum</th>\n",
       "      <th>mean</th>\n",
       "      <th>percent_debts</th>\n",
       "    </tr>\n",
       "    <tr>\n",
       "      <th></th>\n",
       "      <th>debt</th>\n",
       "      <th>debt</th>\n",
       "      <th>debt</th>\n",
       "      <th></th>\n",
       "    </tr>\n",
       "    <tr>\n",
       "      <th>total_income_category</th>\n",
       "      <th></th>\n",
       "      <th></th>\n",
       "      <th></th>\n",
       "      <th></th>\n",
       "    </tr>\n",
       "  </thead>\n",
       "  <tbody>\n",
       "    <tr>\n",
       "      <th>E</th>\n",
       "      <td>22</td>\n",
       "      <td>2</td>\n",
       "      <td>0.090909</td>\n",
       "      <td>9.090909</td>\n",
       "    </tr>\n",
       "    <tr>\n",
       "      <th>C</th>\n",
       "      <td>15921</td>\n",
       "      <td>1353</td>\n",
       "      <td>0.084982</td>\n",
       "      <td>8.498210</td>\n",
       "    </tr>\n",
       "    <tr>\n",
       "      <th>A</th>\n",
       "      <td>25</td>\n",
       "      <td>2</td>\n",
       "      <td>0.080000</td>\n",
       "      <td>8.000000</td>\n",
       "    </tr>\n",
       "    <tr>\n",
       "      <th>B</th>\n",
       "      <td>5014</td>\n",
       "      <td>354</td>\n",
       "      <td>0.070602</td>\n",
       "      <td>7.060231</td>\n",
       "    </tr>\n",
       "    <tr>\n",
       "      <th>D</th>\n",
       "      <td>349</td>\n",
       "      <td>21</td>\n",
       "      <td>0.060172</td>\n",
       "      <td>6.017192</td>\n",
       "    </tr>\n",
       "  </tbody>\n",
       "</table>\n",
       "</div>"
      ],
      "text/plain": [
       "                       count   sum      mean percent_debts\n",
       "                        debt  debt      debt              \n",
       "total_income_category                                     \n",
       "E                         22     2  0.090909      9.090909\n",
       "C                      15921  1353  0.084982      8.498210\n",
       "A                         25     2  0.080000      8.000000\n",
       "B                       5014   354  0.070602      7.060231\n",
       "D                        349    21  0.060172      6.017192"
      ]
     },
     "execution_count": 31,
     "metadata": {},
     "output_type": "execute_result"
    }
   ],
   "source": [
    "data_pivot_income['percent_debts'] = data_pivot_income['mean']*100\n",
    "data_pivot_income.sort_values(by='percent_debts', ascending=False)"
   ]
  },
  {
   "cell_type": "markdown",
   "id": "b1ee0f78",
   "metadata": {
    "deletable": false,
    "id": "e8593def"
   },
   "source": [
    "**Вывод:** \n",
    "Наименьший риск представляют заемщики с доходом от 30000 до 50000.\n",
    "Прямой зависимости между уровнем дохода и возвратом кредита в срок не наблюдается. "
   ]
  },
  {
   "cell_type": "markdown",
   "id": "82075ce5",
   "metadata": {
    "deletable": false,
    "editable": false,
    "id": "99ecbd1f"
   },
   "source": [
    "#### 3.4 Как разные цели кредита влияют на его возврат в срок?"
   ]
  },
  {
   "cell_type": "markdown",
   "id": "251bd079",
   "metadata": {},
   "source": [
    "Составим сводную таблицу зависимости групп целей и задолженности:"
   ]
  },
  {
   "cell_type": "code",
   "execution_count": 32,
   "id": "e4ee2b4a",
   "metadata": {
    "deletable": false,
    "id": "2b687290"
   },
   "outputs": [
    {
     "data": {
      "text/html": [
       "<div>\n",
       "<style scoped>\n",
       "    .dataframe tbody tr th:only-of-type {\n",
       "        vertical-align: middle;\n",
       "    }\n",
       "\n",
       "    .dataframe tbody tr th {\n",
       "        vertical-align: top;\n",
       "    }\n",
       "\n",
       "    .dataframe thead tr th {\n",
       "        text-align: left;\n",
       "    }\n",
       "\n",
       "    .dataframe thead tr:last-of-type th {\n",
       "        text-align: right;\n",
       "    }\n",
       "</style>\n",
       "<table border=\"1\" class=\"dataframe\">\n",
       "  <thead>\n",
       "    <tr>\n",
       "      <th></th>\n",
       "      <th>count</th>\n",
       "      <th>sum</th>\n",
       "      <th>mean</th>\n",
       "    </tr>\n",
       "    <tr>\n",
       "      <th></th>\n",
       "      <th>debt</th>\n",
       "      <th>debt</th>\n",
       "      <th>debt</th>\n",
       "    </tr>\n",
       "    <tr>\n",
       "      <th>purpose_category</th>\n",
       "      <th></th>\n",
       "      <th></th>\n",
       "      <th></th>\n",
       "    </tr>\n",
       "  </thead>\n",
       "  <tbody>\n",
       "    <tr>\n",
       "      <th>операции с автомобилем</th>\n",
       "      <td>4279</td>\n",
       "      <td>400</td>\n",
       "      <td>0.093480</td>\n",
       "    </tr>\n",
       "    <tr>\n",
       "      <th>операции с недвижимостью</th>\n",
       "      <td>10751</td>\n",
       "      <td>780</td>\n",
       "      <td>0.072551</td>\n",
       "    </tr>\n",
       "    <tr>\n",
       "      <th>получение образования</th>\n",
       "      <td>3988</td>\n",
       "      <td>369</td>\n",
       "      <td>0.092528</td>\n",
       "    </tr>\n",
       "    <tr>\n",
       "      <th>проведение свадьбы</th>\n",
       "      <td>2313</td>\n",
       "      <td>183</td>\n",
       "      <td>0.079118</td>\n",
       "    </tr>\n",
       "  </tbody>\n",
       "</table>\n",
       "</div>"
      ],
      "text/plain": [
       "                          count  sum      mean\n",
       "                           debt debt      debt\n",
       "purpose_category                              \n",
       "операции с автомобилем     4279  400  0.093480\n",
       "операции с недвижимостью  10751  780  0.072551\n",
       "получение образования      3988  369  0.092528\n",
       "проведение свадьбы         2313  183  0.079118"
      ]
     },
     "execution_count": 32,
     "metadata": {},
     "output_type": "execute_result"
    }
   ],
   "source": [
    "# Ваш код будет здесь. Вы можете создавать новые ячейки.\n",
    "data_pivot_purpose = data.pivot_table(index='purpose_category', values='debt', aggfunc=['count', 'sum', 'mean'])\n",
    "data_pivot_purpose"
   ]
  },
  {
   "cell_type": "markdown",
   "id": "17ecbf62",
   "metadata": {},
   "source": [
    "Посчитаем процент должников в каждой группе и добавим соответствующий столбец. Отсортируем значения по убыванию."
   ]
  },
  {
   "cell_type": "code",
   "execution_count": 33,
   "id": "4a93cce8",
   "metadata": {},
   "outputs": [
    {
     "data": {
      "text/html": [
       "<div>\n",
       "<style scoped>\n",
       "    .dataframe tbody tr th:only-of-type {\n",
       "        vertical-align: middle;\n",
       "    }\n",
       "\n",
       "    .dataframe tbody tr th {\n",
       "        vertical-align: top;\n",
       "    }\n",
       "\n",
       "    .dataframe thead tr th {\n",
       "        text-align: left;\n",
       "    }\n",
       "\n",
       "    .dataframe thead tr:last-of-type th {\n",
       "        text-align: right;\n",
       "    }\n",
       "</style>\n",
       "<table border=\"1\" class=\"dataframe\">\n",
       "  <thead>\n",
       "    <tr>\n",
       "      <th></th>\n",
       "      <th>count</th>\n",
       "      <th>sum</th>\n",
       "      <th>mean</th>\n",
       "      <th>percent_debts</th>\n",
       "    </tr>\n",
       "    <tr>\n",
       "      <th></th>\n",
       "      <th>debt</th>\n",
       "      <th>debt</th>\n",
       "      <th>debt</th>\n",
       "      <th></th>\n",
       "    </tr>\n",
       "    <tr>\n",
       "      <th>purpose_category</th>\n",
       "      <th></th>\n",
       "      <th></th>\n",
       "      <th></th>\n",
       "      <th></th>\n",
       "    </tr>\n",
       "  </thead>\n",
       "  <tbody>\n",
       "    <tr>\n",
       "      <th>операции с автомобилем</th>\n",
       "      <td>4279</td>\n",
       "      <td>400</td>\n",
       "      <td>0.093480</td>\n",
       "      <td>9.347978</td>\n",
       "    </tr>\n",
       "    <tr>\n",
       "      <th>получение образования</th>\n",
       "      <td>3988</td>\n",
       "      <td>369</td>\n",
       "      <td>0.092528</td>\n",
       "      <td>9.252758</td>\n",
       "    </tr>\n",
       "    <tr>\n",
       "      <th>проведение свадьбы</th>\n",
       "      <td>2313</td>\n",
       "      <td>183</td>\n",
       "      <td>0.079118</td>\n",
       "      <td>7.911803</td>\n",
       "    </tr>\n",
       "    <tr>\n",
       "      <th>операции с недвижимостью</th>\n",
       "      <td>10751</td>\n",
       "      <td>780</td>\n",
       "      <td>0.072551</td>\n",
       "      <td>7.255139</td>\n",
       "    </tr>\n",
       "  </tbody>\n",
       "</table>\n",
       "</div>"
      ],
      "text/plain": [
       "                          count  sum      mean percent_debts\n",
       "                           debt debt      debt              \n",
       "purpose_category                                            \n",
       "операции с автомобилем     4279  400  0.093480      9.347978\n",
       "получение образования      3988  369  0.092528      9.252758\n",
       "проведение свадьбы         2313  183  0.079118      7.911803\n",
       "операции с недвижимостью  10751  780  0.072551      7.255139"
      ]
     },
     "execution_count": 33,
     "metadata": {},
     "output_type": "execute_result"
    }
   ],
   "source": [
    "data_pivot_purpose['percent_debts'] = data_pivot_purpose['mean']*100\n",
    "data_pivot_purpose.sort_values(by='percent_debts', ascending=False)"
   ]
  },
  {
   "cell_type": "markdown",
   "id": "f06fe2f4",
   "metadata": {
    "deletable": false,
    "id": "b4bb2ce6"
   },
   "source": [
    "**Вывод:** \n",
    "1. Наиболее рискованная группа заемщиков, берущих кредиты с целями: операции с автомобилем, получение образования\n",
    "2. Более безопасные группы заемщиков с целями: проведение свадьбы, операции с недвижимостью"
   ]
  },
  {
   "cell_type": "markdown",
   "id": "42010d41",
   "metadata": {
    "deletable": false,
    "editable": false,
    "id": "09c3ac4c"
   },
   "source": [
    "#### 3.5 Приведите возможные причины появления пропусков в исходных данных."
   ]
  },
  {
   "cell_type": "markdown",
   "id": "8e8dd2b8",
   "metadata": {
    "deletable": false,
    "id": "9da2ceda"
   },
   "source": [
    "*Ответ:* \n",
    "- пропуски данных при заполнении\n",
    "- непредоставление свединий клиентами\n",
    "- ошибки при копировании"
   ]
  },
  {
   "cell_type": "markdown",
   "id": "42357fad",
   "metadata": {},
   "source": [
    "Пропуски присутствуют в столбцах 'days_employed' и 'total_income' и имеют одинаковое кол-во. Можно предположить, что причиной пропуска является то, что данные заемщики не являются трудоустроенными и не имеют трудового стажа и соответственно дохода.\n",
    "Проверим есть ли зависимость между пропусками и типом занятости."
   ]
  },
  {
   "cell_type": "markdown",
   "id": "697f6a49",
   "metadata": {},
   "source": [
    "Найдем все уникальные значения столбца income_type:"
   ]
  },
  {
   "cell_type": "code",
   "execution_count": 34,
   "id": "79a66aaf",
   "metadata": {
    "scrolled": true
   },
   "outputs": [
    {
     "data": {
      "text/plain": [
       "array(['сотрудник', 'пенсионер', 'компаньон', 'госслужащий',\n",
       "       'безработный', 'предприниматель', 'студент', 'в декрете'],\n",
       "      dtype=object)"
      ]
     },
     "execution_count": 34,
     "metadata": {},
     "output_type": "execute_result"
    }
   ],
   "source": [
    "data['income_type'].unique()"
   ]
  },
  {
   "cell_type": "markdown",
   "id": "793dbe75",
   "metadata": {},
   "source": [
    "Выдвинем гипотезу, что данные отсутсвуют у заемщиков со статусом 'безработный', 'студент', 'в декрете'"
   ]
  },
  {
   "cell_type": "markdown",
   "id": "3f49df15",
   "metadata": {},
   "source": [
    "Сгруппируем данные по типу занятости и посчитаем кол-во заемщиков:"
   ]
  },
  {
   "cell_type": "code",
   "execution_count": 35,
   "id": "18fdd16d",
   "metadata": {
    "scrolled": true
   },
   "outputs": [
    {
     "data": {
      "text/html": [
       "<div>\n",
       "<style scoped>\n",
       "    .dataframe tbody tr th:only-of-type {\n",
       "        vertical-align: middle;\n",
       "    }\n",
       "\n",
       "    .dataframe tbody tr th {\n",
       "        vertical-align: top;\n",
       "    }\n",
       "\n",
       "    .dataframe thead th {\n",
       "        text-align: right;\n",
       "    }\n",
       "</style>\n",
       "<table border=\"1\" class=\"dataframe\">\n",
       "  <thead>\n",
       "    <tr style=\"text-align: right;\">\n",
       "      <th></th>\n",
       "      <th>children</th>\n",
       "      <th>days_employed</th>\n",
       "      <th>dob_years</th>\n",
       "      <th>education</th>\n",
       "      <th>education_id</th>\n",
       "      <th>family_status</th>\n",
       "      <th>family_status_id</th>\n",
       "      <th>gender</th>\n",
       "      <th>debt</th>\n",
       "      <th>total_income</th>\n",
       "      <th>purpose</th>\n",
       "      <th>total_income_category</th>\n",
       "      <th>purpose_category</th>\n",
       "    </tr>\n",
       "    <tr>\n",
       "      <th>income_type</th>\n",
       "      <th></th>\n",
       "      <th></th>\n",
       "      <th></th>\n",
       "      <th></th>\n",
       "      <th></th>\n",
       "      <th></th>\n",
       "      <th></th>\n",
       "      <th></th>\n",
       "      <th></th>\n",
       "      <th></th>\n",
       "      <th></th>\n",
       "      <th></th>\n",
       "      <th></th>\n",
       "    </tr>\n",
       "  </thead>\n",
       "  <tbody>\n",
       "    <tr>\n",
       "      <th>безработный</th>\n",
       "      <td>2</td>\n",
       "      <td>2</td>\n",
       "      <td>2</td>\n",
       "      <td>2</td>\n",
       "      <td>2</td>\n",
       "      <td>2</td>\n",
       "      <td>2</td>\n",
       "      <td>2</td>\n",
       "      <td>2</td>\n",
       "      <td>2</td>\n",
       "      <td>2</td>\n",
       "      <td>2</td>\n",
       "      <td>2</td>\n",
       "    </tr>\n",
       "    <tr>\n",
       "      <th>в декрете</th>\n",
       "      <td>1</td>\n",
       "      <td>1</td>\n",
       "      <td>1</td>\n",
       "      <td>1</td>\n",
       "      <td>1</td>\n",
       "      <td>1</td>\n",
       "      <td>1</td>\n",
       "      <td>1</td>\n",
       "      <td>1</td>\n",
       "      <td>1</td>\n",
       "      <td>1</td>\n",
       "      <td>1</td>\n",
       "      <td>1</td>\n",
       "    </tr>\n",
       "    <tr>\n",
       "      <th>госслужащий</th>\n",
       "      <td>1451</td>\n",
       "      <td>1451</td>\n",
       "      <td>1451</td>\n",
       "      <td>1451</td>\n",
       "      <td>1451</td>\n",
       "      <td>1451</td>\n",
       "      <td>1451</td>\n",
       "      <td>1451</td>\n",
       "      <td>1451</td>\n",
       "      <td>1451</td>\n",
       "      <td>1451</td>\n",
       "      <td>1451</td>\n",
       "      <td>1451</td>\n",
       "    </tr>\n",
       "    <tr>\n",
       "      <th>компаньон</th>\n",
       "      <td>5047</td>\n",
       "      <td>5047</td>\n",
       "      <td>5047</td>\n",
       "      <td>5047</td>\n",
       "      <td>5047</td>\n",
       "      <td>5047</td>\n",
       "      <td>5047</td>\n",
       "      <td>5047</td>\n",
       "      <td>5047</td>\n",
       "      <td>5047</td>\n",
       "      <td>5047</td>\n",
       "      <td>5047</td>\n",
       "      <td>5047</td>\n",
       "    </tr>\n",
       "    <tr>\n",
       "      <th>пенсионер</th>\n",
       "      <td>3812</td>\n",
       "      <td>3812</td>\n",
       "      <td>3812</td>\n",
       "      <td>3812</td>\n",
       "      <td>3812</td>\n",
       "      <td>3812</td>\n",
       "      <td>3812</td>\n",
       "      <td>3812</td>\n",
       "      <td>3812</td>\n",
       "      <td>3812</td>\n",
       "      <td>3812</td>\n",
       "      <td>3812</td>\n",
       "      <td>3812</td>\n",
       "    </tr>\n",
       "    <tr>\n",
       "      <th>предприниматель</th>\n",
       "      <td>2</td>\n",
       "      <td>2</td>\n",
       "      <td>2</td>\n",
       "      <td>2</td>\n",
       "      <td>2</td>\n",
       "      <td>2</td>\n",
       "      <td>2</td>\n",
       "      <td>2</td>\n",
       "      <td>2</td>\n",
       "      <td>2</td>\n",
       "      <td>2</td>\n",
       "      <td>2</td>\n",
       "      <td>2</td>\n",
       "    </tr>\n",
       "    <tr>\n",
       "      <th>сотрудник</th>\n",
       "      <td>11015</td>\n",
       "      <td>11015</td>\n",
       "      <td>11015</td>\n",
       "      <td>11015</td>\n",
       "      <td>11015</td>\n",
       "      <td>11015</td>\n",
       "      <td>11015</td>\n",
       "      <td>11015</td>\n",
       "      <td>11015</td>\n",
       "      <td>11015</td>\n",
       "      <td>11015</td>\n",
       "      <td>11015</td>\n",
       "      <td>11015</td>\n",
       "    </tr>\n",
       "    <tr>\n",
       "      <th>студент</th>\n",
       "      <td>1</td>\n",
       "      <td>1</td>\n",
       "      <td>1</td>\n",
       "      <td>1</td>\n",
       "      <td>1</td>\n",
       "      <td>1</td>\n",
       "      <td>1</td>\n",
       "      <td>1</td>\n",
       "      <td>1</td>\n",
       "      <td>1</td>\n",
       "      <td>1</td>\n",
       "      <td>1</td>\n",
       "      <td>1</td>\n",
       "    </tr>\n",
       "  </tbody>\n",
       "</table>\n",
       "</div>"
      ],
      "text/plain": [
       "                 children  days_employed  dob_years  education  education_id  \\\n",
       "income_type                                                                    \n",
       "безработный             2              2          2          2             2   \n",
       "в декрете               1              1          1          1             1   \n",
       "госслужащий          1451           1451       1451       1451          1451   \n",
       "компаньон            5047           5047       5047       5047          5047   \n",
       "пенсионер            3812           3812       3812       3812          3812   \n",
       "предприниматель         2              2          2          2             2   \n",
       "сотрудник           11015          11015      11015      11015         11015   \n",
       "студент                 1              1          1          1             1   \n",
       "\n",
       "                 family_status  family_status_id  gender   debt  total_income  \\\n",
       "income_type                                                                     \n",
       "безработный                  2                 2       2      2             2   \n",
       "в декрете                    1                 1       1      1             1   \n",
       "госслужащий               1451              1451    1451   1451          1451   \n",
       "компаньон                 5047              5047    5047   5047          5047   \n",
       "пенсионер                 3812              3812    3812   3812          3812   \n",
       "предприниматель              2                 2       2      2             2   \n",
       "сотрудник                11015             11015   11015  11015         11015   \n",
       "студент                      1                 1       1      1             1   \n",
       "\n",
       "                 purpose  total_income_category  purpose_category  \n",
       "income_type                                                        \n",
       "безработный            2                      2                 2  \n",
       "в декрете              1                      1                 1  \n",
       "госслужащий         1451                   1451              1451  \n",
       "компаньон           5047                   5047              5047  \n",
       "пенсионер           3812                   3812              3812  \n",
       "предприниматель        2                      2                 2  \n",
       "сотрудник          11015                  11015             11015  \n",
       "студент                1                      1                 1  "
      ]
     },
     "execution_count": 35,
     "metadata": {},
     "output_type": "execute_result"
    }
   ],
   "source": [
    "data.groupby('income_type').count()"
   ]
  },
  {
   "cell_type": "markdown",
   "id": "c057fd55",
   "metadata": {},
   "source": [
    "Анализ типа занятости и пропусков гипотезу не подтвердил и какой-либо закономерности в пропусках не выявил.\\\n",
    "Таким образом, можно предположить, что причиной пропусков является непредоставление данных клиентами либо в связи с отсуствием реальной трудовой деятельности, либо в связи с невозможностью документально подтвердить свой стаж и доход.\\\n",
    "Либо имеет место техническая ошибка при заполнении данных"
   ]
  },
  {
   "cell_type": "markdown",
   "id": "6cf41967",
   "metadata": {
    "deletable": false,
    "editable": false,
    "id": "7b0487d6"
   },
   "source": [
    "#### 3.6 Объясните, почему заполнить пропуски медианным значением — лучшее решение для количественных переменных."
   ]
  },
  {
   "cell_type": "markdown",
   "id": "8049ec46",
   "metadata": {
    "deletable": false,
    "id": "7ecf2b8e"
   },
   "source": [
    "*Ответ:* \n",
    "При заполнении количественных данных медианным значением исключается значительное влияние аномальных значений на общие результаты исследования"
   ]
  },
  {
   "cell_type": "markdown",
   "id": "2b87225b",
   "metadata": {
    "deletable": false,
    "editable": false,
    "id": "6db5255a"
   },
   "source": [
    "### Шаг 4: общий вывод."
   ]
  },
  {
   "cell_type": "markdown",
   "id": "2b75ba99",
   "metadata": {
    "deletable": false,
    "id": "bad65432"
   },
   "source": [
    "В результате исследования выявлена зависимость между количеством детей, семейным положением и целью получения кредита. Явной зависимости между уровнем дохода и возвратом кредита в срок не выявлено.\n",
    "\n",
    "Наименее рискованные группы заемщиков: \n",
    "1. Не имеющие детей и имеющие более 3х детей\n",
    "2. Со статусами \"в разводе\", \"вдовец / вдова\" и \"женат / замужем\"\n",
    "3. С целью кредитования: \"проведение свадьбы\", \"операции с недвижимостью\"\n",
    "\n",
    "Группа риска:\n",
    "1. Имеющие 1 и 2 ребенка\n",
    "2. Со статусом семейного положения - \"Не женат / не замужем\"\n",
    "3. С целями кредита: операции с автомобилем, получение образования"
   ]
  }
 ],
 "metadata": {
  "ExecuteTimeLog": [
   {
    "duration": 44,
    "start_time": "2022-11-08T06:20:14.061Z"
   },
   {
    "duration": 505,
    "start_time": "2022-11-08T06:21:55.090Z"
   },
   {
    "duration": 19,
    "start_time": "2022-11-08T06:21:58.468Z"
   },
   {
    "duration": 15,
    "start_time": "2022-11-08T06:22:00.177Z"
   },
   {
    "duration": 11,
    "start_time": "2022-11-08T06:22:02.564Z"
   },
   {
    "duration": 44,
    "start_time": "2022-11-08T06:22:04.565Z"
   },
   {
    "duration": 4,
    "start_time": "2022-11-08T06:22:07.697Z"
   },
   {
    "duration": 7,
    "start_time": "2022-11-08T06:22:10.451Z"
   },
   {
    "duration": 4,
    "start_time": "2022-11-08T06:22:12.572Z"
   },
   {
    "duration": 7,
    "start_time": "2022-11-08T06:22:13.800Z"
   },
   {
    "duration": 5,
    "start_time": "2022-11-08T06:22:15.016Z"
   },
   {
    "duration": 30,
    "start_time": "2022-11-08T06:22:17.096Z"
   },
   {
    "duration": 9,
    "start_time": "2022-11-08T06:22:18.559Z"
   },
   {
    "duration": 5,
    "start_time": "2022-11-08T06:22:21.028Z"
   },
   {
    "duration": 10,
    "start_time": "2022-11-08T06:22:22.858Z"
   },
   {
    "duration": 27,
    "start_time": "2022-11-08T06:22:24.296Z"
   },
   {
    "duration": 18,
    "start_time": "2022-11-08T06:22:25.819Z"
   },
   {
    "duration": 4,
    "start_time": "2022-11-08T06:22:28.825Z"
   },
   {
    "duration": 8,
    "start_time": "2022-11-08T06:22:29.498Z"
   },
   {
    "duration": 5,
    "start_time": "2022-11-08T06:22:30.847Z"
   },
   {
    "duration": 3,
    "start_time": "2022-11-08T06:22:32.262Z"
   },
   {
    "duration": 8,
    "start_time": "2022-11-08T06:22:33.526Z"
   },
   {
    "duration": 26,
    "start_time": "2022-11-08T06:22:35.852Z"
   },
   {
    "duration": 4,
    "start_time": "2022-11-08T06:33:51.137Z"
   },
   {
    "duration": 5,
    "start_time": "2022-11-08T06:35:09.250Z"
   },
   {
    "duration": 4,
    "start_time": "2022-11-08T06:35:52.026Z"
   },
   {
    "duration": 23,
    "start_time": "2022-11-08T06:39:59.265Z"
   },
   {
    "duration": 818,
    "start_time": "2022-11-08T06:53:51.255Z"
   },
   {
    "duration": 17,
    "start_time": "2022-11-08T06:56:10.971Z"
   },
   {
    "duration": 17,
    "start_time": "2022-11-08T06:56:25.072Z"
   },
   {
    "duration": 12,
    "start_time": "2022-11-08T06:56:43.242Z"
   },
   {
    "duration": 13,
    "start_time": "2022-11-08T06:57:00.669Z"
   },
   {
    "duration": 26,
    "start_time": "2022-11-08T06:57:13.658Z"
   },
   {
    "duration": 14,
    "start_time": "2022-11-08T06:57:19.170Z"
   },
   {
    "duration": 44,
    "start_time": "2022-11-08T16:53:07.609Z"
   },
   {
    "duration": 544,
    "start_time": "2022-11-08T16:53:16.285Z"
   },
   {
    "duration": 33,
    "start_time": "2022-11-08T16:53:16.832Z"
   },
   {
    "duration": 23,
    "start_time": "2022-11-08T16:53:16.868Z"
   },
   {
    "duration": 40,
    "start_time": "2022-11-08T16:53:16.895Z"
   },
   {
    "duration": 49,
    "start_time": "2022-11-08T16:53:16.936Z"
   },
   {
    "duration": 16,
    "start_time": "2022-11-08T16:53:16.987Z"
   },
   {
    "duration": 12,
    "start_time": "2022-11-08T16:53:17.004Z"
   },
   {
    "duration": 7,
    "start_time": "2022-11-08T16:53:17.017Z"
   },
   {
    "duration": 10,
    "start_time": "2022-11-08T16:53:17.025Z"
   },
   {
    "duration": 5,
    "start_time": "2022-11-08T16:53:17.039Z"
   },
   {
    "duration": 41,
    "start_time": "2022-11-08T16:53:17.046Z"
   },
   {
    "duration": 17,
    "start_time": "2022-11-08T16:53:17.092Z"
   },
   {
    "duration": 7,
    "start_time": "2022-11-08T16:53:17.111Z"
   },
   {
    "duration": 15,
    "start_time": "2022-11-08T16:53:17.119Z"
   },
   {
    "duration": 28,
    "start_time": "2022-11-08T16:53:17.135Z"
   },
   {
    "duration": 24,
    "start_time": "2022-11-08T16:53:17.164Z"
   },
   {
    "duration": 11,
    "start_time": "2022-11-08T16:53:17.190Z"
   },
   {
    "duration": 11,
    "start_time": "2022-11-08T16:53:17.202Z"
   },
   {
    "duration": 9,
    "start_time": "2022-11-08T16:53:17.215Z"
   },
   {
    "duration": 4,
    "start_time": "2022-11-08T16:53:17.226Z"
   },
   {
    "duration": 37,
    "start_time": "2022-11-08T16:53:17.232Z"
   },
   {
    "duration": 17,
    "start_time": "2022-11-08T16:53:17.270Z"
   },
   {
    "duration": 40,
    "start_time": "2022-11-08T16:53:17.289Z"
   },
   {
    "duration": 20,
    "start_time": "2022-11-08T16:53:17.331Z"
   },
   {
    "duration": 61,
    "start_time": "2022-11-08T16:53:17.353Z"
   },
   {
    "duration": 2,
    "start_time": "2022-11-08T16:53:17.416Z"
   },
   {
    "duration": 14,
    "start_time": "2022-11-08T16:53:17.420Z"
   },
   {
    "duration": 25,
    "start_time": "2022-11-08T16:53:45.223Z"
   },
   {
    "duration": 14,
    "start_time": "2022-11-08T16:55:46.920Z"
   },
   {
    "duration": 1166,
    "start_time": "2022-11-08T17:40:03.009Z"
   },
   {
    "duration": 17,
    "start_time": "2022-11-08T17:40:42.978Z"
   },
   {
    "duration": 8,
    "start_time": "2022-11-08T17:43:21.699Z"
   },
   {
    "duration": 1591,
    "start_time": "2022-11-08T17:44:04.189Z"
   },
   {
    "duration": 12,
    "start_time": "2022-11-08T17:44:38.316Z"
   },
   {
    "duration": 99,
    "start_time": "2022-11-08T17:45:24.513Z"
   },
   {
    "duration": 13,
    "start_time": "2022-11-08T17:45:33.122Z"
   },
   {
    "duration": 8,
    "start_time": "2022-11-08T17:45:55.012Z"
   },
   {
    "duration": 21,
    "start_time": "2022-11-08T17:46:51.849Z"
   },
   {
    "duration": 18,
    "start_time": "2022-11-08T17:48:23.574Z"
   },
   {
    "duration": 26,
    "start_time": "2022-11-08T18:06:11.413Z"
   },
   {
    "duration": 25,
    "start_time": "2022-11-08T18:07:51.155Z"
   },
   {
    "duration": 29,
    "start_time": "2022-11-08T18:13:44.979Z"
   },
   {
    "duration": 17,
    "start_time": "2022-11-08T18:14:47.919Z"
   },
   {
    "duration": 12,
    "start_time": "2022-11-08T18:15:02.007Z"
   },
   {
    "duration": 53,
    "start_time": "2022-11-08T18:15:23.828Z"
   },
   {
    "duration": 20,
    "start_time": "2022-11-08T18:15:28.681Z"
   },
   {
    "duration": 9,
    "start_time": "2022-11-08T18:31:08.921Z"
   },
   {
    "duration": 12,
    "start_time": "2022-11-08T18:31:23.509Z"
   },
   {
    "duration": 22,
    "start_time": "2022-11-08T18:31:28.328Z"
   },
   {
    "duration": 14,
    "start_time": "2022-11-08T18:31:36.276Z"
   },
   {
    "duration": 97,
    "start_time": "2022-11-08T18:53:41.731Z"
   },
   {
    "duration": 51,
    "start_time": "2022-11-08T18:54:04.056Z"
   },
   {
    "duration": 391,
    "start_time": "2022-11-08T18:54:38.152Z"
   },
   {
    "duration": 344,
    "start_time": "2022-11-08T18:55:31.285Z"
   },
   {
    "duration": 371,
    "start_time": "2022-11-08T18:56:00.271Z"
   },
   {
    "duration": 17,
    "start_time": "2022-11-08T18:56:08.012Z"
   },
   {
    "duration": 364,
    "start_time": "2022-11-08T18:56:14.582Z"
   },
   {
    "duration": 347,
    "start_time": "2022-11-08T18:57:41.627Z"
   },
   {
    "duration": 94,
    "start_time": "2022-11-08T18:58:01.573Z"
   },
   {
    "duration": 21,
    "start_time": "2022-11-08T18:58:01.670Z"
   },
   {
    "duration": 22,
    "start_time": "2022-11-08T18:58:01.693Z"
   },
   {
    "duration": 15,
    "start_time": "2022-11-08T18:58:01.717Z"
   },
   {
    "duration": 46,
    "start_time": "2022-11-08T18:58:01.733Z"
   },
   {
    "duration": 5,
    "start_time": "2022-11-08T18:58:01.780Z"
   },
   {
    "duration": 25,
    "start_time": "2022-11-08T18:58:01.789Z"
   },
   {
    "duration": 11,
    "start_time": "2022-11-08T18:58:01.816Z"
   },
   {
    "duration": 23,
    "start_time": "2022-11-08T18:58:01.829Z"
   },
   {
    "duration": 47,
    "start_time": "2022-11-08T18:58:01.854Z"
   },
   {
    "duration": 35,
    "start_time": "2022-11-08T18:58:01.903Z"
   },
   {
    "duration": 9,
    "start_time": "2022-11-08T18:58:01.939Z"
   },
   {
    "duration": 39,
    "start_time": "2022-11-08T18:58:01.949Z"
   },
   {
    "duration": 27,
    "start_time": "2022-11-08T18:58:01.992Z"
   },
   {
    "duration": 50,
    "start_time": "2022-11-08T18:58:02.021Z"
   },
   {
    "duration": 55,
    "start_time": "2022-11-08T18:58:02.073Z"
   },
   {
    "duration": 3,
    "start_time": "2022-11-08T18:58:02.130Z"
   },
   {
    "duration": 22,
    "start_time": "2022-11-08T18:58:02.135Z"
   },
   {
    "duration": 51,
    "start_time": "2022-11-08T18:58:02.158Z"
   },
   {
    "duration": 12,
    "start_time": "2022-11-08T18:58:02.210Z"
   },
   {
    "duration": 30,
    "start_time": "2022-11-08T18:58:02.223Z"
   },
   {
    "duration": 38,
    "start_time": "2022-11-08T18:58:02.255Z"
   },
   {
    "duration": 53,
    "start_time": "2022-11-08T18:58:02.294Z"
   },
   {
    "duration": 13,
    "start_time": "2022-11-08T18:58:02.348Z"
   },
   {
    "duration": 35,
    "start_time": "2022-11-08T18:58:02.363Z"
   },
   {
    "duration": 74,
    "start_time": "2022-11-08T18:58:02.399Z"
   },
   {
    "duration": 26,
    "start_time": "2022-11-08T18:58:02.475Z"
   },
   {
    "duration": 47,
    "start_time": "2022-11-08T18:58:02.502Z"
   },
   {
    "duration": 26,
    "start_time": "2022-11-08T18:58:02.551Z"
   },
   {
    "duration": 55,
    "start_time": "2022-11-08T18:58:02.581Z"
   },
   {
    "duration": 15,
    "start_time": "2022-11-08T18:58:02.638Z"
   },
   {
    "duration": 358,
    "start_time": "2022-11-08T18:58:42.310Z"
   },
   {
    "duration": 321,
    "start_time": "2022-11-08T18:59:29.391Z"
   },
   {
    "duration": 361,
    "start_time": "2022-11-08T19:00:08.738Z"
   },
   {
    "duration": 74,
    "start_time": "2022-11-08T19:01:27.588Z"
   },
   {
    "duration": 356,
    "start_time": "2022-11-08T19:01:37.737Z"
   },
   {
    "duration": 30,
    "start_time": "2022-11-08T19:02:36.328Z"
   },
   {
    "duration": 28,
    "start_time": "2022-11-08T19:03:27.490Z"
   },
   {
    "duration": 342,
    "start_time": "2022-11-08T19:03:51.383Z"
   },
   {
    "duration": 361,
    "start_time": "2022-11-08T19:04:37.071Z"
   },
   {
    "duration": 380,
    "start_time": "2022-11-08T19:06:56.542Z"
   },
   {
    "duration": 3,
    "start_time": "2022-11-08T19:07:11.183Z"
   },
   {
    "duration": 3,
    "start_time": "2022-11-08T19:07:40.941Z"
   },
   {
    "duration": 492,
    "start_time": "2022-11-08T19:07:42.920Z"
   },
   {
    "duration": 330,
    "start_time": "2022-11-08T19:08:58.986Z"
   },
   {
    "duration": 357,
    "start_time": "2022-11-08T19:09:24.290Z"
   },
   {
    "duration": 41,
    "start_time": "2022-11-08T19:09:42.741Z"
   },
   {
    "duration": 31,
    "start_time": "2022-11-08T19:11:28.182Z"
   },
   {
    "duration": 347,
    "start_time": "2022-11-08T19:14:47.405Z"
   },
   {
    "duration": 61,
    "start_time": "2022-11-08T19:15:46.468Z"
   },
   {
    "duration": 13,
    "start_time": "2022-11-08T19:15:46.531Z"
   },
   {
    "duration": 17,
    "start_time": "2022-11-08T19:15:46.545Z"
   },
   {
    "duration": 33,
    "start_time": "2022-11-08T19:15:46.564Z"
   },
   {
    "duration": 27,
    "start_time": "2022-11-08T19:15:46.599Z"
   },
   {
    "duration": 2,
    "start_time": "2022-11-08T19:15:46.628Z"
   },
   {
    "duration": 9,
    "start_time": "2022-11-08T19:15:46.632Z"
   },
   {
    "duration": 4,
    "start_time": "2022-11-08T19:15:46.642Z"
   },
   {
    "duration": 5,
    "start_time": "2022-11-08T19:15:46.647Z"
   },
   {
    "duration": 32,
    "start_time": "2022-11-08T19:15:46.654Z"
   },
   {
    "duration": 30,
    "start_time": "2022-11-08T19:15:46.687Z"
   },
   {
    "duration": 8,
    "start_time": "2022-11-08T19:15:46.718Z"
   },
   {
    "duration": 4,
    "start_time": "2022-11-08T19:15:46.728Z"
   },
   {
    "duration": 11,
    "start_time": "2022-11-08T19:15:46.735Z"
   },
   {
    "duration": 44,
    "start_time": "2022-11-08T19:15:46.747Z"
   },
   {
    "duration": 15,
    "start_time": "2022-11-08T19:15:46.793Z"
   },
   {
    "duration": 4,
    "start_time": "2022-11-08T19:15:46.809Z"
   },
   {
    "duration": 11,
    "start_time": "2022-11-08T19:15:46.814Z"
   },
   {
    "duration": 5,
    "start_time": "2022-11-08T19:15:46.826Z"
   },
   {
    "duration": 3,
    "start_time": "2022-11-08T19:15:46.833Z"
   },
   {
    "duration": 12,
    "start_time": "2022-11-08T19:15:46.838Z"
   },
   {
    "duration": 5,
    "start_time": "2022-11-08T19:15:46.851Z"
   },
   {
    "duration": 55,
    "start_time": "2022-11-08T19:15:46.857Z"
   },
   {
    "duration": 14,
    "start_time": "2022-11-08T19:15:46.913Z"
   },
   {
    "duration": 6,
    "start_time": "2022-11-08T19:15:46.928Z"
   },
   {
    "duration": 51,
    "start_time": "2022-11-08T19:15:46.936Z"
   },
   {
    "duration": 25,
    "start_time": "2022-11-08T19:15:46.989Z"
   },
   {
    "duration": 14,
    "start_time": "2022-11-08T19:15:47.016Z"
   },
   {
    "duration": 46,
    "start_time": "2022-11-08T19:15:47.031Z"
   },
   {
    "duration": 16,
    "start_time": "2022-11-08T19:15:47.080Z"
   },
   {
    "duration": 27,
    "start_time": "2022-11-08T19:15:47.098Z"
   },
   {
    "duration": 29,
    "start_time": "2022-11-08T19:15:47.126Z"
   },
   {
    "duration": 10,
    "start_time": "2022-11-08T19:34:50.561Z"
   },
   {
    "duration": 14,
    "start_time": "2022-11-08T19:35:15.835Z"
   },
   {
    "duration": 1305,
    "start_time": "2022-11-08T19:36:04.616Z"
   },
   {
    "duration": 1212,
    "start_time": "2022-11-08T19:38:00.312Z"
   },
   {
    "duration": 16,
    "start_time": "2022-11-08T19:38:28.270Z"
   },
   {
    "duration": 13,
    "start_time": "2022-11-08T19:40:29.021Z"
   },
   {
    "duration": 1170,
    "start_time": "2022-11-08T19:45:28.215Z"
   },
   {
    "duration": 1190,
    "start_time": "2022-11-08T19:45:48.463Z"
   },
   {
    "duration": 61,
    "start_time": "2022-11-08T19:46:10.120Z"
   },
   {
    "duration": 13,
    "start_time": "2022-11-08T19:46:10.182Z"
   },
   {
    "duration": 14,
    "start_time": "2022-11-08T19:46:10.197Z"
   },
   {
    "duration": 7,
    "start_time": "2022-11-08T19:46:10.213Z"
   },
   {
    "duration": 52,
    "start_time": "2022-11-08T19:46:10.222Z"
   },
   {
    "duration": 3,
    "start_time": "2022-11-08T19:46:10.275Z"
   },
   {
    "duration": 20,
    "start_time": "2022-11-08T19:46:10.279Z"
   },
   {
    "duration": 14,
    "start_time": "2022-11-08T19:46:10.300Z"
   },
   {
    "duration": 7,
    "start_time": "2022-11-08T19:46:10.315Z"
   },
   {
    "duration": 4,
    "start_time": "2022-11-08T19:46:10.324Z"
   },
   {
    "duration": 32,
    "start_time": "2022-11-08T19:46:10.329Z"
   },
   {
    "duration": 10,
    "start_time": "2022-11-08T19:46:10.367Z"
   },
   {
    "duration": 3,
    "start_time": "2022-11-08T19:46:10.379Z"
   },
   {
    "duration": 10,
    "start_time": "2022-11-08T19:46:10.384Z"
   },
   {
    "duration": 18,
    "start_time": "2022-11-08T19:46:10.396Z"
   },
   {
    "duration": 15,
    "start_time": "2022-11-08T19:46:10.416Z"
   },
   {
    "duration": 2,
    "start_time": "2022-11-08T19:46:10.433Z"
   },
   {
    "duration": 29,
    "start_time": "2022-11-08T19:46:10.437Z"
   },
   {
    "duration": 12,
    "start_time": "2022-11-08T19:46:10.469Z"
   },
   {
    "duration": 11,
    "start_time": "2022-11-08T19:46:10.482Z"
   },
   {
    "duration": 11,
    "start_time": "2022-11-08T19:46:10.494Z"
   },
   {
    "duration": 6,
    "start_time": "2022-11-08T19:46:10.506Z"
   },
   {
    "duration": 35,
    "start_time": "2022-11-08T19:46:10.513Z"
   },
   {
    "duration": 19,
    "start_time": "2022-11-08T19:46:10.549Z"
   },
   {
    "duration": 10,
    "start_time": "2022-11-08T19:46:10.571Z"
   },
   {
    "duration": 34,
    "start_time": "2022-11-08T19:46:10.582Z"
   },
   {
    "duration": 24,
    "start_time": "2022-11-08T19:46:10.618Z"
   },
   {
    "duration": 22,
    "start_time": "2022-11-08T19:46:10.644Z"
   },
   {
    "duration": 24,
    "start_time": "2022-11-08T19:46:10.667Z"
   },
   {
    "duration": 13,
    "start_time": "2022-11-08T19:46:10.692Z"
   },
   {
    "duration": 23,
    "start_time": "2022-11-08T19:46:10.707Z"
   },
   {
    "duration": 41,
    "start_time": "2022-11-08T19:46:10.732Z"
   },
   {
    "duration": 507,
    "start_time": "2022-11-09T06:55:49.381Z"
   },
   {
    "duration": 19,
    "start_time": "2022-11-09T06:55:49.890Z"
   },
   {
    "duration": 33,
    "start_time": "2022-11-09T06:55:49.910Z"
   },
   {
    "duration": 8,
    "start_time": "2022-11-09T06:55:49.945Z"
   },
   {
    "duration": 34,
    "start_time": "2022-11-09T06:55:49.954Z"
   },
   {
    "duration": 3,
    "start_time": "2022-11-09T06:55:49.989Z"
   },
   {
    "duration": 20,
    "start_time": "2022-11-09T06:55:49.993Z"
   },
   {
    "duration": 18,
    "start_time": "2022-11-09T06:55:50.014Z"
   },
   {
    "duration": 10,
    "start_time": "2022-11-09T06:55:50.034Z"
   },
   {
    "duration": 6,
    "start_time": "2022-11-09T06:55:50.046Z"
   },
   {
    "duration": 36,
    "start_time": "2022-11-09T06:55:50.053Z"
   },
   {
    "duration": 13,
    "start_time": "2022-11-09T06:55:50.090Z"
   },
   {
    "duration": 6,
    "start_time": "2022-11-09T06:55:50.104Z"
   },
   {
    "duration": 11,
    "start_time": "2022-11-09T06:55:50.112Z"
   },
   {
    "duration": 22,
    "start_time": "2022-11-09T06:55:50.124Z"
   },
   {
    "duration": 47,
    "start_time": "2022-11-09T06:55:50.148Z"
   },
   {
    "duration": 3,
    "start_time": "2022-11-09T06:55:50.197Z"
   },
   {
    "duration": 14,
    "start_time": "2022-11-09T06:55:50.201Z"
   },
   {
    "duration": 8,
    "start_time": "2022-11-09T06:55:50.216Z"
   },
   {
    "duration": 6,
    "start_time": "2022-11-09T06:55:50.225Z"
   },
   {
    "duration": 12,
    "start_time": "2022-11-09T06:55:50.234Z"
   },
   {
    "duration": 7,
    "start_time": "2022-11-09T06:55:50.247Z"
   },
   {
    "duration": 35,
    "start_time": "2022-11-09T06:55:50.256Z"
   },
   {
    "duration": 13,
    "start_time": "2022-11-09T06:55:50.292Z"
   },
   {
    "duration": 5,
    "start_time": "2022-11-09T06:55:50.307Z"
   },
   {
    "duration": 31,
    "start_time": "2022-11-09T06:55:50.314Z"
   },
   {
    "duration": 45,
    "start_time": "2022-11-09T06:55:50.346Z"
   },
   {
    "duration": 14,
    "start_time": "2022-11-09T06:55:50.394Z"
   },
   {
    "duration": 34,
    "start_time": "2022-11-09T06:55:50.410Z"
   },
   {
    "duration": 12,
    "start_time": "2022-11-09T06:55:50.446Z"
   },
   {
    "duration": 45,
    "start_time": "2022-11-09T06:55:50.460Z"
   },
   {
    "duration": 13,
    "start_time": "2022-11-09T06:55:50.506Z"
   },
   {
    "duration": 48,
    "start_time": "2022-11-09T17:52:28.180Z"
   },
   {
    "duration": 491,
    "start_time": "2022-11-09T17:53:02.128Z"
   },
   {
    "duration": 21,
    "start_time": "2022-11-09T17:53:02.621Z"
   },
   {
    "duration": 35,
    "start_time": "2022-11-09T17:53:02.643Z"
   },
   {
    "duration": 22,
    "start_time": "2022-11-09T17:53:02.680Z"
   },
   {
    "duration": 57,
    "start_time": "2022-11-09T17:53:02.704Z"
   },
   {
    "duration": 3,
    "start_time": "2022-11-09T17:53:02.763Z"
   },
   {
    "duration": 10,
    "start_time": "2022-11-09T17:53:02.768Z"
   },
   {
    "duration": 5,
    "start_time": "2022-11-09T17:53:02.780Z"
   },
   {
    "duration": 9,
    "start_time": "2022-11-09T17:53:02.786Z"
   },
   {
    "duration": 5,
    "start_time": "2022-11-09T17:53:02.796Z"
   },
   {
    "duration": 34,
    "start_time": "2022-11-09T17:53:02.803Z"
   },
   {
    "duration": 8,
    "start_time": "2022-11-09T17:53:02.839Z"
   },
   {
    "duration": 4,
    "start_time": "2022-11-09T17:53:02.849Z"
   },
   {
    "duration": 23,
    "start_time": "2022-11-09T17:53:02.856Z"
   },
   {
    "duration": 34,
    "start_time": "2022-11-09T17:53:02.881Z"
   },
   {
    "duration": 18,
    "start_time": "2022-11-09T17:53:02.916Z"
   },
   {
    "duration": 4,
    "start_time": "2022-11-09T17:53:02.935Z"
   },
   {
    "duration": 22,
    "start_time": "2022-11-09T17:53:02.941Z"
   },
   {
    "duration": 6,
    "start_time": "2022-11-09T17:53:02.964Z"
   },
   {
    "duration": 4,
    "start_time": "2022-11-09T17:53:02.972Z"
   },
   {
    "duration": 27,
    "start_time": "2022-11-09T17:53:02.977Z"
   },
   {
    "duration": 8,
    "start_time": "2022-11-09T17:53:03.006Z"
   },
   {
    "duration": 29,
    "start_time": "2022-11-09T17:53:03.016Z"
   },
   {
    "duration": 15,
    "start_time": "2022-11-09T17:53:03.047Z"
   },
   {
    "duration": 33,
    "start_time": "2022-11-09T17:53:03.064Z"
   },
   {
    "duration": 42,
    "start_time": "2022-11-09T17:53:03.099Z"
   },
   {
    "duration": 30,
    "start_time": "2022-11-09T17:53:03.143Z"
   },
   {
    "duration": 24,
    "start_time": "2022-11-09T17:53:03.175Z"
   },
   {
    "duration": 40,
    "start_time": "2022-11-09T17:53:03.201Z"
   },
   {
    "duration": 14,
    "start_time": "2022-11-09T17:53:03.243Z"
   },
   {
    "duration": 39,
    "start_time": "2022-11-09T17:53:03.259Z"
   },
   {
    "duration": 14,
    "start_time": "2022-11-09T17:53:03.300Z"
   },
   {
    "duration": 10,
    "start_time": "2022-11-09T17:53:03.316Z"
   },
   {
    "duration": 9,
    "start_time": "2022-11-09T17:58:35.987Z"
   },
   {
    "duration": 12,
    "start_time": "2022-11-09T17:59:17.793Z"
   },
   {
    "duration": 13,
    "start_time": "2022-11-09T18:00:20.283Z"
   },
   {
    "duration": 12,
    "start_time": "2022-11-09T18:01:29.368Z"
   },
   {
    "duration": 10,
    "start_time": "2022-11-09T18:01:50.157Z"
   },
   {
    "duration": 8,
    "start_time": "2022-11-09T18:05:13.171Z"
   },
   {
    "duration": 9,
    "start_time": "2022-11-09T18:05:32.377Z"
   },
   {
    "duration": 8,
    "start_time": "2022-11-09T18:05:47.384Z"
   },
   {
    "duration": 8,
    "start_time": "2022-11-09T18:23:24.833Z"
   },
   {
    "duration": 11,
    "start_time": "2022-11-09T18:24:37.660Z"
   },
   {
    "duration": 19,
    "start_time": "2022-11-09T18:25:38.656Z"
   },
   {
    "duration": 34,
    "start_time": "2022-11-09T18:28:56.289Z"
   },
   {
    "duration": 4,
    "start_time": "2022-11-09T18:30:50.847Z"
   },
   {
    "duration": 6,
    "start_time": "2022-11-09T18:31:04.557Z"
   },
   {
    "duration": 11,
    "start_time": "2022-11-09T18:34:14.261Z"
   },
   {
    "duration": 6,
    "start_time": "2022-11-09T18:35:06.416Z"
   },
   {
    "duration": 14,
    "start_time": "2022-11-09T18:37:26.280Z"
   },
   {
    "duration": 13,
    "start_time": "2022-11-09T18:45:31.048Z"
   },
   {
    "duration": 76,
    "start_time": "2022-11-09T18:46:51.589Z"
   },
   {
    "duration": 16,
    "start_time": "2022-11-09T18:46:58.987Z"
   },
   {
    "duration": 15,
    "start_time": "2022-11-09T18:47:06.088Z"
   },
   {
    "duration": 10,
    "start_time": "2022-11-09T18:47:11.438Z"
   },
   {
    "duration": 7,
    "start_time": "2022-11-09T18:47:47.713Z"
   },
   {
    "duration": 6,
    "start_time": "2022-11-09T18:48:03.536Z"
   },
   {
    "duration": 10,
    "start_time": "2022-11-09T18:48:36.538Z"
   },
   {
    "duration": 9,
    "start_time": "2022-11-09T18:48:42.911Z"
   },
   {
    "duration": 9,
    "start_time": "2022-11-09T18:49:04.187Z"
   },
   {
    "duration": 11,
    "start_time": "2022-11-09T18:49:27.184Z"
   },
   {
    "duration": 9,
    "start_time": "2022-11-09T18:50:04.535Z"
   },
   {
    "duration": 8,
    "start_time": "2022-11-09T18:50:43.727Z"
   },
   {
    "duration": 5,
    "start_time": "2022-11-09T18:51:00.190Z"
   },
   {
    "duration": 5,
    "start_time": "2022-11-09T18:51:11.131Z"
   },
   {
    "duration": 21,
    "start_time": "2022-11-09T18:51:49.099Z"
   },
   {
    "duration": 17,
    "start_time": "2022-11-09T18:53:06.677Z"
   },
   {
    "duration": 17,
    "start_time": "2022-11-09T18:54:27.645Z"
   },
   {
    "duration": 63,
    "start_time": "2022-11-09T18:55:56.532Z"
   },
   {
    "duration": 16,
    "start_time": "2022-11-09T18:55:56.597Z"
   },
   {
    "duration": 17,
    "start_time": "2022-11-09T18:55:56.615Z"
   },
   {
    "duration": 11,
    "start_time": "2022-11-09T18:55:56.634Z"
   },
   {
    "duration": 58,
    "start_time": "2022-11-09T18:55:56.646Z"
   },
   {
    "duration": 4,
    "start_time": "2022-11-09T18:55:56.705Z"
   },
   {
    "duration": 14,
    "start_time": "2022-11-09T18:55:56.710Z"
   },
   {
    "duration": 4,
    "start_time": "2022-11-09T18:55:56.726Z"
   },
   {
    "duration": 9,
    "start_time": "2022-11-09T18:55:56.732Z"
   },
   {
    "duration": 6,
    "start_time": "2022-11-09T18:55:56.743Z"
   },
   {
    "duration": 61,
    "start_time": "2022-11-09T18:55:56.751Z"
   },
   {
    "duration": 9,
    "start_time": "2022-11-09T18:55:56.814Z"
   },
   {
    "duration": 5,
    "start_time": "2022-11-09T18:55:56.825Z"
   },
   {
    "duration": 15,
    "start_time": "2022-11-09T18:55:56.833Z"
   },
   {
    "duration": 28,
    "start_time": "2022-11-09T18:55:56.850Z"
   },
   {
    "duration": 29,
    "start_time": "2022-11-09T18:55:56.880Z"
   },
   {
    "duration": 4,
    "start_time": "2022-11-09T18:55:56.911Z"
   },
   {
    "duration": 14,
    "start_time": "2022-11-09T18:55:56.916Z"
   },
   {
    "duration": 13,
    "start_time": "2022-11-09T18:55:56.932Z"
   },
   {
    "duration": 5,
    "start_time": "2022-11-09T18:55:56.947Z"
   },
   {
    "duration": 29,
    "start_time": "2022-11-09T18:55:56.953Z"
   },
   {
    "duration": 14,
    "start_time": "2022-11-09T18:55:56.984Z"
   },
   {
    "duration": 43,
    "start_time": "2022-11-09T18:55:57.000Z"
   },
   {
    "duration": 15,
    "start_time": "2022-11-09T18:55:57.045Z"
   },
   {
    "duration": 7,
    "start_time": "2022-11-09T18:55:57.062Z"
   },
   {
    "duration": 46,
    "start_time": "2022-11-09T18:55:57.072Z"
   },
   {
    "duration": 29,
    "start_time": "2022-11-09T18:55:57.120Z"
   },
   {
    "duration": 16,
    "start_time": "2022-11-09T18:55:57.150Z"
   },
   {
    "duration": 50,
    "start_time": "2022-11-09T18:55:57.168Z"
   },
   {
    "duration": 15,
    "start_time": "2022-11-09T18:55:57.220Z"
   },
   {
    "duration": 30,
    "start_time": "2022-11-09T18:55:57.236Z"
   },
   {
    "duration": 45,
    "start_time": "2022-11-09T18:55:57.267Z"
   },
   {
    "duration": 7,
    "start_time": "2022-11-09T18:55:57.314Z"
   },
   {
    "duration": 31,
    "start_time": "2022-11-09T18:55:57.323Z"
   },
   {
    "duration": 18,
    "start_time": "2022-11-09T18:55:57.356Z"
   },
   {
    "duration": 63,
    "start_time": "2022-11-09T19:08:56.360Z"
   },
   {
    "duration": 17,
    "start_time": "2022-11-09T19:09:00.494Z"
   },
   {
    "duration": 14,
    "start_time": "2022-11-09T19:09:05.419Z"
   },
   {
    "duration": 10,
    "start_time": "2022-11-09T19:09:08.871Z"
   },
   {
    "duration": 5,
    "start_time": "2022-11-09T19:10:18.168Z"
   },
   {
    "duration": 17,
    "start_time": "2022-11-09T19:10:59.522Z"
   }
  ],
  "colab": {
   "name": "dpp_template_part2.ipynb",
   "provenance": []
  },
  "kernelspec": {
   "display_name": "Python 3 (ipykernel)",
   "language": "python",
   "name": "python3"
  },
  "language_info": {
   "codemirror_mode": {
    "name": "ipython",
    "version": 3
   },
   "file_extension": ".py",
   "mimetype": "text/x-python",
   "name": "python",
   "nbconvert_exporter": "python",
   "pygments_lexer": "ipython3",
   "version": "3.9.12"
  },
  "toc": {
   "base_numbering": 1,
   "nav_menu": {},
   "number_sections": true,
   "sideBar": true,
   "skip_h1_title": true,
   "title_cell": "Содержание",
   "title_sidebar": "Contents",
   "toc_cell": true,
   "toc_position": {},
   "toc_section_display": true,
   "toc_window_display": true
  }
 },
 "nbformat": 4,
 "nbformat_minor": 5
}
